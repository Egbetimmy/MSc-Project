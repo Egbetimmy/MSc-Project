{
 "cells": [
  {
   "cell_type": "code",
   "execution_count": 1,
   "id": "b0cb61df",
   "metadata": {},
   "outputs": [],
   "source": [
    "# !pip install ipywidgets --upgrade\n",
    "# !pip install chart-studio --upgrade\n",
    "# !pip install pyarrow --upgrade\n",
    "# !pip install cufflinks --upgrade"
   ]
  },
  {
   "cell_type": "code",
   "execution_count": 2,
   "id": "81af6440",
   "metadata": {},
   "outputs": [
    {
     "name": "stderr",
     "output_type": "stream",
     "text": [
      "Enabling notebook extension jupyter-js-widgets/extension...\n",
      "      - Validating: ok\n"
     ]
    }
   ],
   "source": [
    "!jupyter nbextension enable --py widgetsnbextension"
   ]
  },
  {
   "cell_type": "code",
   "execution_count": 3,
   "id": "f60d4ff6",
   "metadata": {},
   "outputs": [
    {
     "data": {
      "text/html": [
       "        <script type=\"text/javascript\">\n",
       "        window.PlotlyConfig = {MathJaxConfig: 'local'};\n",
       "        if (window.MathJax && window.MathJax.Hub && window.MathJax.Hub.Config) {window.MathJax.Hub.Config({SVG: {font: \"STIX-Web\"}});}\n",
       "        if (typeof require !== 'undefined') {\n",
       "        require.undef(\"plotly\");\n",
       "        requirejs.config({\n",
       "            paths: {\n",
       "                'plotly': ['https://cdn.plot.ly/plotly-2.12.1.min']\n",
       "            }\n",
       "        });\n",
       "        require(['plotly'], function(Plotly) {\n",
       "            window._Plotly = Plotly;\n",
       "        });\n",
       "        }\n",
       "        </script>\n",
       "        "
      ]
     },
     "metadata": {},
     "output_type": "display_data"
    },
    {
     "name": "stderr",
     "output_type": "stream",
     "text": [
      "PROJ: proj_create_from_database: SQLite error on SELECT name, type, coordinate_system_auth_name, coordinate_system_code, datum_auth_name, datum_code, area_of_use_auth_name, area_of_use_code, text_definition, deprecated FROM geodetic_crs WHERE auth_name = ? AND code = ?: no such column: area_of_use_auth_name\n"
     ]
    },
    {
     "data": {
      "text/html": [
       "        <script type=\"text/javascript\">\n",
       "        window.PlotlyConfig = {MathJaxConfig: 'local'};\n",
       "        if (window.MathJax && window.MathJax.Hub && window.MathJax.Hub.Config) {window.MathJax.Hub.Config({SVG: {font: \"STIX-Web\"}});}\n",
       "        if (typeof require !== 'undefined') {\n",
       "        require.undef(\"plotly\");\n",
       "        requirejs.config({\n",
       "            paths: {\n",
       "                'plotly': ['https://cdn.plot.ly/plotly-2.12.1.min']\n",
       "            }\n",
       "        });\n",
       "        require(['plotly'], function(Plotly) {\n",
       "            window._Plotly = Plotly;\n",
       "        });\n",
       "        }\n",
       "        </script>\n",
       "        "
      ]
     },
     "metadata": {},
     "output_type": "display_data"
    }
   ],
   "source": [
    "import numpy as np\n",
    "import pandas as pd\n",
    "import scipy\n",
    "\n",
    "# Instansiate the Plotly charting library.\n",
    "import chart_studio.plotly as py\n",
    "import plotly.graph_objs as go\n",
    "import plotly.express as px\n",
    "# We use plotly.offline as this allows us to create interactive \n",
    "# visualisations without the use of an internet connection, \n",
    "# making our notebook more distributable to others. \n",
    "from plotly.offline import iplot, init_notebook_mode\n",
    "init_notebook_mode(connected=True)\n",
    "\n",
    "# The Cufflinks library allows us to directly bind \n",
    "# Pandas dataframes to Plotly charts. \n",
    "import cufflinks as cf\n",
    "# Once again we use the Cufflinks library in offline mode. \n",
    "cf.go_offline(connected=True)\n",
    "cf.set_config_file(colorscale='plotly', world_readable=True)\n",
    "\n",
    "# Extra options. We use these to make our interactive \n",
    "# visualisations more aesthetically appealing. \n",
    "from IPython.core.display import HTML\n",
    "pd.options.display.max_rows = 30\n",
    "pd.options.display.max_columns = 25\n",
    "\n",
    "# Show all code cells outputs\n",
    "from IPython.core.interactiveshell import InteractiveShell\n",
    "InteractiveShell.ast_node_interactivity = 'all'"
   ]
  },
  {
   "cell_type": "code",
   "execution_count": 4,
   "id": "b0c0f50a",
   "metadata": {},
   "outputs": [],
   "source": [
    "from ipywidgets import interact, interact_manual, widgets"
   ]
  },
  {
   "cell_type": "code",
   "execution_count": 5,
   "id": "9ab2424e",
   "metadata": {},
   "outputs": [],
   "source": [
    "df = pd.read_csv('data/well_4_ML.csv')"
   ]
  },
  {
   "cell_type": "code",
   "execution_count": 6,
   "id": "ba99b39a",
   "metadata": {},
   "outputs": [
    {
     "data": {
      "text/html": [
       "<div>\n",
       "<style scoped>\n",
       "    .dataframe tbody tr th:only-of-type {\n",
       "        vertical-align: middle;\n",
       "    }\n",
       "\n",
       "    .dataframe tbody tr th {\n",
       "        vertical-align: top;\n",
       "    }\n",
       "\n",
       "    .dataframe thead th {\n",
       "        text-align: right;\n",
       "    }\n",
       "</style>\n",
       "<table border=\"1\" class=\"dataframe\">\n",
       "  <thead>\n",
       "    <tr style=\"text-align: right;\">\n",
       "      <th></th>\n",
       "      <th>DEPT</th>\n",
       "      <th>DEN</th>\n",
       "      <th>DT</th>\n",
       "      <th>GR</th>\n",
       "      <th>NEUT</th>\n",
       "      <th>RES_DEP</th>\n",
       "      <th>PHI</th>\n",
       "      <th>PERM</th>\n",
       "      <th>velocity</th>\n",
       "    </tr>\n",
       "  </thead>\n",
       "  <tbody>\n",
       "    <tr>\n",
       "      <th>count</th>\n",
       "      <td>7586.000000</td>\n",
       "      <td>7586.000000</td>\n",
       "      <td>7586.000000</td>\n",
       "      <td>7352.000000</td>\n",
       "      <td>7352.000000</td>\n",
       "      <td>7350.000000</td>\n",
       "      <td>7586.000000</td>\n",
       "      <td>7.586000e+03</td>\n",
       "      <td>7586.000000</td>\n",
       "    </tr>\n",
       "    <tr>\n",
       "      <th>mean</th>\n",
       "      <td>9460.750000</td>\n",
       "      <td>2.326999</td>\n",
       "      <td>118.441103</td>\n",
       "      <td>108.189529</td>\n",
       "      <td>0.423099</td>\n",
       "      <td>18.933387</td>\n",
       "      <td>0.208390</td>\n",
       "      <td>9.338403e+03</td>\n",
       "      <td>8527.682849</td>\n",
       "    </tr>\n",
       "    <tr>\n",
       "      <th>std</th>\n",
       "      <td>1095.016952</td>\n",
       "      <td>0.081725</td>\n",
       "      <td>11.924260</td>\n",
       "      <td>23.541196</td>\n",
       "      <td>0.066108</td>\n",
       "      <td>176.943528</td>\n",
       "      <td>0.052728</td>\n",
       "      <td>2.328137e+05</td>\n",
       "      <td>844.760010</td>\n",
       "    </tr>\n",
       "    <tr>\n",
       "      <th>min</th>\n",
       "      <td>7564.500000</td>\n",
       "      <td>1.863100</td>\n",
       "      <td>84.811200</td>\n",
       "      <td>32.593900</td>\n",
       "      <td>0.099500</td>\n",
       "      <td>0.081200</td>\n",
       "      <td>0.055100</td>\n",
       "      <td>1.076985e-02</td>\n",
       "      <td>6307.620110</td>\n",
       "    </tr>\n",
       "    <tr>\n",
       "      <th>25%</th>\n",
       "      <td>8512.625000</td>\n",
       "      <td>2.272600</td>\n",
       "      <td>108.603500</td>\n",
       "      <td>101.771775</td>\n",
       "      <td>0.385175</td>\n",
       "      <td>0.878350</td>\n",
       "      <td>0.167300</td>\n",
       "      <td>1.887876e+00</td>\n",
       "      <td>7762.524203</td>\n",
       "    </tr>\n",
       "    <tr>\n",
       "      <th>50%</th>\n",
       "      <td>9460.750000</td>\n",
       "      <td>2.342500</td>\n",
       "      <td>115.442700</td>\n",
       "      <td>112.463100</td>\n",
       "      <td>0.422200</td>\n",
       "      <td>1.025600</td>\n",
       "      <td>0.198400</td>\n",
       "      <td>7.905111e+00</td>\n",
       "      <td>8662.306062</td>\n",
       "    </tr>\n",
       "    <tr>\n",
       "      <th>75%</th>\n",
       "      <td>10408.875000</td>\n",
       "      <td>2.390700</td>\n",
       "      <td>128.824075</td>\n",
       "      <td>120.219250</td>\n",
       "      <td>0.461400</td>\n",
       "      <td>1.368400</td>\n",
       "      <td>0.243500</td>\n",
       "      <td>6.306856e+01</td>\n",
       "      <td>9207.806378</td>\n",
       "    </tr>\n",
       "    <tr>\n",
       "      <th>max</th>\n",
       "      <td>11357.000000</td>\n",
       "      <td>2.564600</td>\n",
       "      <td>158.538400</td>\n",
       "      <td>219.338000</td>\n",
       "      <td>0.656900</td>\n",
       "      <td>1950.000000</td>\n",
       "      <td>0.507700</td>\n",
       "      <td>1.211313e+07</td>\n",
       "      <td>11790.895542</td>\n",
       "    </tr>\n",
       "  </tbody>\n",
       "</table>\n",
       "</div>"
      ],
      "text/plain": [
       "               DEPT          DEN           DT           GR         NEUT  \\\n",
       "count   7586.000000  7586.000000  7586.000000  7352.000000  7352.000000   \n",
       "mean    9460.750000     2.326999   118.441103   108.189529     0.423099   \n",
       "std     1095.016952     0.081725    11.924260    23.541196     0.066108   \n",
       "min     7564.500000     1.863100    84.811200    32.593900     0.099500   \n",
       "25%     8512.625000     2.272600   108.603500   101.771775     0.385175   \n",
       "50%     9460.750000     2.342500   115.442700   112.463100     0.422200   \n",
       "75%    10408.875000     2.390700   128.824075   120.219250     0.461400   \n",
       "max    11357.000000     2.564600   158.538400   219.338000     0.656900   \n",
       "\n",
       "           RES_DEP          PHI          PERM      velocity  \n",
       "count  7350.000000  7586.000000  7.586000e+03   7586.000000  \n",
       "mean     18.933387     0.208390  9.338403e+03   8527.682849  \n",
       "std     176.943528     0.052728  2.328137e+05    844.760010  \n",
       "min       0.081200     0.055100  1.076985e-02   6307.620110  \n",
       "25%       0.878350     0.167300  1.887876e+00   7762.524203  \n",
       "50%       1.025600     0.198400  7.905111e+00   8662.306062  \n",
       "75%       1.368400     0.243500  6.306856e+01   9207.806378  \n",
       "max    1950.000000     0.507700  1.211313e+07  11790.895542  "
      ]
     },
     "execution_count": 6,
     "metadata": {},
     "output_type": "execute_result"
    }
   ],
   "source": [
    "df.describe()"
   ]
  },
  {
   "cell_type": "code",
   "execution_count": 7,
   "id": "9bc2537d",
   "metadata": {},
   "outputs": [
    {
     "data": {
      "text/plain": [
       "DEPT          0\n",
       "DEN           0\n",
       "DT            0\n",
       "GR          234\n",
       "NEUT        234\n",
       "RES_DEP     236\n",
       "PHI           0\n",
       "PERM          0\n",
       "Facies        0\n",
       "velocity      0\n",
       "dtype: int64"
      ]
     },
     "execution_count": 7,
     "metadata": {},
     "output_type": "execute_result"
    }
   ],
   "source": [
    "df.isnull().sum()"
   ]
  },
  {
   "cell_type": "code",
   "execution_count": 8,
   "id": "732f0c80",
   "metadata": {},
   "outputs": [
    {
     "data": {
      "text/plain": [
       "DEPT        0\n",
       "DEN         0\n",
       "DT          0\n",
       "GR          0\n",
       "NEUT        0\n",
       "RES_DEP     0\n",
       "PHI         0\n",
       "PERM        0\n",
       "Facies      0\n",
       "velocity    0\n",
       "dtype: int64"
      ]
     },
     "execution_count": 8,
     "metadata": {},
     "output_type": "execute_result"
    }
   ],
   "source": [
    "df1 = df.dropna()\n",
    "df1.isnull().sum()"
   ]
  },
  {
   "cell_type": "code",
   "execution_count": 9,
   "id": "14bc1e7e",
   "metadata": {},
   "outputs": [
    {
     "data": {
      "text/html": [
       "<div>\n",
       "<style scoped>\n",
       "    .dataframe tbody tr th:only-of-type {\n",
       "        vertical-align: middle;\n",
       "    }\n",
       "\n",
       "    .dataframe tbody tr th {\n",
       "        vertical-align: top;\n",
       "    }\n",
       "\n",
       "    .dataframe thead th {\n",
       "        text-align: right;\n",
       "    }\n",
       "</style>\n",
       "<table border=\"1\" class=\"dataframe\">\n",
       "  <thead>\n",
       "    <tr style=\"text-align: right;\">\n",
       "      <th></th>\n",
       "      <th>DEPT</th>\n",
       "      <th>DEN</th>\n",
       "      <th>DT</th>\n",
       "      <th>GR</th>\n",
       "      <th>NEUT</th>\n",
       "      <th>RES_DEP</th>\n",
       "      <th>PHI</th>\n",
       "      <th>PERM</th>\n",
       "      <th>Facies</th>\n",
       "      <th>velocity</th>\n",
       "    </tr>\n",
       "  </thead>\n",
       "  <tbody>\n",
       "    <tr>\n",
       "      <th>236</th>\n",
       "      <td>7682.5</td>\n",
       "      <td>2.2382</td>\n",
       "      <td>137.507</td>\n",
       "      <td>39.0321</td>\n",
       "      <td>0.5983</td>\n",
       "      <td>0.9332</td>\n",
       "      <td>0.2657</td>\n",
       "      <td>175.29364</td>\n",
       "      <td>sand</td>\n",
       "      <td>7272.357044</td>\n",
       "    </tr>\n",
       "    <tr>\n",
       "      <th>237</th>\n",
       "      <td>7683.0</td>\n",
       "      <td>2.2382</td>\n",
       "      <td>137.507</td>\n",
       "      <td>39.0321</td>\n",
       "      <td>0.5983</td>\n",
       "      <td>0.9332</td>\n",
       "      <td>0.2657</td>\n",
       "      <td>175.29364</td>\n",
       "      <td>sand</td>\n",
       "      <td>7272.357044</td>\n",
       "    </tr>\n",
       "    <tr>\n",
       "      <th>238</th>\n",
       "      <td>7683.5</td>\n",
       "      <td>2.2382</td>\n",
       "      <td>137.507</td>\n",
       "      <td>39.0321</td>\n",
       "      <td>0.5983</td>\n",
       "      <td>0.9332</td>\n",
       "      <td>0.2657</td>\n",
       "      <td>175.29364</td>\n",
       "      <td>sand</td>\n",
       "      <td>7272.357044</td>\n",
       "    </tr>\n",
       "    <tr>\n",
       "      <th>239</th>\n",
       "      <td>7684.0</td>\n",
       "      <td>2.2382</td>\n",
       "      <td>137.507</td>\n",
       "      <td>39.0321</td>\n",
       "      <td>0.5983</td>\n",
       "      <td>0.9332</td>\n",
       "      <td>0.2657</td>\n",
       "      <td>175.29364</td>\n",
       "      <td>sand</td>\n",
       "      <td>7272.357044</td>\n",
       "    </tr>\n",
       "    <tr>\n",
       "      <th>240</th>\n",
       "      <td>7684.5</td>\n",
       "      <td>2.2382</td>\n",
       "      <td>137.507</td>\n",
       "      <td>39.0321</td>\n",
       "      <td>0.5983</td>\n",
       "      <td>0.9332</td>\n",
       "      <td>0.2657</td>\n",
       "      <td>175.29364</td>\n",
       "      <td>sand</td>\n",
       "      <td>7272.357044</td>\n",
       "    </tr>\n",
       "  </tbody>\n",
       "</table>\n",
       "</div>"
      ],
      "text/plain": [
       "       DEPT     DEN       DT       GR    NEUT  RES_DEP     PHI       PERM  \\\n",
       "236  7682.5  2.2382  137.507  39.0321  0.5983   0.9332  0.2657  175.29364   \n",
       "237  7683.0  2.2382  137.507  39.0321  0.5983   0.9332  0.2657  175.29364   \n",
       "238  7683.5  2.2382  137.507  39.0321  0.5983   0.9332  0.2657  175.29364   \n",
       "239  7684.0  2.2382  137.507  39.0321  0.5983   0.9332  0.2657  175.29364   \n",
       "240  7684.5  2.2382  137.507  39.0321  0.5983   0.9332  0.2657  175.29364   \n",
       "\n",
       "    Facies     velocity  \n",
       "236   sand  7272.357044  \n",
       "237   sand  7272.357044  \n",
       "238   sand  7272.357044  \n",
       "239   sand  7272.357044  \n",
       "240   sand  7272.357044  "
      ]
     },
     "execution_count": 9,
     "metadata": {},
     "output_type": "execute_result"
    }
   ],
   "source": [
    "df1.head()"
   ]
  },
  {
   "cell_type": "code",
   "execution_count": 10,
   "id": "0aff7478",
   "metadata": {},
   "outputs": [
    {
     "data": {
      "text/html": [
       "<div>\n",
       "<style scoped>\n",
       "    .dataframe tbody tr th:only-of-type {\n",
       "        vertical-align: middle;\n",
       "    }\n",
       "\n",
       "    .dataframe tbody tr th {\n",
       "        vertical-align: top;\n",
       "    }\n",
       "\n",
       "    .dataframe thead th {\n",
       "        text-align: right;\n",
       "    }\n",
       "</style>\n",
       "<table border=\"1\" class=\"dataframe\">\n",
       "  <thead>\n",
       "    <tr style=\"text-align: right;\">\n",
       "      <th></th>\n",
       "      <th>DEPT</th>\n",
       "      <th>DEN</th>\n",
       "      <th>DT</th>\n",
       "      <th>GR</th>\n",
       "      <th>NEUT</th>\n",
       "      <th>RES_DEP</th>\n",
       "      <th>PHI</th>\n",
       "      <th>PERM</th>\n",
       "      <th>velocity</th>\n",
       "    </tr>\n",
       "  </thead>\n",
       "  <tbody>\n",
       "    <tr>\n",
       "      <th>count</th>\n",
       "      <td>7350.000000</td>\n",
       "      <td>7350.000000</td>\n",
       "      <td>7350.000000</td>\n",
       "      <td>7350.000000</td>\n",
       "      <td>7350.000000</td>\n",
       "      <td>7350.000000</td>\n",
       "      <td>7350.000000</td>\n",
       "      <td>7.350000e+03</td>\n",
       "      <td>7350.000000</td>\n",
       "    </tr>\n",
       "    <tr>\n",
       "      <th>mean</th>\n",
       "      <td>9519.750000</td>\n",
       "      <td>2.329850</td>\n",
       "      <td>117.828919</td>\n",
       "      <td>108.208348</td>\n",
       "      <td>0.423052</td>\n",
       "      <td>18.933387</td>\n",
       "      <td>0.206550</td>\n",
       "      <td>9.632620e+03</td>\n",
       "      <td>8567.989909</td>\n",
       "    </tr>\n",
       "    <tr>\n",
       "      <th>std</th>\n",
       "      <td>1060.953286</td>\n",
       "      <td>0.081438</td>\n",
       "      <td>11.606285</td>\n",
       "      <td>23.516734</td>\n",
       "      <td>0.066053</td>\n",
       "      <td>176.943528</td>\n",
       "      <td>0.052542</td>\n",
       "      <td>2.365165e+05</td>\n",
       "      <td>827.227799</td>\n",
       "    </tr>\n",
       "    <tr>\n",
       "      <th>min</th>\n",
       "      <td>7682.500000</td>\n",
       "      <td>1.863100</td>\n",
       "      <td>84.811200</td>\n",
       "      <td>32.593900</td>\n",
       "      <td>0.099500</td>\n",
       "      <td>0.081200</td>\n",
       "      <td>0.055100</td>\n",
       "      <td>1.076985e-02</td>\n",
       "      <td>6307.620110</td>\n",
       "    </tr>\n",
       "    <tr>\n",
       "      <th>25%</th>\n",
       "      <td>8601.125000</td>\n",
       "      <td>2.281925</td>\n",
       "      <td>108.412300</td>\n",
       "      <td>101.781475</td>\n",
       "      <td>0.385125</td>\n",
       "      <td>0.878350</td>\n",
       "      <td>0.166600</td>\n",
       "      <td>1.827995e+00</td>\n",
       "      <td>7816.641905</td>\n",
       "    </tr>\n",
       "    <tr>\n",
       "      <th>50%</th>\n",
       "      <td>9519.750000</td>\n",
       "      <td>2.346950</td>\n",
       "      <td>114.941400</td>\n",
       "      <td>112.467900</td>\n",
       "      <td>0.422150</td>\n",
       "      <td>1.025600</td>\n",
       "      <td>0.195500</td>\n",
       "      <td>6.916941e+00</td>\n",
       "      <td>8700.085435</td>\n",
       "    </tr>\n",
       "    <tr>\n",
       "      <th>75%</th>\n",
       "      <td>10438.375000</td>\n",
       "      <td>2.391700</td>\n",
       "      <td>127.932175</td>\n",
       "      <td>120.220350</td>\n",
       "      <td>0.461375</td>\n",
       "      <td>1.368400</td>\n",
       "      <td>0.237475</td>\n",
       "      <td>4.778884e+01</td>\n",
       "      <td>9224.045613</td>\n",
       "    </tr>\n",
       "    <tr>\n",
       "      <th>max</th>\n",
       "      <td>11357.000000</td>\n",
       "      <td>2.564600</td>\n",
       "      <td>158.538400</td>\n",
       "      <td>219.338000</td>\n",
       "      <td>0.656900</td>\n",
       "      <td>1950.000000</td>\n",
       "      <td>0.507700</td>\n",
       "      <td>1.211313e+07</td>\n",
       "      <td>11790.895542</td>\n",
       "    </tr>\n",
       "  </tbody>\n",
       "</table>\n",
       "</div>"
      ],
      "text/plain": [
       "               DEPT          DEN           DT           GR         NEUT  \\\n",
       "count   7350.000000  7350.000000  7350.000000  7350.000000  7350.000000   \n",
       "mean    9519.750000     2.329850   117.828919   108.208348     0.423052   \n",
       "std     1060.953286     0.081438    11.606285    23.516734     0.066053   \n",
       "min     7682.500000     1.863100    84.811200    32.593900     0.099500   \n",
       "25%     8601.125000     2.281925   108.412300   101.781475     0.385125   \n",
       "50%     9519.750000     2.346950   114.941400   112.467900     0.422150   \n",
       "75%    10438.375000     2.391700   127.932175   120.220350     0.461375   \n",
       "max    11357.000000     2.564600   158.538400   219.338000     0.656900   \n",
       "\n",
       "           RES_DEP          PHI          PERM      velocity  \n",
       "count  7350.000000  7350.000000  7.350000e+03   7350.000000  \n",
       "mean     18.933387     0.206550  9.632620e+03   8567.989909  \n",
       "std     176.943528     0.052542  2.365165e+05    827.227799  \n",
       "min       0.081200     0.055100  1.076985e-02   6307.620110  \n",
       "25%       0.878350     0.166600  1.827995e+00   7816.641905  \n",
       "50%       1.025600     0.195500  6.916941e+00   8700.085435  \n",
       "75%       1.368400     0.237475  4.778884e+01   9224.045613  \n",
       "max    1950.000000     0.507700  1.211313e+07  11790.895542  "
      ]
     },
     "execution_count": 10,
     "metadata": {},
     "output_type": "execute_result"
    }
   ],
   "source": [
    "df1.describe()"
   ]
  },
  {
   "cell_type": "code",
   "execution_count": 11,
   "id": "921d5aaf",
   "metadata": {},
   "outputs": [],
   "source": [
    "from sklearn import preprocessing\n",
    "from sklearn import utils\n",
    "lab_enc = preprocessing.LabelEncoder()"
   ]
  },
  {
   "cell_type": "code",
   "execution_count": 12,
   "id": "9e864633",
   "metadata": {},
   "outputs": [
    {
     "data": {
      "text/plain": [
       "7350"
      ]
     },
     "execution_count": 12,
     "metadata": {},
     "output_type": "execute_result"
    }
   ],
   "source": [
    "df1['Facies'].count()"
   ]
  },
  {
   "cell_type": "code",
   "execution_count": 13,
   "id": "abd0f480",
   "metadata": {},
   "outputs": [],
   "source": [
    "df1['Facies']= lab_enc.fit_transform(df1['Facies'])"
   ]
  },
  {
   "cell_type": "code",
   "execution_count": 14,
   "id": "e02b5b5d",
   "metadata": {},
   "outputs": [
    {
     "data": {
      "text/plain": [
       "array([1, 3, 2, 0])"
      ]
     },
     "execution_count": 14,
     "metadata": {},
     "output_type": "execute_result"
    }
   ],
   "source": [
    "df1['Facies'].unique()"
   ]
  },
  {
   "cell_type": "code",
   "execution_count": 15,
   "id": "9586ac73",
   "metadata": {},
   "outputs": [
    {
     "data": {
      "application/vnd.jupyter.widget-view+json": {
       "model_id": "d16775fbc6f94f1cadac1190aa88eb75",
       "version_major": 2,
       "version_minor": 0
      },
      "text/plain": [
       "interactive(children=(Dropdown(description='column1', options=('DEPT', 'DEN', 'DT', 'GR', 'NEUT', 'RES_DEP', '…"
      ]
     },
     "metadata": {},
     "output_type": "display_data"
    }
   ],
   "source": [
    "@interact\n",
    "def correlations(column1=list(df1.select_dtypes('number').columns), \n",
    "                 column2=list(df1.select_dtypes('number').columns)):\n",
    "    print(f\"Correlation: {df1[column1].corr(df1[column2])}\")"
   ]
  },
  {
   "cell_type": "code",
   "execution_count": 16,
   "id": "fe13456e",
   "metadata": {},
   "outputs": [
    {
     "data": {
      "application/vnd.jupyter.widget-view+json": {
       "model_id": "5318148581c94e359f001bba18dd2b76",
       "version_major": 2,
       "version_minor": 0
      },
      "text/plain": [
       "interactive(children=(Dropdown(description='x', options=('DEPT', 'DEN', 'DT', 'GR', 'NEUT', 'RES_DEP', 'PHI', …"
      ]
     },
     "metadata": {},
     "output_type": "display_data"
    }
   ],
   "source": [
    "@interact\n",
    "def scatter_plot(x=list(df1.select_dtypes('number').columns), \n",
    "                 y=list(df1.select_dtypes('number').columns)[1:]):\n",
    "    if x == y:\n",
    "        print(f\"Please select seperate variables for X and Y\")\n",
    "    else:\n",
    "        df1.iplot(kind='scatter', x=x, y=y, mode='markers', \n",
    "                 xTitle=x.title(), yTitle=y.title(), title=f'{y.title()} vs {x.title()}')\n",
    "        ## if you are using Google Colab, comment out the above line of code and uncomment the lines below\n",
    "        #fig = px.scatter(df, x=x, y=y, title=f'{y.title()} vs {x.title()}')\n",
    "        #fig.show(renderer=\"colab\")"
   ]
  },
  {
   "cell_type": "code",
   "execution_count": 18,
   "id": "23ded5be",
   "metadata": {},
   "outputs": [
    {
     "data": {
      "application/vnd.jupyter.widget-view+json": {
       "model_id": "fea85d0eec1b401fb31197edee4f974a",
       "version_major": 2,
       "version_minor": 0
      },
      "text/plain": [
       "interactive(children=(Dropdown(description='colorscale', options=('Greys', 'YlGnBu', 'Greens', 'YlOrRd', 'Blue…"
      ]
     },
     "metadata": {},
     "output_type": "display_data"
    }
   ],
   "source": [
    "cscales = ['Greys', 'YlGnBu', 'Greens', 'YlOrRd', 'Bluered', 'RdBu',\n",
    "            'Reds', 'Blues', 'Picnic', 'Rainbow', 'Portland', 'Jet',\n",
    "            'Hot', 'Blackbody', 'Earth', 'Electric', 'Viridis', 'Cividis']\n",
    "\n",
    "# We use the Figure Factory module of Plotly, which\n",
    "# defines many unique and powerful plots to be used\n",
    "# in Python. \n",
    "# For more info, see: https://plot.ly/python/figure-factory-subplots/\n",
    "import plotly.figure_factory as ff\n",
    "\n",
    "corrs = df1.corr()\n",
    "\n",
    "@interact\n",
    "def plot_corrs(colorscale=cscales):\n",
    "    figure = ff.create_annotated_heatmap(z = corrs.round(2).values, \n",
    "                                     x =list(corrs.columns), \n",
    "                                     y=list(corrs.index), \n",
    "                                     colorscale=colorscale,\n",
    "                                     annotation_text=corrs.round(2).values)\n",
    "    iplot(figure)\n",
    "    ## if you are using Google Colab, comment out the above line of code and uncomment the line below\n",
    "    #figure.show(renderer=\"colab\")"
   ]
  },
  {
   "cell_type": "code",
   "execution_count": 19,
   "id": "4b230e04",
   "metadata": {},
   "outputs": [
    {
     "data": {
      "application/vnd.jupyter.widget-view+json": {
       "model_id": "062181bc32b34a3a82aad24e026f88b2",
       "version_major": 2,
       "version_minor": 0
      },
      "text/plain": [
       "interactive(children=(Dropdown(description='x', options=('DEPT', 'DEN', 'DT', 'GR', 'NEUT', 'RES_DEP', 'PHI', …"
      ]
     },
     "metadata": {},
     "output_type": "display_data"
    }
   ],
   "source": [
    "@interact_manual\n",
    "def scatter_plot(x=list(df1.select_dtypes('number').columns), \n",
    "                 y=list(df1.select_dtypes('number').columns)[1:],\n",
    "                 theme=list(cf.themes.THEMES.keys()), \n",
    "                 colorscale=list(cf.colors._scales_names.keys())):\n",
    "    \n",
    "    if x == y:\n",
    "        print(f\"Please select seperate variables for X and Y\")\n",
    "    else:\n",
    "        df1.iplot(kind='scatter', x=x, y=y, mode='markers', \n",
    "                 xTitle=x.title(), yTitle=y.title(), \n",
    "                 text='DEPT',\n",
    "                 title=f'{y.title()} vs {x.title()}',\n",
    "                theme=theme, colorscale=colorscale)\n",
    "        ## if you are using Google Colab, comment out the above line of code and uncomment the line below\n",
    "        #fig = px.scatter(df, x=x, y=y, title=f'{y.title()} vs {x.title()}')\n",
    "        #fig.show(renderer=\"colab\")"
   ]
  },
  {
   "cell_type": "code",
   "execution_count": null,
   "id": "587b83f6",
   "metadata": {},
   "outputs": [],
   "source": [
    "final = df1.drop(['NEUT', 'DT'], axis = 'columns')\n",
    "final"
   ]
  },
  {
   "cell_type": "code",
   "execution_count": null,
   "id": "215233b6",
   "metadata": {},
   "outputs": [],
   "source": [
    "final.describe()"
   ]
  },
  {
   "cell_type": "code",
   "execution_count": null,
   "id": "fa78287f",
   "metadata": {},
   "outputs": [],
   "source": [
    "final.isnull().sum()"
   ]
  },
  {
   "cell_type": "code",
   "execution_count": null,
   "id": "d7232ef3",
   "metadata": {},
   "outputs": [],
   "source": [
    "final.dtypes"
   ]
  },
  {
   "cell_type": "code",
   "execution_count": null,
   "id": "f815de28",
   "metadata": {},
   "outputs": [],
   "source": [
    "X = final.drop('PERM',axis='columns')\n",
    "y = final.PERM"
   ]
  },
  {
   "cell_type": "code",
   "execution_count": null,
   "id": "2087608c",
   "metadata": {},
   "outputs": [],
   "source": [
    "from sklearn.model_selection import train_test_split\n",
    "X_train, X_test, y_train, y_test = train_test_split(X,y,test_size=0.2)"
   ]
  },
  {
   "cell_type": "code",
   "execution_count": null,
   "id": "e811958d",
   "metadata": {},
   "outputs": [],
   "source": [
    "from sklearn import linear_model\n",
    "reg = linear_model.LinearRegression()\n",
    "reg.fit(X, y)"
   ]
  },
  {
   "cell_type": "code",
   "execution_count": null,
   "id": "068a3145",
   "metadata": {},
   "outputs": [],
   "source": [
    "reg.coef_"
   ]
  },
  {
   "cell_type": "code",
   "execution_count": null,
   "id": "9a721045",
   "metadata": {},
   "outputs": [],
   "source": [
    "# 1=sandstone  2=c_siltstone   3=f_siltstone \n",
    "# 4=marine_silt_shale 5=mudstone 6=wackestone 7=dolomite\n",
    "# 8=packstone 9=bafflestone\n",
    "facies_colors = ['#F4D03F', '#F5B041','#DC7633','#6E2C00',\n",
    "       '#1B4F72','#2E86C1', '#AED6F1', '#A569BD', '#196F3D']\n",
    "\n",
    "facies_labels = ['SS', 'CSiS', 'FSiS', 'SiSh', 'MS',\n",
    "                 'WS', 'D','PS', 'BS']\n",
    "#facies_color_map is a dictionary that maps facies labels\n",
    "#to their respective colors\n",
    "facies_color_map = {}\n",
    "for ind, label in enumerate(facies_labels):\n",
    "    facies_color_map[label] = facies_colors[ind]\n",
    "\n",
    "def label_facies(row, labels):\n",
    "    return labels[ row['Facies'] -1]\n",
    "    \n",
    "training_data.loc[:,'FaciesLabels'] = training_data.apply(lambda row: label_facies(row, facies_labels), axis=1)"
   ]
  },
  {
   "cell_type": "code",
   "execution_count": null,
   "id": "4b546321",
   "metadata": {},
   "outputs": [],
   "source": [
    "import pandas as pd\n",
    "import numpy as np\n",
    "from sklearn.model_selection import train_test_split\n",
    "from sklearn.ensemble import RandomForestRegressor\n",
    "\n",
    "# Load well log data\n",
    "\n",
    "# Define input features and target variable\n",
    "X = final[['RES_DEP', 'DEN', 'velocity', 'GR', 'Facies', 'DEPT']]\n",
    "y = final['PERM']\n",
    "\n",
    "# Split data into training and testing sets\n",
    "X_train, X_test, y_train, y_test = train_test_split(X, y, test_size=0.2, random_state=42)\n",
    "\n",
    "# Train a random forest regressor model\n",
    "rf = RandomForestRegressor(n_estimators=100, max_depth=10, random_state=42)\n",
    "rf.fit(X_train, y_train)\n",
    "\n",
    "# Make predictions on test data\n",
    "y_pred = rf.predict(X_test)\n",
    "\n",
    "# Calculate model performance metrics\n",
    "mae = np.mean(abs(y_test - y_pred))\n",
    "mse = np.mean((y_test - y_pred) ** 2)\n",
    "rmse = np.sqrt(mse)\n",
    "r2 = rf.score(X_test, y_test)\n",
    "\n",
    "# Make a prediction for new well log data\n",
    "new_data = pd.DataFrame({'RES_DEP': [2.5], 'DEN': [2.3], 'velocity': [3.5], 'GR': [40], 'Facies': [1], 'DEPT': [2000]})\n",
    "new_pp = rf.predict(new_data)\n",
    "\n",
    "print(new_pp)"
   ]
  },
  {
   "cell_type": "code",
   "execution_count": null,
   "id": "3dd8cda7",
   "metadata": {},
   "outputs": [],
   "source": []
  }
 ],
 "metadata": {
  "kernelspec": {
   "display_name": "Python 3 (ipykernel)",
   "language": "python",
   "name": "python3"
  },
  "language_info": {
   "codemirror_mode": {
    "name": "ipython",
    "version": 3
   },
   "file_extension": ".py",
   "mimetype": "text/x-python",
   "name": "python",
   "nbconvert_exporter": "python",
   "pygments_lexer": "ipython3",
   "version": "3.9.13"
  }
 },
 "nbformat": 4,
 "nbformat_minor": 5
}
