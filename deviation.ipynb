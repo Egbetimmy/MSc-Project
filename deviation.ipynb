{
 "cells": [
  {
   "cell_type": "code",
   "execution_count": 1,
   "id": "ba8a0afa",
   "metadata": {},
   "outputs": [],
   "source": [
    "import pandas as pd\n",
    "from class4 import true_vertical_depth"
   ]
  },
  {
   "cell_type": "code",
   "execution_count": 2,
   "id": "a3f93ce0",
   "metadata": {},
   "outputs": [
    {
     "data": {
      "text/html": [
       "<div>\n",
       "<style scoped>\n",
       "    .dataframe tbody tr th:only-of-type {\n",
       "        vertical-align: middle;\n",
       "    }\n",
       "\n",
       "    .dataframe tbody tr th {\n",
       "        vertical-align: top;\n",
       "    }\n",
       "\n",
       "    .dataframe thead th {\n",
       "        text-align: right;\n",
       "    }\n",
       "</style>\n",
       "<table border=\"1\" class=\"dataframe\">\n",
       "  <thead>\n",
       "    <tr style=\"text-align: right;\">\n",
       "      <th></th>\n",
       "      <th>wellbore_name</th>\n",
       "      <th>measured_depth</th>\n",
       "      <th>inclination</th>\n",
       "      <th>azimuth</th>\n",
       "    </tr>\n",
       "  </thead>\n",
       "  <tbody>\n",
       "    <tr>\n",
       "      <th>0</th>\n",
       "      <td>Freeman-004ST1</td>\n",
       "      <td>0</td>\n",
       "      <td>0.00</td>\n",
       "      <td>0.0</td>\n",
       "    </tr>\n",
       "    <tr>\n",
       "      <th>1</th>\n",
       "      <td>Freeman-004ST1</td>\n",
       "      <td>3624</td>\n",
       "      <td>0.78</td>\n",
       "      <td>51.5</td>\n",
       "    </tr>\n",
       "    <tr>\n",
       "      <th>2</th>\n",
       "      <td>Freeman-004ST1</td>\n",
       "      <td>3718</td>\n",
       "      <td>0.57</td>\n",
       "      <td>49.3</td>\n",
       "    </tr>\n",
       "    <tr>\n",
       "      <th>3</th>\n",
       "      <td>Freeman-004ST1</td>\n",
       "      <td>3812</td>\n",
       "      <td>0.56</td>\n",
       "      <td>44.4</td>\n",
       "    </tr>\n",
       "    <tr>\n",
       "      <th>4</th>\n",
       "      <td>Freeman-004ST1</td>\n",
       "      <td>3904</td>\n",
       "      <td>0.60</td>\n",
       "      <td>43.1</td>\n",
       "    </tr>\n",
       "  </tbody>\n",
       "</table>\n",
       "</div>"
      ],
      "text/plain": [
       "    wellbore_name  measured_depth  inclination  azimuth\n",
       "0  Freeman-004ST1               0         0.00      0.0\n",
       "1  Freeman-004ST1            3624         0.78     51.5\n",
       "2  Freeman-004ST1            3718         0.57     49.3\n",
       "3  Freeman-004ST1            3812         0.56     44.4\n",
       "4  Freeman-004ST1            3904         0.60     43.1"
      ]
     },
     "execution_count": 2,
     "metadata": {},
     "output_type": "execute_result"
    }
   ],
   "source": [
    "df = pd.read_csv(\"data/freeman-004stdev.csv\")\n",
    "df.head()"
   ]
  },
  {
   "cell_type": "code",
   "execution_count": 3,
   "id": "3cd28b98",
   "metadata": {},
   "outputs": [
    {
     "data": {
      "text/html": [
       "<div>\n",
       "<style scoped>\n",
       "    .dataframe tbody tr th:only-of-type {\n",
       "        vertical-align: middle;\n",
       "    }\n",
       "\n",
       "    .dataframe tbody tr th {\n",
       "        vertical-align: top;\n",
       "    }\n",
       "\n",
       "    .dataframe thead th {\n",
       "        text-align: right;\n",
       "    }\n",
       "</style>\n",
       "<table border=\"1\" class=\"dataframe\">\n",
       "  <thead>\n",
       "    <tr style=\"text-align: right;\">\n",
       "      <th></th>\n",
       "      <th>wellbore_name</th>\n",
       "      <th>measured_depth</th>\n",
       "      <th>inclination</th>\n",
       "      <th>azimuth</th>\n",
       "      <th>tvd</th>\n",
       "    </tr>\n",
       "  </thead>\n",
       "  <tbody>\n",
       "    <tr>\n",
       "      <th>0</th>\n",
       "      <td>Freeman-004ST1</td>\n",
       "      <td>0</td>\n",
       "      <td>0.00</td>\n",
       "      <td>0.0</td>\n",
       "      <td>0.00</td>\n",
       "    </tr>\n",
       "    <tr>\n",
       "      <th>1</th>\n",
       "      <td>Freeman-004ST1</td>\n",
       "      <td>3624</td>\n",
       "      <td>0.78</td>\n",
       "      <td>51.5</td>\n",
       "      <td>3623.66</td>\n",
       "    </tr>\n",
       "    <tr>\n",
       "      <th>2</th>\n",
       "      <td>Freeman-004ST1</td>\n",
       "      <td>3718</td>\n",
       "      <td>0.57</td>\n",
       "      <td>49.3</td>\n",
       "      <td>3717.82</td>\n",
       "    </tr>\n",
       "    <tr>\n",
       "      <th>3</th>\n",
       "      <td>Freeman-004ST1</td>\n",
       "      <td>3812</td>\n",
       "      <td>0.56</td>\n",
       "      <td>44.4</td>\n",
       "      <td>3811.82</td>\n",
       "    </tr>\n",
       "    <tr>\n",
       "      <th>4</th>\n",
       "      <td>Freeman-004ST1</td>\n",
       "      <td>3904</td>\n",
       "      <td>0.60</td>\n",
       "      <td>43.1</td>\n",
       "      <td>3903.79</td>\n",
       "    </tr>\n",
       "  </tbody>\n",
       "</table>\n",
       "</div>"
      ],
      "text/plain": [
       "    wellbore_name  measured_depth  inclination  azimuth      tvd\n",
       "0  Freeman-004ST1               0         0.00      0.0     0.00\n",
       "1  Freeman-004ST1            3624         0.78     51.5  3623.66\n",
       "2  Freeman-004ST1            3718         0.57     49.3  3717.82\n",
       "3  Freeman-004ST1            3812         0.56     44.4  3811.82\n",
       "4  Freeman-004ST1            3904         0.60     43.1  3903.79"
      ]
     },
     "execution_count": 3,
     "metadata": {},
     "output_type": "execute_result"
    }
   ],
   "source": [
    "# Add a new column for the true vertical depth\n",
    "df['tvd'] = df.apply(lambda row: true_vertical_depth(row['measured_depth'], row['inclination']), axis=1)\n",
    "\n",
    "# Print the updated DataFrame\n",
    "df.head()"
   ]
  },
  {
   "cell_type": "code",
   "execution_count": null,
   "id": "cbad1a40",
   "metadata": {},
   "outputs": [],
   "source": []
  }
 ],
 "metadata": {
  "kernelspec": {
   "display_name": "Python 3 (ipykernel)",
   "language": "python",
   "name": "python3"
  },
  "language_info": {
   "codemirror_mode": {
    "name": "ipython",
    "version": 3
   },
   "file_extension": ".py",
   "mimetype": "text/x-python",
   "name": "python",
   "nbconvert_exporter": "python",
   "pygments_lexer": "ipython3",
   "version": "3.9.13"
  }
 },
 "nbformat": 4,
 "nbformat_minor": 5
}
