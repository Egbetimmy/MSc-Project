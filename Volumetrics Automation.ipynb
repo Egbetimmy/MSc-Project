{
 "cells": [
  {
   "cell_type": "code",
   "execution_count": 18,
   "id": "ded25b66",
   "metadata": {},
   "outputs": [],
   "source": [
    "class volumetrics:\n",
    "    \"\"\"\n",
    "    Need to test the outcomes\n",
    "    \"\"\"\n",
    "    def __init__(self, df, area, fvf):\n",
    "        \n",
    "        self.df = df\n",
    "        self.thickness = self.df[self.df.columns[1]]\n",
    "        self.ntg = self.df[self.df.columns[2]]\n",
    "        self.porosity = self.df[self.df.columns[3]]\n",
    "        self.Hsaturation = self.df[self.df.columns[4]]\n",
    "        self.area = area\n",
    "        self.fvf = fvf\n",
    "        \n",
    "    def bulk_volume(self):\n",
    "        bulk_volume = [] \n",
    "        for thickness in self.thickness:\n",
    "            \n",
    "            bulk = thickness * self.area\n",
    "            bulk_volume.append(bulk)\n",
    "            \n",
    "        self.bulk_volume = bulk_volume\n",
    "        self.df['Bulk Volume'] = self.bulk_volume\n",
    "        return self.df\n",
    "    \n",
    "    def net_volume(self):\n",
    "        net_volume = [] \n",
    "        for bulk_volume, ntg in zip(self.bulk_volume, self.ntg):\n",
    "            \n",
    "            net = bulk_volume * ntg\n",
    "            net_volume.append(net)\n",
    "            \n",
    "        self.net_volume = net_volume\n",
    "        self.df['Net Volume'] = self.net_volume\n",
    "        return self.df\n",
    "    \n",
    "    def pore_volume(self):\n",
    "        pore_volume = [] \n",
    "        for net_volume, ntg in zip(self.net_volume, self.ntg):\n",
    "            \n",
    "            pore = net_volume * ntg\n",
    "            pore_volume.append(pore)\n",
    "            \n",
    "        self.pore_volume = pore_volume\n",
    "        self.df['Pore Volume'] = self.pore_volume\n",
    "        return self.df\n",
    "    \n",
    "    def hydrocarbon_pore_volume(self):\n",
    "        hydrocarbon_pore_volume = [] \n",
    "        for pore_volume, ntg in zip(self.pore_volume, self.ntg):\n",
    "            \n",
    "            bulk = pore_volume * ntg\n",
    "            hydrocarbon_pore_volume.append(bulk)\n",
    "            \n",
    "        self.hydrocarbon_pore_volume = hydrocarbon_pore_volume\n",
    "        self.df['Hydrocarbon Pore Volume'] = self.hydrocarbon_pore_volume\n",
    "        return self.df\n",
    "    \"\"\"\n",
    "    need to create a function to plot for proper visualization\n",
    "    \"\"\""
   ]
  },
  {
   "cell_type": "code",
   "execution_count": null,
   "id": "421059ee",
   "metadata": {},
   "outputs": [],
   "source": [
    "\"\"\"\n",
    "need to test the class to ensure it works using pytest or unitest\n",
    "\"\"\""
   ]
  },
  {
   "cell_type": "code",
   "execution_count": null,
   "id": "55c27555",
   "metadata": {},
   "outputs": [],
   "source": [
    "# Unit tests to check your solution\n",
    "\n",
    "import unittest\n",
    "\n",
    "class TestGaussianClass(unittest.TestCase):\n",
    "    def setUp(self):\n",
    "        self.gaussian = Gaussian(3080.05, 252.2692)\n",
    "\n",
    "    def test_initialization(self): \n",
    "        self.assertEqual(self.gaussian.mean, 3080.05, 'incorrect mean')\n",
    "        self.assertEqual(self.gaussian.stdev, 252.2692, 'incorrect standard deviation')\n",
    "\n",
    "    def test_pdf(self):\n",
    "        self.assertEqual(round(self.gaussian.pdf(25), 5), 0.0,\\\n",
    "         'pdf function does not give expected result') \n",
    "\n",
    "    def test_meancalculation(self):\n",
    "        self.gaussian.read_data_file('anisotropy.csv', True)\n",
    "        self.assertEqual(self.gaussian.calculate_calculate_thomsen_delta(),\\\n",
    "         sum(self.gaussian.data) / float(len(self.gaussian.data)), 'calculated mean not as expected')\n",
    "\n",
    "    def test_stdevcalculation(self):\n",
    "        self.gaussian.read_data_file('anisotropy.csv', True)\n",
    "        self.assertEqual(round(self.gaussian.stdev, 2), 252.27, 'sample standard deviation incorrect')\n",
    "        self.gaussian.read_data_file('anisotropy.csv', False)\n",
    "        self.assertEqual(round(self.gaussian.stdev, 2), 237.84, 'population standard deviation incorrect')\n",
    "                \n",
    "tests = TestGaussianClass()\n",
    "\n",
    "tests_loaded = unittest.TestLoader().loadTestsFromModule(tests)\n",
    "\n",
    "unittest.TextTestRunner().run(tests_loaded)"
   ]
  },
  {
   "cell_type": "code",
   "execution_count": 6,
   "id": "9d5d0e01",
   "metadata": {},
   "outputs": [],
   "source": [
    "import pandas as pd\n",
    "\n",
    "read_file = pd.read_csv (r'well_data.txt')\n",
    "read_file.to_csv (r'well_data.csv', index=None)"
   ]
  },
  {
   "cell_type": "code",
   "execution_count": 7,
   "id": "f415684e",
   "metadata": {},
   "outputs": [
    {
     "data": {
      "text/html": [
       "<div>\n",
       "<style scoped>\n",
       "    .dataframe tbody tr th:only-of-type {\n",
       "        vertical-align: middle;\n",
       "    }\n",
       "\n",
       "    .dataframe tbody tr th {\n",
       "        vertical-align: top;\n",
       "    }\n",
       "\n",
       "    .dataframe thead th {\n",
       "        text-align: right;\n",
       "    }\n",
       "</style>\n",
       "<table border=\"1\" class=\"dataframe\">\n",
       "  <thead>\n",
       "    <tr style=\"text-align: right;\">\n",
       "      <th></th>\n",
       "      <th>Wells</th>\n",
       "      <th>Thickness</th>\n",
       "      <th>NTG</th>\n",
       "      <th>Porosity</th>\n",
       "      <th>Hydrcabon_Saturstion</th>\n",
       "    </tr>\n",
       "  </thead>\n",
       "  <tbody>\n",
       "    <tr>\n",
       "      <th>0</th>\n",
       "      <td>1</td>\n",
       "      <td>80.30</td>\n",
       "      <td>0.9994</td>\n",
       "      <td>0.2162</td>\n",
       "      <td>0.6849</td>\n",
       "    </tr>\n",
       "    <tr>\n",
       "      <th>1</th>\n",
       "      <td>2</td>\n",
       "      <td>50.90</td>\n",
       "      <td>0.9995</td>\n",
       "      <td>0.2412</td>\n",
       "      <td>0.6571</td>\n",
       "    </tr>\n",
       "    <tr>\n",
       "      <th>2</th>\n",
       "      <td>3</td>\n",
       "      <td>69.97</td>\n",
       "      <td>0.9997</td>\n",
       "      <td>0.2441</td>\n",
       "      <td>0.8587</td>\n",
       "    </tr>\n",
       "    <tr>\n",
       "      <th>3</th>\n",
       "      <td>4</td>\n",
       "      <td>37.00</td>\n",
       "      <td>0.9998</td>\n",
       "      <td>0.2594</td>\n",
       "      <td>0.5984</td>\n",
       "    </tr>\n",
       "  </tbody>\n",
       "</table>\n",
       "</div>"
      ],
      "text/plain": [
       "   Wells  Thickness     NTG  Porosity  Hydrcabon_Saturstion\n",
       "0      1      80.30  0.9994    0.2162                0.6849\n",
       "1      2      50.90  0.9995    0.2412                0.6571\n",
       "2      3      69.97  0.9997    0.2441                0.8587\n",
       "3      4      37.00  0.9998    0.2594                0.5984"
      ]
     },
     "execution_count": 7,
     "metadata": {},
     "output_type": "execute_result"
    }
   ],
   "source": [
    "df = pd.read_csv('well_data.csv', delim_whitespace=True)\n",
    "df"
   ]
  },
  {
   "cell_type": "code",
   "execution_count": 19,
   "id": "f2b56861",
   "metadata": {},
   "outputs": [],
   "source": [
    "area = 8727.79\n",
    "fvf = 1.2"
   ]
  },
  {
   "cell_type": "code",
   "execution_count": 13,
   "id": "feb5db06",
   "metadata": {},
   "outputs": [],
   "source": [
    "test = volumetrics(df, area, fvf)"
   ]
  },
  {
   "cell_type": "code",
   "execution_count": 14,
   "id": "056a78a8",
   "metadata": {},
   "outputs": [
    {
     "name": "stdout",
     "output_type": "stream",
     "text": [
      "<class '__main__.volumetrics'>\n"
     ]
    }
   ],
   "source": [
    "print(type(test))"
   ]
  },
  {
   "cell_type": "code",
   "execution_count": 17,
   "id": "837f26c3",
   "metadata": {},
   "outputs": [
    {
     "ename": "AttributeError",
     "evalue": "'volumetrics' object has no attribute 'seismic_data'",
     "output_type": "error",
     "traceback": [
      "\u001b[1;31m---------------------------------------------------------------------------\u001b[0m",
      "\u001b[1;31mAttributeError\u001b[0m                            Traceback (most recent call last)",
      "\u001b[1;32m~\\AppData\\Local\\Temp\\ipykernel_7004\\2474892221.py\u001b[0m in \u001b[0;36m<module>\u001b[1;34m\u001b[0m\n\u001b[1;32m----> 1\u001b[1;33m \u001b[0mx\u001b[0m \u001b[1;33m=\u001b[0m \u001b[0mtest\u001b[0m\u001b[1;33m.\u001b[0m\u001b[0mbulk_volume\u001b[0m\u001b[1;33m(\u001b[0m\u001b[1;33m)\u001b[0m\u001b[1;33m\u001b[0m\u001b[1;33m\u001b[0m\u001b[0m\n\u001b[0m",
      "\u001b[1;32m~\\AppData\\Local\\Temp\\ipykernel_7004\\2751435711.py\u001b[0m in \u001b[0;36mbulk_volume\u001b[1;34m(self)\u001b[0m\n\u001b[0;32m     15\u001b[0m     \u001b[1;32mdef\u001b[0m \u001b[0mbulk_volume\u001b[0m\u001b[1;33m(\u001b[0m\u001b[0mself\u001b[0m\u001b[1;33m)\u001b[0m\u001b[1;33m:\u001b[0m\u001b[1;33m\u001b[0m\u001b[1;33m\u001b[0m\u001b[0m\n\u001b[0;32m     16\u001b[0m         \u001b[0mbulk_volume\u001b[0m \u001b[1;33m=\u001b[0m \u001b[1;33m[\u001b[0m\u001b[1;33m]\u001b[0m\u001b[1;33m\u001b[0m\u001b[1;33m\u001b[0m\u001b[0m\n\u001b[1;32m---> 17\u001b[1;33m         \u001b[1;32mfor\u001b[0m \u001b[0mseismic\u001b[0m \u001b[1;32min\u001b[0m \u001b[0mself\u001b[0m\u001b[1;33m.\u001b[0m\u001b[0mseismic_data\u001b[0m\u001b[1;33m:\u001b[0m\u001b[1;33m\u001b[0m\u001b[1;33m\u001b[0m\u001b[0m\n\u001b[0m\u001b[0;32m     18\u001b[0m \u001b[1;33m\u001b[0m\u001b[0m\n\u001b[0;32m     19\u001b[0m             \u001b[0mbulk\u001b[0m \u001b[1;33m=\u001b[0m \u001b[0mseismic\u001b[0m \u001b[1;33m*\u001b[0m \u001b[0mself\u001b[0m\u001b[1;33m.\u001b[0m\u001b[0marea\u001b[0m\u001b[1;33m\u001b[0m\u001b[1;33m\u001b[0m\u001b[0m\n",
      "\u001b[1;31mAttributeError\u001b[0m: 'volumetrics' object has no attribute 'seismic_data'"
     ]
    }
   ],
   "source": [
    "x = test.bulk_volume()"
   ]
  },
  {
   "cell_type": "code",
   "execution_count": null,
   "id": "0b75d551",
   "metadata": {},
   "outputs": [],
   "source": []
  },
  {
   "cell_type": "code",
   "execution_count": null,
   "id": "7c83119c",
   "metadata": {},
   "outputs": [],
   "source": []
  }
 ],
 "metadata": {
  "kernelspec": {
   "display_name": "Python 3 (ipykernel)",
   "language": "python",
   "name": "python3"
  },
  "language_info": {
   "codemirror_mode": {
    "name": "ipython",
    "version": 3
   },
   "file_extension": ".py",
   "mimetype": "text/x-python",
   "name": "python",
   "nbconvert_exporter": "python",
   "pygments_lexer": "ipython3",
   "version": "3.9.13"
  }
 },
 "nbformat": 4,
 "nbformat_minor": 5
}
