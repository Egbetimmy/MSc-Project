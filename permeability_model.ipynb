{
 "cells": [
  {
   "cell_type": "code",
   "execution_count": 1,
   "id": "f60d4ff6",
   "metadata": {},
   "outputs": [],
   "source": [
    "import numpy as np\n",
    "import pandas as pd\n",
    "import scipy"
   ]
  },
  {
   "cell_type": "code",
   "execution_count": 2,
   "id": "9ab2424e",
   "metadata": {},
   "outputs": [],
   "source": [
    "df = pd.read_csv('data/freeman_well_4_eng.csv')"
   ]
  },
  {
   "cell_type": "code",
   "execution_count": 3,
   "id": "14bc1e7e",
   "metadata": {},
   "outputs": [
    {
     "data": {
      "text/html": [
       "<div>\n",
       "<style scoped>\n",
       "    .dataframe tbody tr th:only-of-type {\n",
       "        vertical-align: middle;\n",
       "    }\n",
       "\n",
       "    .dataframe tbody tr th {\n",
       "        vertical-align: top;\n",
       "    }\n",
       "\n",
       "    .dataframe thead th {\n",
       "        text-align: right;\n",
       "    }\n",
       "</style>\n",
       "<table border=\"1\" class=\"dataframe\">\n",
       "  <thead>\n",
       "    <tr style=\"text-align: right;\">\n",
       "      <th></th>\n",
       "      <th>Depth</th>\n",
       "      <th>GR</th>\n",
       "      <th>Log_ILD</th>\n",
       "      <th>DT</th>\n",
       "      <th>RHOB</th>\n",
       "      <th>NPHI</th>\n",
       "      <th>PHI</th>\n",
       "      <th>PERM</th>\n",
       "      <th>velocity</th>\n",
       "      <th>GRI</th>\n",
       "      <th>vshale</th>\n",
       "      <th>PHIeff</th>\n",
       "      <th>formation_factor</th>\n",
       "      <th>swirr</th>\n",
       "      <th>permeability</th>\n",
       "      <th>Facies_code</th>\n",
       "    </tr>\n",
       "  </thead>\n",
       "  <tbody>\n",
       "    <tr>\n",
       "      <th>0</th>\n",
       "      <td>7682.5</td>\n",
       "      <td>39.0321</td>\n",
       "      <td>0.9332</td>\n",
       "      <td>137.507</td>\n",
       "      <td>2.2382</td>\n",
       "      <td>0.5983</td>\n",
       "      <td>0.0188</td>\n",
       "      <td>0.002024</td>\n",
       "      <td>7272.357044</td>\n",
       "      <td>0.0</td>\n",
       "      <td>0.0</td>\n",
       "      <td>0.0188</td>\n",
       "      <td>3183.84791</td>\n",
       "      <td>1.261715</td>\n",
       "      <td>314.443398</td>\n",
       "      <td>0</td>\n",
       "    </tr>\n",
       "    <tr>\n",
       "      <th>1</th>\n",
       "      <td>7683.0</td>\n",
       "      <td>39.0321</td>\n",
       "      <td>0.9332</td>\n",
       "      <td>137.507</td>\n",
       "      <td>2.2382</td>\n",
       "      <td>0.5983</td>\n",
       "      <td>0.0188</td>\n",
       "      <td>0.002024</td>\n",
       "      <td>7272.357044</td>\n",
       "      <td>0.0</td>\n",
       "      <td>0.0</td>\n",
       "      <td>0.0188</td>\n",
       "      <td>3183.84791</td>\n",
       "      <td>1.261715</td>\n",
       "      <td>314.443398</td>\n",
       "      <td>0</td>\n",
       "    </tr>\n",
       "    <tr>\n",
       "      <th>2</th>\n",
       "      <td>7683.5</td>\n",
       "      <td>39.0321</td>\n",
       "      <td>0.9332</td>\n",
       "      <td>137.507</td>\n",
       "      <td>2.2382</td>\n",
       "      <td>0.5983</td>\n",
       "      <td>0.0188</td>\n",
       "      <td>0.002024</td>\n",
       "      <td>7272.357044</td>\n",
       "      <td>0.0</td>\n",
       "      <td>0.0</td>\n",
       "      <td>0.0188</td>\n",
       "      <td>3183.84791</td>\n",
       "      <td>1.261715</td>\n",
       "      <td>314.443398</td>\n",
       "      <td>0</td>\n",
       "    </tr>\n",
       "    <tr>\n",
       "      <th>3</th>\n",
       "      <td>7684.0</td>\n",
       "      <td>39.0321</td>\n",
       "      <td>0.9332</td>\n",
       "      <td>137.507</td>\n",
       "      <td>2.2382</td>\n",
       "      <td>0.5983</td>\n",
       "      <td>0.0188</td>\n",
       "      <td>0.002024</td>\n",
       "      <td>7272.357044</td>\n",
       "      <td>0.0</td>\n",
       "      <td>0.0</td>\n",
       "      <td>0.0188</td>\n",
       "      <td>3183.84791</td>\n",
       "      <td>1.261715</td>\n",
       "      <td>314.443398</td>\n",
       "      <td>0</td>\n",
       "    </tr>\n",
       "    <tr>\n",
       "      <th>4</th>\n",
       "      <td>7684.5</td>\n",
       "      <td>39.0321</td>\n",
       "      <td>0.9332</td>\n",
       "      <td>137.507</td>\n",
       "      <td>2.2382</td>\n",
       "      <td>0.5983</td>\n",
       "      <td>0.0188</td>\n",
       "      <td>0.002024</td>\n",
       "      <td>7272.357044</td>\n",
       "      <td>0.0</td>\n",
       "      <td>0.0</td>\n",
       "      <td>0.0188</td>\n",
       "      <td>3183.84791</td>\n",
       "      <td>1.261715</td>\n",
       "      <td>314.443398</td>\n",
       "      <td>0</td>\n",
       "    </tr>\n",
       "  </tbody>\n",
       "</table>\n",
       "</div>"
      ],
      "text/plain": [
       "    Depth       GR  Log_ILD       DT    RHOB    NPHI     PHI      PERM  \\\n",
       "0  7682.5  39.0321   0.9332  137.507  2.2382  0.5983  0.0188  0.002024   \n",
       "1  7683.0  39.0321   0.9332  137.507  2.2382  0.5983  0.0188  0.002024   \n",
       "2  7683.5  39.0321   0.9332  137.507  2.2382  0.5983  0.0188  0.002024   \n",
       "3  7684.0  39.0321   0.9332  137.507  2.2382  0.5983  0.0188  0.002024   \n",
       "4  7684.5  39.0321   0.9332  137.507  2.2382  0.5983  0.0188  0.002024   \n",
       "\n",
       "      velocity  GRI  vshale  PHIeff  formation_factor     swirr  permeability  \\\n",
       "0  7272.357044  0.0     0.0  0.0188        3183.84791  1.261715    314.443398   \n",
       "1  7272.357044  0.0     0.0  0.0188        3183.84791  1.261715    314.443398   \n",
       "2  7272.357044  0.0     0.0  0.0188        3183.84791  1.261715    314.443398   \n",
       "3  7272.357044  0.0     0.0  0.0188        3183.84791  1.261715    314.443398   \n",
       "4  7272.357044  0.0     0.0  0.0188        3183.84791  1.261715    314.443398   \n",
       "\n",
       "   Facies_code  \n",
       "0            0  \n",
       "1            0  \n",
       "2            0  \n",
       "3            0  \n",
       "4            0  "
      ]
     },
     "execution_count": 3,
     "metadata": {},
     "output_type": "execute_result"
    }
   ],
   "source": [
    "df.head()"
   ]
  },
  {
   "cell_type": "code",
   "execution_count": 4,
   "id": "921d5aaf",
   "metadata": {},
   "outputs": [],
   "source": [
    "from sklearn import preprocessing\n",
    "from sklearn import utils\n",
    "lab_enc = preprocessing.LabelEncoder()"
   ]
  },
  {
   "cell_type": "code",
   "execution_count": 5,
   "id": "9e864633",
   "metadata": {},
   "outputs": [
    {
     "data": {
      "text/plain": [
       "7265"
      ]
     },
     "execution_count": 5,
     "metadata": {},
     "output_type": "execute_result"
    }
   ],
   "source": [
    "df['Facies_code'].count()"
   ]
  },
  {
   "cell_type": "code",
   "execution_count": 6,
   "id": "abd0f480",
   "metadata": {},
   "outputs": [],
   "source": [
    "df['Facies']= lab_enc.fit_transform(df['Facies_code'])"
   ]
  },
  {
   "cell_type": "code",
   "execution_count": 7,
   "id": "e02b5b5d",
   "metadata": {},
   "outputs": [
    {
     "data": {
      "text/plain": [
       "array([0, 1, 2], dtype=int64)"
      ]
     },
     "execution_count": 7,
     "metadata": {},
     "output_type": "execute_result"
    }
   ],
   "source": [
    "df['Facies'].unique()"
   ]
  },
  {
   "cell_type": "code",
   "execution_count": 8,
   "id": "4f10a796",
   "metadata": {},
   "outputs": [
    {
     "name": "stdout",
     "output_type": "stream",
     "text": [
      "Index(['Depth', 'GR', 'Log_ILD', 'DT', 'RHOB', 'NPHI', 'PHI', 'PERM',\n",
      "       'velocity', 'GRI', 'vshale', 'PHIeff', 'formation_factor', 'swirr',\n",
      "       'permeability', 'Facies_code', 'Facies'],\n",
      "      dtype='object')\n"
     ]
    }
   ],
   "source": [
    "print(df.columns)"
   ]
  },
  {
   "cell_type": "code",
   "execution_count": 14,
   "id": "4b546321",
   "metadata": {
    "scrolled": false
   },
   "outputs": [],
   "source": [
    "# Define input features and target variable\n",
    "X = df[['Depth', 'Log_ILD', 'NPHI','RHOB', 'vshale', 'PHIeff', 'swirr', 'Facies_code']]\n",
    "y = df['PERM']"
   ]
  },
  {
   "cell_type": "code",
   "execution_count": 16,
   "id": "aa373ec5",
   "metadata": {},
   "outputs": [],
   "source": [
    "from sklearn.feature_selection import SelectKBest, f_regression\n",
    "\n",
    "# Split data into training and testing sets\n",
    "X_train, X_test, y_train, y_test = train_test_split(X, y, test_size=0.2)\n",
    "\n",
    "# Select top 5 features based on F-value scores\n",
    "selector = SelectKBest(f_regression, k=5)\n",
    "X_new = selector.fit_transform(X, y)\n",
    "\n",
    "# Get the indices of the selected features\n",
    "selected_features = X.columns[selector.get_support(indices=True)].tolist()\n",
    "\n",
    "# Split data into training and testing sets using selected features\n",
    "X_train_selected = X_train[selected_features]\n",
    "X_test_selected = X_test[selected_features]"
   ]
  },
  {
   "cell_type": "code",
   "execution_count": 17,
   "id": "fa42b31b",
   "metadata": {},
   "outputs": [
    {
     "data": {
      "text/plain": [
       "['Depth', 'NPHI', 'RHOB', 'vshale', 'PHIeff']"
      ]
     },
     "execution_count": 17,
     "metadata": {},
     "output_type": "execute_result"
    }
   ],
   "source": [
    "selected_features"
   ]
  },
  {
   "cell_type": "code",
   "execution_count": 18,
   "id": "6f7be9ef",
   "metadata": {},
   "outputs": [],
   "source": [
    "from sklearn.model_selection import train_test_split, GridSearchCV\n",
    "from sklearn.metrics import mean_squared_error\n",
    "from sklearn.ensemble import RandomForestRegressor, GradientBoostingRegressor\n",
    "from sklearn.svm import SVR\n",
    "from sklearn.tree import DecisionTreeRegressor\n",
    "from sklearn.neural_network import MLPRegressor\n",
    "from sklearn.pipeline import Pipeline\n",
    "from sklearn.pipeline import make_pipeline\n",
    "from sklearn.preprocessing import StandardScaler\n",
    "import joblib"
   ]
  },
  {
   "cell_type": "code",
   "execution_count": 19,
   "id": "b7cbf0cc",
   "metadata": {},
   "outputs": [],
   "source": [
    "# Define dictionary of models and their hyperparameters\n",
    "models = {\n",
    "    'svm': {\n",
    "        'model': make_pipeline(StandardScaler(), SVR()),\n",
    "        'params': {\n",
    "            'svr__kernel': ['linear', 'rbf', 'poly'],\n",
    "            'svr__C': [0.1, 1, 10],\n",
    "            'svr__gamma': ['scale', 'auto']\n",
    "        }\n",
    "    },\n",
    "    'random_forest': {\n",
    "        'model': RandomForestRegressor(),\n",
    "        'params': {\n",
    "            'n_estimators': [50, 100, 150],\n",
    "            'max_depth': [10, 20, 30]\n",
    "        }\n",
    "    },\n",
    "    'decision_tree': {\n",
    "        'model': DecisionTreeRegressor(),\n",
    "        'params': {\n",
    "            'max_depth': [5, 10, 15],\n",
    "            'min_samples_split': [2, 5, 10]\n",
    "        }\n",
    "    },\n",
    "    'neural_network': {\n",
    "        'model': MLPRegressor(),\n",
    "        'params': {\n",
    "            'hidden_layer_sizes': [(10,), (20,), (30,)],\n",
    "            'activation': ['relu', 'tanh', 'logistic'],\n",
    "            'max_iter': [1000, 2000]\n",
    "        }\n",
    "    },\n",
    "    'gradient_boosting': {\n",
    "        'model': GradientBoostingRegressor(),\n",
    "        'params': {\n",
    "            'learning_rate': [0.05, 0.1, 0.2],\n",
    "            'n_estimators': [50, 100, 150],\n",
    "            'max_depth': [3, 5, 7]\n",
    "        }\n",
    "    }\n",
    "}"
   ]
  },
  {
   "cell_type": "code",
   "execution_count": 20,
   "id": "c56a8f48",
   "metadata": {
    "scrolled": false
   },
   "outputs": [
    {
     "name": "stderr",
     "output_type": "stream",
     "text": [
      "C:\\Users\\BUYPC COMPUTERS\\AppData\\Roaming\\Python\\Python39\\site-packages\\sklearn\\neural_network\\_multilayer_perceptron.py:686: ConvergenceWarning: Stochastic Optimizer: Maximum iterations (1000) reached and the optimization hasn't converged yet.\n",
      "  warnings.warn(\n"
     ]
    }
   ],
   "source": [
    "scores = []\n",
    "# Loop over each model and perform grid search with cross-validation to find best hyperparameters \n",
    "## scoring='neg_mean_squared_error'\n",
    "for model_name, model in models.items():\n",
    "    clf = GridSearchCV(model['model'], model['params'], cv=5, n_jobs=-1, return_train_score=False)\n",
    "    clf.fit(X_train_selected, y_train)\n",
    "    best_params = clf.best_params_\n",
    "    \n",
    "    # Evaluate best model on test set\n",
    "    y_pred = clf.predict(X_test_selected)\n",
    "    mse = mean_squared_error(y_test, y_pred)\n",
    "    rmse = np.sqrt(mse)\n",
    "    r2 = clf.score(X_test_selected, y_test)\n",
    "    scores.append({\n",
    "        'model': model_name,\n",
    "        'best_score': clf.best_score_,\n",
    "        'best_params': best_params,\n",
    "        'RMSE': rmse,\n",
    "        'R-squared': r2\n",
    "    })\n",
    "    \n",
    "    # Save the best model for each method\n",
    "    joblib.dump(clf.best_estimator_, f\"models/{model_name}_best_model.pkl\")"
   ]
  },
  {
   "cell_type": "code",
   "execution_count": 21,
   "id": "4ae87c13",
   "metadata": {},
   "outputs": [
    {
     "data": {
      "text/html": [
       "<div>\n",
       "<style scoped>\n",
       "    .dataframe tbody tr th:only-of-type {\n",
       "        vertical-align: middle;\n",
       "    }\n",
       "\n",
       "    .dataframe tbody tr th {\n",
       "        vertical-align: top;\n",
       "    }\n",
       "\n",
       "    .dataframe thead th {\n",
       "        text-align: right;\n",
       "    }\n",
       "</style>\n",
       "<table border=\"1\" class=\"dataframe\">\n",
       "  <thead>\n",
       "    <tr style=\"text-align: right;\">\n",
       "      <th></th>\n",
       "      <th>model</th>\n",
       "      <th>best_params</th>\n",
       "      <th>best_score</th>\n",
       "      <th>RMSE</th>\n",
       "      <th>R-squared</th>\n",
       "    </tr>\n",
       "  </thead>\n",
       "  <tbody>\n",
       "    <tr>\n",
       "      <th>0</th>\n",
       "      <td>svm</td>\n",
       "      <td>{'svr__C': 10, 'svr__gamma': 'scale', 'svr__ke...</td>\n",
       "      <td>0.176697</td>\n",
       "      <td>1425.542319</td>\n",
       "      <td>0.081623</td>\n",
       "    </tr>\n",
       "    <tr>\n",
       "      <th>1</th>\n",
       "      <td>random_forest</td>\n",
       "      <td>{'max_depth': 10, 'n_estimators': 150}</td>\n",
       "      <td>0.684906</td>\n",
       "      <td>762.484097</td>\n",
       "      <td>0.737262</td>\n",
       "    </tr>\n",
       "    <tr>\n",
       "      <th>2</th>\n",
       "      <td>decision_tree</td>\n",
       "      <td>{'max_depth': 10, 'min_samples_split': 2}</td>\n",
       "      <td>0.704560</td>\n",
       "      <td>383.565752</td>\n",
       "      <td>0.933512</td>\n",
       "    </tr>\n",
       "    <tr>\n",
       "      <th>3</th>\n",
       "      <td>neural_network</td>\n",
       "      <td>{'activation': 'logistic', 'hidden_layer_sizes...</td>\n",
       "      <td>-0.001263</td>\n",
       "      <td>1487.710047</td>\n",
       "      <td>-0.000225</td>\n",
       "    </tr>\n",
       "    <tr>\n",
       "      <th>4</th>\n",
       "      <td>gradient_boosting</td>\n",
       "      <td>{'learning_rate': 0.2, 'max_depth': 3, 'n_esti...</td>\n",
       "      <td>0.721061</td>\n",
       "      <td>375.107152</td>\n",
       "      <td>0.936413</td>\n",
       "    </tr>\n",
       "  </tbody>\n",
       "</table>\n",
       "</div>"
      ],
      "text/plain": [
       "               model                                        best_params  \\\n",
       "0                svm  {'svr__C': 10, 'svr__gamma': 'scale', 'svr__ke...   \n",
       "1      random_forest             {'max_depth': 10, 'n_estimators': 150}   \n",
       "2      decision_tree          {'max_depth': 10, 'min_samples_split': 2}   \n",
       "3     neural_network  {'activation': 'logistic', 'hidden_layer_sizes...   \n",
       "4  gradient_boosting  {'learning_rate': 0.2, 'max_depth': 3, 'n_esti...   \n",
       "\n",
       "   best_score         RMSE  R-squared  \n",
       "0    0.176697  1425.542319   0.081623  \n",
       "1    0.684906   762.484097   0.737262  \n",
       "2    0.704560   383.565752   0.933512  \n",
       "3   -0.001263  1487.710047  -0.000225  \n",
       "4    0.721061   375.107152   0.936413  "
      ]
     },
     "execution_count": 21,
     "metadata": {},
     "output_type": "execute_result"
    }
   ],
   "source": [
    "best_model_df = pd.DataFrame(scores, columns=['model', 'best_params', 'best_score', 'RMSE', 'R-squared'])\n",
    "best_model_df"
   ]
  },
  {
   "cell_type": "code",
   "execution_count": 22,
   "id": "7970c95c",
   "metadata": {},
   "outputs": [],
   "source": [
    "best_model_df.to_csv('data/best_model.csv', index=False)"
   ]
  },
  {
   "cell_type": "code",
   "execution_count": 23,
   "id": "9d90f252",
   "metadata": {},
   "outputs": [],
   "source": [
    "# Load the models from the model folder\n",
    "model_rf = joblib.load('models/random_forest_best_model.pkl')\n",
    "model_dt = joblib.load('models/decision_tree_best_model.pkl')\n",
    "model_gb = joblib.load('models/gradient_boosting_best_model.pkl')"
   ]
  },
  {
   "cell_type": "code",
   "execution_count": 27,
   "id": "20bccd21",
   "metadata": {},
   "outputs": [
    {
     "data": {
      "text/html": [
       "<div>\n",
       "<style scoped>\n",
       "    .dataframe tbody tr th:only-of-type {\n",
       "        vertical-align: middle;\n",
       "    }\n",
       "\n",
       "    .dataframe tbody tr th {\n",
       "        vertical-align: top;\n",
       "    }\n",
       "\n",
       "    .dataframe thead th {\n",
       "        text-align: right;\n",
       "    }\n",
       "</style>\n",
       "<table border=\"1\" class=\"dataframe\">\n",
       "  <thead>\n",
       "    <tr style=\"text-align: right;\">\n",
       "      <th></th>\n",
       "      <th>Depth</th>\n",
       "      <th>NPHI</th>\n",
       "      <th>RHOB</th>\n",
       "      <th>vshale</th>\n",
       "      <th>effective porosity</th>\n",
       "      <th>Actual Permeability</th>\n",
       "      <th>rf_Permeability</th>\n",
       "      <th>dt_Permeability</th>\n",
       "      <th>gb_Permeability</th>\n",
       "    </tr>\n",
       "  </thead>\n",
       "  <tbody>\n",
       "    <tr>\n",
       "      <th>5935</th>\n",
       "      <td>10674.0</td>\n",
       "      <td>0.3749</td>\n",
       "      <td>2.4032</td>\n",
       "      <td>0.341747</td>\n",
       "      <td>0.085406</td>\n",
       "      <td>0.358137</td>\n",
       "      <td>0.441165</td>\n",
       "      <td>0.309971</td>\n",
       "      <td>1.561161</td>\n",
       "    </tr>\n",
       "    <tr>\n",
       "      <th>2300</th>\n",
       "      <td>8851.5</td>\n",
       "      <td>0.4883</td>\n",
       "      <td>2.2860</td>\n",
       "      <td>0.280981</td>\n",
       "      <td>0.171649</td>\n",
       "      <td>13.058250</td>\n",
       "      <td>12.522147</td>\n",
       "      <td>12.283858</td>\n",
       "      <td>9.849646</td>\n",
       "    </tr>\n",
       "    <tr>\n",
       "      <th>2935</th>\n",
       "      <td>9169.0</td>\n",
       "      <td>0.5025</td>\n",
       "      <td>2.3254</td>\n",
       "      <td>0.251444</td>\n",
       "      <td>0.149407</td>\n",
       "      <td>3.907871</td>\n",
       "      <td>3.937493</td>\n",
       "      <td>4.379332</td>\n",
       "      <td>3.263807</td>\n",
       "    </tr>\n",
       "    <tr>\n",
       "      <th>5678</th>\n",
       "      <td>10545.5</td>\n",
       "      <td>0.3010</td>\n",
       "      <td>2.3643</td>\n",
       "      <td>0.323522</td>\n",
       "      <td>0.113748</td>\n",
       "      <td>1.180307</td>\n",
       "      <td>1.093683</td>\n",
       "      <td>0.871567</td>\n",
       "      <td>1.561161</td>\n",
       "    </tr>\n",
       "    <tr>\n",
       "      <th>2551</th>\n",
       "      <td>8977.0</td>\n",
       "      <td>0.4662</td>\n",
       "      <td>2.3248</td>\n",
       "      <td>0.199873</td>\n",
       "      <td>0.156717</td>\n",
       "      <td>3.980516</td>\n",
       "      <td>3.985074</td>\n",
       "      <td>4.379332</td>\n",
       "      <td>4.388842</td>\n",
       "    </tr>\n",
       "  </tbody>\n",
       "</table>\n",
       "</div>"
      ],
      "text/plain": [
       "        Depth    NPHI    RHOB    vshale  effective porosity  \\\n",
       "5935  10674.0  0.3749  2.4032  0.341747            0.085406   \n",
       "2300   8851.5  0.4883  2.2860  0.280981            0.171649   \n",
       "2935   9169.0  0.5025  2.3254  0.251444            0.149407   \n",
       "5678  10545.5  0.3010  2.3643  0.323522            0.113748   \n",
       "2551   8977.0  0.4662  2.3248  0.199873            0.156717   \n",
       "\n",
       "      Actual Permeability  rf_Permeability  dt_Permeability  gb_Permeability  \n",
       "5935             0.358137         0.441165         0.309971         1.561161  \n",
       "2300            13.058250        12.522147        12.283858         9.849646  \n",
       "2935             3.907871         3.937493         4.379332         3.263807  \n",
       "5678             1.180307         1.093683         0.871567         1.561161  \n",
       "2551             3.980516         3.985074         4.379332         4.388842  "
      ]
     },
     "execution_count": 27,
     "metadata": {},
     "output_type": "execute_result"
    }
   ],
   "source": [
    "# Predict y values for x_test\n",
    "y_pred_rf = model_rf.predict(X_test_selected)\n",
    "y_pred_dt = model_dt.predict(X_test_selected)\n",
    "y_pred_gb = model_gb.predict(X_test_selected)\n",
    "\n",
    "X_test_df = pd.DataFrame(X_test_selected, columns=['Depth', 'NPHI', 'RHOB', 'vshale', 'PHIeff'])\n",
    "\n",
    "# Create a dataframe with x_test, y_test, and y_predict\n",
    "results_df = pd.DataFrame({'Depth': X_test_df['Depth'],\n",
    "                           'NPHI': X_test_df['NPHI'],\n",
    "                           'RHOB': X_test_df['RHOB'],\n",
    "                           'vshale': X_test_df['vshale'],\n",
    "                           'effective porosity': X_test_df['PHIeff'],\n",
    "                           'Actual Permeability': y_test,\n",
    "                           'rf_Permeability': y_pred_rf,\n",
    "                           'dt_Permeability': y_pred_dt,\n",
    "                           'gb_Permeability': y_pred_gb})\n",
    "\n",
    "# Print the dataframe\n",
    "results_df.to_csv('results_test.csv', index=False)\n",
    "results_df.head()"
   ]
  },
  {
   "cell_type": "code",
   "execution_count": null,
   "id": "49fbc541",
   "metadata": {},
   "outputs": [],
   "source": [
    "# Predict y values for x_train\n",
    "y_pred_rf_train = model_rf.predict(X_train)\n",
    "y_pred_dt_train = model_dt.predict(X_train)\n",
    "y_pred_gb_train = model_gb.predict(X_train)\n",
    "\n",
    "X_train_df = pd.DataFrame(X_train, columns=['Depth', 'Log_ILD', 'NPHI','RHOB', 'vshale', 'PHIeff', 'swirr', 'Facies_code'])\n",
    "\n",
    "# Create a dataframe with x_train, y_train, and y_predict\n",
    "train_df = pd.DataFrame({'Depth': X_train_df['Depth'],\n",
    "                           'Log_ILD': X_train_df['Log_ILD'],\n",
    "                           'NPHI': X_train_df['NPHI'],\n",
    "                           'RHOB': X_train_df['RHOB'],\n",
    "                           'vshale': X_train_df['vshale'],\n",
    "                           'swirr': X_train_df['swirr'],\n",
    "                           'Facies_code': X_train_df['Facies_code'],\n",
    "                           'effective porosity': X_train_df['PHIeff'],\n",
    "                           'Actual Permeability': y_train,\n",
    "                           'rf_Permeability': y_pred_rf_train,\n",
    "                           'dt_Permeability': y_pred_dt_train,\n",
    "                           'gb_Permeability': y_pred_gb_train})\n",
    "\n",
    "# Print the dataframe\n",
    "train_df.to_csv('results.csv', index=False)\n",
    "train_df.head()"
   ]
  },
  {
   "cell_type": "code",
   "execution_count": null,
   "id": "352ec17f",
   "metadata": {},
   "outputs": [],
   "source": [
    "print(train_df.columns)"
   ]
  },
  {
   "cell_type": "code",
   "execution_count": null,
   "id": "d3d3ce2d",
   "metadata": {},
   "outputs": [],
   "source": []
  }
 ],
 "metadata": {
  "kernelspec": {
   "display_name": "Python 3 (ipykernel)",
   "language": "python",
   "name": "python3"
  },
  "language_info": {
   "codemirror_mode": {
    "name": "ipython",
    "version": 3
   },
   "file_extension": ".py",
   "mimetype": "text/x-python",
   "name": "python",
   "nbconvert_exporter": "python",
   "pygments_lexer": "ipython3",
   "version": "3.9.13"
  }
 },
 "nbformat": 4,
 "nbformat_minor": 5
}
