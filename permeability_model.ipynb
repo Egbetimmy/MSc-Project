{
 "cells": [
  {
   "cell_type": "code",
   "execution_count": 1,
   "id": "81af6440",
   "metadata": {},
   "outputs": [
    {
     "name": "stderr",
     "output_type": "stream",
     "text": [
      "Enabling notebook extension jupyter-js-widgets/extension...\n",
      "      - Validating: ok\n"
     ]
    }
   ],
   "source": [
    "!jupyter nbextension enable --py widgetsnbextension"
   ]
  },
  {
   "cell_type": "code",
   "execution_count": 2,
   "id": "f60d4ff6",
   "metadata": {},
   "outputs": [
    {
     "data": {
      "text/html": [
       "        <script type=\"text/javascript\">\n",
       "        window.PlotlyConfig = {MathJaxConfig: 'local'};\n",
       "        if (window.MathJax && window.MathJax.Hub && window.MathJax.Hub.Config) {window.MathJax.Hub.Config({SVG: {font: \"STIX-Web\"}});}\n",
       "        if (typeof require !== 'undefined') {\n",
       "        require.undef(\"plotly\");\n",
       "        requirejs.config({\n",
       "            paths: {\n",
       "                'plotly': ['https://cdn.plot.ly/plotly-2.12.1.min']\n",
       "            }\n",
       "        });\n",
       "        require(['plotly'], function(Plotly) {\n",
       "            window._Plotly = Plotly;\n",
       "        });\n",
       "        }\n",
       "        </script>\n",
       "        "
      ]
     },
     "metadata": {},
     "output_type": "display_data"
    },
    {
     "name": "stderr",
     "output_type": "stream",
     "text": [
      "PROJ: proj_create_from_database: SQLite error on SELECT name, type, coordinate_system_auth_name, coordinate_system_code, datum_auth_name, datum_code, area_of_use_auth_name, area_of_use_code, text_definition, deprecated FROM geodetic_crs WHERE auth_name = ? AND code = ?: no such column: area_of_use_auth_name\n"
     ]
    },
    {
     "data": {
      "text/html": [
       "        <script type=\"text/javascript\">\n",
       "        window.PlotlyConfig = {MathJaxConfig: 'local'};\n",
       "        if (window.MathJax && window.MathJax.Hub && window.MathJax.Hub.Config) {window.MathJax.Hub.Config({SVG: {font: \"STIX-Web\"}});}\n",
       "        if (typeof require !== 'undefined') {\n",
       "        require.undef(\"plotly\");\n",
       "        requirejs.config({\n",
       "            paths: {\n",
       "                'plotly': ['https://cdn.plot.ly/plotly-2.12.1.min']\n",
       "            }\n",
       "        });\n",
       "        require(['plotly'], function(Plotly) {\n",
       "            window._Plotly = Plotly;\n",
       "        });\n",
       "        }\n",
       "        </script>\n",
       "        "
      ]
     },
     "metadata": {},
     "output_type": "display_data"
    }
   ],
   "source": [
    "import numpy as np\n",
    "import pandas as pd\n",
    "import scipy\n",
    "\n",
    "# Instansiate the Plotly charting library.\n",
    "import chart_studio.plotly as py\n",
    "import plotly.graph_objs as go\n",
    "import plotly.express as px\n",
    "# We use plotly.offline as this allows us to create interactive \n",
    "# visualisations without the use of an internet connection, \n",
    "# making our notebook more distributable to others. \n",
    "from plotly.offline import iplot, init_notebook_mode\n",
    "init_notebook_mode(connected=True)\n",
    "\n",
    "# The Cufflinks library allows us to directly bind \n",
    "# Pandas dataframes to Plotly charts. \n",
    "import cufflinks as cf\n",
    "# Once again we use the Cufflinks library in offline mode. \n",
    "cf.go_offline(connected=True)\n",
    "cf.set_config_file(colorscale='plotly', world_readable=True)\n",
    "\n",
    "# Extra options. We use these to make our interactive \n",
    "# visualisations more aesthetically appealing. \n",
    "from IPython.core.display import HTML\n",
    "pd.options.display.max_rows = 30\n",
    "pd.options.display.max_columns = 25\n",
    "\n",
    "# Show all code cells outputs\n",
    "from IPython.core.interactiveshell import InteractiveShell\n",
    "InteractiveShell.ast_node_interactivity = 'all'\n",
    "\n",
    "from ipywidgets import interact, interact_manual, widgets"
   ]
  },
  {
   "cell_type": "code",
   "execution_count": 3,
   "id": "9ab2424e",
   "metadata": {},
   "outputs": [],
   "source": [
    "df = pd.read_csv('data/freeman_well_4_eng.csv')"
   ]
  },
  {
   "cell_type": "code",
   "execution_count": 4,
   "id": "9bc2537d",
   "metadata": {},
   "outputs": [
    {
     "data": {
      "text/plain": [
       "Depth          0\n",
       "GR             0\n",
       "Log_ILD        0\n",
       "DT             0\n",
       "RHOB           0\n",
       "NPHI           0\n",
       "PHI            0\n",
       "PERM           0\n",
       "Facies         0\n",
       "velocity       0\n",
       "Facies_code    0\n",
       "dtype: int64"
      ]
     },
     "execution_count": 4,
     "metadata": {},
     "output_type": "execute_result"
    }
   ],
   "source": [
    "df.isnull().sum()"
   ]
  },
  {
   "cell_type": "code",
   "execution_count": 5,
   "id": "14bc1e7e",
   "metadata": {},
   "outputs": [
    {
     "data": {
      "text/html": [
       "<div>\n",
       "<style scoped>\n",
       "    .dataframe tbody tr th:only-of-type {\n",
       "        vertical-align: middle;\n",
       "    }\n",
       "\n",
       "    .dataframe tbody tr th {\n",
       "        vertical-align: top;\n",
       "    }\n",
       "\n",
       "    .dataframe thead th {\n",
       "        text-align: right;\n",
       "    }\n",
       "</style>\n",
       "<table border=\"1\" class=\"dataframe\">\n",
       "  <thead>\n",
       "    <tr style=\"text-align: right;\">\n",
       "      <th></th>\n",
       "      <th>Depth</th>\n",
       "      <th>GR</th>\n",
       "      <th>Log_ILD</th>\n",
       "      <th>DT</th>\n",
       "      <th>RHOB</th>\n",
       "      <th>NPHI</th>\n",
       "      <th>PHI</th>\n",
       "      <th>PERM</th>\n",
       "      <th>Facies</th>\n",
       "      <th>velocity</th>\n",
       "      <th>Facies_code</th>\n",
       "    </tr>\n",
       "  </thead>\n",
       "  <tbody>\n",
       "    <tr>\n",
       "      <th>0</th>\n",
       "      <td>7682.5</td>\n",
       "      <td>39.0321</td>\n",
       "      <td>0.9332</td>\n",
       "      <td>137.507</td>\n",
       "      <td>2.2382</td>\n",
       "      <td>0.5983</td>\n",
       "      <td>0.2657</td>\n",
       "      <td>175.29364</td>\n",
       "      <td>1.0</td>\n",
       "      <td>1.071582e+06</td>\n",
       "      <td>0</td>\n",
       "    </tr>\n",
       "    <tr>\n",
       "      <th>1</th>\n",
       "      <td>7683.0</td>\n",
       "      <td>39.0321</td>\n",
       "      <td>0.9332</td>\n",
       "      <td>137.507</td>\n",
       "      <td>2.2382</td>\n",
       "      <td>0.5983</td>\n",
       "      <td>0.2657</td>\n",
       "      <td>175.29364</td>\n",
       "      <td>1.0</td>\n",
       "      <td>1.071582e+06</td>\n",
       "      <td>0</td>\n",
       "    </tr>\n",
       "    <tr>\n",
       "      <th>2</th>\n",
       "      <td>7683.5</td>\n",
       "      <td>39.0321</td>\n",
       "      <td>0.9332</td>\n",
       "      <td>137.507</td>\n",
       "      <td>2.2382</td>\n",
       "      <td>0.5983</td>\n",
       "      <td>0.2657</td>\n",
       "      <td>175.29364</td>\n",
       "      <td>1.0</td>\n",
       "      <td>1.071582e+06</td>\n",
       "      <td>0</td>\n",
       "    </tr>\n",
       "    <tr>\n",
       "      <th>3</th>\n",
       "      <td>7684.0</td>\n",
       "      <td>39.0321</td>\n",
       "      <td>0.9332</td>\n",
       "      <td>137.507</td>\n",
       "      <td>2.2382</td>\n",
       "      <td>0.5983</td>\n",
       "      <td>0.2657</td>\n",
       "      <td>175.29364</td>\n",
       "      <td>1.0</td>\n",
       "      <td>1.071582e+06</td>\n",
       "      <td>0</td>\n",
       "    </tr>\n",
       "    <tr>\n",
       "      <th>4</th>\n",
       "      <td>7684.5</td>\n",
       "      <td>39.0321</td>\n",
       "      <td>0.9332</td>\n",
       "      <td>137.507</td>\n",
       "      <td>2.2382</td>\n",
       "      <td>0.5983</td>\n",
       "      <td>0.2657</td>\n",
       "      <td>175.29364</td>\n",
       "      <td>1.0</td>\n",
       "      <td>1.071582e+06</td>\n",
       "      <td>0</td>\n",
       "    </tr>\n",
       "  </tbody>\n",
       "</table>\n",
       "</div>"
      ],
      "text/plain": [
       "    Depth       GR  Log_ILD       DT    RHOB    NPHI     PHI       PERM  \\\n",
       "0  7682.5  39.0321   0.9332  137.507  2.2382  0.5983  0.2657  175.29364   \n",
       "1  7683.0  39.0321   0.9332  137.507  2.2382  0.5983  0.2657  175.29364   \n",
       "2  7683.5  39.0321   0.9332  137.507  2.2382  0.5983  0.2657  175.29364   \n",
       "3  7684.0  39.0321   0.9332  137.507  2.2382  0.5983  0.2657  175.29364   \n",
       "4  7684.5  39.0321   0.9332  137.507  2.2382  0.5983  0.2657  175.29364   \n",
       "\n",
       "   Facies      velocity  Facies_code  \n",
       "0     1.0  1.071582e+06            0  \n",
       "1     1.0  1.071582e+06            0  \n",
       "2     1.0  1.071582e+06            0  \n",
       "3     1.0  1.071582e+06            0  \n",
       "4     1.0  1.071582e+06            0  "
      ]
     },
     "execution_count": 5,
     "metadata": {},
     "output_type": "execute_result"
    }
   ],
   "source": [
    "df.head()"
   ]
  },
  {
   "cell_type": "code",
   "execution_count": 6,
   "id": "0aff7478",
   "metadata": {},
   "outputs": [
    {
     "data": {
      "text/html": [
       "<div>\n",
       "<style scoped>\n",
       "    .dataframe tbody tr th:only-of-type {\n",
       "        vertical-align: middle;\n",
       "    }\n",
       "\n",
       "    .dataframe tbody tr th {\n",
       "        vertical-align: top;\n",
       "    }\n",
       "\n",
       "    .dataframe thead th {\n",
       "        text-align: right;\n",
       "    }\n",
       "</style>\n",
       "<table border=\"1\" class=\"dataframe\">\n",
       "  <thead>\n",
       "    <tr style=\"text-align: right;\">\n",
       "      <th></th>\n",
       "      <th>Depth</th>\n",
       "      <th>GR</th>\n",
       "      <th>Log_ILD</th>\n",
       "      <th>DT</th>\n",
       "      <th>RHOB</th>\n",
       "      <th>NPHI</th>\n",
       "      <th>PHI</th>\n",
       "      <th>PERM</th>\n",
       "      <th>Facies</th>\n",
       "      <th>velocity</th>\n",
       "      <th>Facies_code</th>\n",
       "    </tr>\n",
       "  </thead>\n",
       "  <tbody>\n",
       "    <tr>\n",
       "      <th>count</th>\n",
       "      <td>7286.000000</td>\n",
       "      <td>7286.000000</td>\n",
       "      <td>7286.000000</td>\n",
       "      <td>7286.000000</td>\n",
       "      <td>7286.000000</td>\n",
       "      <td>7286.000000</td>\n",
       "      <td>7286.000000</td>\n",
       "      <td>7.286000e+03</td>\n",
       "      <td>7286.000000</td>\n",
       "      <td>7.286000e+03</td>\n",
       "      <td>7286.000000</td>\n",
       "    </tr>\n",
       "    <tr>\n",
       "      <th>mean</th>\n",
       "      <td>9517.276352</td>\n",
       "      <td>108.163436</td>\n",
       "      <td>16.647403</td>\n",
       "      <td>117.850574</td>\n",
       "      <td>2.330201</td>\n",
       "      <td>0.423016</td>\n",
       "      <td>0.206324</td>\n",
       "      <td>9.691201e+03</td>\n",
       "      <td>2.820615</td>\n",
       "      <td>9.447880e+05</td>\n",
       "      <td>1.820615</td>\n",
       "    </tr>\n",
       "    <tr>\n",
       "      <th>std</th>\n",
       "      <td>1056.427949</td>\n",
       "      <td>22.303899</td>\n",
       "      <td>167.046140</td>\n",
       "      <td>11.625088</td>\n",
       "      <td>0.081099</td>\n",
       "      <td>0.065935</td>\n",
       "      <td>0.052322</td>\n",
       "      <td>2.375493e+05</td>\n",
       "      <td>0.564634</td>\n",
       "      <td>4.050703e+05</td>\n",
       "      <td>0.564634</td>\n",
       "    </tr>\n",
       "    <tr>\n",
       "      <th>min</th>\n",
       "      <td>7682.500000</td>\n",
       "      <td>37.810800</td>\n",
       "      <td>0.081200</td>\n",
       "      <td>84.811200</td>\n",
       "      <td>1.863100</td>\n",
       "      <td>0.099500</td>\n",
       "      <td>0.055100</td>\n",
       "      <td>1.076985e-02</td>\n",
       "      <td>1.000000</td>\n",
       "      <td>5.128205e+02</td>\n",
       "      <td>0.000000</td>\n",
       "    </tr>\n",
       "    <tr>\n",
       "      <th>25%</th>\n",
       "      <td>8608.125000</td>\n",
       "      <td>101.914675</td>\n",
       "      <td>0.877900</td>\n",
       "      <td>108.402500</td>\n",
       "      <td>2.282625</td>\n",
       "      <td>0.384900</td>\n",
       "      <td>0.166700</td>\n",
       "      <td>1.836431e+00</td>\n",
       "      <td>3.000000</td>\n",
       "      <td>7.322923e+05</td>\n",
       "      <td>2.000000</td>\n",
       "    </tr>\n",
       "    <tr>\n",
       "      <th>50%</th>\n",
       "      <td>9518.750000</td>\n",
       "      <td>112.481050</td>\n",
       "      <td>1.025900</td>\n",
       "      <td>114.944650</td>\n",
       "      <td>2.347100</td>\n",
       "      <td>0.422100</td>\n",
       "      <td>0.195400</td>\n",
       "      <td>6.885164e+00</td>\n",
       "      <td>3.000000</td>\n",
       "      <td>9.747539e+05</td>\n",
       "      <td>2.000000</td>\n",
       "    </tr>\n",
       "    <tr>\n",
       "      <th>75%</th>\n",
       "      <td>10430.875000</td>\n",
       "      <td>120.165375</td>\n",
       "      <td>1.365575</td>\n",
       "      <td>127.965500</td>\n",
       "      <td>2.391600</td>\n",
       "      <td>0.461475</td>\n",
       "      <td>0.237000</td>\n",
       "      <td>4.675485e+01</td>\n",
       "      <td>3.000000</td>\n",
       "      <td>1.139082e+06</td>\n",
       "      <td>2.000000</td>\n",
       "    </tr>\n",
       "    <tr>\n",
       "      <th>max</th>\n",
       "      <td>11357.000000</td>\n",
       "      <td>178.320800</td>\n",
       "      <td>1950.000000</td>\n",
       "      <td>158.538400</td>\n",
       "      <td>2.564600</td>\n",
       "      <td>0.656900</td>\n",
       "      <td>0.507700</td>\n",
       "      <td>1.211313e+07</td>\n",
       "      <td>3.000000</td>\n",
       "      <td>1.231527e+07</td>\n",
       "      <td>2.000000</td>\n",
       "    </tr>\n",
       "  </tbody>\n",
       "</table>\n",
       "</div>"
      ],
      "text/plain": [
       "              Depth           GR      Log_ILD           DT         RHOB  \\\n",
       "count   7286.000000  7286.000000  7286.000000  7286.000000  7286.000000   \n",
       "mean    9517.276352   108.163436    16.647403   117.850574     2.330201   \n",
       "std     1056.427949    22.303899   167.046140    11.625088     0.081099   \n",
       "min     7682.500000    37.810800     0.081200    84.811200     1.863100   \n",
       "25%     8608.125000   101.914675     0.877900   108.402500     2.282625   \n",
       "50%     9518.750000   112.481050     1.025900   114.944650     2.347100   \n",
       "75%    10430.875000   120.165375     1.365575   127.965500     2.391600   \n",
       "max    11357.000000   178.320800  1950.000000   158.538400     2.564600   \n",
       "\n",
       "              NPHI          PHI          PERM       Facies      velocity  \\\n",
       "count  7286.000000  7286.000000  7.286000e+03  7286.000000  7.286000e+03   \n",
       "mean      0.423016     0.206324  9.691201e+03     2.820615  9.447880e+05   \n",
       "std       0.065935     0.052322  2.375493e+05     0.564634  4.050703e+05   \n",
       "min       0.099500     0.055100  1.076985e-02     1.000000  5.128205e+02   \n",
       "25%       0.384900     0.166700  1.836431e+00     3.000000  7.322923e+05   \n",
       "50%       0.422100     0.195400  6.885164e+00     3.000000  9.747539e+05   \n",
       "75%       0.461475     0.237000  4.675485e+01     3.000000  1.139082e+06   \n",
       "max       0.656900     0.507700  1.211313e+07     3.000000  1.231527e+07   \n",
       "\n",
       "       Facies_code  \n",
       "count  7286.000000  \n",
       "mean      1.820615  \n",
       "std       0.564634  \n",
       "min       0.000000  \n",
       "25%       2.000000  \n",
       "50%       2.000000  \n",
       "75%       2.000000  \n",
       "max       2.000000  "
      ]
     },
     "execution_count": 6,
     "metadata": {},
     "output_type": "execute_result"
    }
   ],
   "source": [
    "df.describe()"
   ]
  },
  {
   "cell_type": "code",
   "execution_count": 7,
   "id": "921d5aaf",
   "metadata": {},
   "outputs": [],
   "source": [
    "from sklearn import preprocessing\n",
    "from sklearn import utils\n",
    "lab_enc = preprocessing.LabelEncoder()"
   ]
  },
  {
   "cell_type": "code",
   "execution_count": 8,
   "id": "9e864633",
   "metadata": {},
   "outputs": [
    {
     "data": {
      "text/plain": [
       "7286"
      ]
     },
     "execution_count": 8,
     "metadata": {},
     "output_type": "execute_result"
    }
   ],
   "source": [
    "df['Facies'].count()"
   ]
  },
  {
   "cell_type": "code",
   "execution_count": 9,
   "id": "abd0f480",
   "metadata": {},
   "outputs": [],
   "source": [
    "df['Facies']= lab_enc.fit_transform(df['Facies'])"
   ]
  },
  {
   "cell_type": "code",
   "execution_count": 10,
   "id": "e02b5b5d",
   "metadata": {},
   "outputs": [
    {
     "data": {
      "text/plain": [
       "array([0, 1, 2], dtype=int64)"
      ]
     },
     "execution_count": 10,
     "metadata": {},
     "output_type": "execute_result"
    }
   ],
   "source": [
    "df['Facies'].unique()"
   ]
  },
  {
   "cell_type": "code",
   "execution_count": 11,
   "id": "9586ac73",
   "metadata": {},
   "outputs": [
    {
     "data": {
      "application/vnd.jupyter.widget-view+json": {
       "model_id": "20a621987f744324a5074310bebbc3ce",
       "version_major": 2,
       "version_minor": 0
      },
      "text/plain": [
       "interactive(children=(Dropdown(description='column1', options=('Depth', 'GR', 'Log_ILD', 'DT', 'RHOB', 'NPHI',…"
      ]
     },
     "metadata": {},
     "output_type": "display_data"
    }
   ],
   "source": [
    "@interact\n",
    "def correlations(column1=list(df.select_dtypes('number').columns), \n",
    "                 column2=list(df.select_dtypes('number').columns)):\n",
    "    print(f\"Correlation: {df[column1].corr(df[column2])}\")"
   ]
  },
  {
   "cell_type": "code",
   "execution_count": 13,
   "id": "fe13456e",
   "metadata": {},
   "outputs": [
    {
     "data": {
      "application/vnd.jupyter.widget-view+json": {
       "model_id": "671ff61ae7c24d33a06d351664d74eca",
       "version_major": 2,
       "version_minor": 0
      },
      "text/plain": [
       "interactive(children=(Dropdown(description='x', options=('Depth', 'GR', 'Log_ILD', 'DT', 'RHOB', 'NPHI', 'PHI'…"
      ]
     },
     "metadata": {},
     "output_type": "display_data"
    }
   ],
   "source": [
    "@interact\n",
    "def scatter_plot(x=list(df.select_dtypes('number').columns), \n",
    "                 y=list(df.select_dtypes('number').columns)[1:]):\n",
    "    if x == y:\n",
    "        print(f\"Please select seperate variables for X and Y\")\n",
    "    else:\n",
    "        df.iplot(kind='scatter', x=x, y=y, mode='markers', \n",
    "                 xTitle=x.title(), yTitle=y.title(), title=f'{y.title()} vs {x.title()}')\n",
    "        ## if you are using Google Colab, comment out the above line of code and uncomment the lines below\n",
    "        #fig = px.scatter(df, x=x, y=y, title=f'{y.title()} vs {x.title()}')\n",
    "        #fig.show(renderer=\"colab\")"
   ]
  },
  {
   "cell_type": "code",
   "execution_count": 14,
   "id": "23ded5be",
   "metadata": {},
   "outputs": [
    {
     "data": {
      "application/vnd.jupyter.widget-view+json": {
       "model_id": "fbe66ed9cea14b0fa4b6aa23d74bcf61",
       "version_major": 2,
       "version_minor": 0
      },
      "text/plain": [
       "interactive(children=(Dropdown(description='colorscale', options=('Greys', 'YlGnBu', 'Greens', 'YlOrRd', 'Blue…"
      ]
     },
     "metadata": {},
     "output_type": "display_data"
    }
   ],
   "source": [
    "cscales = ['Greys', 'YlGnBu', 'Greens', 'YlOrRd', 'Bluered', 'RdBu',\n",
    "            'Reds', 'Blues', 'Picnic', 'Rainbow', 'Portland', 'Jet',\n",
    "            'Hot', 'Blackbody', 'Earth', 'Electric', 'Viridis', 'Cividis']\n",
    "\n",
    "# We use the Figure Factory module of Plotly, which\n",
    "# defines many unique and powerful plots to be used\n",
    "# in Python. \n",
    "# For more info, see: https://plot.ly/python/figure-factory-subplots/\n",
    "import plotly.figure_factory as ff\n",
    "\n",
    "corrs = df.corr()\n",
    "\n",
    "@interact\n",
    "def plot_corrs(colorscale=cscales):\n",
    "    figure = ff.create_annotated_heatmap(z = corrs.round(2).values, \n",
    "                                     x =list(corrs.columns), \n",
    "                                     y=list(corrs.index), \n",
    "                                     colorscale=colorscale,\n",
    "                                     annotation_text=corrs.round(2).values)\n",
    "    iplot(figure)\n",
    "    ## if you are using Google Colab, comment out the above line of code and uncomment the line below\n",
    "    #figure.show(renderer=\"colab\")"
   ]
  },
  {
   "cell_type": "code",
   "execution_count": 15,
   "id": "4b230e04",
   "metadata": {},
   "outputs": [
    {
     "data": {
      "application/vnd.jupyter.widget-view+json": {
       "model_id": "b35b146bb7ad405099c2a3d0ad2b8a31",
       "version_major": 2,
       "version_minor": 0
      },
      "text/plain": [
       "interactive(children=(Dropdown(description='x', options=('Depth', 'GR', 'Log_ILD', 'DT', 'RHOB', 'NPHI', 'PHI'…"
      ]
     },
     "metadata": {},
     "output_type": "display_data"
    }
   ],
   "source": [
    "@interact_manual\n",
    "def scatter_plot(x=list(df.select_dtypes('number').columns), \n",
    "                 y=list(df.select_dtypes('number').columns)[1:],\n",
    "                 theme=list(cf.themes.THEMES.keys()), \n",
    "                 colorscale=list(cf.colors._scales_names.keys())):\n",
    "    \n",
    "    if x == y:\n",
    "        print(f\"Please select seperate variables for X and Y\")\n",
    "    else:\n",
    "        df.iplot(kind='scatter', x=x, y=y, mode='markers', \n",
    "                 xTitle=x.title(), yTitle=y.title(), \n",
    "                 text='Depth',\n",
    "                 title=f'{y.title()} vs {x.title()}',\n",
    "                theme=theme, colorscale=colorscale)\n",
    "        ## if you are using Google Colab, comment out the above line of code and uncomment the line below\n",
    "        #fig = px.scatter(df, x=x, y=y, title=f'{y.title()} vs {x.title()}')\n",
    "        #fig.show(renderer=\"colab\")"
   ]
  },
  {
   "cell_type": "code",
   "execution_count": 16,
   "id": "587b83f6",
   "metadata": {},
   "outputs": [
    {
     "data": {
      "text/html": [
       "<div>\n",
       "<style scoped>\n",
       "    .dataframe tbody tr th:only-of-type {\n",
       "        vertical-align: middle;\n",
       "    }\n",
       "\n",
       "    .dataframe tbody tr th {\n",
       "        vertical-align: top;\n",
       "    }\n",
       "\n",
       "    .dataframe thead th {\n",
       "        text-align: right;\n",
       "    }\n",
       "</style>\n",
       "<table border=\"1\" class=\"dataframe\">\n",
       "  <thead>\n",
       "    <tr style=\"text-align: right;\">\n",
       "      <th></th>\n",
       "      <th>Depth</th>\n",
       "      <th>GR</th>\n",
       "      <th>Log_ILD</th>\n",
       "      <th>RHOB</th>\n",
       "      <th>PHI</th>\n",
       "      <th>PERM</th>\n",
       "      <th>Facies</th>\n",
       "      <th>velocity</th>\n",
       "      <th>Facies_code</th>\n",
       "    </tr>\n",
       "  </thead>\n",
       "  <tbody>\n",
       "    <tr>\n",
       "      <th>0</th>\n",
       "      <td>7682.5</td>\n",
       "      <td>39.0321</td>\n",
       "      <td>0.9332</td>\n",
       "      <td>2.2382</td>\n",
       "      <td>0.2657</td>\n",
       "      <td>175.29364</td>\n",
       "      <td>0</td>\n",
       "      <td>1.071582e+06</td>\n",
       "      <td>0</td>\n",
       "    </tr>\n",
       "    <tr>\n",
       "      <th>1</th>\n",
       "      <td>7683.0</td>\n",
       "      <td>39.0321</td>\n",
       "      <td>0.9332</td>\n",
       "      <td>2.2382</td>\n",
       "      <td>0.2657</td>\n",
       "      <td>175.29364</td>\n",
       "      <td>0</td>\n",
       "      <td>1.071582e+06</td>\n",
       "      <td>0</td>\n",
       "    </tr>\n",
       "    <tr>\n",
       "      <th>2</th>\n",
       "      <td>7683.5</td>\n",
       "      <td>39.0321</td>\n",
       "      <td>0.9332</td>\n",
       "      <td>2.2382</td>\n",
       "      <td>0.2657</td>\n",
       "      <td>175.29364</td>\n",
       "      <td>0</td>\n",
       "      <td>1.071582e+06</td>\n",
       "      <td>0</td>\n",
       "    </tr>\n",
       "    <tr>\n",
       "      <th>3</th>\n",
       "      <td>7684.0</td>\n",
       "      <td>39.0321</td>\n",
       "      <td>0.9332</td>\n",
       "      <td>2.2382</td>\n",
       "      <td>0.2657</td>\n",
       "      <td>175.29364</td>\n",
       "      <td>0</td>\n",
       "      <td>1.071582e+06</td>\n",
       "      <td>0</td>\n",
       "    </tr>\n",
       "    <tr>\n",
       "      <th>4</th>\n",
       "      <td>7684.5</td>\n",
       "      <td>39.0321</td>\n",
       "      <td>0.9332</td>\n",
       "      <td>2.2382</td>\n",
       "      <td>0.2657</td>\n",
       "      <td>175.29364</td>\n",
       "      <td>0</td>\n",
       "      <td>1.071582e+06</td>\n",
       "      <td>0</td>\n",
       "    </tr>\n",
       "    <tr>\n",
       "      <th>...</th>\n",
       "      <td>...</td>\n",
       "      <td>...</td>\n",
       "      <td>...</td>\n",
       "      <td>...</td>\n",
       "      <td>...</td>\n",
       "      <td>...</td>\n",
       "      <td>...</td>\n",
       "      <td>...</td>\n",
       "      <td>...</td>\n",
       "    </tr>\n",
       "    <tr>\n",
       "      <th>7281</th>\n",
       "      <td>11355.0</td>\n",
       "      <td>162.1151</td>\n",
       "      <td>0.9417</td>\n",
       "      <td>2.3986</td>\n",
       "      <td>0.1622</td>\n",
       "      <td>1.49274</td>\n",
       "      <td>2</td>\n",
       "      <td>1.061909e+06</td>\n",
       "      <td>2</td>\n",
       "    </tr>\n",
       "    <tr>\n",
       "      <th>7282</th>\n",
       "      <td>11355.5</td>\n",
       "      <td>162.1151</td>\n",
       "      <td>0.9418</td>\n",
       "      <td>2.3986</td>\n",
       "      <td>0.1622</td>\n",
       "      <td>1.49274</td>\n",
       "      <td>2</td>\n",
       "      <td>1.061797e+06</td>\n",
       "      <td>2</td>\n",
       "    </tr>\n",
       "    <tr>\n",
       "      <th>7283</th>\n",
       "      <td>11356.0</td>\n",
       "      <td>162.1151</td>\n",
       "      <td>0.9418</td>\n",
       "      <td>2.3986</td>\n",
       "      <td>0.1622</td>\n",
       "      <td>1.49274</td>\n",
       "      <td>2</td>\n",
       "      <td>1.061797e+06</td>\n",
       "      <td>2</td>\n",
       "    </tr>\n",
       "    <tr>\n",
       "      <th>7284</th>\n",
       "      <td>11356.5</td>\n",
       "      <td>162.1151</td>\n",
       "      <td>0.9419</td>\n",
       "      <td>2.3986</td>\n",
       "      <td>0.1622</td>\n",
       "      <td>1.49274</td>\n",
       "      <td>2</td>\n",
       "      <td>1.061684e+06</td>\n",
       "      <td>2</td>\n",
       "    </tr>\n",
       "    <tr>\n",
       "      <th>7285</th>\n",
       "      <td>11357.0</td>\n",
       "      <td>162.1151</td>\n",
       "      <td>0.9419</td>\n",
       "      <td>2.3986</td>\n",
       "      <td>0.1622</td>\n",
       "      <td>1.49274</td>\n",
       "      <td>2</td>\n",
       "      <td>1.061684e+06</td>\n",
       "      <td>2</td>\n",
       "    </tr>\n",
       "  </tbody>\n",
       "</table>\n",
       "<p>7286 rows × 9 columns</p>\n",
       "</div>"
      ],
      "text/plain": [
       "        Depth        GR  Log_ILD    RHOB     PHI       PERM  Facies  \\\n",
       "0      7682.5   39.0321   0.9332  2.2382  0.2657  175.29364       0   \n",
       "1      7683.0   39.0321   0.9332  2.2382  0.2657  175.29364       0   \n",
       "2      7683.5   39.0321   0.9332  2.2382  0.2657  175.29364       0   \n",
       "3      7684.0   39.0321   0.9332  2.2382  0.2657  175.29364       0   \n",
       "4      7684.5   39.0321   0.9332  2.2382  0.2657  175.29364       0   \n",
       "...       ...       ...      ...     ...     ...        ...     ...   \n",
       "7281  11355.0  162.1151   0.9417  2.3986  0.1622    1.49274       2   \n",
       "7282  11355.5  162.1151   0.9418  2.3986  0.1622    1.49274       2   \n",
       "7283  11356.0  162.1151   0.9418  2.3986  0.1622    1.49274       2   \n",
       "7284  11356.5  162.1151   0.9419  2.3986  0.1622    1.49274       2   \n",
       "7285  11357.0  162.1151   0.9419  2.3986  0.1622    1.49274       2   \n",
       "\n",
       "          velocity  Facies_code  \n",
       "0     1.071582e+06            0  \n",
       "1     1.071582e+06            0  \n",
       "2     1.071582e+06            0  \n",
       "3     1.071582e+06            0  \n",
       "4     1.071582e+06            0  \n",
       "...            ...          ...  \n",
       "7281  1.061909e+06            2  \n",
       "7282  1.061797e+06            2  \n",
       "7283  1.061797e+06            2  \n",
       "7284  1.061684e+06            2  \n",
       "7285  1.061684e+06            2  \n",
       "\n",
       "[7286 rows x 9 columns]"
      ]
     },
     "execution_count": 16,
     "metadata": {},
     "output_type": "execute_result"
    }
   ],
   "source": [
    "final = df.drop(['NPHI', 'DT'], axis = 'columns')\n",
    "final"
   ]
  },
  {
   "cell_type": "code",
   "execution_count": 17,
   "id": "215233b6",
   "metadata": {},
   "outputs": [
    {
     "data": {
      "text/html": [
       "<div>\n",
       "<style scoped>\n",
       "    .dataframe tbody tr th:only-of-type {\n",
       "        vertical-align: middle;\n",
       "    }\n",
       "\n",
       "    .dataframe tbody tr th {\n",
       "        vertical-align: top;\n",
       "    }\n",
       "\n",
       "    .dataframe thead th {\n",
       "        text-align: right;\n",
       "    }\n",
       "</style>\n",
       "<table border=\"1\" class=\"dataframe\">\n",
       "  <thead>\n",
       "    <tr style=\"text-align: right;\">\n",
       "      <th></th>\n",
       "      <th>Depth</th>\n",
       "      <th>GR</th>\n",
       "      <th>Log_ILD</th>\n",
       "      <th>RHOB</th>\n",
       "      <th>PHI</th>\n",
       "      <th>PERM</th>\n",
       "      <th>Facies</th>\n",
       "      <th>velocity</th>\n",
       "      <th>Facies_code</th>\n",
       "    </tr>\n",
       "  </thead>\n",
       "  <tbody>\n",
       "    <tr>\n",
       "      <th>count</th>\n",
       "      <td>7286.000000</td>\n",
       "      <td>7286.000000</td>\n",
       "      <td>7286.000000</td>\n",
       "      <td>7286.000000</td>\n",
       "      <td>7286.000000</td>\n",
       "      <td>7.286000e+03</td>\n",
       "      <td>7286.000000</td>\n",
       "      <td>7.286000e+03</td>\n",
       "      <td>7286.000000</td>\n",
       "    </tr>\n",
       "    <tr>\n",
       "      <th>mean</th>\n",
       "      <td>9517.276352</td>\n",
       "      <td>108.163436</td>\n",
       "      <td>16.647403</td>\n",
       "      <td>2.330201</td>\n",
       "      <td>0.206324</td>\n",
       "      <td>9.691201e+03</td>\n",
       "      <td>1.820615</td>\n",
       "      <td>9.447880e+05</td>\n",
       "      <td>1.820615</td>\n",
       "    </tr>\n",
       "    <tr>\n",
       "      <th>std</th>\n",
       "      <td>1056.427949</td>\n",
       "      <td>22.303899</td>\n",
       "      <td>167.046140</td>\n",
       "      <td>0.081099</td>\n",
       "      <td>0.052322</td>\n",
       "      <td>2.375493e+05</td>\n",
       "      <td>0.564634</td>\n",
       "      <td>4.050703e+05</td>\n",
       "      <td>0.564634</td>\n",
       "    </tr>\n",
       "    <tr>\n",
       "      <th>min</th>\n",
       "      <td>7682.500000</td>\n",
       "      <td>37.810800</td>\n",
       "      <td>0.081200</td>\n",
       "      <td>1.863100</td>\n",
       "      <td>0.055100</td>\n",
       "      <td>1.076985e-02</td>\n",
       "      <td>0.000000</td>\n",
       "      <td>5.128205e+02</td>\n",
       "      <td>0.000000</td>\n",
       "    </tr>\n",
       "    <tr>\n",
       "      <th>25%</th>\n",
       "      <td>8608.125000</td>\n",
       "      <td>101.914675</td>\n",
       "      <td>0.877900</td>\n",
       "      <td>2.282625</td>\n",
       "      <td>0.166700</td>\n",
       "      <td>1.836431e+00</td>\n",
       "      <td>2.000000</td>\n",
       "      <td>7.322923e+05</td>\n",
       "      <td>2.000000</td>\n",
       "    </tr>\n",
       "    <tr>\n",
       "      <th>50%</th>\n",
       "      <td>9518.750000</td>\n",
       "      <td>112.481050</td>\n",
       "      <td>1.025900</td>\n",
       "      <td>2.347100</td>\n",
       "      <td>0.195400</td>\n",
       "      <td>6.885164e+00</td>\n",
       "      <td>2.000000</td>\n",
       "      <td>9.747539e+05</td>\n",
       "      <td>2.000000</td>\n",
       "    </tr>\n",
       "    <tr>\n",
       "      <th>75%</th>\n",
       "      <td>10430.875000</td>\n",
       "      <td>120.165375</td>\n",
       "      <td>1.365575</td>\n",
       "      <td>2.391600</td>\n",
       "      <td>0.237000</td>\n",
       "      <td>4.675485e+01</td>\n",
       "      <td>2.000000</td>\n",
       "      <td>1.139082e+06</td>\n",
       "      <td>2.000000</td>\n",
       "    </tr>\n",
       "    <tr>\n",
       "      <th>max</th>\n",
       "      <td>11357.000000</td>\n",
       "      <td>178.320800</td>\n",
       "      <td>1950.000000</td>\n",
       "      <td>2.564600</td>\n",
       "      <td>0.507700</td>\n",
       "      <td>1.211313e+07</td>\n",
       "      <td>2.000000</td>\n",
       "      <td>1.231527e+07</td>\n",
       "      <td>2.000000</td>\n",
       "    </tr>\n",
       "  </tbody>\n",
       "</table>\n",
       "</div>"
      ],
      "text/plain": [
       "              Depth           GR      Log_ILD         RHOB          PHI  \\\n",
       "count   7286.000000  7286.000000  7286.000000  7286.000000  7286.000000   \n",
       "mean    9517.276352   108.163436    16.647403     2.330201     0.206324   \n",
       "std     1056.427949    22.303899   167.046140     0.081099     0.052322   \n",
       "min     7682.500000    37.810800     0.081200     1.863100     0.055100   \n",
       "25%     8608.125000   101.914675     0.877900     2.282625     0.166700   \n",
       "50%     9518.750000   112.481050     1.025900     2.347100     0.195400   \n",
       "75%    10430.875000   120.165375     1.365575     2.391600     0.237000   \n",
       "max    11357.000000   178.320800  1950.000000     2.564600     0.507700   \n",
       "\n",
       "               PERM       Facies      velocity  Facies_code  \n",
       "count  7.286000e+03  7286.000000  7.286000e+03  7286.000000  \n",
       "mean   9.691201e+03     1.820615  9.447880e+05     1.820615  \n",
       "std    2.375493e+05     0.564634  4.050703e+05     0.564634  \n",
       "min    1.076985e-02     0.000000  5.128205e+02     0.000000  \n",
       "25%    1.836431e+00     2.000000  7.322923e+05     2.000000  \n",
       "50%    6.885164e+00     2.000000  9.747539e+05     2.000000  \n",
       "75%    4.675485e+01     2.000000  1.139082e+06     2.000000  \n",
       "max    1.211313e+07     2.000000  1.231527e+07     2.000000  "
      ]
     },
     "execution_count": 17,
     "metadata": {},
     "output_type": "execute_result"
    }
   ],
   "source": [
    "final.describe()"
   ]
  },
  {
   "cell_type": "code",
   "execution_count": 18,
   "id": "fa78287f",
   "metadata": {},
   "outputs": [
    {
     "data": {
      "text/plain": [
       "Depth          0\n",
       "GR             0\n",
       "Log_ILD        0\n",
       "RHOB           0\n",
       "PHI            0\n",
       "PERM           0\n",
       "Facies         0\n",
       "velocity       0\n",
       "Facies_code    0\n",
       "dtype: int64"
      ]
     },
     "execution_count": 18,
     "metadata": {},
     "output_type": "execute_result"
    }
   ],
   "source": [
    "final.isnull().sum()"
   ]
  },
  {
   "cell_type": "code",
   "execution_count": 19,
   "id": "d7232ef3",
   "metadata": {},
   "outputs": [
    {
     "data": {
      "text/plain": [
       "Depth          float64\n",
       "GR             float64\n",
       "Log_ILD        float64\n",
       "RHOB           float64\n",
       "PHI            float64\n",
       "PERM           float64\n",
       "Facies           int64\n",
       "velocity       float64\n",
       "Facies_code      int64\n",
       "dtype: object"
      ]
     },
     "execution_count": 19,
     "metadata": {},
     "output_type": "execute_result"
    }
   ],
   "source": [
    "final.dtypes"
   ]
  },
  {
   "cell_type": "code",
   "execution_count": 20,
   "id": "2087608c",
   "metadata": {},
   "outputs": [
    {
     "data": {
      "text/plain": [
       "LinearRegression()"
      ]
     },
     "execution_count": 20,
     "metadata": {},
     "output_type": "execute_result"
    },
    {
     "data": {
      "text/plain": [
       "array([ 3.48343703e+01,  1.30956469e+03,  2.12466121e+01, -3.42163370e+07,\n",
       "       -5.13579168e+07, -8.84813339e+03, -7.99167622e-03, -8.84813336e+03])"
      ]
     },
     "execution_count": 20,
     "metadata": {},
     "output_type": "execute_result"
    }
   ],
   "source": [
    "X = final.drop('PERM',axis='columns')\n",
    "y = final.PERM\n",
    "\n",
    "from sklearn.model_selection import train_test_split\n",
    "X_train, X_test, y_train, y_test = train_test_split(X,y,test_size=0.2)\n",
    "\n",
    "from sklearn import linear_model\n",
    "reg = linear_model.LinearRegression()\n",
    "reg.fit(X, y)\n",
    "\n",
    "reg.coef_"
   ]
  },
  {
   "cell_type": "code",
   "execution_count": 21,
   "id": "4b546321",
   "metadata": {},
   "outputs": [
    {
     "data": {
      "text/plain": [
       "RandomForestRegressor(max_depth=10, random_state=42)"
      ]
     },
     "execution_count": 21,
     "metadata": {},
     "output_type": "execute_result"
    },
    {
     "name": "stdout",
     "output_type": "stream",
     "text": [
      "[32.73666129]\n"
     ]
    }
   ],
   "source": [
    "from sklearn.ensemble import RandomForestRegressor\n",
    "\n",
    "# Load well log data\n",
    "\n",
    "# Define input features and target variable\n",
    "X = final[['Log_ILD', 'RHOB', 'velocity', 'GR', 'Facies', 'Depth']]\n",
    "y = final['PERM']\n",
    "\n",
    "# Split data into training and testing sets\n",
    "X_train, X_test, y_train, y_test = train_test_split(X, y, test_size=0.2, random_state=42)\n",
    "\n",
    "# Train a random forest regressor model\n",
    "rf = RandomForestRegressor(n_estimators=100, max_depth=10, random_state=42)\n",
    "rf.fit(X_train, y_train)\n",
    "\n",
    "# Make predictions on test data\n",
    "y_pred = rf.predict(X_test)\n",
    "\n",
    "# Calculate model performance metrics\n",
    "mae = np.mean(abs(y_test - y_pred))\n",
    "mse = np.mean((y_test - y_pred) ** 2)\n",
    "rmse = np.sqrt(mse)\n",
    "r2 = rf.score(X_test, y_test)\n",
    "\n",
    "# Make a prediction for new well log data\n",
    "new_data = pd.DataFrame({'Log_ILD': [2.5], 'RHOB': [2.3], 'velocity': [3.5], 'GR': [40], 'Facies': [1], 'Depth': [2000]})\n",
    "new_pp = rf.predict(new_data)\n",
    "\n",
    "print(new_pp)"
   ]
  },
  {
   "cell_type": "code",
   "execution_count": 22,
   "id": "3dd8cda7",
   "metadata": {},
   "outputs": [
    {
     "name": "stdout",
     "output_type": "stream",
     "text": [
      "0.989474148466471\n"
     ]
    }
   ],
   "source": [
    "print(r2)"
   ]
  },
  {
   "cell_type": "code",
   "execution_count": 34,
   "id": "6f7be9ef",
   "metadata": {},
   "outputs": [],
   "source": [
    "from sklearn.model_selection import train_test_split, GridSearchCV\n",
    "from sklearn.metrics import mean_squared_error\n",
    "from sklearn.ensemble import RandomForestRegressor\n",
    "from sklearn.svm import SVR\n",
    "from sklearn.tree import DecisionTreeRegressor\n",
    "from sklearn.neural_network import MLPRegressor\n",
    "from sklearn.pipeline import Pipeline\n",
    "from sklearn.pipeline import make_pipeline\n",
    "from sklearn.preprocessing import StandardScaler\n",
    "from sklearn.linear_model import LogisticRegression\n",
    "from sklearn.naive_bayes import GaussianNB\n",
    "from sklearn.naive_bayes import MultinomialNB"
   ]
  },
  {
   "cell_type": "code",
   "execution_count": 41,
   "id": "b7cbf0cc",
   "metadata": {},
   "outputs": [],
   "source": [
    "# Split data into training and testing sets\n",
    "X_train, X_test, y_train, y_test = train_test_split(X, y, test_size=0.2, random_state=42)\n",
    "\n",
    "# Define dictionary of models and their hyperparameters\n",
    "models = {\n",
    "    'svm': {\n",
    "        'model': make_pipeline(StandardScaler(), SVR()),\n",
    "        'params': {\n",
    "            'svr__kernel': ['linear', 'rbf', 'poly'],\n",
    "            'svr__C': [0.1, 1, 10],\n",
    "            'svr__gamma': ['scale', 'auto']\n",
    "        }\n",
    "    },\n",
    "    'random_forest': {\n",
    "        'model': RandomForestRegressor(),\n",
    "        'params': {\n",
    "            'n_estimators': [50, 100, 150],\n",
    "            'max_depth': [10, 20, 30]\n",
    "        }\n",
    "    },\n",
    "    'decision_tree': {\n",
    "        'model': DecisionTreeRegressor(),\n",
    "        'params': {\n",
    "            'max_depth': [5, 10, 15],\n",
    "            'min_samples_split': [2, 5, 10]\n",
    "        }\n",
    "    },\n",
    "    'neural_network': {\n",
    "        'model': MLPRegressor(),\n",
    "        'params': {\n",
    "            'hidden_layer_sizes': [(10,), (20,), (30,)],\n",
    "            'activation': ['relu', 'tanh', 'logistic']\n",
    "        }\n",
    "    }\n",
    "}"
   ]
  },
  {
   "cell_type": "code",
   "execution_count": 42,
   "id": "c56a8f48",
   "metadata": {
    "scrolled": false
   },
   "outputs": [
    {
     "data": {
      "text/plain": [
       "GridSearchCV(cv=5,\n",
       "             estimator=Pipeline(steps=[('standardscaler', StandardScaler()),\n",
       "                                       ('svr', SVR())]),\n",
       "             n_jobs=-1,\n",
       "             param_grid={'svr__C': [0.1, 1, 10],\n",
       "                         'svr__gamma': ['scale', 'auto'],\n",
       "                         'svr__kernel': ['linear', 'rbf', 'poly']})"
      ]
     },
     "execution_count": 42,
     "metadata": {},
     "output_type": "execute_result"
    },
    {
     "data": {
      "text/plain": [
       "GridSearchCV(cv=5, estimator=RandomForestRegressor(), n_jobs=-1,\n",
       "             param_grid={'max_depth': [10, 20, 30],\n",
       "                         'n_estimators': [50, 100, 150]})"
      ]
     },
     "execution_count": 42,
     "metadata": {},
     "output_type": "execute_result"
    },
    {
     "data": {
      "text/plain": [
       "GridSearchCV(cv=5, estimator=DecisionTreeRegressor(), n_jobs=-1,\n",
       "             param_grid={'max_depth': [5, 10, 15],\n",
       "                         'min_samples_split': [2, 5, 10]})"
      ]
     },
     "execution_count": 42,
     "metadata": {},
     "output_type": "execute_result"
    },
    {
     "data": {
      "text/plain": [
       "GridSearchCV(cv=5, estimator=MLPRegressor(), n_jobs=-1,\n",
       "             param_grid={'activation': ['relu', 'tanh', 'logistic'],\n",
       "                         'hidden_layer_sizes': [(10,), (20,), (30,)]})"
      ]
     },
     "execution_count": 42,
     "metadata": {},
     "output_type": "execute_result"
    },
    {
     "data": {
      "text/html": [
       "<div>\n",
       "<style scoped>\n",
       "    .dataframe tbody tr th:only-of-type {\n",
       "        vertical-align: middle;\n",
       "    }\n",
       "\n",
       "    .dataframe tbody tr th {\n",
       "        vertical-align: top;\n",
       "    }\n",
       "\n",
       "    .dataframe thead th {\n",
       "        text-align: right;\n",
       "    }\n",
       "</style>\n",
       "<table border=\"1\" class=\"dataframe\">\n",
       "  <thead>\n",
       "    <tr style=\"text-align: right;\">\n",
       "      <th></th>\n",
       "      <th>model</th>\n",
       "      <th>best_score</th>\n",
       "      <th>best_params</th>\n",
       "      <th>RMSE</th>\n",
       "      <th>R-squared</th>\n",
       "    </tr>\n",
       "  </thead>\n",
       "  <tbody>\n",
       "    <tr>\n",
       "      <th>0</th>\n",
       "      <td>svm</td>\n",
       "      <td>0.194956</td>\n",
       "      <td>{'svr__C': 10, 'svr__gamma': 'auto', 'svr__ker...</td>\n",
       "      <td>342696.203602</td>\n",
       "      <td>0.009621</td>\n",
       "    </tr>\n",
       "    <tr>\n",
       "      <th>1</th>\n",
       "      <td>random_forest</td>\n",
       "      <td>0.894961</td>\n",
       "      <td>{'max_depth': 10, 'n_estimators': 50}</td>\n",
       "      <td>33765.402774</td>\n",
       "      <td>0.990386</td>\n",
       "    </tr>\n",
       "    <tr>\n",
       "      <th>2</th>\n",
       "      <td>decision_tree</td>\n",
       "      <td>0.815132</td>\n",
       "      <td>{'max_depth': 15, 'min_samples_split': 5}</td>\n",
       "      <td>70732.333388</td>\n",
       "      <td>0.957809</td>\n",
       "    </tr>\n",
       "    <tr>\n",
       "      <th>3</th>\n",
       "      <td>neural_network</td>\n",
       "      <td>-0.004880</td>\n",
       "      <td>{'activation': 'logistic', 'hidden_layer_sizes...</td>\n",
       "      <td>344702.997457</td>\n",
       "      <td>-0.002012</td>\n",
       "    </tr>\n",
       "  </tbody>\n",
       "</table>\n",
       "</div>"
      ],
      "text/plain": [
       "            model  best_score  \\\n",
       "0             svm    0.194956   \n",
       "1   random_forest    0.894961   \n",
       "2   decision_tree    0.815132   \n",
       "3  neural_network   -0.004880   \n",
       "\n",
       "                                         best_params           RMSE  R-squared  \n",
       "0  {'svr__C': 10, 'svr__gamma': 'auto', 'svr__ker...  342696.203602   0.009621  \n",
       "1              {'max_depth': 10, 'n_estimators': 50}   33765.402774   0.990386  \n",
       "2          {'max_depth': 15, 'min_samples_split': 5}   70732.333388   0.957809  \n",
       "3  {'activation': 'logistic', 'hidden_layer_sizes...  344702.997457  -0.002012  "
      ]
     },
     "execution_count": 42,
     "metadata": {},
     "output_type": "execute_result"
    }
   ],
   "source": [
    "scores = []\n",
    "# Loop over each model and perform grid search with cross-validation to find best hyperparameters \n",
    "## scoring='neg_mean_squared_error'\n",
    "for model_name, model in models.items():\n",
    "    clf = GridSearchCV(model['model'], model['params'], cv=5, n_jobs=-1, return_train_score=False)\n",
    "    clf.fit(X_train, y_train)\n",
    "    best_params = clf.best_params_\n",
    "    \n",
    "    # Evaluate best model on test set\n",
    "    y_pred = clf.predict(X_test)\n",
    "    mse = mean_squared_error(y_test, y_pred)\n",
    "    rmse = np.sqrt(mse)\n",
    "    r2 = clf.score(X_test, y_test)\n",
    "    scores.append({\n",
    "        'model': model_name,\n",
    "        'best_score': clf.best_score_,\n",
    "        'best_params': best_params,\n",
    "        'RMSE': rmse,\n",
    "        'R-squared': r2\n",
    "    })\n",
    "    \n",
    "df = pd.DataFrame(scores,columns=['model', 'best_score', 'best_params', 'RMSE', 'R-squared'])\n",
    "df"
   ]
  },
  {
   "cell_type": "code",
   "execution_count": 45,
   "id": "d3f47d00",
   "metadata": {},
   "outputs": [
    {
     "data": {
      "text/plain": [
       "RandomForestRegressor(n_estimators=20)"
      ]
     },
     "execution_count": 45,
     "metadata": {},
     "output_type": "execute_result"
    },
    {
     "data": {
      "text/plain": [
       "0.9992408407421919"
      ]
     },
     "execution_count": 45,
     "metadata": {},
     "output_type": "execute_result"
    }
   ],
   "source": [
    "model = RandomForestRegressor(n_estimators = 20)\n",
    "model.fit(X_train, y_train)\n",
    "model.score(X_test, y_test)"
   ]
  },
  {
   "cell_type": "code",
   "execution_count": 12,
   "id": "9173f006",
   "metadata": {},
   "outputs": [
    {
     "ename": "NameError",
     "evalue": "name 'y_test' is not defined",
     "output_type": "error",
     "traceback": [
      "\u001b[1;31m---------------------------------------------------------------------------\u001b[0m",
      "\u001b[1;31mNameError\u001b[0m                                 Traceback (most recent call last)",
      "\u001b[1;32m~\\AppData\\Local\\Temp\\ipykernel_9856\\1290919211.py\u001b[0m in \u001b[0;36m<module>\u001b[1;34m\u001b[0m\n\u001b[0;32m      1\u001b[0m \u001b[1;32mfrom\u001b[0m \u001b[0msklearn\u001b[0m\u001b[1;33m.\u001b[0m\u001b[0mmetrics\u001b[0m \u001b[1;32mimport\u001b[0m \u001b[0mmean_absolute_error\u001b[0m\u001b[1;33m,\u001b[0m \u001b[0mmean_squared_error\u001b[0m\u001b[1;33m,\u001b[0m \u001b[0mr2_score\u001b[0m\u001b[1;33m\u001b[0m\u001b[1;33m\u001b[0m\u001b[0m\n\u001b[0;32m      2\u001b[0m \u001b[1;33m\u001b[0m\u001b[0m\n\u001b[1;32m----> 3\u001b[1;33m \u001b[0mmae\u001b[0m \u001b[1;33m=\u001b[0m \u001b[0mmean_absolute_error\u001b[0m\u001b[1;33m(\u001b[0m\u001b[0my_test\u001b[0m\u001b[1;33m,\u001b[0m \u001b[0my_pred\u001b[0m\u001b[1;33m)\u001b[0m\u001b[1;33m\u001b[0m\u001b[1;33m\u001b[0m\u001b[0m\n\u001b[0m\u001b[0;32m      4\u001b[0m \u001b[0mmse\u001b[0m \u001b[1;33m=\u001b[0m \u001b[0mmean_squared_error\u001b[0m\u001b[1;33m(\u001b[0m\u001b[0my_test\u001b[0m\u001b[1;33m,\u001b[0m \u001b[0my_pred\u001b[0m\u001b[1;33m)\u001b[0m\u001b[1;33m\u001b[0m\u001b[1;33m\u001b[0m\u001b[0m\n\u001b[0;32m      5\u001b[0m \u001b[0mr2\u001b[0m \u001b[1;33m=\u001b[0m \u001b[0mr2_score\u001b[0m\u001b[1;33m(\u001b[0m\u001b[0my_test\u001b[0m\u001b[1;33m,\u001b[0m \u001b[0my_pred\u001b[0m\u001b[1;33m)\u001b[0m\u001b[1;33m\u001b[0m\u001b[1;33m\u001b[0m\u001b[0m\n",
      "\u001b[1;31mNameError\u001b[0m: name 'y_test' is not defined"
     ]
    }
   ],
   "source": [
    "from sklearn.metrics import mean_absolute_error, mean_squared_error, r2_score\n",
    "\n",
    "mae = mean_absolute_error(y_test, y_pred)\n",
    "mse = mean_squared_error(y_test, y_pred)\n",
    "r2 = r2_score(y_test, y_pred)"
   ]
  },
  {
   "cell_type": "markdown",
   "id": "7c3db757",
   "metadata": {},
   "source": [
    "save model"
   ]
  },
  {
   "cell_type": "code",
   "execution_count": 46,
   "id": "ba852b17",
   "metadata": {},
   "outputs": [],
   "source": [
    "import pickle"
   ]
  },
  {
   "cell_type": "code",
   "execution_count": 47,
   "id": "f6f41ab3",
   "metadata": {},
   "outputs": [],
   "source": [
    "with open('model_pickle', 'wb') as file:\n",
    "    pickle.dump(model,file)"
   ]
  },
  {
   "cell_type": "markdown",
   "id": "2407a680",
   "metadata": {},
   "source": [
    "load model"
   ]
  },
  {
   "cell_type": "code",
   "execution_count": null,
   "id": "3eaf6692",
   "metadata": {},
   "outputs": [],
   "source": [
    "with open('model_pickle', 'rb') as file:\n",
    "    mp = pickle.load(file)"
   ]
  }
 ],
 "metadata": {
  "kernelspec": {
   "display_name": "Python 3 (ipykernel)",
   "language": "python",
   "name": "python3"
  },
  "language_info": {
   "codemirror_mode": {
    "name": "ipython",
    "version": 3
   },
   "file_extension": ".py",
   "mimetype": "text/x-python",
   "name": "python",
   "nbconvert_exporter": "python",
   "pygments_lexer": "ipython3",
   "version": "3.9.13"
  }
 },
 "nbformat": 4,
 "nbformat_minor": 5
}
