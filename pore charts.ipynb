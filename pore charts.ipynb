{
 "cells": [
  {
   "cell_type": "code",
   "execution_count": 1,
   "id": "f7e4762e",
   "metadata": {},
   "outputs": [],
   "source": [
    "from sklearn.linear_model import LassoCV"
   ]
  },
  {
   "cell_type": "code",
   "execution_count": null,
   "id": "dd38fe3b",
   "metadata": {},
   "outputs": [],
   "source": []
  },
  {
   "cell_type": "code",
   "execution_count": null,
   "id": "866f581d",
   "metadata": {},
   "outputs": [],
   "source": [
    "X = df1[['Depth', 'GR', 'Log_ILD', 'RHOB', 'NPHI', 'PHI', 'PERM', 'well', 'formation_factor', 'swirr', 'permeability']]\n",
    "y = df1['PERM']"
   ]
  },
  {
   "cell_type": "code",
   "execution_count": null,
   "id": "cac215b6",
   "metadata": {},
   "outputs": [],
   "source": [
    "from sklearn.linear_model import LassoCV\n",
    "\n",
    "reg = LassoCV(alphas=[0.1, 1, 10])\n",
    "reg.fit(X, y)\n",
    "\n",
    "# Retrieve the selected variables and their coefficients\n",
    "coef = pd.Series(reg.coef_, index=X.columns)\n",
    "\n",
    "# Print the selected variables and their coefficients\n",
    "selected_variables = coef[coef != 0]\n",
    "print(selected_variables)"
   ]
  },
  {
   "cell_type": "code",
   "execution_count": null,
   "id": "9f8624dd",
   "metadata": {},
   "outputs": [],
   "source": [
    "reg = LassoCV()\n",
    "reg.fit(X, y)\n",
    "print(\"Best alpha using built-in LassoCV: %f\" % reg.alpha_)\n",
    "print(\"Best score using built-in LassoCV: %f\" %reg.score(X,y))\n",
    "coef = pd.Series(reg.coef_, index = X.columns)"
   ]
  },
  {
   "cell_type": "code",
   "execution_count": null,
   "id": "46c28b27",
   "metadata": {},
   "outputs": [],
   "source": []
  },
  {
   "cell_type": "code",
   "execution_count": null,
   "id": "6c8cd69d",
   "metadata": {},
   "outputs": [],
   "source": []
  },
  {
   "cell_type": "code",
   "execution_count": null,
   "id": "102dc5c9",
   "metadata": {},
   "outputs": [],
   "source": []
  }
 ],
 "metadata": {
  "kernelspec": {
   "display_name": "Python 3 (ipykernel)",
   "language": "python",
   "name": "python3"
  },
  "language_info": {
   "codemirror_mode": {
    "name": "ipython",
    "version": 3
   },
   "file_extension": ".py",
   "mimetype": "text/x-python",
   "name": "python",
   "nbconvert_exporter": "python",
   "pygments_lexer": "ipython3",
   "version": "3.9.13"
  }
 },
 "nbformat": 4,
 "nbformat_minor": 5
}
