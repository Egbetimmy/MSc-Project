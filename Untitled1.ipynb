{
 "cells": [
  {
   "cell_type": "code",
   "execution_count": 1,
   "id": "d64bdcf5",
   "metadata": {},
   "outputs": [],
   "source": [
    "import pandas as pd\n",
    "import lasio"
   ]
  },
  {
   "cell_type": "code",
   "execution_count": 3,
   "id": "1511a617",
   "metadata": {},
   "outputs": [],
   "source": [
    "las1 = lasio.read('data/Freeman-004-ST1.las')\n",
    "well1 = las1.df()\n",
    "well2 = well1.reset_index()\n",
    "\n",
    "las_1 = lasio.read('data/Freeman_003ST1.las')\n",
    "well_1 = las_1.df()\n",
    "well_2 = well_1.reset_index()"
   ]
  },
  {
   "cell_type": "code",
   "execution_count": 4,
   "id": "bc580a72",
   "metadata": {},
   "outputs": [],
   "source": [
    "# combine the two dataframes into a new dataframe\n",
    "df_new = pd.concat([well2, well_2], axis=0)\n",
    "\n",
    "# write the new dataframe to a csv file\n",
    "df_new.to_csv(\"combined_file.csv\", index=False)"
   ]
  },
  {
   "cell_type": "code",
   "execution_count": 5,
   "id": "02c21c97",
   "metadata": {},
   "outputs": [
    {
     "data": {
      "text/html": [
       "<div>\n",
       "<style scoped>\n",
       "    .dataframe tbody tr th:only-of-type {\n",
       "        vertical-align: middle;\n",
       "    }\n",
       "\n",
       "    .dataframe tbody tr th {\n",
       "        vertical-align: top;\n",
       "    }\n",
       "\n",
       "    .dataframe thead th {\n",
       "        text-align: right;\n",
       "    }\n",
       "</style>\n",
       "<table border=\"1\" class=\"dataframe\">\n",
       "  <thead>\n",
       "    <tr style=\"text-align: right;\">\n",
       "      <th></th>\n",
       "      <th>DEPT</th>\n",
       "      <th>DEN</th>\n",
       "      <th>DT</th>\n",
       "      <th>GR</th>\n",
       "      <th>NEUT</th>\n",
       "      <th>RES_DEP</th>\n",
       "      <th>NEU</th>\n",
       "    </tr>\n",
       "  </thead>\n",
       "  <tbody>\n",
       "    <tr>\n",
       "      <th>0</th>\n",
       "      <td>7564.5</td>\n",
       "      <td>2.2382</td>\n",
       "      <td>137.507</td>\n",
       "      <td>NaN</td>\n",
       "      <td>NaN</td>\n",
       "      <td>NaN</td>\n",
       "      <td>NaN</td>\n",
       "    </tr>\n",
       "    <tr>\n",
       "      <th>1</th>\n",
       "      <td>7565.0</td>\n",
       "      <td>2.2382</td>\n",
       "      <td>137.507</td>\n",
       "      <td>NaN</td>\n",
       "      <td>NaN</td>\n",
       "      <td>NaN</td>\n",
       "      <td>NaN</td>\n",
       "    </tr>\n",
       "    <tr>\n",
       "      <th>2</th>\n",
       "      <td>7565.5</td>\n",
       "      <td>2.2382</td>\n",
       "      <td>137.507</td>\n",
       "      <td>NaN</td>\n",
       "      <td>NaN</td>\n",
       "      <td>NaN</td>\n",
       "      <td>NaN</td>\n",
       "    </tr>\n",
       "    <tr>\n",
       "      <th>3</th>\n",
       "      <td>7566.0</td>\n",
       "      <td>2.2382</td>\n",
       "      <td>137.507</td>\n",
       "      <td>NaN</td>\n",
       "      <td>NaN</td>\n",
       "      <td>NaN</td>\n",
       "      <td>NaN</td>\n",
       "    </tr>\n",
       "    <tr>\n",
       "      <th>4</th>\n",
       "      <td>7566.5</td>\n",
       "      <td>2.2382</td>\n",
       "      <td>137.507</td>\n",
       "      <td>NaN</td>\n",
       "      <td>NaN</td>\n",
       "      <td>NaN</td>\n",
       "      <td>NaN</td>\n",
       "    </tr>\n",
       "  </tbody>\n",
       "</table>\n",
       "</div>"
      ],
      "text/plain": [
       "     DEPT     DEN       DT  GR  NEUT  RES_DEP  NEU\n",
       "0  7564.5  2.2382  137.507 NaN   NaN      NaN  NaN\n",
       "1  7565.0  2.2382  137.507 NaN   NaN      NaN  NaN\n",
       "2  7565.5  2.2382  137.507 NaN   NaN      NaN  NaN\n",
       "3  7566.0  2.2382  137.507 NaN   NaN      NaN  NaN\n",
       "4  7566.5  2.2382  137.507 NaN   NaN      NaN  NaN"
      ]
     },
     "execution_count": 5,
     "metadata": {},
     "output_type": "execute_result"
    }
   ],
   "source": [
    "df_new.head()"
   ]
  },
  {
   "cell_type": "code",
   "execution_count": 7,
   "id": "e5bbeba1",
   "metadata": {},
   "outputs": [
    {
     "name": "stdout",
     "output_type": "stream",
     "text": [
      "(15800, 7)\n"
     ]
    }
   ],
   "source": [
    "print(df_new.shape)"
   ]
  },
  {
   "cell_type": "code",
   "execution_count": 8,
   "id": "af9e3658",
   "metadata": {},
   "outputs": [],
   "source": [
    "# Assuming your well data is in a pandas DataFrame called 'well_data'\n",
    "# Filter the well data to only include sandstone with gamma ray values less than 75\n",
    "df = df_new[(df_new['GR'] < 75)]"
   ]
  },
  {
   "cell_type": "code",
   "execution_count": 9,
   "id": "797c1c95",
   "metadata": {},
   "outputs": [
    {
     "name": "stdout",
     "output_type": "stream",
     "text": [
      "(1918, 7)\n"
     ]
    }
   ],
   "source": [
    "print(df.shape)"
   ]
  },
  {
   "cell_type": "code",
   "execution_count": 10,
   "id": "d391fa73",
   "metadata": {},
   "outputs": [],
   "source": [
    "# write the new dataframe to a csv file\n",
    "df.to_csv(\"combined_file_sand.csv\", index=False)"
   ]
  },
  {
   "cell_type": "code",
   "execution_count": null,
   "id": "48a3b162",
   "metadata": {},
   "outputs": [],
   "source": []
  }
 ],
 "metadata": {
  "kernelspec": {
   "display_name": "Python 3 (ipykernel)",
   "language": "python",
   "name": "python3"
  },
  "language_info": {
   "codemirror_mode": {
    "name": "ipython",
    "version": 3
   },
   "file_extension": ".py",
   "mimetype": "text/x-python",
   "name": "python",
   "nbconvert_exporter": "python",
   "pygments_lexer": "ipython3",
   "version": "3.9.13"
  }
 },
 "nbformat": 4,
 "nbformat_minor": 5
}
