{
 "cells": [
  {
   "cell_type": "code",
   "execution_count": 13,
   "id": "81af6440",
   "metadata": {},
   "outputs": [
    {
     "name": "stderr",
     "output_type": "stream",
     "text": [
      "Enabling notebook extension jupyter-js-widgets/extension...\n",
      "      - Validating: ok\n"
     ]
    }
   ],
   "source": [
    "!jupyter nbextension enable --py widgetsnbextension"
   ]
  },
  {
   "cell_type": "code",
   "execution_count": 14,
   "id": "f60d4ff6",
   "metadata": {},
   "outputs": [
    {
     "data": {
      "text/html": [
       "        <script type=\"text/javascript\">\n",
       "        window.PlotlyConfig = {MathJaxConfig: 'local'};\n",
       "        if (window.MathJax && window.MathJax.Hub && window.MathJax.Hub.Config) {window.MathJax.Hub.Config({SVG: {font: \"STIX-Web\"}});}\n",
       "        if (typeof require !== 'undefined') {\n",
       "        require.undef(\"plotly\");\n",
       "        requirejs.config({\n",
       "            paths: {\n",
       "                'plotly': ['https://cdn.plot.ly/plotly-2.12.1.min']\n",
       "            }\n",
       "        });\n",
       "        require(['plotly'], function(Plotly) {\n",
       "            window._Plotly = Plotly;\n",
       "        });\n",
       "        }\n",
       "        </script>\n",
       "        "
      ]
     },
     "metadata": {},
     "output_type": "display_data"
    },
    {
     "data": {
      "text/html": [
       "        <script type=\"text/javascript\">\n",
       "        window.PlotlyConfig = {MathJaxConfig: 'local'};\n",
       "        if (window.MathJax && window.MathJax.Hub && window.MathJax.Hub.Config) {window.MathJax.Hub.Config({SVG: {font: \"STIX-Web\"}});}\n",
       "        if (typeof require !== 'undefined') {\n",
       "        require.undef(\"plotly\");\n",
       "        requirejs.config({\n",
       "            paths: {\n",
       "                'plotly': ['https://cdn.plot.ly/plotly-2.12.1.min']\n",
       "            }\n",
       "        });\n",
       "        require(['plotly'], function(Plotly) {\n",
       "            window._Plotly = Plotly;\n",
       "        });\n",
       "        }\n",
       "        </script>\n",
       "        "
      ]
     },
     "metadata": {},
     "output_type": "display_data"
    }
   ],
   "source": [
    "import numpy as np\n",
    "import pandas as pd\n",
    "import scipy\n",
    "\n",
    "# Instansiate the Plotly charting library.\n",
    "import chart_studio.plotly as py\n",
    "import plotly.graph_objs as go\n",
    "import plotly.express as px\n",
    "# We use plotly.offline as this allows us to create interactive \n",
    "# visualisations without the use of an internet connection, \n",
    "# making our notebook more distributable to others. \n",
    "from plotly.offline import iplot, init_notebook_mode\n",
    "init_notebook_mode(connected=True)\n",
    "\n",
    "# The Cufflinks library allows us to directly bind \n",
    "# Pandas dataframes to Plotly charts. \n",
    "import cufflinks as cf\n",
    "# Once again we use the Cufflinks library in offline mode. \n",
    "cf.go_offline(connected=True)\n",
    "cf.set_config_file(colorscale='plotly', world_readable=True)\n",
    "\n",
    "# Extra options. We use these to make our interactive \n",
    "# visualisations more aesthetically appealing. \n",
    "from IPython.core.display import HTML\n",
    "pd.options.display.max_rows = 30\n",
    "pd.options.display.max_columns = 25\n",
    "\n",
    "# Show all code cells outputs\n",
    "from IPython.core.interactiveshell import InteractiveShell\n",
    "InteractiveShell.ast_node_interactivity = 'all'\n",
    "\n",
    "from ipywidgets import interact, interact_manual, widgets"
   ]
  },
  {
   "cell_type": "code",
   "execution_count": 15,
   "id": "9ab2424e",
   "metadata": {},
   "outputs": [],
   "source": [
    "df = pd.read_csv('data/freeman_well_4_eng.csv')"
   ]
  },
  {
   "cell_type": "code",
   "execution_count": 17,
   "id": "14bc1e7e",
   "metadata": {},
   "outputs": [
    {
     "data": {
      "text/html": [
       "<div>\n",
       "<style scoped>\n",
       "    .dataframe tbody tr th:only-of-type {\n",
       "        vertical-align: middle;\n",
       "    }\n",
       "\n",
       "    .dataframe tbody tr th {\n",
       "        vertical-align: top;\n",
       "    }\n",
       "\n",
       "    .dataframe thead th {\n",
       "        text-align: right;\n",
       "    }\n",
       "</style>\n",
       "<table border=\"1\" class=\"dataframe\">\n",
       "  <thead>\n",
       "    <tr style=\"text-align: right;\">\n",
       "      <th></th>\n",
       "      <th>Depth</th>\n",
       "      <th>GR</th>\n",
       "      <th>Log_ILD</th>\n",
       "      <th>DT</th>\n",
       "      <th>RHOB</th>\n",
       "      <th>NPHI</th>\n",
       "      <th>PHI</th>\n",
       "      <th>PERM</th>\n",
       "      <th>Facies</th>\n",
       "      <th>velocity</th>\n",
       "      <th>Facies_code</th>\n",
       "    </tr>\n",
       "  </thead>\n",
       "  <tbody>\n",
       "    <tr>\n",
       "      <th>0</th>\n",
       "      <td>7682.5</td>\n",
       "      <td>39.0321</td>\n",
       "      <td>0.9332</td>\n",
       "      <td>137.507</td>\n",
       "      <td>2.2382</td>\n",
       "      <td>0.5983</td>\n",
       "      <td>0.2657</td>\n",
       "      <td>175.29364</td>\n",
       "      <td>1.0</td>\n",
       "      <td>1.071582e+06</td>\n",
       "      <td>0</td>\n",
       "    </tr>\n",
       "    <tr>\n",
       "      <th>1</th>\n",
       "      <td>7683.0</td>\n",
       "      <td>39.0321</td>\n",
       "      <td>0.9332</td>\n",
       "      <td>137.507</td>\n",
       "      <td>2.2382</td>\n",
       "      <td>0.5983</td>\n",
       "      <td>0.2657</td>\n",
       "      <td>175.29364</td>\n",
       "      <td>1.0</td>\n",
       "      <td>1.071582e+06</td>\n",
       "      <td>0</td>\n",
       "    </tr>\n",
       "    <tr>\n",
       "      <th>2</th>\n",
       "      <td>7683.5</td>\n",
       "      <td>39.0321</td>\n",
       "      <td>0.9332</td>\n",
       "      <td>137.507</td>\n",
       "      <td>2.2382</td>\n",
       "      <td>0.5983</td>\n",
       "      <td>0.2657</td>\n",
       "      <td>175.29364</td>\n",
       "      <td>1.0</td>\n",
       "      <td>1.071582e+06</td>\n",
       "      <td>0</td>\n",
       "    </tr>\n",
       "    <tr>\n",
       "      <th>3</th>\n",
       "      <td>7684.0</td>\n",
       "      <td>39.0321</td>\n",
       "      <td>0.9332</td>\n",
       "      <td>137.507</td>\n",
       "      <td>2.2382</td>\n",
       "      <td>0.5983</td>\n",
       "      <td>0.2657</td>\n",
       "      <td>175.29364</td>\n",
       "      <td>1.0</td>\n",
       "      <td>1.071582e+06</td>\n",
       "      <td>0</td>\n",
       "    </tr>\n",
       "    <tr>\n",
       "      <th>4</th>\n",
       "      <td>7684.5</td>\n",
       "      <td>39.0321</td>\n",
       "      <td>0.9332</td>\n",
       "      <td>137.507</td>\n",
       "      <td>2.2382</td>\n",
       "      <td>0.5983</td>\n",
       "      <td>0.2657</td>\n",
       "      <td>175.29364</td>\n",
       "      <td>1.0</td>\n",
       "      <td>1.071582e+06</td>\n",
       "      <td>0</td>\n",
       "    </tr>\n",
       "  </tbody>\n",
       "</table>\n",
       "</div>"
      ],
      "text/plain": [
       "    Depth       GR  Log_ILD       DT    RHOB    NPHI     PHI       PERM  \\\n",
       "0  7682.5  39.0321   0.9332  137.507  2.2382  0.5983  0.2657  175.29364   \n",
       "1  7683.0  39.0321   0.9332  137.507  2.2382  0.5983  0.2657  175.29364   \n",
       "2  7683.5  39.0321   0.9332  137.507  2.2382  0.5983  0.2657  175.29364   \n",
       "3  7684.0  39.0321   0.9332  137.507  2.2382  0.5983  0.2657  175.29364   \n",
       "4  7684.5  39.0321   0.9332  137.507  2.2382  0.5983  0.2657  175.29364   \n",
       "\n",
       "   Facies      velocity  Facies_code  \n",
       "0     1.0  1.071582e+06            0  \n",
       "1     1.0  1.071582e+06            0  \n",
       "2     1.0  1.071582e+06            0  \n",
       "3     1.0  1.071582e+06            0  \n",
       "4     1.0  1.071582e+06            0  "
      ]
     },
     "execution_count": 17,
     "metadata": {},
     "output_type": "execute_result"
    }
   ],
   "source": [
    "df.head()"
   ]
  },
  {
   "cell_type": "code",
   "execution_count": 18,
   "id": "0aff7478",
   "metadata": {},
   "outputs": [
    {
     "data": {
      "text/html": [
       "<div>\n",
       "<style scoped>\n",
       "    .dataframe tbody tr th:only-of-type {\n",
       "        vertical-align: middle;\n",
       "    }\n",
       "\n",
       "    .dataframe tbody tr th {\n",
       "        vertical-align: top;\n",
       "    }\n",
       "\n",
       "    .dataframe thead th {\n",
       "        text-align: right;\n",
       "    }\n",
       "</style>\n",
       "<table border=\"1\" class=\"dataframe\">\n",
       "  <thead>\n",
       "    <tr style=\"text-align: right;\">\n",
       "      <th></th>\n",
       "      <th>Depth</th>\n",
       "      <th>GR</th>\n",
       "      <th>Log_ILD</th>\n",
       "      <th>DT</th>\n",
       "      <th>RHOB</th>\n",
       "      <th>NPHI</th>\n",
       "      <th>PHI</th>\n",
       "      <th>PERM</th>\n",
       "      <th>Facies</th>\n",
       "      <th>velocity</th>\n",
       "      <th>Facies_code</th>\n",
       "    </tr>\n",
       "  </thead>\n",
       "  <tbody>\n",
       "    <tr>\n",
       "      <th>count</th>\n",
       "      <td>7286.000000</td>\n",
       "      <td>7286.000000</td>\n",
       "      <td>7286.000000</td>\n",
       "      <td>7286.000000</td>\n",
       "      <td>7286.000000</td>\n",
       "      <td>7286.000000</td>\n",
       "      <td>7286.000000</td>\n",
       "      <td>7.286000e+03</td>\n",
       "      <td>7286.000000</td>\n",
       "      <td>7.286000e+03</td>\n",
       "      <td>7286.000000</td>\n",
       "    </tr>\n",
       "    <tr>\n",
       "      <th>mean</th>\n",
       "      <td>9517.276352</td>\n",
       "      <td>108.163436</td>\n",
       "      <td>16.647403</td>\n",
       "      <td>117.850574</td>\n",
       "      <td>2.330201</td>\n",
       "      <td>0.423016</td>\n",
       "      <td>0.206324</td>\n",
       "      <td>9.691201e+03</td>\n",
       "      <td>2.820615</td>\n",
       "      <td>9.447880e+05</td>\n",
       "      <td>1.820615</td>\n",
       "    </tr>\n",
       "    <tr>\n",
       "      <th>std</th>\n",
       "      <td>1056.427949</td>\n",
       "      <td>22.303899</td>\n",
       "      <td>167.046140</td>\n",
       "      <td>11.625088</td>\n",
       "      <td>0.081099</td>\n",
       "      <td>0.065935</td>\n",
       "      <td>0.052322</td>\n",
       "      <td>2.375493e+05</td>\n",
       "      <td>0.564634</td>\n",
       "      <td>4.050703e+05</td>\n",
       "      <td>0.564634</td>\n",
       "    </tr>\n",
       "    <tr>\n",
       "      <th>min</th>\n",
       "      <td>7682.500000</td>\n",
       "      <td>37.810800</td>\n",
       "      <td>0.081200</td>\n",
       "      <td>84.811200</td>\n",
       "      <td>1.863100</td>\n",
       "      <td>0.099500</td>\n",
       "      <td>0.055100</td>\n",
       "      <td>1.076985e-02</td>\n",
       "      <td>1.000000</td>\n",
       "      <td>5.128205e+02</td>\n",
       "      <td>0.000000</td>\n",
       "    </tr>\n",
       "    <tr>\n",
       "      <th>25%</th>\n",
       "      <td>8608.125000</td>\n",
       "      <td>101.914675</td>\n",
       "      <td>0.877900</td>\n",
       "      <td>108.402500</td>\n",
       "      <td>2.282625</td>\n",
       "      <td>0.384900</td>\n",
       "      <td>0.166700</td>\n",
       "      <td>1.836431e+00</td>\n",
       "      <td>3.000000</td>\n",
       "      <td>7.322923e+05</td>\n",
       "      <td>2.000000</td>\n",
       "    </tr>\n",
       "    <tr>\n",
       "      <th>50%</th>\n",
       "      <td>9518.750000</td>\n",
       "      <td>112.481050</td>\n",
       "      <td>1.025900</td>\n",
       "      <td>114.944650</td>\n",
       "      <td>2.347100</td>\n",
       "      <td>0.422100</td>\n",
       "      <td>0.195400</td>\n",
       "      <td>6.885164e+00</td>\n",
       "      <td>3.000000</td>\n",
       "      <td>9.747539e+05</td>\n",
       "      <td>2.000000</td>\n",
       "    </tr>\n",
       "    <tr>\n",
       "      <th>75%</th>\n",
       "      <td>10430.875000</td>\n",
       "      <td>120.165375</td>\n",
       "      <td>1.365575</td>\n",
       "      <td>127.965500</td>\n",
       "      <td>2.391600</td>\n",
       "      <td>0.461475</td>\n",
       "      <td>0.237000</td>\n",
       "      <td>4.675485e+01</td>\n",
       "      <td>3.000000</td>\n",
       "      <td>1.139082e+06</td>\n",
       "      <td>2.000000</td>\n",
       "    </tr>\n",
       "    <tr>\n",
       "      <th>max</th>\n",
       "      <td>11357.000000</td>\n",
       "      <td>178.320800</td>\n",
       "      <td>1950.000000</td>\n",
       "      <td>158.538400</td>\n",
       "      <td>2.564600</td>\n",
       "      <td>0.656900</td>\n",
       "      <td>0.507700</td>\n",
       "      <td>1.211313e+07</td>\n",
       "      <td>3.000000</td>\n",
       "      <td>1.231527e+07</td>\n",
       "      <td>2.000000</td>\n",
       "    </tr>\n",
       "  </tbody>\n",
       "</table>\n",
       "</div>"
      ],
      "text/plain": [
       "              Depth           GR      Log_ILD           DT         RHOB  \\\n",
       "count   7286.000000  7286.000000  7286.000000  7286.000000  7286.000000   \n",
       "mean    9517.276352   108.163436    16.647403   117.850574     2.330201   \n",
       "std     1056.427949    22.303899   167.046140    11.625088     0.081099   \n",
       "min     7682.500000    37.810800     0.081200    84.811200     1.863100   \n",
       "25%     8608.125000   101.914675     0.877900   108.402500     2.282625   \n",
       "50%     9518.750000   112.481050     1.025900   114.944650     2.347100   \n",
       "75%    10430.875000   120.165375     1.365575   127.965500     2.391600   \n",
       "max    11357.000000   178.320800  1950.000000   158.538400     2.564600   \n",
       "\n",
       "              NPHI          PHI          PERM       Facies      velocity  \\\n",
       "count  7286.000000  7286.000000  7.286000e+03  7286.000000  7.286000e+03   \n",
       "mean      0.423016     0.206324  9.691201e+03     2.820615  9.447880e+05   \n",
       "std       0.065935     0.052322  2.375493e+05     0.564634  4.050703e+05   \n",
       "min       0.099500     0.055100  1.076985e-02     1.000000  5.128205e+02   \n",
       "25%       0.384900     0.166700  1.836431e+00     3.000000  7.322923e+05   \n",
       "50%       0.422100     0.195400  6.885164e+00     3.000000  9.747539e+05   \n",
       "75%       0.461475     0.237000  4.675485e+01     3.000000  1.139082e+06   \n",
       "max       0.656900     0.507700  1.211313e+07     3.000000  1.231527e+07   \n",
       "\n",
       "       Facies_code  \n",
       "count  7286.000000  \n",
       "mean      1.820615  \n",
       "std       0.564634  \n",
       "min       0.000000  \n",
       "25%       2.000000  \n",
       "50%       2.000000  \n",
       "75%       2.000000  \n",
       "max       2.000000  "
      ]
     },
     "execution_count": 18,
     "metadata": {},
     "output_type": "execute_result"
    }
   ],
   "source": [
    "df.describe()"
   ]
  },
  {
   "cell_type": "code",
   "execution_count": 19,
   "id": "921d5aaf",
   "metadata": {},
   "outputs": [],
   "source": [
    "from sklearn import preprocessing\n",
    "from sklearn import utils\n",
    "lab_enc = preprocessing.LabelEncoder()"
   ]
  },
  {
   "cell_type": "code",
   "execution_count": 20,
   "id": "9e864633",
   "metadata": {},
   "outputs": [
    {
     "data": {
      "text/plain": [
       "7286"
      ]
     },
     "execution_count": 20,
     "metadata": {},
     "output_type": "execute_result"
    }
   ],
   "source": [
    "df['Facies'].count()"
   ]
  },
  {
   "cell_type": "code",
   "execution_count": 21,
   "id": "abd0f480",
   "metadata": {},
   "outputs": [],
   "source": [
    "df['Facies']= lab_enc.fit_transform(df['Facies'])"
   ]
  },
  {
   "cell_type": "code",
   "execution_count": 22,
   "id": "e02b5b5d",
   "metadata": {},
   "outputs": [
    {
     "data": {
      "text/plain": [
       "array([0, 1, 2], dtype=int64)"
      ]
     },
     "execution_count": 22,
     "metadata": {},
     "output_type": "execute_result"
    }
   ],
   "source": [
    "df['Facies'].unique()"
   ]
  },
  {
   "cell_type": "code",
   "execution_count": 23,
   "id": "9586ac73",
   "metadata": {},
   "outputs": [
    {
     "data": {
      "application/vnd.jupyter.widget-view+json": {
       "model_id": "c0d64e1492bd4c28a36ddd3832f99776",
       "version_major": 2,
       "version_minor": 0
      },
      "text/plain": [
       "interactive(children=(Dropdown(description='column1', options=('Depth', 'GR', 'Log_ILD', 'DT', 'RHOB', 'NPHI',…"
      ]
     },
     "metadata": {},
     "output_type": "display_data"
    }
   ],
   "source": [
    "@interact\n",
    "def correlations(column1=list(df.select_dtypes('number').columns), \n",
    "                 column2=list(df.select_dtypes('number').columns)):\n",
    "    print(f\"Correlation: {df[column1].corr(df[column2])}\")"
   ]
  },
  {
   "cell_type": "code",
   "execution_count": 24,
   "id": "fe13456e",
   "metadata": {},
   "outputs": [
    {
     "data": {
      "application/vnd.jupyter.widget-view+json": {
       "model_id": "3bd3b75265704a25af323431b6776e51",
       "version_major": 2,
       "version_minor": 0
      },
      "text/plain": [
       "interactive(children=(Dropdown(description='x', options=('Depth', 'GR', 'Log_ILD', 'DT', 'RHOB', 'NPHI', 'PHI'…"
      ]
     },
     "metadata": {},
     "output_type": "display_data"
    }
   ],
   "source": [
    "@interact\n",
    "def scatter_plot(x=list(df.select_dtypes('number').columns), \n",
    "                 y=list(df.select_dtypes('number').columns)[1:]):\n",
    "    if x == y:\n",
    "        print(f\"Please select seperate variables for X and Y\")\n",
    "    else:\n",
    "        df.iplot(kind='scatter', x=x, y=y, mode='markers', \n",
    "                 xTitle=x.title(), yTitle=y.title(), title=f'{y.title()} vs {x.title()}')\n",
    "        ## if you are using Google Colab, comment out the above line of code and uncomment the lines below\n",
    "        #fig = px.scatter(df, x=x, y=y, title=f'{y.title()} vs {x.title()}')\n",
    "        #fig.show(renderer=\"colab\")"
   ]
  },
  {
   "cell_type": "code",
   "execution_count": 25,
   "id": "23ded5be",
   "metadata": {},
   "outputs": [
    {
     "data": {
      "application/vnd.jupyter.widget-view+json": {
       "model_id": "51db717a519a4a51adf7c7a786d6bdfb",
       "version_major": 2,
       "version_minor": 0
      },
      "text/plain": [
       "interactive(children=(Dropdown(description='colorscale', options=('Greys', 'YlGnBu', 'Greens', 'YlOrRd', 'Blue…"
      ]
     },
     "metadata": {},
     "output_type": "display_data"
    }
   ],
   "source": [
    "cscales = ['Greys', 'YlGnBu', 'Greens', 'YlOrRd', 'Bluered', 'RdBu',\n",
    "            'Reds', 'Blues', 'Picnic', 'Rainbow', 'Portland', 'Jet',\n",
    "            'Hot', 'Blackbody', 'Earth', 'Electric', 'Viridis', 'Cividis']\n",
    "\n",
    "# We use the Figure Factory module of Plotly, which\n",
    "# defines many unique and powerful plots to be used\n",
    "# in Python. \n",
    "# For more info, see: https://plot.ly/python/figure-factory-subplots/\n",
    "import plotly.figure_factory as ff\n",
    "\n",
    "corrs = df.corr()\n",
    "\n",
    "@interact\n",
    "def plot_corrs(colorscale=cscales):\n",
    "    figure = ff.create_annotated_heatmap(z = corrs.round(2).values, \n",
    "                                     x =list(corrs.columns), \n",
    "                                     y=list(corrs.index), \n",
    "                                     colorscale=colorscale,\n",
    "                                     annotation_text=corrs.round(2).values)\n",
    "    iplot(figure)\n",
    "    ## if you are using Google Colab, comment out the above line of code and uncomment the line below\n",
    "    #figure.show(renderer=\"colab\")"
   ]
  },
  {
   "cell_type": "code",
   "execution_count": 26,
   "id": "4b230e04",
   "metadata": {},
   "outputs": [
    {
     "data": {
      "application/vnd.jupyter.widget-view+json": {
       "model_id": "9cbfe7cf552847f3901251ffa765716d",
       "version_major": 2,
       "version_minor": 0
      },
      "text/plain": [
       "interactive(children=(Dropdown(description='x', options=('Depth', 'GR', 'Log_ILD', 'DT', 'RHOB', 'NPHI', 'PHI'…"
      ]
     },
     "metadata": {},
     "output_type": "display_data"
    }
   ],
   "source": [
    "@interact_manual\n",
    "def scatter_plot(x=list(df.select_dtypes('number').columns), \n",
    "                 y=list(df.select_dtypes('number').columns)[1:],\n",
    "                 theme=list(cf.themes.THEMES.keys()), \n",
    "                 colorscale=list(cf.colors._scales_names.keys())):\n",
    "    \n",
    "    if x == y:\n",
    "        print(f\"Please select seperate variables for X and Y\")\n",
    "    else:\n",
    "        df.iplot(kind='scatter', x=x, y=y, mode='markers', \n",
    "                 xTitle=x.title(), yTitle=y.title(), \n",
    "                 text='Depth',\n",
    "                 title=f'{y.title()} vs {x.title()}',\n",
    "                theme=theme, colorscale=colorscale)\n",
    "        ## if you are using Google Colab, comment out the above line of code and uncomment the line below\n",
    "        #fig = px.scatter(df, x=x, y=y, title=f'{y.title()} vs {x.title()}')\n",
    "        #fig.show(renderer=\"colab\")"
   ]
  },
  {
   "cell_type": "code",
   "execution_count": 32,
   "id": "4b546321",
   "metadata": {
    "scrolled": false
   },
   "outputs": [
    {
     "data": {
      "text/plain": [
       "RandomForestRegressor(max_depth=10, random_state=42)"
      ]
     },
     "execution_count": 32,
     "metadata": {},
     "output_type": "execute_result"
    },
    {
     "name": "stdout",
     "output_type": "stream",
     "text": [
      "[32.73666129]\n"
     ]
    }
   ],
   "source": [
    "# Define input features and target variable\n",
    "X = df[['Depth', 'Log_ILD', 'NPHI','RHOB', 'vshale', 'effective porosity', 'swirr']]\n",
    "y = df['PERM']"
   ]
  },
  {
   "cell_type": "code",
   "execution_count": 34,
   "id": "6f7be9ef",
   "metadata": {},
   "outputs": [],
   "source": [
    "from sklearn.model_selection import train_test_split, GridSearchCV\n",
    "from sklearn.metrics import mean_squared_error\n",
    "from sklearn.ensemble import RandomForestRegressor\n",
    "from sklearn.svm import SVR\n",
    "from sklearn.tree import DecisionTreeRegressor\n",
    "from sklearn.neural_network import MLPRegressor\n",
    "from sklearn.pipeline import Pipeline\n",
    "from sklearn.pipeline import make_pipeline\n",
    "from sklearn.preprocessing import StandardScaler\n",
    "from sklearn.linear_model import LogisticRegression\n",
    "from sklearn.naive_bayes import GaussianNB\n",
    "from sklearn.naive_bayes import MultinomialNB"
   ]
  },
  {
   "cell_type": "code",
   "execution_count": 35,
   "id": "b7cbf0cc",
   "metadata": {},
   "outputs": [],
   "source": [
    "# Split data into training and testing sets\n",
    "X_train, X_test, y_train, y_test = train_test_split(X, y, test_size=0.2)\n",
    "\n",
    "# Define dictionary of models and their hyperparameters\n",
    "models = {\n",
    "    'svm': {\n",
    "        'model': make_pipeline(StandardScaler(), SVR()),\n",
    "        'params': {\n",
    "            'svr__kernel': ['linear', 'rbf', 'poly'],\n",
    "            'svr__C': [0.1, 1, 10],\n",
    "            'svr__gamma': ['scale', 'auto']\n",
    "        }\n",
    "    },\n",
    "    'random_forest': {\n",
    "        'model': RandomForestRegressor(),\n",
    "        'params': {\n",
    "            'n_estimators': [50, 100, 150],\n",
    "            'max_depth': [10, 20, 30]\n",
    "        }\n",
    "    },\n",
    "    'decision_tree': {\n",
    "        'model': DecisionTreeRegressor(),\n",
    "        'params': {\n",
    "            'max_depth': [5, 10, 15],\n",
    "            'min_samples_split': [2, 5, 10]\n",
    "        }\n",
    "    },\n",
    "    'neural_network': {\n",
    "        'model': MLPRegressor(),\n",
    "        'params': {\n",
    "            'hidden_layer_sizes': [(10,), (20,), (30,)],\n",
    "            'activation': ['relu', 'tanh', 'logistic']\n",
    "        }\n",
    "    }\n",
    "    'gradient_boosting': {\n",
    "        'model': GradientBoostingRegressor(),\n",
    "        'params': {\n",
    "            'learning_rate': [0.05, 0.1, 0.2],\n",
    "            'n_estimators': [50, 100, 150],\n",
    "            'max_depth': [3, 5, 7]\n",
    "        }\n",
    "    }\n",
    "}"
   ]
  },
  {
   "cell_type": "code",
   "execution_count": 36,
   "id": "c56a8f48",
   "metadata": {
    "scrolled": false
   },
   "outputs": [
    {
     "data": {
      "text/plain": [
       "GridSearchCV(cv=5,\n",
       "             estimator=Pipeline(steps=[('standardscaler', StandardScaler()),\n",
       "                                       ('svr', SVR())]),\n",
       "             n_jobs=-1,\n",
       "             param_grid={'svr__C': [0.1, 1, 10],\n",
       "                         'svr__gamma': ['scale', 'auto'],\n",
       "                         'svr__kernel': ['linear', 'rbf', 'poly']})"
      ]
     },
     "execution_count": 36,
     "metadata": {},
     "output_type": "execute_result"
    },
    {
     "data": {
      "text/plain": [
       "GridSearchCV(cv=5, estimator=RandomForestRegressor(), n_jobs=-1,\n",
       "             param_grid={'max_depth': [10, 20, 30],\n",
       "                         'n_estimators': [50, 100, 150]})"
      ]
     },
     "execution_count": 36,
     "metadata": {},
     "output_type": "execute_result"
    },
    {
     "data": {
      "text/plain": [
       "GridSearchCV(cv=5, estimator=DecisionTreeRegressor(), n_jobs=-1,\n",
       "             param_grid={'max_depth': [5, 10, 15],\n",
       "                         'min_samples_split': [2, 5, 10]})"
      ]
     },
     "execution_count": 36,
     "metadata": {},
     "output_type": "execute_result"
    },
    {
     "name": "stderr",
     "output_type": "stream",
     "text": [
      "C:\\ProgramData\\Anaconda3\\lib\\site-packages\\sklearn\\neural_network\\_multilayer_perceptron.py:692: ConvergenceWarning:\n",
      "\n",
      "Stochastic Optimizer: Maximum iterations (200) reached and the optimization hasn't converged yet.\n",
      "\n"
     ]
    },
    {
     "data": {
      "text/plain": [
       "GridSearchCV(cv=5, estimator=MLPRegressor(), n_jobs=-1,\n",
       "             param_grid={'activation': ['relu', 'tanh', 'logistic'],\n",
       "                         'hidden_layer_sizes': [(10,), (20,), (30,)]})"
      ]
     },
     "execution_count": 36,
     "metadata": {},
     "output_type": "execute_result"
    },
    {
     "data": {
      "text/html": [
       "<div>\n",
       "<style scoped>\n",
       "    .dataframe tbody tr th:only-of-type {\n",
       "        vertical-align: middle;\n",
       "    }\n",
       "\n",
       "    .dataframe tbody tr th {\n",
       "        vertical-align: top;\n",
       "    }\n",
       "\n",
       "    .dataframe thead th {\n",
       "        text-align: right;\n",
       "    }\n",
       "</style>\n",
       "<table border=\"1\" class=\"dataframe\">\n",
       "  <thead>\n",
       "    <tr style=\"text-align: right;\">\n",
       "      <th></th>\n",
       "      <th>model</th>\n",
       "      <th>best_score</th>\n",
       "      <th>best_params</th>\n",
       "      <th>RMSE</th>\n",
       "      <th>R-squared</th>\n",
       "    </tr>\n",
       "  </thead>\n",
       "  <tbody>\n",
       "    <tr>\n",
       "      <th>0</th>\n",
       "      <td>svm</td>\n",
       "      <td>0.194956</td>\n",
       "      <td>{'svr__C': 10, 'svr__gamma': 'auto', 'svr__ker...</td>\n",
       "      <td>342696.203602</td>\n",
       "      <td>0.009621</td>\n",
       "    </tr>\n",
       "    <tr>\n",
       "      <th>1</th>\n",
       "      <td>random_forest</td>\n",
       "      <td>0.850666</td>\n",
       "      <td>{'max_depth': 10, 'n_estimators': 50}</td>\n",
       "      <td>22299.915988</td>\n",
       "      <td>0.995806</td>\n",
       "    </tr>\n",
       "    <tr>\n",
       "      <th>2</th>\n",
       "      <td>decision_tree</td>\n",
       "      <td>0.815143</td>\n",
       "      <td>{'max_depth': 10, 'min_samples_split': 5}</td>\n",
       "      <td>70732.334501</td>\n",
       "      <td>0.957809</td>\n",
       "    </tr>\n",
       "    <tr>\n",
       "      <th>3</th>\n",
       "      <td>neural_network</td>\n",
       "      <td>-0.004879</td>\n",
       "      <td>{'activation': 'tanh', 'hidden_layer_sizes': (...</td>\n",
       "      <td>344702.295929</td>\n",
       "      <td>-0.002008</td>\n",
       "    </tr>\n",
       "  </tbody>\n",
       "</table>\n",
       "</div>"
      ],
      "text/plain": [
       "            model  best_score  \\\n",
       "0             svm    0.194956   \n",
       "1   random_forest    0.850666   \n",
       "2   decision_tree    0.815143   \n",
       "3  neural_network   -0.004879   \n",
       "\n",
       "                                         best_params           RMSE  R-squared  \n",
       "0  {'svr__C': 10, 'svr__gamma': 'auto', 'svr__ker...  342696.203602   0.009621  \n",
       "1              {'max_depth': 10, 'n_estimators': 50}   22299.915988   0.995806  \n",
       "2          {'max_depth': 10, 'min_samples_split': 5}   70732.334501   0.957809  \n",
       "3  {'activation': 'tanh', 'hidden_layer_sizes': (...  344702.295929  -0.002008  "
      ]
     },
     "execution_count": 36,
     "metadata": {},
     "output_type": "execute_result"
    }
   ],
   "source": [
    "scores = []\n",
    "# Loop over each model and perform grid search with cross-validation to find best hyperparameters \n",
    "## scoring='neg_mean_squared_error'\n",
    "for model_name, model in models.items():\n",
    "    clf = GridSearchCV(model['model'], model['params'], cv=5, n_jobs=-1, return_train_score=False)\n",
    "    clf.fit(X_train, y_train)\n",
    "    best_params = clf.best_params_\n",
    "    \n",
    "    # Evaluate best model on test set\n",
    "    y_pred = clf.predict(X_test)\n",
    "    mse = mean_squared_error(y_test, y_pred)\n",
    "    rmse = np.sqrt(mse)\n",
    "    r2 = clf.score(X_test, y_test)\n",
    "    scores.append({\n",
    "        'model': model_name,\n",
    "        'best_score': clf.best_score_,\n",
    "        'best_params': best_params,\n",
    "        'RMSE': rmse,\n",
    "        'R-squared': r2\n",
    "    })\n",
    "    # Save the best model for each method\n",
    "    joblib.dump(clf.best_estimator_, f\"models/{model_name}_best_model.pkl\")\n",
    "    \n",
    "df = pd.DataFrame(scores,columns=['model', 'best_score', 'best_params', 'RMSE', 'R-squared'])\n",
    "df"
   ]
  },
  {
   "cell_type": "code",
   "execution_count": null,
   "id": "47465c8a",
   "metadata": {},
   "outputs": [],
   "source": [
    "result_df.to_csv('data/best_model.csv', index=False)"
   ]
  },
  {
   "cell_type": "code",
   "execution_count": null,
   "id": "8014c68b",
   "metadata": {},
   "outputs": [],
   "source": [
    "# Predict y values for x_test\n",
    "y_pred_rf = model_rf.predict(X_test)\n",
    "y_pred_dt = model_dt.predict(X_test)\n",
    "y_pred_gb = model_gb.predict(X_test)\n",
    "\n",
    "X_test_df = pd.DataFrame(X_test, columns=['Depth', 'Log_ILD', 'NPHI', 'RHOB', 'vshale', 'effective porosity'])\n",
    "\n",
    "# Create a dataframe with x_test, y_test, and y_predict\n",
    "results_df = pd.DataFrame({'Depth': X_test_df['Depth'],\n",
    "                           'Log_ILD': X_test_df['Log_ILD'],\n",
    "                           'NPHI': X_test_df['NPHI'],\n",
    "                           'RHOB': X_test_df['RHOB'],\n",
    "                           'vshale': X_test_df['vshale'],\n",
    "                           'effective porosity': X_test_df['effective porosity'],\n",
    "                           'Actual Permeability': y_test,\n",
    "                           'rf_Permeability': y_pred_rf,\n",
    "                           'dt_Permeability': y_pred_dt,\n",
    "                           'gb_Permeability': y_pred_gb})\n",
    "\n",
    "# Print the dataframe\n",
    "results_df.to_csv('results.csv', index=False)\n",
    "results_df.head()"
   ]
  },
  {
   "cell_type": "code",
   "execution_count": null,
   "id": "883896f9",
   "metadata": {},
   "outputs": [],
   "source": []
  },
  {
   "cell_type": "code",
   "execution_count": null,
   "id": "d40cab73",
   "metadata": {},
   "outputs": [],
   "source": []
  }
 ],
 "metadata": {
  "kernelspec": {
   "display_name": "Python 3 (ipykernel)",
   "language": "python",
   "name": "python3"
  },
  "language_info": {
   "codemirror_mode": {
    "name": "ipython",
    "version": 3
   },
   "file_extension": ".py",
   "mimetype": "text/x-python",
   "name": "python",
   "nbconvert_exporter": "python",
   "pygments_lexer": "ipython3",
   "version": "3.9.13"
  }
 },
 "nbformat": 4,
 "nbformat_minor": 5
}
