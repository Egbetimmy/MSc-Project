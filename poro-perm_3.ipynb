{
 "cells": [
  {
   "cell_type": "code",
   "execution_count": 1,
   "id": "f906a06b",
   "metadata": {},
   "outputs": [],
   "source": [
    "import pandas as pd\n",
    "import matplotlib.pyplot as plt\n",
    "import numpy as np"
   ]
  },
  {
   "cell_type": "code",
   "execution_count": 2,
   "id": "5fd6b61c",
   "metadata": {},
   "outputs": [],
   "source": [
    "core_data = pd.read_csv(\"data/freeman_3_pp.csv\", na_values=' ')"
   ]
  },
  {
   "cell_type": "code",
   "execution_count": 3,
   "id": "785f7b90",
   "metadata": {},
   "outputs": [
    {
     "data": {
      "text/html": [
       "<div>\n",
       "<style scoped>\n",
       "    .dataframe tbody tr th:only-of-type {\n",
       "        vertical-align: middle;\n",
       "    }\n",
       "\n",
       "    .dataframe tbody tr th {\n",
       "        vertical-align: top;\n",
       "    }\n",
       "\n",
       "    .dataframe thead th {\n",
       "        text-align: right;\n",
       "    }\n",
       "</style>\n",
       "<table border=\"1\" class=\"dataframe\">\n",
       "  <thead>\n",
       "    <tr style=\"text-align: right;\">\n",
       "      <th></th>\n",
       "      <th>well</th>\n",
       "      <th>form</th>\n",
       "      <th>sample</th>\n",
       "      <th>core</th>\n",
       "      <th>orient</th>\n",
       "      <th>depth</th>\n",
       "      <th>log depth</th>\n",
       "      <th>tvdss</th>\n",
       "      <th>rho_g</th>\n",
       "      <th>fluid</th>\n",
       "      <th>...</th>\n",
       "      <th>intercept</th>\n",
       "      <th>por_insitu</th>\n",
       "      <th>porden</th>\n",
       "      <th>Unnamed: 32</th>\n",
       "      <th>air slope</th>\n",
       "      <th>ka_insitu</th>\n",
       "      <th>brine slope</th>\n",
       "      <th>kb_insitu</th>\n",
       "      <th>Unnamed: 37</th>\n",
       "      <th>shaly?</th>\n",
       "    </tr>\n",
       "  </thead>\n",
       "  <tbody>\n",
       "    <tr>\n",
       "      <th>0</th>\n",
       "      <td>Freeman-3</td>\n",
       "      <td>702</td>\n",
       "      <td>1</td>\n",
       "      <td>3</td>\n",
       "      <td>NaN</td>\n",
       "      <td>10211.90</td>\n",
       "      <td>10222.90</td>\n",
       "      <td>9317.37</td>\n",
       "      <td>2.65</td>\n",
       "      <td>oil</td>\n",
       "      <td>...</td>\n",
       "      <td>10.93</td>\n",
       "      <td>1079.78</td>\n",
       "      <td>32.08</td>\n",
       "      <td>NaN</td>\n",
       "      <td>-1.180</td>\n",
       "      <td>5365</td>\n",
       "      <td>-1.305</td>\n",
       "      <td>4545</td>\n",
       "      <td>NaN</td>\n",
       "      <td>NaN</td>\n",
       "    </tr>\n",
       "    <tr>\n",
       "      <th>1</th>\n",
       "      <td>Freeman-3</td>\n",
       "      <td>702</td>\n",
       "      <td>2</td>\n",
       "      <td>3</td>\n",
       "      <td>NaN</td>\n",
       "      <td>10212.60</td>\n",
       "      <td>10223.60</td>\n",
       "      <td>9317.93</td>\n",
       "      <td>2.64</td>\n",
       "      <td>oil</td>\n",
       "      <td>...</td>\n",
       "      <td>4.11</td>\n",
       "      <td>1443.36</td>\n",
       "      <td>33.04</td>\n",
       "      <td>NaN</td>\n",
       "      <td>-1.075</td>\n",
       "      <td>5819</td>\n",
       "      <td>-1.085</td>\n",
       "      <td>4882</td>\n",
       "      <td>NaN</td>\n",
       "      <td>NaN</td>\n",
       "    </tr>\n",
       "    <tr>\n",
       "      <th>2</th>\n",
       "      <td>Freeman-3</td>\n",
       "      <td>702</td>\n",
       "      <td>3</td>\n",
       "      <td>3</td>\n",
       "      <td>NaN</td>\n",
       "      <td>10213.50</td>\n",
       "      <td>10224.50</td>\n",
       "      <td>9318.48</td>\n",
       "      <td>2.65</td>\n",
       "      <td>oil</td>\n",
       "      <td>...</td>\n",
       "      <td>0.00</td>\n",
       "      <td>1717.20</td>\n",
       "      <td>32.77</td>\n",
       "      <td>NaN</td>\n",
       "      <td>-1.700</td>\n",
       "      <td>6071</td>\n",
       "      <td>-2.190</td>\n",
       "      <td>4689</td>\n",
       "      <td>NaN</td>\n",
       "      <td>NaN</td>\n",
       "    </tr>\n",
       "    <tr>\n",
       "      <th>3</th>\n",
       "      <td>Freeman-3</td>\n",
       "      <td>702</td>\n",
       "      <td>4</td>\n",
       "      <td>3</td>\n",
       "      <td>NaN</td>\n",
       "      <td>10214.55</td>\n",
       "      <td>10225.55</td>\n",
       "      <td>9319.04</td>\n",
       "      <td>2.64</td>\n",
       "      <td>oil</td>\n",
       "      <td>...</td>\n",
       "      <td>13.56</td>\n",
       "      <td>944.88</td>\n",
       "      <td>31.87</td>\n",
       "      <td>NaN</td>\n",
       "      <td>-0.995</td>\n",
       "      <td>4306</td>\n",
       "      <td>-0.715</td>\n",
       "      <td>2907</td>\n",
       "      <td>NaN</td>\n",
       "      <td>NaN</td>\n",
       "    </tr>\n",
       "    <tr>\n",
       "      <th>4</th>\n",
       "      <td>Freeman-3</td>\n",
       "      <td>702</td>\n",
       "      <td>5</td>\n",
       "      <td>3</td>\n",
       "      <td>NaN</td>\n",
       "      <td>10215.30</td>\n",
       "      <td>10226.30</td>\n",
       "      <td>9319.32</td>\n",
       "      <td>2.64</td>\n",
       "      <td>oil</td>\n",
       "      <td>...</td>\n",
       "      <td>-8.35</td>\n",
       "      <td>2133.45</td>\n",
       "      <td>33.20</td>\n",
       "      <td>NaN</td>\n",
       "      <td>-1.100</td>\n",
       "      <td>4851</td>\n",
       "      <td>-0.715</td>\n",
       "      <td>2717</td>\n",
       "      <td>NaN</td>\n",
       "      <td>NaN</td>\n",
       "    </tr>\n",
       "  </tbody>\n",
       "</table>\n",
       "<p>5 rows × 39 columns</p>\n",
       "</div>"
      ],
      "text/plain": [
       "        well  form  sample  core  orient     depth  log depth    tvdss  rho_g  \\\n",
       "0  Freeman-3   702       1     3     NaN  10211.90   10222.90  9317.37   2.65   \n",
       "1  Freeman-3   702       2     3     NaN  10212.60   10223.60  9317.93   2.64   \n",
       "2  Freeman-3   702       3     3     NaN  10213.50   10224.50  9318.48   2.65   \n",
       "3  Freeman-3   702       4     3     NaN  10214.55   10225.55  9319.04   2.64   \n",
       "4  Freeman-3   702       5     3     NaN  10215.30   10226.30  9319.32   2.64   \n",
       "\n",
       "  fluid  ... intercept por_insitu  porden  Unnamed: 32  air slope  ka_insitu  \\\n",
       "0   oil  ...     10.93    1079.78   32.08          NaN     -1.180       5365   \n",
       "1   oil  ...      4.11    1443.36   33.04          NaN     -1.075       5819   \n",
       "2   oil  ...      0.00    1717.20   32.77          NaN     -1.700       6071   \n",
       "3   oil  ...     13.56     944.88   31.87          NaN     -0.995       4306   \n",
       "4   oil  ...     -8.35    2133.45   33.20          NaN     -1.100       4851   \n",
       "\n",
       "   brine slope  kb_insitu  Unnamed: 37  shaly?  \n",
       "0       -1.305       4545          NaN     NaN  \n",
       "1       -1.085       4882          NaN     NaN  \n",
       "2       -2.190       4689          NaN     NaN  \n",
       "3       -0.715       2907          NaN     NaN  \n",
       "4       -0.715       2717          NaN     NaN  \n",
       "\n",
       "[5 rows x 39 columns]"
      ]
     },
     "execution_count": 3,
     "metadata": {},
     "output_type": "execute_result"
    }
   ],
   "source": [
    "core_data.head()"
   ]
  },
  {
   "cell_type": "code",
   "execution_count": 4,
   "id": "ee936cd8",
   "metadata": {},
   "outputs": [
    {
     "data": {
      "text/plain": [
       "<AxesSubplot:xlabel='por_1000', ylabel='ka_1000'>"
      ]
     },
     "execution_count": 4,
     "metadata": {},
     "output_type": "execute_result"
    },
    {
     "data": {
      "image/png": "[encoded data removed]",
      "text/plain": [
       "<Figure size 640x480 with 1 Axes>"
      ]
     },
     "metadata": {},
     "output_type": "display_data"
    }
   ],
   "source": [
    "core_data.plot(kind=\"scatter\", x=\"por_1000\", y=\"ka_1000\")"
   ]
  },
  {
   "cell_type": "code",
   "execution_count": 5,
   "id": "25181b8f",
   "metadata": {},
   "outputs": [
    {
     "data": {
      "image/png": "[encoded data removed]",
      "text/plain": [
       "<Figure size 640x480 with 1 Axes>"
      ]
     },
     "metadata": {},
     "output_type": "display_data"
    }
   ],
   "source": [
    "core_data.plot(kind=\"scatter\", x=\"por_1000\", y=\"ka_1000\")\n",
    "plt.yscale('log')\n",
    "plt.grid(True)"
   ]
  },
  {
   "cell_type": "code",
   "execution_count": 6,
   "id": "b8313a67",
   "metadata": {},
   "outputs": [
    {
     "data": {
      "image/png": "[encoded data removed]",
      "text/plain": [
       "<Figure size 640x480 with 1 Axes>"
      ]
     },
     "metadata": {},
     "output_type": "display_data"
    }
   ],
   "source": [
    "from matplotlib.ticker import FuncFormatter\n",
    "fig, ax = plt.subplots()\n",
    "\n",
    "ax.axis([0, 40, 0.01, 100000])\n",
    "ax.plot(core_data['por_1000'], core_data['ka_1000'], 'bo')\n",
    "ax.set_yscale('log')\n",
    "ax.grid(True)\n",
    "ax.set_ylabel('Core Perm (mD)')\n",
    "ax.set_xlabel('Core Porosity (%)')\n",
    "\n",
    "#Format the axes so that they show whole numbers\n",
    "for axis in [ax.yaxis, ax.xaxis]:\n",
    "    formatter = FuncFormatter(lambda y, _: '{:.16g}'.format(y))\n",
    "    axis.set_major_formatter(formatter)\n",
    "    \n",
    "plt.savefig('11-xplot-semi-log-fixed.png', dpi=300)"
   ]
  },
  {
   "cell_type": "code",
   "execution_count": 7,
   "id": "069809a1",
   "metadata": {},
   "outputs": [],
   "source": [
    "poro_perm = core_data[['por_1000', 'ka_1000']].copy()"
   ]
  },
  {
   "cell_type": "code",
   "execution_count": 8,
   "id": "7ae4d352",
   "metadata": {},
   "outputs": [],
   "source": [
    "poro_perm.dropna(inplace=True)"
   ]
  },
  {
   "cell_type": "code",
   "execution_count": 9,
   "id": "7e95ea94",
   "metadata": {},
   "outputs": [],
   "source": [
    "poro_perm_polyfit = np.polyfit(poro_perm['por_1000'], np.log10(poro_perm['ka_1000']), 1)"
   ]
  },
  {
   "cell_type": "code",
   "execution_count": 10,
   "id": "e6cdb92d",
   "metadata": {},
   "outputs": [
    {
     "data": {
      "text/plain": [
       "array([0.05651734, 1.85135992])"
      ]
     },
     "execution_count": 10,
     "metadata": {},
     "output_type": "execute_result"
    }
   ],
   "source": [
    "poro_perm_polyfit"
   ]
  },
  {
   "cell_type": "code",
   "execution_count": 11,
   "id": "79f5f8bc",
   "metadata": {},
   "outputs": [],
   "source": [
    "import statsmodels.api as sm\n",
    "\n",
    "x = core_data['por_1000']\n",
    "x = sm.add_constant(x)\n",
    "y = np.log10(core_data['ka_1000'])"
   ]
  },
  {
   "cell_type": "code",
   "execution_count": 12,
   "id": "5ad0338e",
   "metadata": {},
   "outputs": [
    {
     "data": {
      "text/html": [
       "<div>\n",
       "<style scoped>\n",
       "    .dataframe tbody tr th:only-of-type {\n",
       "        vertical-align: middle;\n",
       "    }\n",
       "\n",
       "    .dataframe tbody tr th {\n",
       "        vertical-align: top;\n",
       "    }\n",
       "\n",
       "    .dataframe thead th {\n",
       "        text-align: right;\n",
       "    }\n",
       "</style>\n",
       "<table border=\"1\" class=\"dataframe\">\n",
       "  <thead>\n",
       "    <tr style=\"text-align: right;\">\n",
       "      <th></th>\n",
       "      <th>const</th>\n",
       "      <th>por_1000</th>\n",
       "    </tr>\n",
       "  </thead>\n",
       "  <tbody>\n",
       "    <tr>\n",
       "      <th>0</th>\n",
       "      <td>1.0</td>\n",
       "      <td>32.5</td>\n",
       "    </tr>\n",
       "    <tr>\n",
       "      <th>1</th>\n",
       "      <td>1.0</td>\n",
       "      <td>33.1</td>\n",
       "    </tr>\n",
       "    <tr>\n",
       "      <th>2</th>\n",
       "      <td>1.0</td>\n",
       "      <td>34.6</td>\n",
       "    </tr>\n",
       "    <tr>\n",
       "      <th>3</th>\n",
       "      <td>1.0</td>\n",
       "      <td>32.3</td>\n",
       "    </tr>\n",
       "    <tr>\n",
       "      <th>4</th>\n",
       "      <td>1.0</td>\n",
       "      <td>34.8</td>\n",
       "    </tr>\n",
       "  </tbody>\n",
       "</table>\n",
       "</div>"
      ],
      "text/plain": [
       "   const  por_1000\n",
       "0    1.0      32.5\n",
       "1    1.0      33.1\n",
       "2    1.0      34.6\n",
       "3    1.0      32.3\n",
       "4    1.0      34.8"
      ]
     },
     "execution_count": 12,
     "metadata": {},
     "output_type": "execute_result"
    }
   ],
   "source": [
    "x.head()"
   ]
  },
  {
   "cell_type": "code",
   "execution_count": 13,
   "id": "4af33b43",
   "metadata": {},
   "outputs": [],
   "source": [
    "model = sm.OLS(y, x, missing='drop')\n",
    "results = model.fit()"
   ]
  },
  {
   "cell_type": "code",
   "execution_count": 14,
   "id": "ac178124",
   "metadata": {},
   "outputs": [
    {
     "data": {
      "text/html": [
       "<table class=\"simpletable\">\n",
       "<caption>OLS Regression Results</caption>\n",
       "<tr>\n",
       "  <th>Dep. Variable:</th>         <td>ka_1000</td>     <th>  R-squared:         </th> <td>   0.389</td>\n",
       "</tr>\n",
       "<tr>\n",
       "  <th>Model:</th>                   <td>OLS</td>       <th>  Adj. R-squared:    </th> <td>   0.380</td>\n",
       "</tr>\n",
       "<tr>\n",
       "  <th>Method:</th>             <td>Least Squares</td>  <th>  F-statistic:       </th> <td>   41.44</td>\n",
       "</tr>\n",
       "<tr>\n",
       "  <th>Date:</th>             <td>Mon, 17 Apr 2023</td> <th>  Prob (F-statistic):</th> <td>1.69e-08</td>\n",
       "</tr>\n",
       "<tr>\n",
       "  <th>Time:</th>                 <td>21:06:38</td>     <th>  Log-Likelihood:    </th> <td>  49.898</td>\n",
       "</tr>\n",
       "<tr>\n",
       "  <th>No. Observations:</th>      <td>    67</td>      <th>  AIC:               </th> <td>  -95.80</td>\n",
       "</tr>\n",
       "<tr>\n",
       "  <th>Df Residuals:</th>          <td>    65</td>      <th>  BIC:               </th> <td>  -91.39</td>\n",
       "</tr>\n",
       "<tr>\n",
       "  <th>Df Model:</th>              <td>     1</td>      <th>                     </th>     <td> </td>   \n",
       "</tr>\n",
       "<tr>\n",
       "  <th>Covariance Type:</th>      <td>nonrobust</td>    <th>                     </th>     <td> </td>   \n",
       "</tr>\n",
       "</table>\n",
       "<table class=\"simpletable\">\n",
       "<tr>\n",
       "      <td></td>        <th>coef</th>     <th>std err</th>      <th>t</th>      <th>P>|t|</th>  <th>[0.025</th>    <th>0.975]</th>  \n",
       "</tr>\n",
       "<tr>\n",
       "  <th>const</th>    <td>    1.8514</td> <td>    0.299</td> <td>    6.199</td> <td> 0.000</td> <td>    1.255</td> <td>    2.448</td>\n",
       "</tr>\n",
       "<tr>\n",
       "  <th>por_1000</th> <td>    0.0565</td> <td>    0.009</td> <td>    6.438</td> <td> 0.000</td> <td>    0.039</td> <td>    0.074</td>\n",
       "</tr>\n",
       "</table>\n",
       "<table class=\"simpletable\">\n",
       "<tr>\n",
       "  <th>Omnibus:</th>       <td>49.653</td> <th>  Durbin-Watson:     </th> <td>   1.570</td>\n",
       "</tr>\n",
       "<tr>\n",
       "  <th>Prob(Omnibus):</th> <td> 0.000</td> <th>  Jarque-Bera (JB):  </th> <td> 200.719</td>\n",
       "</tr>\n",
       "<tr>\n",
       "  <th>Skew:</th>          <td>-2.201</td> <th>  Prob(JB):          </th> <td>2.60e-44</td>\n",
       "</tr>\n",
       "<tr>\n",
       "  <th>Kurtosis:</th>      <td>10.247</td> <th>  Cond. No.          </th> <td>    714.</td>\n",
       "</tr>\n",
       "</table><br/><br/>Notes:<br/>[1] Standard Errors assume that the covariance matrix of the errors is correctly specified."
      ],
      "text/plain": [
       "<class 'statsmodels.iolib.summary.Summary'>\n",
       "\"\"\"\n",
       "                            OLS Regression Results                            \n",
       "==============================================================================\n",
       "Dep. Variable:                ka_1000   R-squared:                       0.389\n",
       "Model:                            OLS   Adj. R-squared:                  0.380\n",
       "Method:                 Least Squares   F-statistic:                     41.44\n",
       "Date:                Mon, 17 Apr 2023   Prob (F-statistic):           1.69e-08\n",
       "Time:                        21:06:38   Log-Likelihood:                 49.898\n",
       "No. Observations:                  67   AIC:                            -95.80\n",
       "Df Residuals:                      65   BIC:                            -91.39\n",
       "Df Model:                           1                                         \n",
       "Covariance Type:            nonrobust                                         \n",
       "==============================================================================\n",
       "                 coef    std err          t      P>|t|      [0.025      0.975]\n",
       "------------------------------------------------------------------------------\n",
       "const          1.8514      0.299      6.199      0.000       1.255       2.448\n",
       "por_1000       0.0565      0.009      6.438      0.000       0.039       0.074\n",
       "==============================================================================\n",
       "Omnibus:                       49.653   Durbin-Watson:                   1.570\n",
       "Prob(Omnibus):                  0.000   Jarque-Bera (JB):              200.719\n",
       "Skew:                          -2.201   Prob(JB):                     2.60e-44\n",
       "Kurtosis:                      10.247   Cond. No.                         714.\n",
       "==============================================================================\n",
       "\n",
       "Notes:\n",
       "[1] Standard Errors assume that the covariance matrix of the errors is correctly specified.\n",
       "\"\"\""
      ]
     },
     "execution_count": 14,
     "metadata": {},
     "output_type": "execute_result"
    }
   ],
   "source": [
    "results.summary()"
   ]
  },
  {
   "cell_type": "code",
   "execution_count": 15,
   "id": "c6b8cbed",
   "metadata": {},
   "outputs": [
    {
     "data": {
      "text/plain": [
       "const       1.851360\n",
       "por_1000    0.056517\n",
       "dtype: float64"
      ]
     },
     "execution_count": 15,
     "metadata": {},
     "output_type": "execute_result"
    }
   ],
   "source": [
    "results.params"
   ]
  },
  {
   "cell_type": "code",
   "execution_count": 16,
   "id": "ac161222",
   "metadata": {},
   "outputs": [
    {
     "data": {
      "text/plain": [
       "0.05651734351048546"
      ]
     },
     "execution_count": 16,
     "metadata": {},
     "output_type": "execute_result"
    }
   ],
   "source": [
    "results.params[1]"
   ]
  },
  {
   "cell_type": "code",
   "execution_count": 17,
   "id": "a42930a1",
   "metadata": {},
   "outputs": [
    {
     "data": {
      "image/png": "[encoded data removed]",
      "text/plain": [
       "<Figure size 640x480 with 1 Axes>"
      ]
     },
     "metadata": {},
     "output_type": "display_data"
    }
   ],
   "source": [
    "from matplotlib.ticker import FuncFormatter\n",
    "fig, ax = plt.subplots()\n",
    "\n",
    "ax.axis([0, 50, 0.01, 100000])\n",
    "ax.semilogy(core_data['por_1000'], core_data['ka_1000'], 'bo')\n",
    "\n",
    "ax.grid(True)\n",
    "ax.set_ylabel('Core Perm (mD)')\n",
    "ax.set_xlabel('Core Porosity (%)')\n",
    "\n",
    "ax.semilogy(core_data['por_1000'], 10**(results.params[1] * core_data['por_1000'] + results.params[0]), 'r-')\n",
    "\n",
    "#Format the axes so that they show whole numbers\n",
    "for axis in [ax.yaxis, ax.xaxis]:\n",
    "    formatter = FuncFormatter(lambda y, _: '{:.16g}'.format(y))\n",
    "    axis.set_major_formatter(formatter)\n",
    "    \n",
    "# plt.savefig('predicted_poro_perm_xplot.png', dpi=100)"
   ]
  },
  {
   "cell_type": "code",
   "execution_count": 18,
   "id": "6930e09b",
   "metadata": {},
   "outputs": [],
   "source": [
    "import lasio\n",
    "las = lasio.read('data/Freeman_003ST1.las')\n",
    "well1 = las.df()\n",
    "well = well1.reset_index()"
   ]
  },
  {
   "cell_type": "code",
   "execution_count": 19,
   "id": "30108c20",
   "metadata": {},
   "outputs": [],
   "source": [
    "from class2 import Petrophysics"
   ]
  },
  {
   "cell_type": "code",
   "execution_count": 20,
   "id": "43d4d28a",
   "metadata": {},
   "outputs": [],
   "source": [
    "test = Petrophysics(well)"
   ]
  },
  {
   "cell_type": "code",
   "execution_count": 21,
   "id": "bfdd0e08",
   "metadata": {},
   "outputs": [],
   "source": [
    "x = test.density_porosity(1, 2.65, 1.1)"
   ]
  },
  {
   "cell_type": "code",
   "execution_count": 22,
   "id": "f0598129",
   "metadata": {},
   "outputs": [
    {
     "data": {
      "text/html": [
       "<div>\n",
       "<style scoped>\n",
       "    .dataframe tbody tr th:only-of-type {\n",
       "        vertical-align: middle;\n",
       "    }\n",
       "\n",
       "    .dataframe tbody tr th {\n",
       "        vertical-align: top;\n",
       "    }\n",
       "\n",
       "    .dataframe thead th {\n",
       "        text-align: right;\n",
       "    }\n",
       "</style>\n",
       "<table border=\"1\" class=\"dataframe\">\n",
       "  <thead>\n",
       "    <tr style=\"text-align: right;\">\n",
       "      <th></th>\n",
       "      <th>DEPT</th>\n",
       "      <th>DEN</th>\n",
       "      <th>DT</th>\n",
       "      <th>GR</th>\n",
       "      <th>NEU</th>\n",
       "      <th>RES_DEP</th>\n",
       "      <th>PHI</th>\n",
       "    </tr>\n",
       "  </thead>\n",
       "  <tbody>\n",
       "    <tr>\n",
       "      <th>0</th>\n",
       "      <td>5633.5</td>\n",
       "      <td>NaN</td>\n",
       "      <td>NaN</td>\n",
       "      <td>12.1597</td>\n",
       "      <td>NaN</td>\n",
       "      <td>NaN</td>\n",
       "      <td>NaN</td>\n",
       "    </tr>\n",
       "    <tr>\n",
       "      <th>1</th>\n",
       "      <td>5634.0</td>\n",
       "      <td>NaN</td>\n",
       "      <td>NaN</td>\n",
       "      <td>44.0750</td>\n",
       "      <td>NaN</td>\n",
       "      <td>NaN</td>\n",
       "      <td>NaN</td>\n",
       "    </tr>\n",
       "    <tr>\n",
       "      <th>2</th>\n",
       "      <td>5634.5</td>\n",
       "      <td>NaN</td>\n",
       "      <td>NaN</td>\n",
       "      <td>44.0750</td>\n",
       "      <td>NaN</td>\n",
       "      <td>NaN</td>\n",
       "      <td>NaN</td>\n",
       "    </tr>\n",
       "    <tr>\n",
       "      <th>3</th>\n",
       "      <td>5635.0</td>\n",
       "      <td>NaN</td>\n",
       "      <td>NaN</td>\n",
       "      <td>44.0750</td>\n",
       "      <td>NaN</td>\n",
       "      <td>NaN</td>\n",
       "      <td>NaN</td>\n",
       "    </tr>\n",
       "    <tr>\n",
       "      <th>4</th>\n",
       "      <td>5635.5</td>\n",
       "      <td>NaN</td>\n",
       "      <td>NaN</td>\n",
       "      <td>43.7159</td>\n",
       "      <td>NaN</td>\n",
       "      <td>NaN</td>\n",
       "      <td>NaN</td>\n",
       "    </tr>\n",
       "  </tbody>\n",
       "</table>\n",
       "</div>"
      ],
      "text/plain": [
       "     DEPT  DEN  DT       GR  NEU  RES_DEP  PHI\n",
       "0  5633.5  NaN NaN  12.1597  NaN      NaN  NaN\n",
       "1  5634.0  NaN NaN  44.0750  NaN      NaN  NaN\n",
       "2  5634.5  NaN NaN  44.0750  NaN      NaN  NaN\n",
       "3  5635.0  NaN NaN  44.0750  NaN      NaN  NaN\n",
       "4  5635.5  NaN NaN  43.7159  NaN      NaN  NaN"
      ]
     },
     "execution_count": 22,
     "metadata": {},
     "output_type": "execute_result"
    }
   ],
   "source": [
    "well.head()"
   ]
  },
  {
   "cell_type": "code",
   "execution_count": 23,
   "id": "0470f80f",
   "metadata": {},
   "outputs": [],
   "source": [
    "well['PERM']= 10**(results.params[1] * (well['PHI']*100) + results.params[0])"
   ]
  },
  {
   "cell_type": "code",
   "execution_count": 24,
   "id": "032f2058",
   "metadata": {},
   "outputs": [
    {
     "data": {
      "text/html": [
       "<div>\n",
       "<style scoped>\n",
       "    .dataframe tbody tr th:only-of-type {\n",
       "        vertical-align: middle;\n",
       "    }\n",
       "\n",
       "    .dataframe tbody tr th {\n",
       "        vertical-align: top;\n",
       "    }\n",
       "\n",
       "    .dataframe thead th {\n",
       "        text-align: right;\n",
       "    }\n",
       "</style>\n",
       "<table border=\"1\" class=\"dataframe\">\n",
       "  <thead>\n",
       "    <tr style=\"text-align: right;\">\n",
       "      <th></th>\n",
       "      <th>DEPT</th>\n",
       "      <th>DEN</th>\n",
       "      <th>DT</th>\n",
       "      <th>GR</th>\n",
       "      <th>NEU</th>\n",
       "      <th>RES_DEP</th>\n",
       "      <th>PHI</th>\n",
       "      <th>PERM</th>\n",
       "    </tr>\n",
       "  </thead>\n",
       "  <tbody>\n",
       "    <tr>\n",
       "      <th>0</th>\n",
       "      <td>5633.5</td>\n",
       "      <td>NaN</td>\n",
       "      <td>NaN</td>\n",
       "      <td>12.1597</td>\n",
       "      <td>NaN</td>\n",
       "      <td>NaN</td>\n",
       "      <td>NaN</td>\n",
       "      <td>NaN</td>\n",
       "    </tr>\n",
       "    <tr>\n",
       "      <th>1</th>\n",
       "      <td>5634.0</td>\n",
       "      <td>NaN</td>\n",
       "      <td>NaN</td>\n",
       "      <td>44.0750</td>\n",
       "      <td>NaN</td>\n",
       "      <td>NaN</td>\n",
       "      <td>NaN</td>\n",
       "      <td>NaN</td>\n",
       "    </tr>\n",
       "    <tr>\n",
       "      <th>2</th>\n",
       "      <td>5634.5</td>\n",
       "      <td>NaN</td>\n",
       "      <td>NaN</td>\n",
       "      <td>44.0750</td>\n",
       "      <td>NaN</td>\n",
       "      <td>NaN</td>\n",
       "      <td>NaN</td>\n",
       "      <td>NaN</td>\n",
       "    </tr>\n",
       "    <tr>\n",
       "      <th>3</th>\n",
       "      <td>5635.0</td>\n",
       "      <td>NaN</td>\n",
       "      <td>NaN</td>\n",
       "      <td>44.0750</td>\n",
       "      <td>NaN</td>\n",
       "      <td>NaN</td>\n",
       "      <td>NaN</td>\n",
       "      <td>NaN</td>\n",
       "    </tr>\n",
       "    <tr>\n",
       "      <th>4</th>\n",
       "      <td>5635.5</td>\n",
       "      <td>NaN</td>\n",
       "      <td>NaN</td>\n",
       "      <td>43.7159</td>\n",
       "      <td>NaN</td>\n",
       "      <td>NaN</td>\n",
       "      <td>NaN</td>\n",
       "      <td>NaN</td>\n",
       "    </tr>\n",
       "  </tbody>\n",
       "</table>\n",
       "</div>"
      ],
      "text/plain": [
       "     DEPT  DEN  DT       GR  NEU  RES_DEP  PHI  PERM\n",
       "0  5633.5  NaN NaN  12.1597  NaN      NaN  NaN   NaN\n",
       "1  5634.0  NaN NaN  44.0750  NaN      NaN  NaN   NaN\n",
       "2  5634.5  NaN NaN  44.0750  NaN      NaN  NaN   NaN\n",
       "3  5635.0  NaN NaN  44.0750  NaN      NaN  NaN   NaN\n",
       "4  5635.5  NaN NaN  43.7159  NaN      NaN  NaN   NaN"
      ]
     },
     "execution_count": 24,
     "metadata": {},
     "output_type": "execute_result"
    }
   ],
   "source": [
    "well.head()"
   ]
  },
  {
   "cell_type": "code",
   "execution_count": 25,
   "id": "4e80d7c5",
   "metadata": {},
   "outputs": [],
   "source": [
    "well.to_csv('data/freeman_well_3_perm.csv', index=False)"
   ]
  },
  {
   "cell_type": "code",
   "execution_count": null,
   "id": "020fa703",
   "metadata": {},
   "outputs": [],
   "source": [
    "fig, ax = plt.subplots(figsize=(5,10))\n",
    "ax1 = plt.subplot2grid((1,2), (0,0), rowspan=1, colspan = 1)\n",
    "ax2 = plt.subplot2grid((1,2), (0,1), rowspan=1, colspan = 1, sharey = ax1)\n",
    "\n",
    "# Porosity track\n",
    "ax1.plot(core_data[\"por_1000\"]/100, core_data['depth'], color = \"black\", marker='.', linewidth=0)\n",
    "ax1.plot(well['PHI'], well['DEPT'], color ='blue', linewidth=0.5)\n",
    "ax1.set_xlabel(\"Porosity\")\n",
    "ax1.set_xlim(0.5, 0)\n",
    "ax1.xaxis.label.set_color(\"black\")\n",
    "ax1.tick_params(axis='x', colors=\"black\")\n",
    "ax1.spines[\"top\"].set_edgecolor(\"black\")\n",
    "ax1.set_xticks([0.5,  0.25, 0])\n",
    "\n",
    "# Permeability track\n",
    "ax2.plot(core_data[\"ka_1000\"], core_data['depth'], color = \"black\", marker='.', linewidth=0)\n",
    "ax2.plot(well['PERM'], well['DEPT'], color ='blue', linewidth=0.5)\n",
    "ax2.set_xlabel(\"Permeability\")\n",
    "ax2.set_xlim(0.1, 100000)\n",
    "ax2.xaxis.label.set_color(\"black\")\n",
    "ax2.tick_params(axis='x', colors=\"black\")\n",
    "ax2.spines[\"top\"].set_edgecolor(\"black\")\n",
    "ax2.set_xticks([0.01, 1, 10, 100, 10000])\n",
    "ax2.semilogx()\n",
    "\n",
    "# Common functions for setting up the plot can be extracted into\n",
    "# a for loop. This saves repeating code.\n",
    "for ax in [ax1, ax2]:\n",
    "    ax.set_ylim(9025, 8225)\n",
    "    ax.grid(which='major', color='lightgrey', linestyle='-')\n",
    "    ax.xaxis.set_ticks_position(\"top\")\n",
    "    ax.xaxis.set_label_position(\"top\")\n",
    "    \n",
    "# Removes the y axis labels on the second track\n",
    "for ax in [ax2]:\n",
    "    plt.setp(ax.get_yticklabels(), visible = False)\n",
    "    \n",
    "plt.tight_layout()\n",
    "fig.subplots_adjust(wspace = 0.3)\n",
    "# plt.savefig('final_track_plot.png', dpi=100)"
   ]
  },
  {
   "cell_type": "code",
   "execution_count": null,
   "id": "b19e8811",
   "metadata": {},
   "outputs": [],
   "source": [
    "fig, ax = plt.subplots(figsize=(15,10))\n",
    "\n",
    "#Set up the plot axes\n",
    "ax1 = plt.subplot2grid((1,8), (0,0), rowspan=1, colspan = 1)\n",
    "ax2 = plt.subplot2grid((1,8), (0,1), rowspan=1, colspan = 1, sharey = ax1)\n",
    "ax3 = plt.subplot2grid((1,8), (0,2), rowspan=1, colspan = 1, sharey = ax1)\n",
    "ax4 = plt.subplot2grid((1,8), (0,3), rowspan=1, colspan = 1, sharey = ax1)\n",
    "ax5 = ax3.twiny() #Twins the y-axis for the density track with the neutron track\n",
    "# ax6 = plt.subplot2grid((1,8), (0,4), rowspan=1, colspan = 1, sharey = ax1)\n",
    "ax7 = ax2.twiny()\n",
    "ax8 = plt.subplot2grid((1,8), (0,4), rowspan=1, colspan = 1, sharey = ax1)\n",
    "ax9 = plt.subplot2grid((1,8), (0,5), rowspan=1, colspan = 1, sharey = ax1)\n",
    "\n",
    "# As our curve scales will be detached from the top of the track,\n",
    "# this code adds the top border back in without dealing with splines\n",
    "ax10 = ax1.twiny()\n",
    "ax10.xaxis.set_visible(False)\n",
    "ax11 = ax2.twiny()\n",
    "ax11.xaxis.set_visible(False)\n",
    "ax12 = ax3.twiny()\n",
    "ax12.xaxis.set_visible(False)\n",
    "ax13 = ax4.twiny()\n",
    "ax13.xaxis.set_visible(False)\n",
    "# ax14 = ax6.twiny()\n",
    "# ax14.xaxis.set_visible(False)\n",
    "\n",
    "# Gamma Ray track\n",
    "ax1.plot(well[\"GR\"], well['DEPT'], color = \"green\", linewidth = 0.5)\n",
    "ax1.set_xlabel(\"Gamma\")\n",
    "ax1.xaxis.label.set_color(\"green\")\n",
    "ax1.set_xlim(0, 200)\n",
    "ax1.set_ylabel(\"Depth (m)\")\n",
    "ax1.tick_params(axis='x', colors=\"green\")\n",
    "ax1.spines[\"top\"].set_edgecolor(\"green\")\n",
    "ax1.title.set_color('green')\n",
    "ax1.set_xticks([0, 50, 100, 150, 200])\n",
    "\n",
    "# Resistivity track\n",
    "ax2.plot(well[\"RES_DEP\"], well['DEPT'], color = \"red\", linewidth = 0.5)\n",
    "ax2.set_xlabel(\"Resistivity - Deep\")\n",
    "ax2.set_xlim(0.2, 2000)\n",
    "ax2.xaxis.label.set_color(\"red\")\n",
    "ax2.tick_params(axis='x', colors=\"red\")\n",
    "ax2.spines[\"top\"].set_edgecolor(\"red\")\n",
    "ax2.set_xticks([0.1, 1, 10, 100, 1000])\n",
    "ax2.semilogx()\n",
    "\n",
    "# Density track\n",
    "ax3.plot(well[\"DEN\"], well['DEPT'], color = \"red\", linewidth = 0.5)\n",
    "ax3.set_xlabel(\"Density\")\n",
    "ax3.set_xlim(1.95, 2.95)\n",
    "ax3.xaxis.label.set_color(\"red\")\n",
    "ax3.tick_params(axis='x', colors=\"red\")\n",
    "ax3.spines[\"top\"].set_edgecolor(\"red\")\n",
    "ax3.set_xticks([1.95, 2.45, 2.95])\n",
    "\n",
    "# Sonic track\n",
    "ax4.plot(well[\"DT\"], well['DEPT'], color = \"purple\", linewidth = 0.5)\n",
    "ax4.set_xlabel(\"Sonic\")\n",
    "ax4.set_xlim(140, 40)\n",
    "ax4.xaxis.label.set_color(\"purple\")\n",
    "ax4.tick_params(axis='x', colors=\"purple\")\n",
    "ax4.spines[\"top\"].set_edgecolor(\"purple\")\n",
    "\n",
    "# Neutron track placed ontop of density track\n",
    "ax5.plot(well[\"NEUT\"], well['DEPT'], color = \"blue\", linewidth = 0.5)\n",
    "ax5.set_xlabel('Neutron')\n",
    "ax5.xaxis.label.set_color(\"blue\")\n",
    "ax5.set_xlim(0.45, -0.15)\n",
    "ax5.tick_params(axis='x', colors=\"blue\")\n",
    "ax5.spines[\"top\"].set_position((\"axes\", 1.08))\n",
    "ax5.spines[\"top\"].set_visible(True)\n",
    "ax5.spines[\"top\"].set_edgecolor(\"blue\")\n",
    "ax5.set_xticks([0.45,  0.15, -0.15])\n",
    "\n",
    "# Caliper track\n",
    "# ax6.plot(well[\"CALI\"], well['DEPTH'], color = \"black\", linewidth = 0.5)\n",
    "# ax6.set_xlabel(\"Caliper\")\n",
    "# ax6.set_xlim(6, 16)\n",
    "# ax6.xaxis.label.set_color(\"black\")\n",
    "# ax6.tick_params(axis='x', colors=\"black\")\n",
    "# ax6.spines[\"top\"].set_edgecolor(\"black\")\n",
    "# ax6.fill_betweenx(well['DEPTH'], 8.5, well[\"CALI\"], facecolor='yellow')\n",
    "# ax6.set_xticks([6,  11, 16])\n",
    "\n",
    "# Resistivity track - Curve 2\n",
    "# ax7.plot(well[\"RMED\"], well['DEPTH'], color = \"green\", linewidth = 0.5)\n",
    "# ax7.set_xlabel(\"Resistivity - Med\")\n",
    "# ax7.set_xlim(0.2, 2000)\n",
    "# ax7.xaxis.label.set_color(\"green\")\n",
    "# ax7.spines[\"top\"].set_position((\"axes\", 1.08))\n",
    "# ax7.spines[\"top\"].set_visible(True)\n",
    "# ax7.tick_params(axis='x', colors=\"green\")\n",
    "# ax7.spines[\"top\"].set_edgecolor(\"green\")\n",
    "# ax7.set_xticks([0.1, 1, 10, 100, 1000])\n",
    "# ax7.semilogx()\n",
    "\n",
    "# Porosity track\n",
    "ax8.plot(core_data[\"por_1000\"]/100, core_data['depth'], color = \"black\", marker='.', linewidth=0)\n",
    "ax8.plot(well['PHI'], well['DEPT'], color ='blue', linewidth=0.5)\n",
    "ax8.set_xlabel(\"Porosity\")\n",
    "ax8.set_xlim(0.5, 0)\n",
    "ax8.xaxis.label.set_color(\"black\")\n",
    "ax8.tick_params(axis='x', colors=\"black\")\n",
    "ax8.spines[\"top\"].set_edgecolor(\"black\")\n",
    "ax8.set_xticks([0.5,  0.25, 0])\n",
    "\n",
    "# Permeability track\n",
    "ax9.plot(core_data[\"ka_1000\"], core_data['depth'], color = \"black\", marker='.', linewidth=0)\n",
    "ax9.plot(well['PERM'], well['DEPT'], color ='blue', linewidth=0.5)\n",
    "ax9.set_xlabel(\"Permeability\")\n",
    "ax9.set_xlim(0.1, 100000)\n",
    "ax9.xaxis.label.set_color(\"black\")\n",
    "ax9.tick_params(axis='x', colors=\"black\")\n",
    "ax9.spines[\"top\"].set_edgecolor(\"black\")\n",
    "ax9.set_xticks([0.01, 1, 10, 100, 10000])\n",
    "ax9.semilogx()\n",
    "\n",
    "# Common functions for setting up the plot can be extracted into\n",
    "# a for loop. This saves repeating code.\n",
    "for ax in [ax1, ax2, ax3, ax4, ax8, ax9]:\n",
    "    ax.set_ylim(11400, 7700)\n",
    "    ax.grid(which='major', color='lightgrey', linestyle='-')\n",
    "    ax.xaxis.set_ticks_position(\"top\")\n",
    "    ax.xaxis.set_label_position(\"top\")\n",
    "    ax.spines[\"top\"].set_position((\"axes\", 1.02))\n",
    "    \n",
    "    \n",
    "for ax in [ax2, ax3, ax4, ax8, ax9]:\n",
    "    plt.setp(ax.get_yticklabels(), visible = False)\n",
    "    \n",
    "plt.tight_layout()\n",
    "fig.subplots_adjust(wspace = 0.15)"
   ]
  },
  {
   "cell_type": "code",
   "execution_count": null,
   "id": "e419dba3",
   "metadata": {},
   "outputs": [],
   "source": []
  }
 ],
 "metadata": {
  "kernelspec": {
   "display_name": "Python 3 (ipykernel)",
   "language": "python",
   "name": "python3"
  },
  "language_info": {
   "codemirror_mode": {
    "name": "ipython",
    "version": 3
   },
   "file_extension": ".py",
   "mimetype": "text/x-python",
   "name": "python",
   "nbconvert_exporter": "python",
   "pygments_lexer": "ipython3",
   "version": "3.9.13"
  }
 },
 "nbformat": 4,
 "nbformat_minor": 5
}
