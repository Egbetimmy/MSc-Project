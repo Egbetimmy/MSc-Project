{
 "cells": [
  {
   "cell_type": "code",
   "execution_count": 1,
   "id": "0ffe7f2e",
   "metadata": {},
   "outputs": [],
   "source": [
    "import joblib\n",
    "import pandas as pd\n",
    "import numpy as np\n",
    "from sklearn.model_selection import train_test_split"
   ]
  },
  {
   "cell_type": "code",
   "execution_count": 8,
   "id": "3d3dcb64",
   "metadata": {},
   "outputs": [],
   "source": [
    "df = pd.read_csv('data/tee.csv')"
   ]
  },
  {
   "cell_type": "code",
   "execution_count": 10,
   "id": "773d2b87",
   "metadata": {},
   "outputs": [],
   "source": [
    "X = df[['Depth', 'Log_ILD', 'NPHI','RHOB', 'vshale', 'effective porosity']]\n",
    "y = df['PERM']"
   ]
  },
  {
   "cell_type": "code",
   "execution_count": 11,
   "id": "1c5836b8",
   "metadata": {},
   "outputs": [],
   "source": [
    "X_train, X_test, y_train, y_test = train_test_split(X, y, test_size=0.2)"
   ]
  },
  {
   "cell_type": "code",
   "execution_count": 14,
   "id": "970e0b2f",
   "metadata": {},
   "outputs": [
    {
     "data": {
      "text/plain": [
       "0.8236981515423298"
      ]
     },
     "execution_count": 14,
     "metadata": {},
     "output_type": "execute_result"
    }
   ],
   "source": [
    "model1 = joblib.load('decision_tree_best_model.pkl')\n",
    "model1.score(X_test, y_test)"
   ]
  },
  {
   "cell_type": "code",
   "execution_count": 15,
   "id": "dc3ef20d",
   "metadata": {},
   "outputs": [
    {
     "data": {
      "text/plain": [
       "0.9029841579879132"
      ]
     },
     "execution_count": 15,
     "metadata": {},
     "output_type": "execute_result"
    }
   ],
   "source": [
    "model2 = joblib.load('gradient_boosting_best_model.pkl')\n",
    "model2.score(X_test, y_test)"
   ]
  },
  {
   "cell_type": "code",
   "execution_count": 16,
   "id": "2778909f",
   "metadata": {},
   "outputs": [
    {
     "data": {
      "text/plain": [
       "0.994081956245174"
      ]
     },
     "execution_count": 16,
     "metadata": {},
     "output_type": "execute_result"
    }
   ],
   "source": [
    "model2 = joblib.load('random_forest_best_model.pkl')\n",
    "model2.score(X_test, y_test)"
   ]
  },
  {
   "cell_type": "code",
   "execution_count": null,
   "id": "f7e4762e",
   "metadata": {},
   "outputs": [],
   "source": []
  }
 ],
 "metadata": {
  "kernelspec": {
   "display_name": "Python 3 (ipykernel)",
   "language": "python",
   "name": "python3"
  },
  "language_info": {
   "codemirror_mode": {
    "name": "ipython",
    "version": 3
   },
   "file_extension": ".py",
   "mimetype": "text/x-python",
   "name": "python",
   "nbconvert_exporter": "python",
   "pygments_lexer": "ipython3",
   "version": "3.9.13"
  }
 },
 "nbformat": 4,
 "nbformat_minor": 5
}
