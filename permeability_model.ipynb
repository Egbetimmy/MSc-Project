{
 "cells": [
  {
   "cell_type": "code",
   "execution_count": 1,
   "id": "81af6440",
   "metadata": {},
   "outputs": [
    {
     "name": "stderr",
     "output_type": "stream",
     "text": [
      "Enabling notebook extension jupyter-js-widgets/extension...\n",
      "      - Validating: ok\n"
     ]
    }
   ],
   "source": [
    "!jupyter nbextension enable --py widgetsnbextension"
   ]
  },
  {
   "cell_type": "code",
   "execution_count": 2,
   "id": "f60d4ff6",
   "metadata": {},
   "outputs": [
    {
     "data": {
      "text/html": [
       "        <script type=\"text/javascript\">\n",
       "        window.PlotlyConfig = {MathJaxConfig: 'local'};\n",
       "        if (window.MathJax && window.MathJax.Hub && window.MathJax.Hub.Config) {window.MathJax.Hub.Config({SVG: {font: \"STIX-Web\"}});}\n",
       "        if (typeof require !== 'undefined') {\n",
       "        require.undef(\"plotly\");\n",
       "        requirejs.config({\n",
       "            paths: {\n",
       "                'plotly': ['https://cdn.plot.ly/plotly-2.12.1.min']\n",
       "            }\n",
       "        });\n",
       "        require(['plotly'], function(Plotly) {\n",
       "            window._Plotly = Plotly;\n",
       "        });\n",
       "        }\n",
       "        </script>\n",
       "        "
      ]
     },
     "metadata": {},
     "output_type": "display_data"
    },
    {
     "name": "stderr",
     "output_type": "stream",
     "text": [
      "PROJ: proj_create_from_database: SQLite error on SELECT name, type, coordinate_system_auth_name, coordinate_system_code, datum_auth_name, datum_code, area_of_use_auth_name, area_of_use_code, text_definition, deprecated FROM geodetic_crs WHERE auth_name = ? AND code = ?: no such column: area_of_use_auth_name\n"
     ]
    },
    {
     "data": {
      "text/html": [
       "        <script type=\"text/javascript\">\n",
       "        window.PlotlyConfig = {MathJaxConfig: 'local'};\n",
       "        if (window.MathJax && window.MathJax.Hub && window.MathJax.Hub.Config) {window.MathJax.Hub.Config({SVG: {font: \"STIX-Web\"}});}\n",
       "        if (typeof require !== 'undefined') {\n",
       "        require.undef(\"plotly\");\n",
       "        requirejs.config({\n",
       "            paths: {\n",
       "                'plotly': ['https://cdn.plot.ly/plotly-2.12.1.min']\n",
       "            }\n",
       "        });\n",
       "        require(['plotly'], function(Plotly) {\n",
       "            window._Plotly = Plotly;\n",
       "        });\n",
       "        }\n",
       "        </script>\n",
       "        "
      ]
     },
     "metadata": {},
     "output_type": "display_data"
    }
   ],
   "source": [
    "import numpy as np\n",
    "import pandas as pd\n",
    "import scipy\n",
    "\n",
    "# Instansiate the Plotly charting library.\n",
    "import chart_studio.plotly as py\n",
    "import plotly.graph_objs as go\n",
    "import plotly.express as px\n",
    "# We use plotly.offline as this allows us to create interactive \n",
    "# visualisations without the use of an internet connection, \n",
    "# making our notebook more distributable to others. \n",
    "from plotly.offline import iplot, init_notebook_mode\n",
    "init_notebook_mode(connected=True)\n",
    "\n",
    "# The Cufflinks library allows us to directly bind \n",
    "# Pandas dataframes to Plotly charts. \n",
    "import cufflinks as cf\n",
    "# Once again we use the Cufflinks library in offline mode. \n",
    "cf.go_offline(connected=True)\n",
    "cf.set_config_file(colorscale='plotly', world_readable=True)\n",
    "\n",
    "# Extra options. We use these to make our interactive \n",
    "# visualisations more aesthetically appealing. \n",
    "from IPython.core.display import HTML\n",
    "pd.options.display.max_rows = 30\n",
    "pd.options.display.max_columns = 25\n",
    "\n",
    "# Show all code cells outputs\n",
    "from IPython.core.interactiveshell import InteractiveShell\n",
    "InteractiveShell.ast_node_interactivity = 'all'\n",
    "\n",
    "from ipywidgets import interact, interact_manual, widgets"
   ]
  },
  {
   "cell_type": "code",
   "execution_count": 3,
   "id": "9ab2424e",
   "metadata": {},
   "outputs": [],
   "source": [
    "df = pd.read_csv('data/freeman_well_4_eng.csv')"
   ]
  },
  {
   "cell_type": "code",
   "execution_count": 4,
   "id": "14bc1e7e",
   "metadata": {},
   "outputs": [
    {
     "data": {
      "text/html": [
       "<div>\n",
       "<style scoped>\n",
       "    .dataframe tbody tr th:only-of-type {\n",
       "        vertical-align: middle;\n",
       "    }\n",
       "\n",
       "    .dataframe tbody tr th {\n",
       "        vertical-align: top;\n",
       "    }\n",
       "\n",
       "    .dataframe thead th {\n",
       "        text-align: right;\n",
       "    }\n",
       "</style>\n",
       "<table border=\"1\" class=\"dataframe\">\n",
       "  <thead>\n",
       "    <tr style=\"text-align: right;\">\n",
       "      <th></th>\n",
       "      <th>Depth</th>\n",
       "      <th>GR</th>\n",
       "      <th>Log_ILD</th>\n",
       "      <th>DT</th>\n",
       "      <th>RHOB</th>\n",
       "      <th>NPHI</th>\n",
       "      <th>PHI</th>\n",
       "      <th>PERM</th>\n",
       "      <th>velocity</th>\n",
       "      <th>GRI</th>\n",
       "      <th>vshale</th>\n",
       "      <th>PHIeff</th>\n",
       "      <th>formation_factor</th>\n",
       "      <th>swirr</th>\n",
       "      <th>permeability</th>\n",
       "      <th>Facies_code</th>\n",
       "    </tr>\n",
       "  </thead>\n",
       "  <tbody>\n",
       "    <tr>\n",
       "      <th>0</th>\n",
       "      <td>7682.5</td>\n",
       "      <td>39.0321</td>\n",
       "      <td>0.9332</td>\n",
       "      <td>137.507</td>\n",
       "      <td>2.2382</td>\n",
       "      <td>0.5983</td>\n",
       "      <td>0.0188</td>\n",
       "      <td>0.002024</td>\n",
       "      <td>7272.357044</td>\n",
       "      <td>0.0</td>\n",
       "      <td>0.0</td>\n",
       "      <td>0.0188</td>\n",
       "      <td>3183.84791</td>\n",
       "      <td>1.261715</td>\n",
       "      <td>314.443398</td>\n",
       "      <td>0</td>\n",
       "    </tr>\n",
       "    <tr>\n",
       "      <th>1</th>\n",
       "      <td>7683.0</td>\n",
       "      <td>39.0321</td>\n",
       "      <td>0.9332</td>\n",
       "      <td>137.507</td>\n",
       "      <td>2.2382</td>\n",
       "      <td>0.5983</td>\n",
       "      <td>0.0188</td>\n",
       "      <td>0.002024</td>\n",
       "      <td>7272.357044</td>\n",
       "      <td>0.0</td>\n",
       "      <td>0.0</td>\n",
       "      <td>0.0188</td>\n",
       "      <td>3183.84791</td>\n",
       "      <td>1.261715</td>\n",
       "      <td>314.443398</td>\n",
       "      <td>0</td>\n",
       "    </tr>\n",
       "    <tr>\n",
       "      <th>2</th>\n",
       "      <td>7683.5</td>\n",
       "      <td>39.0321</td>\n",
       "      <td>0.9332</td>\n",
       "      <td>137.507</td>\n",
       "      <td>2.2382</td>\n",
       "      <td>0.5983</td>\n",
       "      <td>0.0188</td>\n",
       "      <td>0.002024</td>\n",
       "      <td>7272.357044</td>\n",
       "      <td>0.0</td>\n",
       "      <td>0.0</td>\n",
       "      <td>0.0188</td>\n",
       "      <td>3183.84791</td>\n",
       "      <td>1.261715</td>\n",
       "      <td>314.443398</td>\n",
       "      <td>0</td>\n",
       "    </tr>\n",
       "    <tr>\n",
       "      <th>3</th>\n",
       "      <td>7684.0</td>\n",
       "      <td>39.0321</td>\n",
       "      <td>0.9332</td>\n",
       "      <td>137.507</td>\n",
       "      <td>2.2382</td>\n",
       "      <td>0.5983</td>\n",
       "      <td>0.0188</td>\n",
       "      <td>0.002024</td>\n",
       "      <td>7272.357044</td>\n",
       "      <td>0.0</td>\n",
       "      <td>0.0</td>\n",
       "      <td>0.0188</td>\n",
       "      <td>3183.84791</td>\n",
       "      <td>1.261715</td>\n",
       "      <td>314.443398</td>\n",
       "      <td>0</td>\n",
       "    </tr>\n",
       "    <tr>\n",
       "      <th>4</th>\n",
       "      <td>7684.5</td>\n",
       "      <td>39.0321</td>\n",
       "      <td>0.9332</td>\n",
       "      <td>137.507</td>\n",
       "      <td>2.2382</td>\n",
       "      <td>0.5983</td>\n",
       "      <td>0.0188</td>\n",
       "      <td>0.002024</td>\n",
       "      <td>7272.357044</td>\n",
       "      <td>0.0</td>\n",
       "      <td>0.0</td>\n",
       "      <td>0.0188</td>\n",
       "      <td>3183.84791</td>\n",
       "      <td>1.261715</td>\n",
       "      <td>314.443398</td>\n",
       "      <td>0</td>\n",
       "    </tr>\n",
       "  </tbody>\n",
       "</table>\n",
       "</div>"
      ],
      "text/plain": [
       "    Depth       GR  Log_ILD       DT    RHOB    NPHI     PHI      PERM  \\\n",
       "0  7682.5  39.0321   0.9332  137.507  2.2382  0.5983  0.0188  0.002024   \n",
       "1  7683.0  39.0321   0.9332  137.507  2.2382  0.5983  0.0188  0.002024   \n",
       "2  7683.5  39.0321   0.9332  137.507  2.2382  0.5983  0.0188  0.002024   \n",
       "3  7684.0  39.0321   0.9332  137.507  2.2382  0.5983  0.0188  0.002024   \n",
       "4  7684.5  39.0321   0.9332  137.507  2.2382  0.5983  0.0188  0.002024   \n",
       "\n",
       "      velocity  GRI  vshale  PHIeff  formation_factor     swirr  permeability  \\\n",
       "0  7272.357044  0.0     0.0  0.0188        3183.84791  1.261715    314.443398   \n",
       "1  7272.357044  0.0     0.0  0.0188        3183.84791  1.261715    314.443398   \n",
       "2  7272.357044  0.0     0.0  0.0188        3183.84791  1.261715    314.443398   \n",
       "3  7272.357044  0.0     0.0  0.0188        3183.84791  1.261715    314.443398   \n",
       "4  7272.357044  0.0     0.0  0.0188        3183.84791  1.261715    314.443398   \n",
       "\n",
       "   Facies_code  \n",
       "0            0  \n",
       "1            0  \n",
       "2            0  \n",
       "3            0  \n",
       "4            0  "
      ]
     },
     "execution_count": 4,
     "metadata": {},
     "output_type": "execute_result"
    }
   ],
   "source": [
    "df.head()"
   ]
  },
  {
   "cell_type": "code",
   "execution_count": 6,
   "id": "0aff7478",
   "metadata": {
    "scrolled": false
   },
   "outputs": [
    {
     "data": {
      "text/plain": [
       "<AxesSubplot:>"
      ]
     },
     "execution_count": 6,
     "metadata": {},
     "output_type": "execute_result"
    },
    {
     "data": {
      "image/png": "[encoded data removed]",
      "text/plain": [
       "<Figure size 640x480 with 2 Axes>"
      ]
     },
     "metadata": {},
     "output_type": "display_data"
    }
   ],
   "source": [
    "import seaborn as sns\n",
    "sns.heatmap(df.corr())"
   ]
  },
  {
   "cell_type": "code",
   "execution_count": 8,
   "id": "d2c5920b",
   "metadata": {},
   "outputs": [
    {
     "name": "stdout",
     "output_type": "stream",
     "text": [
      "Depth              -0.017778\n",
      "GR                 -0.016985\n",
      "Log_ILD            -0.000880\n",
      "DT                  0.027767\n",
      "RHOB               -0.069722\n",
      "NPHI               -0.015865\n",
      "PHI                 0.075397\n",
      "PERM                1.000000\n",
      "velocity           -0.024939\n",
      "GRI                -0.016985\n",
      "vshale             -0.016468\n",
      "PHIeff              0.074888\n",
      "formation_factor   -0.000836\n",
      "swirr              -0.006747\n",
      "permeability        0.138506\n",
      "Facies_code         0.001706\n",
      "dtype: float64\n"
     ]
    },
    {
     "data": {
      "text/plain": [
       "<AxesSubplot:>"
      ]
     },
     "execution_count": 8,
     "metadata": {},
     "output_type": "execute_result"
    },
    {
     "data": {
      "text/plain": [
       "Text(0.5, 0, 'Features')"
      ]
     },
     "execution_count": 8,
     "metadata": {},
     "output_type": "execute_result"
    },
    {
     "data": {
      "text/plain": [
       "Text(0, 0.5, 'Correlation with target')"
      ]
     },
     "execution_count": 8,
     "metadata": {},
     "output_type": "execute_result"
    },
    {
     "data": {
      "text/plain": [
       "Text(0.5, 1.0, 'Correlation between features and target variable')"
      ]
     },
     "execution_count": 8,
     "metadata": {},
     "output_type": "execute_result"
    },
    {
     "data": {
      "image/png": "[encoded data removed]",
      "text/plain": [
       "<Figure size 640x480 with 1 Axes>"
      ]
     },
     "metadata": {},
     "output_type": "display_data"
    }
   ],
   "source": [
    "# Calculate the correlation coefficients between features and the target variable\n",
    "import matplotlib.pyplot as plt\n",
    "corr_with_target = df.corrwith(df['PERM'])\n",
    "\n",
    "# Display the correlation coefficients\n",
    "print(corr_with_target)\n",
    "\n",
    "corr_with_target.plot(kind='bar')\n",
    "\n",
    "# Add axis labels and a title\n",
    "plt.xlabel('Features')\n",
    "plt.ylabel('Correlation with target')\n",
    "plt.title('Correlation between features and target variable')\n",
    "plt.show()"
   ]
  },
  {
   "cell_type": "code",
   "execution_count": 6,
   "id": "921d5aaf",
   "metadata": {},
   "outputs": [],
   "source": [
    "from sklearn import preprocessing\n",
    "from sklearn import utils\n",
    "lab_enc = preprocessing.LabelEncoder()"
   ]
  },
  {
   "cell_type": "code",
   "execution_count": 7,
   "id": "9e864633",
   "metadata": {},
   "outputs": [
    {
     "data": {
      "text/plain": [
       "7265"
      ]
     },
     "execution_count": 7,
     "metadata": {},
     "output_type": "execute_result"
    }
   ],
   "source": [
    "df['Facies_code'].count()"
   ]
  },
  {
   "cell_type": "code",
   "execution_count": 8,
   "id": "abd0f480",
   "metadata": {},
   "outputs": [],
   "source": [
    "df['Facies']= lab_enc.fit_transform(df['Facies_code'])"
   ]
  },
  {
   "cell_type": "code",
   "execution_count": 9,
   "id": "e02b5b5d",
   "metadata": {},
   "outputs": [
    {
     "data": {
      "text/plain": [
       "array([0, 1, 2], dtype=int64)"
      ]
     },
     "execution_count": 9,
     "metadata": {},
     "output_type": "execute_result"
    }
   ],
   "source": [
    "df['Facies'].unique()"
   ]
  },
  {
   "cell_type": "code",
   "execution_count": 10,
   "id": "9586ac73",
   "metadata": {},
   "outputs": [
    {
     "data": {
      "application/vnd.jupyter.widget-view+json": {
       "model_id": "81db4a0021c44cf5aece71f8da6f87c4",
       "version_major": 2,
       "version_minor": 0
      },
      "text/plain": [
       "interactive(children=(Dropdown(description='column1', options=('Depth', 'GR', 'Log_ILD', 'DT', 'RHOB', 'NPHI',…"
      ]
     },
     "metadata": {},
     "output_type": "display_data"
    }
   ],
   "source": [
    "@interact\n",
    "def correlations(column1=list(df.select_dtypes('number').columns), \n",
    "                 column2=list(df.select_dtypes('number').columns)):\n",
    "    print(f\"Correlation: {df[column1].corr(df[column2])}\")"
   ]
  },
  {
   "cell_type": "code",
   "execution_count": 11,
   "id": "fe13456e",
   "metadata": {},
   "outputs": [
    {
     "data": {
      "application/vnd.jupyter.widget-view+json": {
       "model_id": "6f276560ae7546b5b3438310b3f3b059",
       "version_major": 2,
       "version_minor": 0
      },
      "text/plain": [
       "interactive(children=(Dropdown(description='x', options=('Depth', 'GR', 'Log_ILD', 'DT', 'RHOB', 'NPHI', 'PHI'…"
      ]
     },
     "metadata": {},
     "output_type": "display_data"
    }
   ],
   "source": [
    "@interact\n",
    "def scatter_plot(x=list(df.select_dtypes('number').columns), \n",
    "                 y=list(df.select_dtypes('number').columns)[1:]):\n",
    "    if x == y:\n",
    "        print(f\"Please select seperate variables for X and Y\")\n",
    "    else:\n",
    "        df.iplot(kind='scatter', x=x, y=y, mode='markers', \n",
    "                 xTitle=x.title(), yTitle=y.title(), title=f'{y.title()} vs {x.title()}')\n",
    "        ## if you are using Google Colab, comment out the above line of code and uncomment the lines below\n",
    "        #fig = px.scatter(df, x=x, y=y, title=f'{y.title()} vs {x.title()}')\n",
    "        #fig.show(renderer=\"colab\")"
   ]
  },
  {
   "cell_type": "code",
   "execution_count": 12,
   "id": "23ded5be",
   "metadata": {},
   "outputs": [
    {
     "data": {
      "application/vnd.jupyter.widget-view+json": {
       "model_id": "092fbde61f214ccba0e77c43a37a1841",
       "version_major": 2,
       "version_minor": 0
      },
      "text/plain": [
       "interactive(children=(Dropdown(description='colorscale', options=('Greys', 'YlGnBu', 'Greens', 'YlOrRd', 'Blue…"
      ]
     },
     "metadata": {},
     "output_type": "display_data"
    }
   ],
   "source": [
    "cscales = ['Greys', 'YlGnBu', 'Greens', 'YlOrRd', 'Bluered', 'RdBu',\n",
    "            'Reds', 'Blues', 'Picnic', 'Rainbow', 'Portland', 'Jet',\n",
    "            'Hot', 'Blackbody', 'Earth', 'Electric', 'Viridis', 'Cividis']\n",
    "\n",
    "# We use the Figure Factory module of Plotly, which\n",
    "# defines many unique and powerful plots to be used\n",
    "# in Python. \n",
    "# For more info, see: https://plot.ly/python/figure-factory-subplots/\n",
    "import plotly.figure_factory as ff\n",
    "\n",
    "corrs = df.corr()\n",
    "\n",
    "@interact\n",
    "def plot_corrs(colorscale=cscales):\n",
    "    figure = ff.create_annotated_heatmap(z = corrs.round(2).values, \n",
    "                                     x =list(corrs.columns), \n",
    "                                     y=list(corrs.index), \n",
    "                                     colorscale=colorscale,\n",
    "                                     annotation_text=corrs.round(2).values)\n",
    "    iplot(figure)\n",
    "    ## if you are using Google Colab, comment out the above line of code and uncomment the line below\n",
    "    #figure.show(renderer=\"colab\")"
   ]
  },
  {
   "cell_type": "code",
   "execution_count": 13,
   "id": "4b230e04",
   "metadata": {},
   "outputs": [
    {
     "data": {
      "application/vnd.jupyter.widget-view+json": {
       "model_id": "31d7e770fc0a49c79b091dfffd1e98bf",
       "version_major": 2,
       "version_minor": 0
      },
      "text/plain": [
       "interactive(children=(Dropdown(description='x', options=('Depth', 'GR', 'Log_ILD', 'DT', 'RHOB', 'NPHI', 'PHI'…"
      ]
     },
     "metadata": {},
     "output_type": "display_data"
    }
   ],
   "source": [
    "@interact_manual\n",
    "def scatter_plot(x=list(df.select_dtypes('number').columns), \n",
    "                 y=list(df.select_dtypes('number').columns)[1:],\n",
    "                 theme=list(cf.themes.THEMES.keys()), \n",
    "                 colorscale=list(cf.colors._scales_names.keys())):\n",
    "    \n",
    "    if x == y:\n",
    "        print(f\"Please select seperate variables for X and Y\")\n",
    "    else:\n",
    "        df.iplot(kind='scatter', x=x, y=y, mode='markers', \n",
    "                 xTitle=x.title(), yTitle=y.title(), \n",
    "                 text='Depth',\n",
    "                 title=f'{y.title()} vs {x.title()}',\n",
    "                theme=theme, colorscale=colorscale)\n",
    "        ## if you are using Google Colab, comment out the above line of code and uncomment the line below\n",
    "        #fig = px.scatter(df, x=x, y=y, title=f'{y.title()} vs {x.title()}')\n",
    "        #fig.show(renderer=\"colab\")"
   ]
  },
  {
   "cell_type": "code",
   "execution_count": 14,
   "id": "4f10a796",
   "metadata": {},
   "outputs": [
    {
     "name": "stdout",
     "output_type": "stream",
     "text": [
      "Index(['Depth', 'GR', 'Log_ILD', 'DT', 'RHOB', 'NPHI', 'PHI', 'PERM',\n",
      "       'velocity', 'GRI', 'vshale', 'PHIeff', 'formation_factor', 'swirr',\n",
      "       'permeability', 'Facies_code', 'Facies'],\n",
      "      dtype='object')\n"
     ]
    }
   ],
   "source": [
    "print(df.columns)"
   ]
  },
  {
   "cell_type": "code",
   "execution_count": 15,
   "id": "4b546321",
   "metadata": {
    "scrolled": false
   },
   "outputs": [],
   "source": [
    "# Define input features and target variable\n",
    "X = df[['Depth', 'Log_ILD', 'NPHI','RHOB', 'vshale', 'PHIeff', 'swirr', 'Facies_code']]\n",
    "y = df['PERM']"
   ]
  },
  {
   "cell_type": "code",
   "execution_count": 24,
   "id": "aa373ec5",
   "metadata": {},
   "outputs": [],
   "source": [
    "from sklearn.feature_selection import SelectKBest, f_regression\n",
    "\n",
    "# Select top 5 features based on F-value scores\n",
    "selector = SelectKBest(f_regression, k=5)\n",
    "X_new = selector.fit_transform(X, y)\n",
    "\n",
    "# Get the indices of the selected features\n",
    "selected_features = X.columns[selector.get_support(indices=True)].tolist()\n"
   ]
  },
  {
   "cell_type": "code",
   "execution_count": 25,
   "id": "fa42b31b",
   "metadata": {},
   "outputs": [
    {
     "data": {
      "text/plain": [
       "['Depth', 'NPHI', 'RHOB', 'vshale', 'PHIeff']"
      ]
     },
     "execution_count": 25,
     "metadata": {},
     "output_type": "execute_result"
    }
   ],
   "source": [
    "selected_features"
   ]
  },
  {
   "cell_type": "code",
   "execution_count": 16,
   "id": "6f7be9ef",
   "metadata": {},
   "outputs": [],
   "source": [
    "from sklearn.model_selection import train_test_split, GridSearchCV\n",
    "from sklearn.metrics import mean_squared_error\n",
    "from sklearn.ensemble import RandomForestRegressor, GradientBoostingRegressor\n",
    "from sklearn.svm import SVR\n",
    "from sklearn.tree import DecisionTreeRegressor\n",
    "from sklearn.neural_network import MLPRegressor\n",
    "from sklearn.pipeline import Pipeline\n",
    "from sklearn.pipeline import make_pipeline\n",
    "from sklearn.preprocessing import StandardScaler\n",
    "import joblib"
   ]
  },
  {
   "cell_type": "code",
   "execution_count": 17,
   "id": "b7cbf0cc",
   "metadata": {},
   "outputs": [],
   "source": [
    "# Split data into training and testing sets\n",
    "X_train, X_test, y_train, y_test = train_test_split(X, y, test_size=0.2)\n",
    "\n",
    "# Define dictionary of models and their hyperparameters\n",
    "models = {\n",
    "    'svm': {\n",
    "        'model': make_pipeline(StandardScaler(), SVR()),\n",
    "        'params': {\n",
    "            'svr__kernel': ['linear', 'rbf', 'poly'],\n",
    "            'svr__C': [0.1, 1, 10],\n",
    "            'svr__gamma': ['scale', 'auto']\n",
    "        }\n",
    "    },\n",
    "    'random_forest': {\n",
    "        'model': RandomForestRegressor(),\n",
    "        'params': {\n",
    "            'n_estimators': [50, 100, 150],\n",
    "            'max_depth': [10, 20, 30]\n",
    "        }\n",
    "    },\n",
    "    'decision_tree': {\n",
    "        'model': DecisionTreeRegressor(),\n",
    "        'params': {\n",
    "            'max_depth': [5, 10, 15],\n",
    "            'min_samples_split': [2, 5, 10]\n",
    "        }\n",
    "    },\n",
    "    'neural_network': {\n",
    "        'model': MLPRegressor(),\n",
    "        'params': {\n",
    "            'hidden_layer_sizes': [(10,), (20,), (30,)],\n",
    "            'activation': ['relu', 'tanh', 'logistic']\n",
    "        }\n",
    "    },\n",
    "    'gradient_boosting': {\n",
    "        'model': GradientBoostingRegressor(),\n",
    "        'params': {\n",
    "            'learning_rate': [0.05, 0.1, 0.2],\n",
    "            'n_estimators': [50, 100, 150],\n",
    "            'max_depth': [3, 5, 7]\n",
    "        }\n",
    "    }\n",
    "}"
   ]
  },
  {
   "cell_type": "code",
   "execution_count": 18,
   "id": "c56a8f48",
   "metadata": {
    "scrolled": false
   },
   "outputs": [
    {
     "data": {
      "text/plain": [
       "GridSearchCV(cv=5,\n",
       "             estimator=Pipeline(steps=[('standardscaler', StandardScaler()),\n",
       "                                       ('svr', SVR())]),\n",
       "             n_jobs=-1,\n",
       "             param_grid={'svr__C': [0.1, 1, 10],\n",
       "                         'svr__gamma': ['scale', 'auto'],\n",
       "                         'svr__kernel': ['linear', 'rbf', 'poly']})"
      ]
     },
     "execution_count": 18,
     "metadata": {},
     "output_type": "execute_result"
    },
    {
     "data": {
      "text/plain": [
       "['models/svm_best_model.pkl']"
      ]
     },
     "execution_count": 18,
     "metadata": {},
     "output_type": "execute_result"
    },
    {
     "data": {
      "text/plain": [
       "GridSearchCV(cv=5, estimator=RandomForestRegressor(), n_jobs=-1,\n",
       "             param_grid={'max_depth': [10, 20, 30],\n",
       "                         'n_estimators': [50, 100, 150]})"
      ]
     },
     "execution_count": 18,
     "metadata": {},
     "output_type": "execute_result"
    },
    {
     "data": {
      "text/plain": [
       "['models/random_forest_best_model.pkl']"
      ]
     },
     "execution_count": 18,
     "metadata": {},
     "output_type": "execute_result"
    },
    {
     "data": {
      "text/plain": [
       "GridSearchCV(cv=5, estimator=DecisionTreeRegressor(), n_jobs=-1,\n",
       "             param_grid={'max_depth': [5, 10, 15],\n",
       "                         'min_samples_split': [2, 5, 10]})"
      ]
     },
     "execution_count": 18,
     "metadata": {},
     "output_type": "execute_result"
    },
    {
     "data": {
      "text/plain": [
       "['models/decision_tree_best_model.pkl']"
      ]
     },
     "execution_count": 18,
     "metadata": {},
     "output_type": "execute_result"
    },
    {
     "name": "stderr",
     "output_type": "stream",
     "text": [
      "C:\\ProgramData\\Anaconda3\\lib\\site-packages\\sklearn\\neural_network\\_multilayer_perceptron.py:692: ConvergenceWarning:\n",
      "\n",
      "Stochastic Optimizer: Maximum iterations (200) reached and the optimization hasn't converged yet.\n",
      "\n"
     ]
    },
    {
     "data": {
      "text/plain": [
       "GridSearchCV(cv=5, estimator=MLPRegressor(), n_jobs=-1,\n",
       "             param_grid={'activation': ['relu', 'tanh', 'logistic'],\n",
       "                         'hidden_layer_sizes': [(10,), (20,), (30,)]})"
      ]
     },
     "execution_count": 18,
     "metadata": {},
     "output_type": "execute_result"
    },
    {
     "data": {
      "text/plain": [
       "['models/neural_network_best_model.pkl']"
      ]
     },
     "execution_count": 18,
     "metadata": {},
     "output_type": "execute_result"
    },
    {
     "data": {
      "text/plain": [
       "GridSearchCV(cv=5, estimator=GradientBoostingRegressor(), n_jobs=-1,\n",
       "             param_grid={'learning_rate': [0.05, 0.1, 0.2],\n",
       "                         'max_depth': [3, 5, 7],\n",
       "                         'n_estimators': [50, 100, 150]})"
      ]
     },
     "execution_count": 18,
     "metadata": {},
     "output_type": "execute_result"
    },
    {
     "data": {
      "text/plain": [
       "['models/gradient_boosting_best_model.pkl']"
      ]
     },
     "execution_count": 18,
     "metadata": {},
     "output_type": "execute_result"
    }
   ],
   "source": [
    "scores = []\n",
    "# Loop over each model and perform grid search with cross-validation to find best hyperparameters \n",
    "## scoring='neg_mean_squared_error'\n",
    "for model_name, model in models.items():\n",
    "    clf = GridSearchCV(model['model'], model['params'], cv=5, n_jobs=-1, return_train_score=False)\n",
    "    clf.fit(X_train, y_train)\n",
    "    best_params = clf.best_params_\n",
    "    \n",
    "    # Evaluate best model on test set\n",
    "    y_pred = clf.predict(X_test)\n",
    "    mse = mean_squared_error(y_test, y_pred)\n",
    "    rmse = np.sqrt(mse)\n",
    "    r2 = clf.score(X_test, y_test)\n",
    "    scores.append({\n",
    "        'model': model_name,\n",
    "        'best_score': clf.best_score_,\n",
    "        'best_params': best_params,\n",
    "        'RMSE': rmse,\n",
    "        'R-squared': r2\n",
    "    })\n",
    "    # Save the best model for each method\n",
    "    joblib.dump(clf.best_estimator_, f\"models/{model_name}_best_model.pkl\")"
   ]
  },
  {
   "cell_type": "code",
   "execution_count": 19,
   "id": "4ae87c13",
   "metadata": {},
   "outputs": [
    {
     "data": {
      "text/html": [
       "<div>\n",
       "<style scoped>\n",
       "    .dataframe tbody tr th:only-of-type {\n",
       "        vertical-align: middle;\n",
       "    }\n",
       "\n",
       "    .dataframe tbody tr th {\n",
       "        vertical-align: top;\n",
       "    }\n",
       "\n",
       "    .dataframe thead th {\n",
       "        text-align: right;\n",
       "    }\n",
       "</style>\n",
       "<table border=\"1\" class=\"dataframe\">\n",
       "  <thead>\n",
       "    <tr style=\"text-align: right;\">\n",
       "      <th></th>\n",
       "      <th>model</th>\n",
       "      <th>best_params</th>\n",
       "      <th>best_score</th>\n",
       "      <th>RMSE</th>\n",
       "      <th>R-squared</th>\n",
       "    </tr>\n",
       "  </thead>\n",
       "  <tbody>\n",
       "    <tr>\n",
       "      <th>0</th>\n",
       "      <td>svm</td>\n",
       "      <td>{'svr__C': 10, 'svr__gamma': 'auto', 'svr__ker...</td>\n",
       "      <td>0.241980</td>\n",
       "      <td>1493.445192</td>\n",
       "      <td>0.081268</td>\n",
       "    </tr>\n",
       "    <tr>\n",
       "      <th>1</th>\n",
       "      <td>random_forest</td>\n",
       "      <td>{'max_depth': 10, 'n_estimators': 50}</td>\n",
       "      <td>0.686534</td>\n",
       "      <td>585.373483</td>\n",
       "      <td>0.858851</td>\n",
       "    </tr>\n",
       "    <tr>\n",
       "      <th>2</th>\n",
       "      <td>decision_tree</td>\n",
       "      <td>{'max_depth': 15, 'min_samples_split': 2}</td>\n",
       "      <td>0.693036</td>\n",
       "      <td>204.671411</td>\n",
       "      <td>0.982745</td>\n",
       "    </tr>\n",
       "    <tr>\n",
       "      <th>3</th>\n",
       "      <td>neural_network</td>\n",
       "      <td>{'activation': 'tanh', 'hidden_layer_sizes': (...</td>\n",
       "      <td>-0.000932</td>\n",
       "      <td>1558.893863</td>\n",
       "      <td>-0.001022</td>\n",
       "    </tr>\n",
       "    <tr>\n",
       "      <th>4</th>\n",
       "      <td>gradient_boosting</td>\n",
       "      <td>{'learning_rate': 0.2, 'max_depth': 3, 'n_esti...</td>\n",
       "      <td>0.711957</td>\n",
       "      <td>246.197386</td>\n",
       "      <td>0.975032</td>\n",
       "    </tr>\n",
       "  </tbody>\n",
       "</table>\n",
       "</div>"
      ],
      "text/plain": [
       "               model                                        best_params  \\\n",
       "0                svm  {'svr__C': 10, 'svr__gamma': 'auto', 'svr__ker...   \n",
       "1      random_forest              {'max_depth': 10, 'n_estimators': 50}   \n",
       "2      decision_tree          {'max_depth': 15, 'min_samples_split': 2}   \n",
       "3     neural_network  {'activation': 'tanh', 'hidden_layer_sizes': (...   \n",
       "4  gradient_boosting  {'learning_rate': 0.2, 'max_depth': 3, 'n_esti...   \n",
       "\n",
       "   best_score         RMSE  R-squared  \n",
       "0    0.241980  1493.445192   0.081268  \n",
       "1    0.686534   585.373483   0.858851  \n",
       "2    0.693036   204.671411   0.982745  \n",
       "3   -0.000932  1558.893863  -0.001022  \n",
       "4    0.711957   246.197386   0.975032  "
      ]
     },
     "execution_count": 19,
     "metadata": {},
     "output_type": "execute_result"
    }
   ],
   "source": [
    "best_model_df = pd.DataFrame(scores, columns=['model', 'best_params', 'best_score', 'RMSE', 'R-squared'])\n",
    "best_model_df"
   ]
  },
  {
   "cell_type": "code",
   "execution_count": 21,
   "id": "7970c95c",
   "metadata": {},
   "outputs": [],
   "source": [
    "best_model_df.to_csv('data/best_model.csv', index=False)"
   ]
  },
  {
   "cell_type": "code",
   "execution_count": 22,
   "id": "9d90f252",
   "metadata": {},
   "outputs": [],
   "source": [
    "# Load the models from the model folder\n",
    "model_rf = joblib.load('models/random_forest_best_model.pkl')\n",
    "model_dt = joblib.load('models/decision_tree_best_model.pkl')\n",
    "model_gb = joblib.load('models/gradient_boosting_best_model.pkl')"
   ]
  },
  {
   "cell_type": "code",
   "execution_count": 27,
   "id": "20bccd21",
   "metadata": {},
   "outputs": [
    {
     "data": {
      "text/html": [
       "<div>\n",
       "<style scoped>\n",
       "    .dataframe tbody tr th:only-of-type {\n",
       "        vertical-align: middle;\n",
       "    }\n",
       "\n",
       "    .dataframe tbody tr th {\n",
       "        vertical-align: top;\n",
       "    }\n",
       "\n",
       "    .dataframe thead th {\n",
       "        text-align: right;\n",
       "    }\n",
       "</style>\n",
       "<table border=\"1\" class=\"dataframe\">\n",
       "  <thead>\n",
       "    <tr style=\"text-align: right;\">\n",
       "      <th></th>\n",
       "      <th>Depth</th>\n",
       "      <th>Log_ILD</th>\n",
       "      <th>NPHI</th>\n",
       "      <th>RHOB</th>\n",
       "      <th>vshale</th>\n",
       "      <th>effective porosity</th>\n",
       "      <th>Actual Permeability</th>\n",
       "      <th>rf_Permeability</th>\n",
       "      <th>dt_Permeability</th>\n",
       "      <th>gb_Permeability</th>\n",
       "    </tr>\n",
       "  </thead>\n",
       "  <tbody>\n",
       "    <tr>\n",
       "      <th>2253</th>\n",
       "      <td>8828.0</td>\n",
       "      <td>0.8841</td>\n",
       "      <td>0.4800</td>\n",
       "      <td>2.3139</td>\n",
       "      <td>0.306179</td>\n",
       "      <td>0.149672</td>\n",
       "      <td>5.545289</td>\n",
       "      <td>5.634187</td>\n",
       "      <td>5.558085</td>\n",
       "      <td>5.174887</td>\n",
       "    </tr>\n",
       "    <tr>\n",
       "      <th>4033</th>\n",
       "      <td>9722.0</td>\n",
       "      <td>0.9615</td>\n",
       "      <td>0.4132</td>\n",
       "      <td>2.3808</td>\n",
       "      <td>0.289862</td>\n",
       "      <td>0.107258</td>\n",
       "      <td>0.711243</td>\n",
       "      <td>0.675668</td>\n",
       "      <td>0.701661</td>\n",
       "      <td>0.743880</td>\n",
       "    </tr>\n",
       "    <tr>\n",
       "      <th>5023</th>\n",
       "      <td>10218.0</td>\n",
       "      <td>1.3877</td>\n",
       "      <td>0.4481</td>\n",
       "      <td>2.3733</td>\n",
       "      <td>0.425534</td>\n",
       "      <td>0.094078</td>\n",
       "      <td>0.895380</td>\n",
       "      <td>0.860429</td>\n",
       "      <td>0.886630</td>\n",
       "      <td>0.902038</td>\n",
       "    </tr>\n",
       "    <tr>\n",
       "      <th>6946</th>\n",
       "      <td>11183.0</td>\n",
       "      <td>0.8397</td>\n",
       "      <td>0.4304</td>\n",
       "      <td>2.4282</td>\n",
       "      <td>0.318960</td>\n",
       "      <td>0.071759</td>\n",
       "      <td>0.165991</td>\n",
       "      <td>0.174217</td>\n",
       "      <td>0.159611</td>\n",
       "      <td>0.255967</td>\n",
       "    </tr>\n",
       "    <tr>\n",
       "      <th>2005</th>\n",
       "      <td>8704.0</td>\n",
       "      <td>1.9346</td>\n",
       "      <td>0.3475</td>\n",
       "      <td>2.1625</td>\n",
       "      <td>0.176851</td>\n",
       "      <td>0.268002</td>\n",
       "      <td>580.378588</td>\n",
       "      <td>564.311013</td>\n",
       "      <td>580.378588</td>\n",
       "      <td>564.701738</td>\n",
       "    </tr>\n",
       "  </tbody>\n",
       "</table>\n",
       "</div>"
      ],
      "text/plain": [
       "        Depth  Log_ILD    NPHI    RHOB    vshale  effective porosity  \\\n",
       "2253   8828.0   0.8841  0.4800  2.3139  0.306179            0.149672   \n",
       "4033   9722.0   0.9615  0.4132  2.3808  0.289862            0.107258   \n",
       "5023  10218.0   1.3877  0.4481  2.3733  0.425534            0.094078   \n",
       "6946  11183.0   0.8397  0.4304  2.4282  0.318960            0.071759   \n",
       "2005   8704.0   1.9346  0.3475  2.1625  0.176851            0.268002   \n",
       "\n",
       "      Actual Permeability  rf_Permeability  dt_Permeability  gb_Permeability  \n",
       "2253             5.545289         5.634187         5.558085         5.174887  \n",
       "4033             0.711243         0.675668         0.701661         0.743880  \n",
       "5023             0.895380         0.860429         0.886630         0.902038  \n",
       "6946             0.165991         0.174217         0.159611         0.255967  \n",
       "2005           580.378588       564.311013       580.378588       564.701738  "
      ]
     },
     "execution_count": 27,
     "metadata": {},
     "output_type": "execute_result"
    }
   ],
   "source": [
    "# Predict y values for x_test\n",
    "y_pred_rf = model_rf.predict(X_test)\n",
    "y_pred_dt = model_dt.predict(X_test)\n",
    "y_pred_gb = model_gb.predict(X_test)\n",
    "\n",
    "X_test_df = pd.DataFrame(X_test, columns=['Depth', 'Log_ILD', 'NPHI', 'RHOB', 'vshale', 'PHIeff'])\n",
    "\n",
    "# Create a dataframe with x_test, y_test, and y_predict\n",
    "results_df = pd.DataFrame({'Depth': X_test_df['Depth'],\n",
    "                           'Log_ILD': X_test_df['Log_ILD'],\n",
    "                           'NPHI': X_test_df['NPHI'],\n",
    "                           'RHOB': X_test_df['RHOB'],\n",
    "                           'vshale': X_test_df['vshale'],\n",
    "                           'effective porosity': X_test_df['PHIeff'],\n",
    "                           'Actual Permeability': y_test,\n",
    "                           'rf_Permeability': y_pred_rf,\n",
    "                           'dt_Permeability': y_pred_dt,\n",
    "                           'gb_Permeability': y_pred_gb})\n",
    "\n",
    "# Print the dataframe\n",
    "results_df.to_csv('results_test.csv', index=False)\n",
    "results_df.head()"
   ]
  },
  {
   "cell_type": "code",
   "execution_count": 26,
   "id": "49fbc541",
   "metadata": {},
   "outputs": [
    {
     "data": {
      "text/html": [
       "<div>\n",
       "<style scoped>\n",
       "    .dataframe tbody tr th:only-of-type {\n",
       "        vertical-align: middle;\n",
       "    }\n",
       "\n",
       "    .dataframe tbody tr th {\n",
       "        vertical-align: top;\n",
       "    }\n",
       "\n",
       "    .dataframe thead th {\n",
       "        text-align: right;\n",
       "    }\n",
       "</style>\n",
       "<table border=\"1\" class=\"dataframe\">\n",
       "  <thead>\n",
       "    <tr style=\"text-align: right;\">\n",
       "      <th></th>\n",
       "      <th>Depth</th>\n",
       "      <th>Log_ILD</th>\n",
       "      <th>NPHI</th>\n",
       "      <th>RHOB</th>\n",
       "      <th>vshale</th>\n",
       "      <th>effective porosity</th>\n",
       "      <th>Actual Permeability</th>\n",
       "      <th>rf_Permeability</th>\n",
       "      <th>dt_Permeability</th>\n",
       "      <th>gb_Permeability</th>\n",
       "    </tr>\n",
       "  </thead>\n",
       "  <tbody>\n",
       "    <tr>\n",
       "      <th>6093</th>\n",
       "      <td>10756.5</td>\n",
       "      <td>22.5621</td>\n",
       "      <td>0.1593</td>\n",
       "      <td>2.1219</td>\n",
       "      <td>0.004503</td>\n",
       "      <td>0.118497</td>\n",
       "      <td>0.205152</td>\n",
       "      <td>0.176616</td>\n",
       "      <td>0.197230</td>\n",
       "      <td>0.175118</td>\n",
       "    </tr>\n",
       "    <tr>\n",
       "      <th>2740</th>\n",
       "      <td>9071.5</td>\n",
       "      <td>0.7576</td>\n",
       "      <td>0.4247</td>\n",
       "      <td>2.2883</td>\n",
       "      <td>0.216062</td>\n",
       "      <td>0.178848</td>\n",
       "      <td>12.186757</td>\n",
       "      <td>12.150200</td>\n",
       "      <td>12.186757</td>\n",
       "      <td>10.697760</td>\n",
       "    </tr>\n",
       "    <tr>\n",
       "      <th>629</th>\n",
       "      <td>8000.0</td>\n",
       "      <td>1.0501</td>\n",
       "      <td>0.4465</td>\n",
       "      <td>2.2703</td>\n",
       "      <td>0.289003</td>\n",
       "      <td>0.181074</td>\n",
       "      <td>21.176923</td>\n",
       "      <td>20.875478</td>\n",
       "      <td>21.176923</td>\n",
       "      <td>18.171596</td>\n",
       "    </tr>\n",
       "    <tr>\n",
       "      <th>6717</th>\n",
       "      <td>11068.5</td>\n",
       "      <td>0.8401</td>\n",
       "      <td>0.4171</td>\n",
       "      <td>2.3807</td>\n",
       "      <td>0.317622</td>\n",
       "      <td>0.103639</td>\n",
       "      <td>0.714526</td>\n",
       "      <td>0.678773</td>\n",
       "      <td>0.722505</td>\n",
       "      <td>0.743880</td>\n",
       "    </tr>\n",
       "    <tr>\n",
       "      <th>5907</th>\n",
       "      <td>10660.0</td>\n",
       "      <td>1.6668</td>\n",
       "      <td>0.3941</td>\n",
       "      <td>2.3836</td>\n",
       "      <td>0.321235</td>\n",
       "      <td>0.101255</td>\n",
       "      <td>0.654669</td>\n",
       "      <td>0.665883</td>\n",
       "      <td>0.660395</td>\n",
       "      <td>0.683380</td>\n",
       "    </tr>\n",
       "  </tbody>\n",
       "</table>\n",
       "</div>"
      ],
      "text/plain": [
       "        Depth  Log_ILD    NPHI    RHOB    vshale  effective porosity  \\\n",
       "6093  10756.5  22.5621  0.1593  2.1219  0.004503            0.118497   \n",
       "2740   9071.5   0.7576  0.4247  2.2883  0.216062            0.178848   \n",
       "629    8000.0   1.0501  0.4465  2.2703  0.289003            0.181074   \n",
       "6717  11068.5   0.8401  0.4171  2.3807  0.317622            0.103639   \n",
       "5907  10660.0   1.6668  0.3941  2.3836  0.321235            0.101255   \n",
       "\n",
       "      Actual Permeability  rf_Permeability  dt_Permeability  gb_Permeability  \n",
       "6093             0.205152         0.176616         0.197230         0.175118  \n",
       "2740            12.186757        12.150200        12.186757        10.697760  \n",
       "629             21.176923        20.875478        21.176923        18.171596  \n",
       "6717             0.714526         0.678773         0.722505         0.743880  \n",
       "5907             0.654669         0.665883         0.660395         0.683380  "
      ]
     },
     "execution_count": 26,
     "metadata": {},
     "output_type": "execute_result"
    }
   ],
   "source": [
    "# Predict y values for x_test\n",
    "y_pred_rf_train = model_rf.predict(X_train)\n",
    "y_pred_dt_train = model_dt.predict(X_train)\n",
    "y_pred_gb_train = model_gb.predict(X_train)\n",
    "\n",
    "X_train_df = pd.DataFrame(X_train, columns=['Depth', 'Log_ILD', 'NPHI', 'RHOB', 'vshale', 'PHIeff'])\n",
    "\n",
    "# Create a dataframe with x_test, y_test, and y_predict\n",
    "train_df = pd.DataFrame({'Depth': X_train_df['Depth'],\n",
    "                           'Log_ILD': X_train_df['Log_ILD'],\n",
    "                           'NPHI': X_train_df['NPHI'],\n",
    "                           'RHOB': X_train_df['RHOB'],\n",
    "                           'vshale': X_train_df['vshale'],\n",
    "                           'effective porosity': X_train_df['PHIeff'],\n",
    "                           'Actual Permeability': y_train,\n",
    "                           'rf_Permeability': y_pred_rf_train,\n",
    "                           'dt_Permeability': y_pred_dt_train,\n",
    "                           'gb_Permeability': y_pred_gb_train})\n",
    "\n",
    "# Print the dataframe\n",
    "train_df.to_csv('results.csv', index=False)\n",
    "train_df.head()"
   ]
  },
  {
   "cell_type": "code",
   "execution_count": null,
   "id": "352ec17f",
   "metadata": {},
   "outputs": [],
   "source": []
  }
 ],
 "metadata": {
  "kernelspec": {
   "display_name": "Python 3 (ipykernel)",
   "language": "python",
   "name": "python3"
  },
  "language_info": {
   "codemirror_mode": {
    "name": "ipython",
    "version": 3
   },
   "file_extension": ".py",
   "mimetype": "text/x-python",
   "name": "python",
   "nbconvert_exporter": "python",
   "pygments_lexer": "ipython3",
   "version": "3.9.13"
  }
 },
 "nbformat": 4,
 "nbformat_minor": 5
}
