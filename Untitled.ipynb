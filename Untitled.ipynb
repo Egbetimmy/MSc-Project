{
 "cells": [
  {
   "cell_type": "code",
   "execution_count": 53,
   "id": "5836926d",
   "metadata": {},
   "outputs": [],
   "source": [
    "import pickle\n",
    "import pandas as pd\n",
    "import matplotlib.pyplot as plt\n",
    "from class2 import facies_classification, Petrophysics, rename_columns, rearrange_columns"
   ]
  },
  {
   "cell_type": "code",
   "execution_count": 54,
   "id": "21dbf5a8",
   "metadata": {},
   "outputs": [],
   "source": [
    "with open('model_pickle', 'rb') as file:\n",
    "    mp = pickle.load(file)"
   ]
  },
  {
   "cell_type": "code",
   "execution_count": 55,
   "id": "f3c1a377",
   "metadata": {},
   "outputs": [
    {
     "data": {
      "text/html": [
       "<div>\n",
       "<style scoped>\n",
       "    .dataframe tbody tr th:only-of-type {\n",
       "        vertical-align: middle;\n",
       "    }\n",
       "\n",
       "    .dataframe tbody tr th {\n",
       "        vertical-align: top;\n",
       "    }\n",
       "\n",
       "    .dataframe thead th {\n",
       "        text-align: right;\n",
       "    }\n",
       "</style>\n",
       "<table border=\"1\" class=\"dataframe\">\n",
       "  <thead>\n",
       "    <tr style=\"text-align: right;\">\n",
       "      <th></th>\n",
       "      <th>DEPT</th>\n",
       "      <th>DEN</th>\n",
       "      <th>DT</th>\n",
       "      <th>GR</th>\n",
       "      <th>NEUT</th>\n",
       "      <th>RES_DEP</th>\n",
       "      <th>PHI</th>\n",
       "      <th>PERM</th>\n",
       "    </tr>\n",
       "  </thead>\n",
       "  <tbody>\n",
       "    <tr>\n",
       "      <th>0</th>\n",
       "      <td>3712.5</td>\n",
       "      <td>NaN</td>\n",
       "      <td>NaN</td>\n",
       "      <td>85.5533</td>\n",
       "      <td>NaN</td>\n",
       "      <td>NaN</td>\n",
       "      <td>NaN</td>\n",
       "      <td>NaN</td>\n",
       "    </tr>\n",
       "    <tr>\n",
       "      <th>1</th>\n",
       "      <td>3713.0</td>\n",
       "      <td>NaN</td>\n",
       "      <td>NaN</td>\n",
       "      <td>87.7167</td>\n",
       "      <td>NaN</td>\n",
       "      <td>NaN</td>\n",
       "      <td>NaN</td>\n",
       "      <td>NaN</td>\n",
       "    </tr>\n",
       "    <tr>\n",
       "      <th>2</th>\n",
       "      <td>3713.5</td>\n",
       "      <td>NaN</td>\n",
       "      <td>NaN</td>\n",
       "      <td>89.3406</td>\n",
       "      <td>NaN</td>\n",
       "      <td>NaN</td>\n",
       "      <td>NaN</td>\n",
       "      <td>NaN</td>\n",
       "    </tr>\n",
       "    <tr>\n",
       "      <th>3</th>\n",
       "      <td>3714.0</td>\n",
       "      <td>NaN</td>\n",
       "      <td>NaN</td>\n",
       "      <td>90.4250</td>\n",
       "      <td>NaN</td>\n",
       "      <td>1.2900</td>\n",
       "      <td>NaN</td>\n",
       "      <td>NaN</td>\n",
       "    </tr>\n",
       "    <tr>\n",
       "      <th>4</th>\n",
       "      <td>3714.5</td>\n",
       "      <td>NaN</td>\n",
       "      <td>NaN</td>\n",
       "      <td>90.6067</td>\n",
       "      <td>NaN</td>\n",
       "      <td>1.3233</td>\n",
       "      <td>NaN</td>\n",
       "      <td>NaN</td>\n",
       "    </tr>\n",
       "  </tbody>\n",
       "</table>\n",
       "</div>"
      ],
      "text/plain": [
       "     DEPT  DEN  DT       GR  NEUT  RES_DEP  PHI  PERM\n",
       "0  3712.5  NaN NaN  85.5533   NaN      NaN  NaN   NaN\n",
       "1  3713.0  NaN NaN  87.7167   NaN      NaN  NaN   NaN\n",
       "2  3713.5  NaN NaN  89.3406   NaN      NaN  NaN   NaN\n",
       "3  3714.0  NaN NaN  90.4250   NaN   1.2900  NaN   NaN\n",
       "4  3714.5  NaN NaN  90.6067   NaN   1.3233  NaN   NaN"
      ]
     },
     "execution_count": 55,
     "metadata": {},
     "output_type": "execute_result"
    }
   ],
   "source": [
    "well = pd.read_csv('data/freeman_well_1_perm.csv')\n",
    "well.head()"
   ]
  },
  {
   "cell_type": "code",
   "execution_count": 56,
   "id": "3de344c7",
   "metadata": {},
   "outputs": [],
   "source": [
    "old_names = ['DEPT', 'DEN', 'NEUT', 'RES_DEP']#list(well.columns)\n",
    "new_names = ['Depth', 'RHOB', 'NPHI', 'Log_ILD']\n",
    "df = rename_columns(well, old_names, new_names)"
   ]
  },
  {
   "cell_type": "code",
   "execution_count": 57,
   "id": "d2320ffe",
   "metadata": {},
   "outputs": [],
   "source": [
    "order = ['Depth', 'GR', 'Log_ILD', 'DT', 'RHOB', 'NPHI', 'PHI', 'PERM']\n",
    "data = rearrange_columns(df, order)"
   ]
  },
  {
   "cell_type": "code",
   "execution_count": 58,
   "id": "7cea3125",
   "metadata": {},
   "outputs": [],
   "source": [
    "data['Facies'] = facies_classification(data['GR'])"
   ]
  },
  {
   "cell_type": "code",
   "execution_count": 59,
   "id": "d18cde4e",
   "metadata": {},
   "outputs": [
    {
     "data": {
      "text/html": [
       "<div>\n",
       "<style scoped>\n",
       "    .dataframe tbody tr th:only-of-type {\n",
       "        vertical-align: middle;\n",
       "    }\n",
       "\n",
       "    .dataframe tbody tr th {\n",
       "        vertical-align: top;\n",
       "    }\n",
       "\n",
       "    .dataframe thead th {\n",
       "        text-align: right;\n",
       "    }\n",
       "</style>\n",
       "<table border=\"1\" class=\"dataframe\">\n",
       "  <thead>\n",
       "    <tr style=\"text-align: right;\">\n",
       "      <th></th>\n",
       "      <th>Depth</th>\n",
       "      <th>GR</th>\n",
       "      <th>Log_ILD</th>\n",
       "      <th>DT</th>\n",
       "      <th>RHOB</th>\n",
       "      <th>NPHI</th>\n",
       "      <th>PHI</th>\n",
       "      <th>PERM</th>\n",
       "      <th>Facies</th>\n",
       "    </tr>\n",
       "  </thead>\n",
       "  <tbody>\n",
       "    <tr>\n",
       "      <th>0</th>\n",
       "      <td>3712.5</td>\n",
       "      <td>85.5533</td>\n",
       "      <td>NaN</td>\n",
       "      <td>NaN</td>\n",
       "      <td>NaN</td>\n",
       "      <td>NaN</td>\n",
       "      <td>NaN</td>\n",
       "      <td>NaN</td>\n",
       "      <td>3</td>\n",
       "    </tr>\n",
       "    <tr>\n",
       "      <th>1</th>\n",
       "      <td>3713.0</td>\n",
       "      <td>87.7167</td>\n",
       "      <td>NaN</td>\n",
       "      <td>NaN</td>\n",
       "      <td>NaN</td>\n",
       "      <td>NaN</td>\n",
       "      <td>NaN</td>\n",
       "      <td>NaN</td>\n",
       "      <td>3</td>\n",
       "    </tr>\n",
       "    <tr>\n",
       "      <th>2</th>\n",
       "      <td>3713.5</td>\n",
       "      <td>89.3406</td>\n",
       "      <td>NaN</td>\n",
       "      <td>NaN</td>\n",
       "      <td>NaN</td>\n",
       "      <td>NaN</td>\n",
       "      <td>NaN</td>\n",
       "      <td>NaN</td>\n",
       "      <td>3</td>\n",
       "    </tr>\n",
       "    <tr>\n",
       "      <th>3</th>\n",
       "      <td>3714.0</td>\n",
       "      <td>90.4250</td>\n",
       "      <td>1.2900</td>\n",
       "      <td>NaN</td>\n",
       "      <td>NaN</td>\n",
       "      <td>NaN</td>\n",
       "      <td>NaN</td>\n",
       "      <td>NaN</td>\n",
       "      <td>3</td>\n",
       "    </tr>\n",
       "    <tr>\n",
       "      <th>4</th>\n",
       "      <td>3714.5</td>\n",
       "      <td>90.6067</td>\n",
       "      <td>1.3233</td>\n",
       "      <td>NaN</td>\n",
       "      <td>NaN</td>\n",
       "      <td>NaN</td>\n",
       "      <td>NaN</td>\n",
       "      <td>NaN</td>\n",
       "      <td>3</td>\n",
       "    </tr>\n",
       "  </tbody>\n",
       "</table>\n",
       "</div>"
      ],
      "text/plain": [
       "    Depth       GR  Log_ILD  DT  RHOB  NPHI  PHI  PERM  Facies\n",
       "0  3712.5  85.5533      NaN NaN   NaN   NaN  NaN   NaN       3\n",
       "1  3713.0  87.7167      NaN NaN   NaN   NaN  NaN   NaN       3\n",
       "2  3713.5  89.3406      NaN NaN   NaN   NaN  NaN   NaN       3\n",
       "3  3714.0  90.4250   1.2900 NaN   NaN   NaN  NaN   NaN       3\n",
       "4  3714.5  90.6067   1.3233 NaN   NaN   NaN  NaN   NaN       3"
      ]
     },
     "execution_count": 59,
     "metadata": {},
     "output_type": "execute_result"
    }
   ],
   "source": [
    "data.head()"
   ]
  },
  {
   "cell_type": "code",
   "execution_count": 60,
   "id": "e94f40ff",
   "metadata": {},
   "outputs": [],
   "source": [
    "test = Petrophysics(data)\n",
    "x = test.slowness_to_velocity(3)"
   ]
  },
  {
   "cell_type": "code",
   "execution_count": 61,
   "id": "b2d935de",
   "metadata": {},
   "outputs": [
    {
     "data": {
      "text/html": [
       "<div>\n",
       "<style scoped>\n",
       "    .dataframe tbody tr th:only-of-type {\n",
       "        vertical-align: middle;\n",
       "    }\n",
       "\n",
       "    .dataframe tbody tr th {\n",
       "        vertical-align: top;\n",
       "    }\n",
       "\n",
       "    .dataframe thead th {\n",
       "        text-align: right;\n",
       "    }\n",
       "</style>\n",
       "<table border=\"1\" class=\"dataframe\">\n",
       "  <thead>\n",
       "    <tr style=\"text-align: right;\">\n",
       "      <th></th>\n",
       "      <th>Depth</th>\n",
       "      <th>GR</th>\n",
       "      <th>Log_ILD</th>\n",
       "      <th>DT</th>\n",
       "      <th>RHOB</th>\n",
       "      <th>NPHI</th>\n",
       "      <th>PHI</th>\n",
       "      <th>PERM</th>\n",
       "      <th>Facies</th>\n",
       "      <th>velocity</th>\n",
       "    </tr>\n",
       "  </thead>\n",
       "  <tbody>\n",
       "    <tr>\n",
       "      <th>0</th>\n",
       "      <td>3712.5</td>\n",
       "      <td>85.5533</td>\n",
       "      <td>NaN</td>\n",
       "      <td>NaN</td>\n",
       "      <td>NaN</td>\n",
       "      <td>NaN</td>\n",
       "      <td>NaN</td>\n",
       "      <td>NaN</td>\n",
       "      <td>3</td>\n",
       "      <td>NaN</td>\n",
       "    </tr>\n",
       "    <tr>\n",
       "      <th>1</th>\n",
       "      <td>3713.0</td>\n",
       "      <td>87.7167</td>\n",
       "      <td>NaN</td>\n",
       "      <td>NaN</td>\n",
       "      <td>NaN</td>\n",
       "      <td>NaN</td>\n",
       "      <td>NaN</td>\n",
       "      <td>NaN</td>\n",
       "      <td>3</td>\n",
       "      <td>NaN</td>\n",
       "    </tr>\n",
       "    <tr>\n",
       "      <th>2</th>\n",
       "      <td>3713.5</td>\n",
       "      <td>89.3406</td>\n",
       "      <td>NaN</td>\n",
       "      <td>NaN</td>\n",
       "      <td>NaN</td>\n",
       "      <td>NaN</td>\n",
       "      <td>NaN</td>\n",
       "      <td>NaN</td>\n",
       "      <td>3</td>\n",
       "      <td>NaN</td>\n",
       "    </tr>\n",
       "    <tr>\n",
       "      <th>3</th>\n",
       "      <td>3714.0</td>\n",
       "      <td>90.4250</td>\n",
       "      <td>1.2900</td>\n",
       "      <td>NaN</td>\n",
       "      <td>NaN</td>\n",
       "      <td>NaN</td>\n",
       "      <td>NaN</td>\n",
       "      <td>NaN</td>\n",
       "      <td>3</td>\n",
       "      <td>NaN</td>\n",
       "    </tr>\n",
       "    <tr>\n",
       "      <th>4</th>\n",
       "      <td>3714.5</td>\n",
       "      <td>90.6067</td>\n",
       "      <td>1.3233</td>\n",
       "      <td>NaN</td>\n",
       "      <td>NaN</td>\n",
       "      <td>NaN</td>\n",
       "      <td>NaN</td>\n",
       "      <td>NaN</td>\n",
       "      <td>3</td>\n",
       "      <td>NaN</td>\n",
       "    </tr>\n",
       "  </tbody>\n",
       "</table>\n",
       "</div>"
      ],
      "text/plain": [
       "    Depth       GR  Log_ILD  DT  RHOB  NPHI  PHI  PERM  Facies  velocity\n",
       "0  3712.5  85.5533      NaN NaN   NaN   NaN  NaN   NaN       3       NaN\n",
       "1  3713.0  87.7167      NaN NaN   NaN   NaN  NaN   NaN       3       NaN\n",
       "2  3713.5  89.3406      NaN NaN   NaN   NaN  NaN   NaN       3       NaN\n",
       "3  3714.0  90.4250   1.2900 NaN   NaN   NaN  NaN   NaN       3       NaN\n",
       "4  3714.5  90.6067   1.3233 NaN   NaN   NaN  NaN   NaN       3       NaN"
      ]
     },
     "execution_count": 61,
     "metadata": {},
     "output_type": "execute_result"
    }
   ],
   "source": [
    "data.head()"
   ]
  },
  {
   "cell_type": "code",
   "execution_count": 62,
   "id": "d9a9a1f8",
   "metadata": {},
   "outputs": [
    {
     "data": {
      "text/plain": [
       "Depth          0\n",
       "GR             0\n",
       "Log_ILD      218\n",
       "DT          3386\n",
       "RHOB        3375\n",
       "NPHI        3480\n",
       "PHI         3375\n",
       "PERM        3375\n",
       "Facies         0\n",
       "velocity    3386\n",
       "dtype: int64"
      ]
     },
     "execution_count": 62,
     "metadata": {},
     "output_type": "execute_result"
    }
   ],
   "source": [
    "data.isnull().sum()"
   ]
  },
  {
   "cell_type": "code",
   "execution_count": 63,
   "id": "fb622915",
   "metadata": {},
   "outputs": [
    {
     "data": {
      "text/plain": [
       "Depth       0\n",
       "GR          0\n",
       "Log_ILD     0\n",
       "DT          0\n",
       "RHOB        0\n",
       "NPHI        0\n",
       "PHI         0\n",
       "PERM        0\n",
       "Facies      0\n",
       "velocity    0\n",
       "dtype: int64"
      ]
     },
     "execution_count": 63,
     "metadata": {},
     "output_type": "execute_result"
    }
   ],
   "source": [
    "df = data.dropna()\n",
    "df.isnull().sum()"
   ]
  },
  {
   "cell_type": "code",
   "execution_count": 64,
   "id": "67be5efb",
   "metadata": {},
   "outputs": [],
   "source": [
    "X_test = df[['Log_ILD', 'RHOB', 'velocity', 'GR', 'Facies', 'Depth']]\n",
    "y_test = df['PERM']"
   ]
  },
  {
   "cell_type": "code",
   "execution_count": 65,
   "id": "316b8f94",
   "metadata": {},
   "outputs": [],
   "source": [
    "y_pred = mp.predict(X_test)"
   ]
  },
  {
   "cell_type": "code",
   "execution_count": 66,
   "id": "2a36504c",
   "metadata": {},
   "outputs": [],
   "source": [
    "# Calculate model performance metrics\n",
    "import numpy as np\n",
    "mae = np.mean(abs(y_test - y_pred))\n",
    "mse = np.mean((y_test - y_pred) ** 2)\n",
    "rmse = np.sqrt(mse)\n",
    "r2 = mp.score(X_test, y_test)"
   ]
  },
  {
   "cell_type": "code",
   "execution_count": 67,
   "id": "a078dc0e",
   "metadata": {},
   "outputs": [
    {
     "data": {
      "text/plain": [
       "149382.8833273765"
      ]
     },
     "execution_count": 67,
     "metadata": {},
     "output_type": "execute_result"
    }
   ],
   "source": [
    "mae"
   ]
  },
  {
   "cell_type": "code",
   "execution_count": 68,
   "id": "edea3893",
   "metadata": {},
   "outputs": [
    {
     "data": {
      "text/plain": [
       "924140474463.2924"
      ]
     },
     "execution_count": 68,
     "metadata": {},
     "output_type": "execute_result"
    }
   ],
   "source": [
    "mse"
   ]
  },
  {
   "cell_type": "code",
   "execution_count": 69,
   "id": "b9b0b19f",
   "metadata": {},
   "outputs": [
    {
     "data": {
      "text/plain": [
       "-499533.67419891"
      ]
     },
     "execution_count": 69,
     "metadata": {},
     "output_type": "execute_result"
    }
   ],
   "source": [
    "r2"
   ]
  },
  {
   "cell_type": "code",
   "execution_count": null,
   "id": "b0ea60cb",
   "metadata": {},
   "outputs": [],
   "source": []
  }
 ],
 "metadata": {
  "kernelspec": {
   "display_name": "Python 3 (ipykernel)",
   "language": "python",
   "name": "python3"
  },
  "language_info": {
   "codemirror_mode": {
    "name": "ipython",
    "version": 3
   },
   "file_extension": ".py",
   "mimetype": "text/x-python",
   "name": "python",
   "nbconvert_exporter": "python",
   "pygments_lexer": "ipython3",
   "version": "3.9.13"
  }
 },
 "nbformat": 4,
 "nbformat_minor": 5
}
