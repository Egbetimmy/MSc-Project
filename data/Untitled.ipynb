{
 "cells": [
  {
   "cell_type": "code",
   "execution_count": 1,
   "id": "ec685f47",
   "metadata": {},
   "outputs": [],
   "source": [
    "import pandas as pd\n",
    "import numpy as np\n",
    "from tensorflow import keras"
   ]
  },
  {
   "cell_type": "code",
   "execution_count": 12,
   "id": "e8a8be30",
   "metadata": {},
   "outputs": [
    {
     "data": {
      "text/html": [
       "<div>\n",
       "<style scoped>\n",
       "    .dataframe tbody tr th:only-of-type {\n",
       "        vertical-align: middle;\n",
       "    }\n",
       "\n",
       "    .dataframe tbody tr th {\n",
       "        vertical-align: top;\n",
       "    }\n",
       "\n",
       "    .dataframe thead th {\n",
       "        text-align: right;\n",
       "    }\n",
       "</style>\n",
       "<table border=\"1\" class=\"dataframe\">\n",
       "  <thead>\n",
       "    <tr style=\"text-align: right;\">\n",
       "      <th></th>\n",
       "      <th>Depth</th>\n",
       "      <th>GR</th>\n",
       "      <th>Log_ILD</th>\n",
       "      <th>RHOB</th>\n",
       "      <th>NPHI</th>\n",
       "      <th>PHI</th>\n",
       "      <th>PERM</th>\n",
       "      <th>well</th>\n",
       "    </tr>\n",
       "  </thead>\n",
       "  <tbody>\n",
       "    <tr>\n",
       "      <th>0</th>\n",
       "      <td>6308.0</td>\n",
       "      <td>86.730</td>\n",
       "      <td>1.342</td>\n",
       "      <td>2.105</td>\n",
       "      <td>0.396</td>\n",
       "      <td>0.3300</td>\n",
       "      <td>0.2324</td>\n",
       "      <td>freeman_2</td>\n",
       "    </tr>\n",
       "    <tr>\n",
       "      <th>1</th>\n",
       "      <td>6308.5</td>\n",
       "      <td>79.598</td>\n",
       "      <td>1.257</td>\n",
       "      <td>2.105</td>\n",
       "      <td>0.381</td>\n",
       "      <td>0.3300</td>\n",
       "      <td>0.2324</td>\n",
       "      <td>freeman_2</td>\n",
       "    </tr>\n",
       "    <tr>\n",
       "      <th>2</th>\n",
       "      <td>6309.0</td>\n",
       "      <td>72.180</td>\n",
       "      <td>1.083</td>\n",
       "      <td>2.092</td>\n",
       "      <td>0.365</td>\n",
       "      <td>0.1448</td>\n",
       "      <td>572.4000</td>\n",
       "      <td>freeman_2</td>\n",
       "    </tr>\n",
       "    <tr>\n",
       "      <th>3</th>\n",
       "      <td>6309.5</td>\n",
       "      <td>68.811</td>\n",
       "      <td>0.973</td>\n",
       "      <td>2.072</td>\n",
       "      <td>0.373</td>\n",
       "      <td>0.1621</td>\n",
       "      <td>749.9110</td>\n",
       "      <td>freeman_2</td>\n",
       "    </tr>\n",
       "    <tr>\n",
       "      <th>4</th>\n",
       "      <td>6310.0</td>\n",
       "      <td>71.912</td>\n",
       "      <td>0.953</td>\n",
       "      <td>2.057</td>\n",
       "      <td>0.372</td>\n",
       "      <td>0.1750</td>\n",
       "      <td>927.9860</td>\n",
       "      <td>freeman_2</td>\n",
       "    </tr>\n",
       "  </tbody>\n",
       "</table>\n",
       "</div>"
      ],
      "text/plain": [
       "    Depth      GR  Log_ILD   RHOB   NPHI     PHI      PERM       well\n",
       "0  6308.0  86.730    1.342  2.105  0.396  0.3300    0.2324  freeman_2\n",
       "1  6308.5  79.598    1.257  2.105  0.381  0.3300    0.2324  freeman_2\n",
       "2  6309.0  72.180    1.083  2.092  0.365  0.1448  572.4000  freeman_2\n",
       "3  6309.5  68.811    0.973  2.072  0.373  0.1621  749.9110  freeman_2\n",
       "4  6310.0  71.912    0.953  2.057  0.372  0.1750  927.9860  freeman_2"
      ]
     },
     "execution_count": 12,
     "metadata": {},
     "output_type": "execute_result"
    }
   ],
   "source": [
    "# Read well log data from CSV file\n",
    "df = pd.read_csv(\"combined_freeman_2_3_4.csv\")\n",
    "df.head()"
   ]
  },
  {
   "cell_type": "code",
   "execution_count": 13,
   "id": "64f372f8",
   "metadata": {},
   "outputs": [],
   "source": [
    "# Split data into features (X) and target (y)\n",
    "X = df.drop(columns=[\"PERM\", 'well'])\n",
    "y = df[\"PERM\"]\n",
    "\n",
    "# Split data into training and testing sets\n",
    "from sklearn.model_selection import train_test_split\n",
    "X_train, X_test, y_train, y_test = train_test_split(X, y, test_size=0.3, random_state=42)\n",
    "\n",
    "# Scale features using StandardScaler\n",
    "from sklearn.preprocessing import StandardScaler\n",
    "scaler = StandardScaler()\n",
    "X_train = scaler.fit_transform(X_train)\n",
    "X_test = scaler.transform(X_test)"
   ]
  },
  {
   "cell_type": "code",
   "execution_count": 14,
   "id": "271ca39a",
   "metadata": {},
   "outputs": [
    {
     "name": "stdout",
     "output_type": "stream",
     "text": [
      "Epoch 1/50\n",
      "347/347 [==============================] - 1s 2ms/step - loss: 349919711069913286180864.0000 - val_loss: 199407339867362719432704.0000\n",
      "Epoch 2/50\n",
      "347/347 [==============================] - 1s 2ms/step - loss: 349919747098710305144832.0000 - val_loss: 199407339867362719432704.0000\n",
      "Epoch 3/50\n",
      "347/347 [==============================] - 1s 2ms/step - loss: 349919747098710305144832.0000 - val_loss: 199407339867362719432704.0000\n",
      "Epoch 4/50\n",
      "347/347 [==============================] - 1s 2ms/step - loss: 349919747098710305144832.0000 - val_loss: 199407339867362719432704.0000\n",
      "Epoch 5/50\n",
      "347/347 [==============================] - 1s 2ms/step - loss: 349919747098710305144832.0000 - val_loss: 199407339867362719432704.0000\n",
      "Epoch 6/50\n",
      "347/347 [==============================] - 1s 2ms/step - loss: 349919747098710305144832.0000 - val_loss: 199407339867362719432704.0000\n",
      "Epoch 7/50\n",
      "347/347 [==============================] - 1s 2ms/step - loss: 349919747098710305144832.0000 - val_loss: 199407339867362719432704.0000\n",
      "Epoch 8/50\n",
      "347/347 [==============================] - 1s 2ms/step - loss: 349919783127507324108800.0000 - val_loss: 199407339867362719432704.0000\n",
      "Epoch 9/50\n",
      "347/347 [==============================] - 1s 2ms/step - loss: 349919747098710305144832.0000 - val_loss: 199407339867362719432704.0000\n",
      "Epoch 10/50\n",
      "347/347 [==============================] - 1s 2ms/step - loss: 349919783127507324108800.0000 - val_loss: 199407339867362719432704.0000\n",
      "Epoch 11/50\n",
      "347/347 [==============================] - 1s 2ms/step - loss: 349919747098710305144832.0000 - val_loss: 199407339867362719432704.0000\n",
      "Epoch 12/50\n",
      "347/347 [==============================] - 1s 2ms/step - loss: 349919783127507324108800.0000 - val_loss: 199407339867362719432704.0000\n",
      "Epoch 13/50\n",
      "347/347 [==============================] - 1s 2ms/step - loss: 349919747098710305144832.0000 - val_loss: 199407339867362719432704.0000\n",
      "Epoch 14/50\n",
      "347/347 [==============================] - 1s 2ms/step - loss: 349919783127507324108800.0000 - val_loss: 199407339867362719432704.0000\n",
      "Epoch 15/50\n",
      "347/347 [==============================] - 1s 2ms/step - loss: 349919783127507324108800.0000 - val_loss: 199407339867362719432704.0000\n",
      "Epoch 16/50\n",
      "347/347 [==============================] - 1s 2ms/step - loss: 349919747098710305144832.0000 - val_loss: 199407339867362719432704.0000\n",
      "Epoch 17/50\n",
      "347/347 [==============================] - 1s 2ms/step - loss: 349919711069913286180864.0000 - val_loss: 199407339867362719432704.0000\n",
      "Epoch 18/50\n",
      "347/347 [==============================] - 1s 2ms/step - loss: 349919747098710305144832.0000 - val_loss: 199407339867362719432704.0000\n",
      "Epoch 19/50\n",
      "347/347 [==============================] - 1s 2ms/step - loss: 349919747098710305144832.0000 - val_loss: 199407339867362719432704.0000\n",
      "Epoch 20/50\n",
      "347/347 [==============================] - 1s 2ms/step - loss: 349919783127507324108800.0000 - val_loss: 199407339867362719432704.0000\n",
      "Epoch 21/50\n",
      "347/347 [==============================] - 1s 2ms/step - loss: 349919783127507324108800.0000 - val_loss: 199407339867362719432704.0000\n",
      "Epoch 22/50\n",
      "347/347 [==============================] - 1s 2ms/step - loss: 349919783127507324108800.0000 - val_loss: 199407339867362719432704.0000\n",
      "Epoch 23/50\n",
      "347/347 [==============================] - 1s 2ms/step - loss: 349919747098710305144832.0000 - val_loss: 199407339867362719432704.0000\n",
      "Epoch 24/50\n",
      "347/347 [==============================] - 1s 2ms/step - loss: 349919711069913286180864.0000 - val_loss: 199407339867362719432704.0000\n",
      "Epoch 25/50\n",
      "347/347 [==============================] - 1s 2ms/step - loss: 349919747098710305144832.0000 - val_loss: 199407339867362719432704.0000\n",
      "Epoch 26/50\n",
      "347/347 [==============================] - 1s 2ms/step - loss: 349919783127507324108800.0000 - val_loss: 199407339867362719432704.0000\n",
      "Epoch 27/50\n",
      "347/347 [==============================] - 1s 2ms/step - loss: 349919783127507324108800.0000 - val_loss: 199407339867362719432704.0000\n",
      "Epoch 28/50\n",
      "347/347 [==============================] - 1s 2ms/step - loss: 349919747098710305144832.0000 - val_loss: 199407339867362719432704.0000\n",
      "Epoch 29/50\n",
      "347/347 [==============================] - 1s 2ms/step - loss: 349919747098710305144832.0000 - val_loss: 199407339867362719432704.0000\n",
      "Epoch 30/50\n",
      "347/347 [==============================] - 1s 2ms/step - loss: 349919747098710305144832.0000 - val_loss: 199407339867362719432704.0000\n",
      "Epoch 31/50\n",
      "347/347 [==============================] - 1s 2ms/step - loss: 349919783127507324108800.0000 - val_loss: 199407339867362719432704.0000\n",
      "Epoch 32/50\n",
      "347/347 [==============================] - 1s 2ms/step - loss: 349919783127507324108800.0000 - val_loss: 199407339867362719432704.0000\n",
      "Epoch 33/50\n",
      "347/347 [==============================] - 1s 2ms/step - loss: 349919747098710305144832.0000 - val_loss: 199407339867362719432704.0000\n",
      "Epoch 34/50\n",
      "347/347 [==============================] - 1s 2ms/step - loss: 349919783127507324108800.0000 - val_loss: 199407339867362719432704.0000\n",
      "Epoch 35/50\n",
      "347/347 [==============================] - 1s 2ms/step - loss: 349919783127507324108800.0000 - val_loss: 199407339867362719432704.0000\n",
      "Epoch 36/50\n",
      "347/347 [==============================] - 1s 2ms/step - loss: 349919783127507324108800.0000 - val_loss: 199407339867362719432704.0000\n",
      "Epoch 37/50\n",
      "347/347 [==============================] - 1s 2ms/step - loss: 349919747098710305144832.0000 - val_loss: 199407339867362719432704.0000\n",
      "Epoch 38/50\n",
      "347/347 [==============================] - 1s 2ms/step - loss: 349919783127507324108800.0000 - val_loss: 199407339867362719432704.0000\n",
      "Epoch 39/50\n",
      "347/347 [==============================] - 1s 2ms/step - loss: 349919747098710305144832.0000 - val_loss: 199407339867362719432704.0000\n",
      "Epoch 40/50\n",
      "347/347 [==============================] - 1s 2ms/step - loss: 349919747098710305144832.0000 - val_loss: 199407339867362719432704.0000\n",
      "Epoch 41/50\n",
      "347/347 [==============================] - 1s 2ms/step - loss: 349919675041116267216896.0000 - val_loss: 199407339867362719432704.0000\n",
      "Epoch 42/50\n",
      "347/347 [==============================] - 1s 2ms/step - loss: 349919711069913286180864.0000 - val_loss: 199407339867362719432704.0000\n",
      "Epoch 43/50\n",
      "347/347 [==============================] - 1s 2ms/step - loss: 349919783127507324108800.0000 - val_loss: 199407339867362719432704.0000\n",
      "Epoch 44/50\n",
      "347/347 [==============================] - 1s 2ms/step - loss: 349919747098710305144832.0000 - val_loss: 199407339867362719432704.0000\n",
      "Epoch 45/50\n",
      "347/347 [==============================] - 1s 2ms/step - loss: 349919747098710305144832.0000 - val_loss: 199407339867362719432704.0000\n",
      "Epoch 46/50\n",
      "347/347 [==============================] - 1s 2ms/step - loss: 349919783127507324108800.0000 - val_loss: 199407339867362719432704.0000\n",
      "Epoch 47/50\n",
      "347/347 [==============================] - 1s 2ms/step - loss: 349919675041116267216896.0000 - val_loss: 199407339867362719432704.0000\n",
      "Epoch 48/50\n",
      "347/347 [==============================] - 1s 2ms/step - loss: 349919747098710305144832.0000 - val_loss: 199407339867362719432704.0000\n",
      "Epoch 49/50\n",
      "347/347 [==============================] - 1s 2ms/step - loss: 349919783127507324108800.0000 - val_loss: 199407339867362719432704.0000\n",
      "Epoch 50/50\n",
      "347/347 [==============================] - 1s 2ms/step - loss: 349919711069913286180864.0000 - val_loss: 199407339867362719432704.0000\n"
     ]
    },
    {
     "data": {
      "text/plain": [
       "<keras.callbacks.History at 0x215724e80d0>"
      ]
     },
     "execution_count": 14,
     "metadata": {},
     "output_type": "execute_result"
    }
   ],
   "source": [
    "# Define ANN architecture\n",
    "model = keras.Sequential([\n",
    "    keras.layers.Dense(64, activation='relu', input_shape=[X_train.shape[1]]),\n",
    "    keras.layers.Dense(32, activation='relu'),\n",
    "    keras.layers.Dense(1)\n",
    "])\n",
    "\n",
    "# Compile model\n",
    "model.compile(loss='mean_squared_error', optimizer='adam')\n",
    "\n",
    "# Train model\n",
    "model.fit(X_train, y_train, validation_split=0.2, epochs=50, batch_size=16)"
   ]
  },
  {
   "cell_type": "code",
   "execution_count": 15,
   "id": "90c28e11",
   "metadata": {},
   "outputs": [
    {
     "name": "stdout",
     "output_type": "stream",
     "text": [
      "93/93 [==============================] - 0s 1ms/step\n",
      "MSE: 9573341465224255897600.00\n",
      "RMSE: 97843453870.07\n",
      "R2 Score: -0.00\n"
     ]
    }
   ],
   "source": [
    "from sklearn.metrics import mean_squared_error, r2_score\n",
    "import numpy as np\n",
    "\n",
    "y_pred = model.predict(X_test)\n",
    "\n",
    "# y_true: true y values, y_pred: predicted y values\n",
    "mse = mean_squared_error(y_test, y_pred)\n",
    "rmse = np.sqrt(mse)\n",
    "r2 = r2_score(y_test, y_pred)\n",
    "\n",
    "print(\"MSE: {:.2f}\".format(mse))\n",
    "print(\"RMSE: {:.2f}\".format(rmse))\n",
    "print(\"R2 Score: {:.2f}\".format(r2))\n"
   ]
  },
  {
   "cell_type": "code",
   "execution_count": 8,
   "id": "3d47b22f",
   "metadata": {},
   "outputs": [
    {
     "ename": "ValueError",
     "evalue": "One of the dimensions in the output is <= 0 due to downsampling in conv2d. Consider increasing the input size. Received input shape [None, 1, 6, 1] which would produce output shape with a zero or negative value in a dimension.",
     "output_type": "error",
     "traceback": [
      "\u001b[1;31m---------------------------------------------------------------------------\u001b[0m",
      "\u001b[1;31mValueError\u001b[0m                                Traceback (most recent call last)",
      "\u001b[1;32m~\\AppData\\Local\\Temp\\ipykernel_14756\\3247689538.py\u001b[0m in \u001b[0;36m<module>\u001b[1;34m\u001b[0m\n\u001b[0;32m      7\u001b[0m \u001b[1;33m\u001b[0m\u001b[0m\n\u001b[0;32m      8\u001b[0m \u001b[1;31m# Define CNN architecture\u001b[0m\u001b[1;33m\u001b[0m\u001b[1;33m\u001b[0m\u001b[0m\n\u001b[1;32m----> 9\u001b[1;33m model = keras.Sequential([\n\u001b[0m\u001b[0;32m     10\u001b[0m     \u001b[0mkeras\u001b[0m\u001b[1;33m.\u001b[0m\u001b[0mlayers\u001b[0m\u001b[1;33m.\u001b[0m\u001b[0mConv2D\u001b[0m\u001b[1;33m(\u001b[0m\u001b[1;36m32\u001b[0m\u001b[1;33m,\u001b[0m \u001b[1;33m(\u001b[0m\u001b[1;36m3\u001b[0m\u001b[1;33m,\u001b[0m\u001b[1;36m3\u001b[0m\u001b[1;33m)\u001b[0m\u001b[1;33m,\u001b[0m \u001b[0mactivation\u001b[0m\u001b[1;33m=\u001b[0m\u001b[1;34m'relu'\u001b[0m\u001b[1;33m,\u001b[0m \u001b[0minput_shape\u001b[0m\u001b[1;33m=\u001b[0m\u001b[0mimage_shape\u001b[0m\u001b[1;33m)\u001b[0m\u001b[1;33m,\u001b[0m\u001b[1;33m\u001b[0m\u001b[1;33m\u001b[0m\u001b[0m\n\u001b[0;32m     11\u001b[0m     \u001b[0mkeras\u001b[0m\u001b[1;33m.\u001b[0m\u001b[0mlayers\u001b[0m\u001b[1;33m.\u001b[0m\u001b[0mMaxPooling2D\u001b[0m\u001b[1;33m(\u001b[0m\u001b[1;33m(\u001b[0m\u001b[1;36m2\u001b[0m\u001b[1;33m,\u001b[0m\u001b[1;36m2\u001b[0m\u001b[1;33m)\u001b[0m\u001b[1;33m)\u001b[0m\u001b[1;33m,\u001b[0m\u001b[1;33m\u001b[0m\u001b[1;33m\u001b[0m\u001b[0m\n",
      "\u001b[1;32mC:\\ProgramData\\Anaconda3\\lib\\site-packages\\tensorflow\\python\\trackable\\base.py\u001b[0m in \u001b[0;36m_method_wrapper\u001b[1;34m(self, *args, **kwargs)\u001b[0m\n\u001b[0;32m    203\u001b[0m     \u001b[0mself\u001b[0m\u001b[1;33m.\u001b[0m\u001b[0m_self_setattr_tracking\u001b[0m \u001b[1;33m=\u001b[0m \u001b[1;32mFalse\u001b[0m  \u001b[1;31m# pylint: disable=protected-access\u001b[0m\u001b[1;33m\u001b[0m\u001b[1;33m\u001b[0m\u001b[0m\n\u001b[0;32m    204\u001b[0m     \u001b[1;32mtry\u001b[0m\u001b[1;33m:\u001b[0m\u001b[1;33m\u001b[0m\u001b[1;33m\u001b[0m\u001b[0m\n\u001b[1;32m--> 205\u001b[1;33m       \u001b[0mresult\u001b[0m \u001b[1;33m=\u001b[0m \u001b[0mmethod\u001b[0m\u001b[1;33m(\u001b[0m\u001b[0mself\u001b[0m\u001b[1;33m,\u001b[0m \u001b[1;33m*\u001b[0m\u001b[0margs\u001b[0m\u001b[1;33m,\u001b[0m \u001b[1;33m**\u001b[0m\u001b[0mkwargs\u001b[0m\u001b[1;33m)\u001b[0m\u001b[1;33m\u001b[0m\u001b[1;33m\u001b[0m\u001b[0m\n\u001b[0m\u001b[0;32m    206\u001b[0m     \u001b[1;32mfinally\u001b[0m\u001b[1;33m:\u001b[0m\u001b[1;33m\u001b[0m\u001b[1;33m\u001b[0m\u001b[0m\n\u001b[0;32m    207\u001b[0m       \u001b[0mself\u001b[0m\u001b[1;33m.\u001b[0m\u001b[0m_self_setattr_tracking\u001b[0m \u001b[1;33m=\u001b[0m \u001b[0mprevious_value\u001b[0m  \u001b[1;31m# pylint: disable=protected-access\u001b[0m\u001b[1;33m\u001b[0m\u001b[1;33m\u001b[0m\u001b[0m\n",
      "\u001b[1;32mC:\\ProgramData\\Anaconda3\\lib\\site-packages\\keras\\utils\\traceback_utils.py\u001b[0m in \u001b[0;36merror_handler\u001b[1;34m(*args, **kwargs)\u001b[0m\n\u001b[0;32m     68\u001b[0m             \u001b[1;31m# To get the full stack trace, call:\u001b[0m\u001b[1;33m\u001b[0m\u001b[1;33m\u001b[0m\u001b[0m\n\u001b[0;32m     69\u001b[0m             \u001b[1;31m# `tf.debugging.disable_traceback_filtering()`\u001b[0m\u001b[1;33m\u001b[0m\u001b[1;33m\u001b[0m\u001b[0m\n\u001b[1;32m---> 70\u001b[1;33m             \u001b[1;32mraise\u001b[0m \u001b[0me\u001b[0m\u001b[1;33m.\u001b[0m\u001b[0mwith_traceback\u001b[0m\u001b[1;33m(\u001b[0m\u001b[0mfiltered_tb\u001b[0m\u001b[1;33m)\u001b[0m \u001b[1;32mfrom\u001b[0m \u001b[1;32mNone\u001b[0m\u001b[1;33m\u001b[0m\u001b[1;33m\u001b[0m\u001b[0m\n\u001b[0m\u001b[0;32m     71\u001b[0m         \u001b[1;32mfinally\u001b[0m\u001b[1;33m:\u001b[0m\u001b[1;33m\u001b[0m\u001b[1;33m\u001b[0m\u001b[0m\n\u001b[0;32m     72\u001b[0m             \u001b[1;32mdel\u001b[0m \u001b[0mfiltered_tb\u001b[0m\u001b[1;33m\u001b[0m\u001b[1;33m\u001b[0m\u001b[0m\n",
      "\u001b[1;32mC:\\ProgramData\\Anaconda3\\lib\\site-packages\\keras\\layers\\convolutional\\base_conv.py\u001b[0m in \u001b[0;36mcompute_output_shape\u001b[1;34m(self, input_shape)\u001b[0m\n\u001b[0;32m    345\u001b[0m \u001b[1;33m\u001b[0m\u001b[0m\n\u001b[0;32m    346\u001b[0m         \u001b[1;32mexcept\u001b[0m \u001b[0mValueError\u001b[0m\u001b[1;33m:\u001b[0m\u001b[1;33m\u001b[0m\u001b[1;33m\u001b[0m\u001b[0m\n\u001b[1;32m--> 347\u001b[1;33m             raise ValueError(\n\u001b[0m\u001b[0;32m    348\u001b[0m                 \u001b[1;34m\"One of the dimensions in the output is <= 0 \"\u001b[0m\u001b[1;33m\u001b[0m\u001b[1;33m\u001b[0m\u001b[0m\n\u001b[0;32m    349\u001b[0m                 \u001b[1;34mf\"due to downsampling in {self.name}. Consider \"\u001b[0m\u001b[1;33m\u001b[0m\u001b[1;33m\u001b[0m\u001b[0m\n",
      "\u001b[1;31mValueError\u001b[0m: One of the dimensions in the output is <= 0 due to downsampling in conv2d. Consider increasing the input size. Received input shape [None, 1, 6, 1] which would produce output shape with a zero or negative value in a dimension."
     ]
    }
   ],
   "source": [
    "# Reshape X_train and X_test into 2D images\n",
    "n_samples_train, n_features_train = X_train.shape\n",
    "n_samples_test, n_features_test = X_test.shape\n",
    "image_shape = (1, int(n_features_train), 1)\n",
    "X_train_img = np.reshape(X_train, (n_samples_train, *image_shape))\n",
    "X_test_img = np.reshape(X_test, (n_samples_test, *image_shape))\n",
    "\n",
    "# Define CNN architecture\n",
    "model = keras.Sequential([\n",
    "    keras.layers.Conv2D(32, (3,3), activation='relu', input_shape=image_shape),\n",
    "    keras.layers.MaxPooling2D((2,2)),\n",
    "    keras.layers.Flatten(),\n",
    "    keras.layers.Dense(64, activation='relu'),\n",
    "    keras.layers.Dense(1)\n",
    "])\n",
    "\n",
    "# Compile model\n",
    "model.compile(loss='mean_squared_error', optimizer='adam')\n",
    "\n",
    "# Train model\n",
    "model.fit(X_train_img, y_train, validation_split=0.2, epochs=50, batch_size=16)"
   ]
  },
  {
   "cell_type": "code",
   "execution_count": 9,
   "id": "b02e1e83",
   "metadata": {},
   "outputs": [],
   "source": [
    "def calculate_porosity_from_density(density, matrix_density, fluid_density):\n",
    "    \"\"\"\n",
    "    Calculates porosity from density logs given matrix and fluid density.\n",
    "    Args:\n",
    "        density (float or numpy array): density log value(s) in g/cc\n",
    "        matrix_density (float): matrix density in g/cc\n",
    "        fluid_density (float): fluid density in g/cc\n",
    "    Returns:\n",
    "        float or numpy array: porosity values\n",
    "    \"\"\"\n",
    "    porosity = (matrix_density - density) / (matrix_density - fluid_density)\n",
    "    return porosity\n"
   ]
  },
  {
   "cell_type": "code",
   "execution_count": 11,
   "id": "6c022c4f",
   "metadata": {},
   "outputs": [
    {
     "data": {
      "text/plain": [
       "0.1336206896551723"
      ]
     },
     "execution_count": 11,
     "metadata": {},
     "output_type": "execute_result"
    }
   ],
   "source": [
    "d = calculate_porosity_from_density(2.105, 2.26, 1.1)\n",
    "d"
   ]
  },
  {
   "cell_type": "code",
   "execution_count": null,
   "id": "44e3f5ad",
   "metadata": {},
   "outputs": [],
   "source": []
  }
 ],
 "metadata": {
  "kernelspec": {
   "display_name": "Python 3 (ipykernel)",
   "language": "python",
   "name": "python3"
  },
  "language_info": {
   "codemirror_mode": {
    "name": "ipython",
    "version": 3
   },
   "file_extension": ".py",
   "mimetype": "text/x-python",
   "name": "python",
   "nbconvert_exporter": "python",
   "pygments_lexer": "ipython3",
   "version": "3.9.13"
  }
 },
 "nbformat": 4,
 "nbformat_minor": 5
}
