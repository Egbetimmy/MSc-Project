{
 "cells": [
  {
   "cell_type": "code",
   "execution_count": 1,
   "id": "c21e5356",
   "metadata": {},
   "outputs": [
    {
     "name": "stderr",
     "output_type": "stream",
     "text": [
      "Enabling notebook extension jupyter-js-widgets/extension...\n",
      "      - Validating: ok\n"
     ]
    }
   ],
   "source": [
    "!jupyter nbextension enable --py widgetsnbextension"
   ]
  },
  {
   "cell_type": "code",
   "execution_count": 2,
   "id": "bbe2433d",
   "metadata": {},
   "outputs": [
    {
     "data": {
      "text/html": [
       "        <script type=\"text/javascript\">\n",
       "        window.PlotlyConfig = {MathJaxConfig: 'local'};\n",
       "        if (window.MathJax && window.MathJax.Hub && window.MathJax.Hub.Config) {window.MathJax.Hub.Config({SVG: {font: \"STIX-Web\"}});}\n",
       "        if (typeof require !== 'undefined') {\n",
       "        require.undef(\"plotly\");\n",
       "        requirejs.config({\n",
       "            paths: {\n",
       "                'plotly': ['https://cdn.plot.ly/plotly-2.12.1.min']\n",
       "            }\n",
       "        });\n",
       "        require(['plotly'], function(Plotly) {\n",
       "            window._Plotly = Plotly;\n",
       "        });\n",
       "        }\n",
       "        </script>\n",
       "        "
      ]
     },
     "metadata": {},
     "output_type": "display_data"
    },
    {
     "name": "stderr",
     "output_type": "stream",
     "text": [
      "PROJ: proj_create_from_database: SQLite error on SELECT name, type, coordinate_system_auth_name, coordinate_system_code, datum_auth_name, datum_code, area_of_use_auth_name, area_of_use_code, text_definition, deprecated FROM geodetic_crs WHERE auth_name = ? AND code = ?: no such column: area_of_use_auth_name\n"
     ]
    },
    {
     "data": {
      "text/html": [
       "        <script type=\"text/javascript\">\n",
       "        window.PlotlyConfig = {MathJaxConfig: 'local'};\n",
       "        if (window.MathJax && window.MathJax.Hub && window.MathJax.Hub.Config) {window.MathJax.Hub.Config({SVG: {font: \"STIX-Web\"}});}\n",
       "        if (typeof require !== 'undefined') {\n",
       "        require.undef(\"plotly\");\n",
       "        requirejs.config({\n",
       "            paths: {\n",
       "                'plotly': ['https://cdn.plot.ly/plotly-2.12.1.min']\n",
       "            }\n",
       "        });\n",
       "        require(['plotly'], function(Plotly) {\n",
       "            window._Plotly = Plotly;\n",
       "        });\n",
       "        }\n",
       "        </script>\n",
       "        "
      ]
     },
     "metadata": {},
     "output_type": "display_data"
    }
   ],
   "source": [
    "import numpy as np\n",
    "import pandas as pd\n",
    "import scipy\n",
    "\n",
    "# Instansiate the Plotly charting library.\n",
    "import chart_studio.plotly as py\n",
    "import plotly.graph_objs as go\n",
    "import plotly.express as px\n",
    "\n",
    "# We use plotly.offline as this allows us to create interactive \n",
    "# visualisations without the use of an internet connection, \n",
    "# making our notebook more distributable to others. \n",
    "from plotly.offline import iplot, init_notebook_mode\n",
    "init_notebook_mode(connected=True)\n",
    "\n",
    "# The Cufflinks library allows us to directly bind \n",
    "# Pandas dataframes to Plotly charts. \n",
    "import cufflinks as cf\n",
    "# Once again we use the Cufflinks library in offline mode. \n",
    "cf.go_offline(connected=True)\n",
    "cf.set_config_file(colorscale='plotly', world_readable=True)\n",
    "\n",
    "# Extra options. We use these to make our interactive \n",
    "# visualisations more aesthetically appealing. \n",
    "from IPython.core.display import HTML\n",
    "pd.options.display.max_rows = 30\n",
    "pd.options.display.max_columns = 25\n",
    "\n",
    "# Show all code cells outputs\n",
    "from IPython.core.interactiveshell import InteractiveShell\n",
    "InteractiveShell.ast_node_interactivity = 'all'\n",
    "\n",
    "from ipywidgets import interact, interact_manual, widgets"
   ]
  },
  {
   "cell_type": "code",
   "execution_count": 3,
   "id": "05454598",
   "metadata": {},
   "outputs": [],
   "source": [
    "df = pd.read_csv('data/freeman_well_4_eng.csv')"
   ]
  },
  {
   "cell_type": "code",
   "execution_count": 4,
   "id": "cdf48846",
   "metadata": {},
   "outputs": [
    {
     "data": {
      "text/html": [
       "<div>\n",
       "<style scoped>\n",
       "    .dataframe tbody tr th:only-of-type {\n",
       "        vertical-align: middle;\n",
       "    }\n",
       "\n",
       "    .dataframe tbody tr th {\n",
       "        vertical-align: top;\n",
       "    }\n",
       "\n",
       "    .dataframe thead th {\n",
       "        text-align: right;\n",
       "    }\n",
       "</style>\n",
       "<table border=\"1\" class=\"dataframe\">\n",
       "  <thead>\n",
       "    <tr style=\"text-align: right;\">\n",
       "      <th></th>\n",
       "      <th>Depth</th>\n",
       "      <th>GR</th>\n",
       "      <th>Log_ILD</th>\n",
       "      <th>DT</th>\n",
       "      <th>RHOB</th>\n",
       "      <th>NPHI</th>\n",
       "      <th>PHI</th>\n",
       "      <th>PERM</th>\n",
       "      <th>velocity</th>\n",
       "      <th>GRI</th>\n",
       "      <th>vshale</th>\n",
       "      <th>PHIeff</th>\n",
       "      <th>formation_factor</th>\n",
       "      <th>swirr</th>\n",
       "      <th>permeability</th>\n",
       "      <th>Facies_code</th>\n",
       "    </tr>\n",
       "  </thead>\n",
       "  <tbody>\n",
       "    <tr>\n",
       "      <th>0</th>\n",
       "      <td>7682.5</td>\n",
       "      <td>39.0321</td>\n",
       "      <td>0.9332</td>\n",
       "      <td>137.507</td>\n",
       "      <td>2.2382</td>\n",
       "      <td>0.5983</td>\n",
       "      <td>0.0188</td>\n",
       "      <td>0.002024</td>\n",
       "      <td>7272.357044</td>\n",
       "      <td>0.0</td>\n",
       "      <td>0.0</td>\n",
       "      <td>0.0188</td>\n",
       "      <td>3183.84791</td>\n",
       "      <td>1.261715</td>\n",
       "      <td>314.443398</td>\n",
       "      <td>0</td>\n",
       "    </tr>\n",
       "    <tr>\n",
       "      <th>1</th>\n",
       "      <td>7683.0</td>\n",
       "      <td>39.0321</td>\n",
       "      <td>0.9332</td>\n",
       "      <td>137.507</td>\n",
       "      <td>2.2382</td>\n",
       "      <td>0.5983</td>\n",
       "      <td>0.0188</td>\n",
       "      <td>0.002024</td>\n",
       "      <td>7272.357044</td>\n",
       "      <td>0.0</td>\n",
       "      <td>0.0</td>\n",
       "      <td>0.0188</td>\n",
       "      <td>3183.84791</td>\n",
       "      <td>1.261715</td>\n",
       "      <td>314.443398</td>\n",
       "      <td>0</td>\n",
       "    </tr>\n",
       "    <tr>\n",
       "      <th>2</th>\n",
       "      <td>7683.5</td>\n",
       "      <td>39.0321</td>\n",
       "      <td>0.9332</td>\n",
       "      <td>137.507</td>\n",
       "      <td>2.2382</td>\n",
       "      <td>0.5983</td>\n",
       "      <td>0.0188</td>\n",
       "      <td>0.002024</td>\n",
       "      <td>7272.357044</td>\n",
       "      <td>0.0</td>\n",
       "      <td>0.0</td>\n",
       "      <td>0.0188</td>\n",
       "      <td>3183.84791</td>\n",
       "      <td>1.261715</td>\n",
       "      <td>314.443398</td>\n",
       "      <td>0</td>\n",
       "    </tr>\n",
       "    <tr>\n",
       "      <th>3</th>\n",
       "      <td>7684.0</td>\n",
       "      <td>39.0321</td>\n",
       "      <td>0.9332</td>\n",
       "      <td>137.507</td>\n",
       "      <td>2.2382</td>\n",
       "      <td>0.5983</td>\n",
       "      <td>0.0188</td>\n",
       "      <td>0.002024</td>\n",
       "      <td>7272.357044</td>\n",
       "      <td>0.0</td>\n",
       "      <td>0.0</td>\n",
       "      <td>0.0188</td>\n",
       "      <td>3183.84791</td>\n",
       "      <td>1.261715</td>\n",
       "      <td>314.443398</td>\n",
       "      <td>0</td>\n",
       "    </tr>\n",
       "    <tr>\n",
       "      <th>4</th>\n",
       "      <td>7684.5</td>\n",
       "      <td>39.0321</td>\n",
       "      <td>0.9332</td>\n",
       "      <td>137.507</td>\n",
       "      <td>2.2382</td>\n",
       "      <td>0.5983</td>\n",
       "      <td>0.0188</td>\n",
       "      <td>0.002024</td>\n",
       "      <td>7272.357044</td>\n",
       "      <td>0.0</td>\n",
       "      <td>0.0</td>\n",
       "      <td>0.0188</td>\n",
       "      <td>3183.84791</td>\n",
       "      <td>1.261715</td>\n",
       "      <td>314.443398</td>\n",
       "      <td>0</td>\n",
       "    </tr>\n",
       "  </tbody>\n",
       "</table>\n",
       "</div>"
      ],
      "text/plain": [
       "    Depth       GR  Log_ILD       DT    RHOB    NPHI     PHI      PERM  \\\n",
       "0  7682.5  39.0321   0.9332  137.507  2.2382  0.5983  0.0188  0.002024   \n",
       "1  7683.0  39.0321   0.9332  137.507  2.2382  0.5983  0.0188  0.002024   \n",
       "2  7683.5  39.0321   0.9332  137.507  2.2382  0.5983  0.0188  0.002024   \n",
       "3  7684.0  39.0321   0.9332  137.507  2.2382  0.5983  0.0188  0.002024   \n",
       "4  7684.5  39.0321   0.9332  137.507  2.2382  0.5983  0.0188  0.002024   \n",
       "\n",
       "      velocity  GRI  vshale  PHIeff  formation_factor     swirr  permeability  \\\n",
       "0  7272.357044  0.0     0.0  0.0188        3183.84791  1.261715    314.443398   \n",
       "1  7272.357044  0.0     0.0  0.0188        3183.84791  1.261715    314.443398   \n",
       "2  7272.357044  0.0     0.0  0.0188        3183.84791  1.261715    314.443398   \n",
       "3  7272.357044  0.0     0.0  0.0188        3183.84791  1.261715    314.443398   \n",
       "4  7272.357044  0.0     0.0  0.0188        3183.84791  1.261715    314.443398   \n",
       "\n",
       "   Facies_code  \n",
       "0            0  \n",
       "1            0  \n",
       "2            0  \n",
       "3            0  \n",
       "4            0  "
      ]
     },
     "execution_count": 4,
     "metadata": {},
     "output_type": "execute_result"
    }
   ],
   "source": [
    "df.head()"
   ]
  },
  {
   "cell_type": "code",
   "execution_count": 5,
   "id": "6906fdfa",
   "metadata": {},
   "outputs": [
    {
     "data": {
      "text/html": [
       "<div>\n",
       "<style scoped>\n",
       "    .dataframe tbody tr th:only-of-type {\n",
       "        vertical-align: middle;\n",
       "    }\n",
       "\n",
       "    .dataframe tbody tr th {\n",
       "        vertical-align: top;\n",
       "    }\n",
       "\n",
       "    .dataframe thead th {\n",
       "        text-align: right;\n",
       "    }\n",
       "</style>\n",
       "<table border=\"1\" class=\"dataframe\">\n",
       "  <thead>\n",
       "    <tr style=\"text-align: right;\">\n",
       "      <th></th>\n",
       "      <th>Depth</th>\n",
       "      <th>GR</th>\n",
       "      <th>Log_ILD</th>\n",
       "      <th>DT</th>\n",
       "      <th>RHOB</th>\n",
       "      <th>NPHI</th>\n",
       "      <th>PHI</th>\n",
       "      <th>PERM</th>\n",
       "      <th>velocity</th>\n",
       "      <th>GRI</th>\n",
       "      <th>vshale</th>\n",
       "      <th>PHIeff</th>\n",
       "      <th>formation_factor</th>\n",
       "      <th>swirr</th>\n",
       "      <th>permeability</th>\n",
       "      <th>Facies_code</th>\n",
       "    </tr>\n",
       "  </thead>\n",
       "  <tbody>\n",
       "    <tr>\n",
       "      <th>count</th>\n",
       "      <td>7265.000000</td>\n",
       "      <td>7265.000000</td>\n",
       "      <td>7265.000000</td>\n",
       "      <td>7265.000000</td>\n",
       "      <td>7265.000000</td>\n",
       "      <td>7265.000000</td>\n",
       "      <td>7265.000000</td>\n",
       "      <td>7.265000e+03</td>\n",
       "      <td>7265.000000</td>\n",
       "      <td>7265.000000</td>\n",
       "      <td>7265.000000</td>\n",
       "      <td>7265.000000</td>\n",
       "      <td>7265.000000</td>\n",
       "      <td>7265.000000</td>\n",
       "      <td>7265.000000</td>\n",
       "      <td>7265.000000</td>\n",
       "    </tr>\n",
       "    <tr>\n",
       "      <th>mean</th>\n",
       "      <td>9517.223331</td>\n",
       "      <td>108.293192</td>\n",
       "      <td>16.686765</td>\n",
       "      <td>117.874985</td>\n",
       "      <td>2.330328</td>\n",
       "      <td>0.423403</td>\n",
       "      <td>0.162792</td>\n",
       "      <td>1.977483e+02</td>\n",
       "      <td>8564.862129</td>\n",
       "      <td>0.562718</td>\n",
       "      <td>0.302175</td>\n",
       "      <td>0.122300</td>\n",
       "      <td>229.662175</td>\n",
       "      <td>0.175266</td>\n",
       "      <td>1083.666108</td>\n",
       "      <td>1.825877</td>\n",
       "    </tr>\n",
       "    <tr>\n",
       "      <th>std</th>\n",
       "      <td>1056.782447</td>\n",
       "      <td>22.199250</td>\n",
       "      <td>167.285802</td>\n",
       "      <td>11.622890</td>\n",
       "      <td>0.081174</td>\n",
       "      <td>0.065546</td>\n",
       "      <td>0.052950</td>\n",
       "      <td>1.311868e+04</td>\n",
       "      <td>828.281152</td>\n",
       "      <td>0.180360</td>\n",
       "      <td>0.159239</td>\n",
       "      <td>0.058002</td>\n",
       "      <td>4060.743664</td>\n",
       "      <td>0.290042</td>\n",
       "      <td>454.296977</td>\n",
       "      <td>0.556887</td>\n",
       "    </tr>\n",
       "    <tr>\n",
       "      <th>min</th>\n",
       "      <td>7682.500000</td>\n",
       "      <td>37.810800</td>\n",
       "      <td>0.081200</td>\n",
       "      <td>84.811200</td>\n",
       "      <td>1.863100</td>\n",
       "      <td>0.099500</td>\n",
       "      <td>0.002300</td>\n",
       "      <td>9.469370e-04</td>\n",
       "      <td>6307.620110</td>\n",
       "      <td>-0.009900</td>\n",
       "      <td>-0.002081</td>\n",
       "      <td>-0.056698</td>\n",
       "      <td>3.356001</td>\n",
       "      <td>0.040963</td>\n",
       "      <td>304.480215</td>\n",
       "      <td>0.000000</td>\n",
       "    </tr>\n",
       "    <tr>\n",
       "      <th>25%</th>\n",
       "      <td>8609.500000</td>\n",
       "      <td>102.002300</td>\n",
       "      <td>0.877700</td>\n",
       "      <td>108.411500</td>\n",
       "      <td>2.282900</td>\n",
       "      <td>0.385200</td>\n",
       "      <td>0.134300</td>\n",
       "      <td>4.130884e-01</td>\n",
       "      <td>7813.610998</td>\n",
       "      <td>0.511600</td>\n",
       "      <td>0.225251</td>\n",
       "      <td>0.082704</td>\n",
       "      <td>19.967648</td>\n",
       "      <td>0.099919</td>\n",
       "      <td>784.459545</td>\n",
       "      <td>2.000000</td>\n",
       "    </tr>\n",
       "    <tr>\n",
       "      <th>50%</th>\n",
       "      <td>9517.500000</td>\n",
       "      <td>112.544400</td>\n",
       "      <td>1.025200</td>\n",
       "      <td>114.953800</td>\n",
       "      <td>2.347500</td>\n",
       "      <td>0.422300</td>\n",
       "      <td>0.157500</td>\n",
       "      <td>1.202248e+00</td>\n",
       "      <td>8699.146962</td>\n",
       "      <td>0.597300</td>\n",
       "      <td>0.301023</td>\n",
       "      <td>0.113300</td>\n",
       "      <td>32.979076</td>\n",
       "      <td>0.128412</td>\n",
       "      <td>964.244350</td>\n",
       "      <td>2.000000</td>\n",
       "    </tr>\n",
       "    <tr>\n",
       "      <th>75%</th>\n",
       "      <td>10430.500000</td>\n",
       "      <td>120.183500</td>\n",
       "      <td>1.362400</td>\n",
       "      <td>127.981800</td>\n",
       "      <td>2.391600</td>\n",
       "      <td>0.461700</td>\n",
       "      <td>0.198900</td>\n",
       "      <td>8.089225e+00</td>\n",
       "      <td>9224.113678</td>\n",
       "      <td>0.659300</td>\n",
       "      <td>0.367208</td>\n",
       "      <td>0.167521</td>\n",
       "      <td>46.454551</td>\n",
       "      <td>0.152405</td>\n",
       "      <td>1356.066594</td>\n",
       "      <td>2.000000</td>\n",
       "    </tr>\n",
       "    <tr>\n",
       "      <th>max</th>\n",
       "      <td>11357.000000</td>\n",
       "      <td>178.320800</td>\n",
       "      <td>1950.000000</td>\n",
       "      <td>158.538400</td>\n",
       "      <td>2.564600</td>\n",
       "      <td>0.656900</td>\n",
       "      <td>0.455900</td>\n",
       "      <td>1.115233e+06</td>\n",
       "      <td>11790.895542</td>\n",
       "      <td>1.131700</td>\n",
       "      <td>1.429091</td>\n",
       "      <td>0.439745</td>\n",
       "      <td>291525.696795</td>\n",
       "      <td>12.073229</td>\n",
       "      <td>5824.492160</td>\n",
       "      <td>2.000000</td>\n",
       "    </tr>\n",
       "  </tbody>\n",
       "</table>\n",
       "</div>"
      ],
      "text/plain": [
       "              Depth           GR      Log_ILD           DT         RHOB  \\\n",
       "count   7265.000000  7265.000000  7265.000000  7265.000000  7265.000000   \n",
       "mean    9517.223331   108.293192    16.686765   117.874985     2.330328   \n",
       "std     1056.782447    22.199250   167.285802    11.622890     0.081174   \n",
       "min     7682.500000    37.810800     0.081200    84.811200     1.863100   \n",
       "25%     8609.500000   102.002300     0.877700   108.411500     2.282900   \n",
       "50%     9517.500000   112.544400     1.025200   114.953800     2.347500   \n",
       "75%    10430.500000   120.183500     1.362400   127.981800     2.391600   \n",
       "max    11357.000000   178.320800  1950.000000   158.538400     2.564600   \n",
       "\n",
       "              NPHI          PHI          PERM      velocity          GRI  \\\n",
       "count  7265.000000  7265.000000  7.265000e+03   7265.000000  7265.000000   \n",
       "mean      0.423403     0.162792  1.977483e+02   8564.862129     0.562718   \n",
       "std       0.065546     0.052950  1.311868e+04    828.281152     0.180360   \n",
       "min       0.099500     0.002300  9.469370e-04   6307.620110    -0.009900   \n",
       "25%       0.385200     0.134300  4.130884e-01   7813.610998     0.511600   \n",
       "50%       0.422300     0.157500  1.202248e+00   8699.146962     0.597300   \n",
       "75%       0.461700     0.198900  8.089225e+00   9224.113678     0.659300   \n",
       "max       0.656900     0.455900  1.115233e+06  11790.895542     1.131700   \n",
       "\n",
       "            vshale       PHIeff  formation_factor        swirr  permeability  \\\n",
       "count  7265.000000  7265.000000       7265.000000  7265.000000   7265.000000   \n",
       "mean      0.302175     0.122300        229.662175     0.175266   1083.666108   \n",
       "std       0.159239     0.058002       4060.743664     0.290042    454.296977   \n",
       "min      -0.002081    -0.056698          3.356001     0.040963    304.480215   \n",
       "25%       0.225251     0.082704         19.967648     0.099919    784.459545   \n",
       "50%       0.301023     0.113300         32.979076     0.128412    964.244350   \n",
       "75%       0.367208     0.167521         46.454551     0.152405   1356.066594   \n",
       "max       1.429091     0.439745     291525.696795    12.073229   5824.492160   \n",
       "\n",
       "       Facies_code  \n",
       "count  7265.000000  \n",
       "mean      1.825877  \n",
       "std       0.556887  \n",
       "min       0.000000  \n",
       "25%       2.000000  \n",
       "50%       2.000000  \n",
       "75%       2.000000  \n",
       "max       2.000000  "
      ]
     },
     "execution_count": 5,
     "metadata": {},
     "output_type": "execute_result"
    }
   ],
   "source": [
    "df.describe()"
   ]
  },
  {
   "cell_type": "code",
   "execution_count": 6,
   "id": "542c0429",
   "metadata": {},
   "outputs": [
    {
     "data": {
      "text/plain": [
       "Depth               0\n",
       "GR                  0\n",
       "Log_ILD             0\n",
       "DT                  0\n",
       "RHOB                0\n",
       "NPHI                0\n",
       "PHI                 0\n",
       "PERM                0\n",
       "velocity            0\n",
       "GRI                 0\n",
       "vshale              0\n",
       "PHIeff              0\n",
       "formation_factor    0\n",
       "swirr               0\n",
       "permeability        0\n",
       "Facies_code         0\n",
       "dtype: int64"
      ]
     },
     "execution_count": 6,
     "metadata": {},
     "output_type": "execute_result"
    }
   ],
   "source": [
    "df.isnull().sum()"
   ]
  },
  {
   "cell_type": "code",
   "execution_count": 7,
   "id": "d45cadd1",
   "metadata": {},
   "outputs": [
    {
     "data": {
      "application/vnd.jupyter.widget-view+json": {
       "model_id": "c780a4d19d8b425faa7abe05cdc655cf",
       "version_major": 2,
       "version_minor": 0
      },
      "text/plain": [
       "interactive(children=(Dropdown(description='column1', options=('Depth', 'GR', 'Log_ILD', 'DT', 'RHOB', 'NPHI',…"
      ]
     },
     "metadata": {},
     "output_type": "display_data"
    }
   ],
   "source": [
    "@interact\n",
    "def correlations(column1=list(df.select_dtypes('number').columns), \n",
    "                 column2=list(df.select_dtypes('number').columns)):\n",
    "    print(f\"Correlation: {df[column1].corr(df[column2])}\")"
   ]
  },
  {
   "cell_type": "code",
   "execution_count": 8,
   "id": "6cbf488d",
   "metadata": {},
   "outputs": [
    {
     "data": {
      "application/vnd.jupyter.widget-view+json": {
       "model_id": "00ecadec24d143c98c80aa3fc79c1e6f",
       "version_major": 2,
       "version_minor": 0
      },
      "text/plain": [
       "interactive(children=(Dropdown(description='x', options=('Depth', 'GR', 'Log_ILD', 'DT', 'RHOB', 'NPHI', 'PHI'…"
      ]
     },
     "metadata": {},
     "output_type": "display_data"
    }
   ],
   "source": [
    "@interact\n",
    "def scatter_plot(x=list(df.select_dtypes('number').columns), \n",
    "                 y=list(df.select_dtypes('number').columns)[1:]):\n",
    "    if x == y:\n",
    "        print(f\"Please select seperate variables for X and Y\")\n",
    "    else:\n",
    "        df.iplot(kind='scatter', x=x, y=y, mode='markers', \n",
    "                 xTitle=x.title(), yTitle=y.title(), title=f'{y.title()} vs {x.title()}')\n",
    "        ## if you are using Google Colab, comment out the above line of code and uncomment the lines below\n",
    "        #fig = px.scatter(df, x=x, y=y, title=f'{y.title()} vs {x.title()}')\n",
    "        #fig.show(renderer=\"colab\")"
   ]
  },
  {
   "cell_type": "code",
   "execution_count": 9,
   "id": "cf69542e",
   "metadata": {},
   "outputs": [
    {
     "data": {
      "application/vnd.jupyter.widget-view+json": {
       "model_id": "0a4e82fae55e4ca0adc7a179dcc3e9d1",
       "version_major": 2,
       "version_minor": 0
      },
      "text/plain": [
       "interactive(children=(Dropdown(description='colorscale', options=('Greys', 'YlGnBu', 'Greens', 'YlOrRd', 'Blue…"
      ]
     },
     "metadata": {},
     "output_type": "display_data"
    }
   ],
   "source": [
    "cscales = ['Greys', 'YlGnBu', 'Greens', 'YlOrRd', 'Bluered', 'RdBu',\n",
    "            'Reds', 'Blues', 'Picnic', 'Rainbow', 'Portland', 'Jet',\n",
    "            'Hot', 'Blackbody', 'Earth', 'Electric', 'Viridis', 'Cividis']\n",
    "\n",
    "# We use the Figure Factory module of Plotly, which\n",
    "# defines many unique and powerful plots to be used\n",
    "# in Python. \n",
    "# For more info, see: https://plot.ly/python/figure-factory-subplots/\n",
    "import plotly.figure_factory as ff\n",
    "\n",
    "corrs = df.corr()\n",
    "\n",
    "@interact\n",
    "def plot_corrs(colorscale=cscales):\n",
    "    figure = ff.create_annotated_heatmap(z = corrs.round(2).values, \n",
    "                                     x =list(corrs.columns), \n",
    "                                     y=list(corrs.index), \n",
    "                                     colorscale=colorscale,\n",
    "                                     annotation_text=corrs.round(2).values)\n",
    "    iplot(figure)\n",
    "    ## if you are using Google Colab, comment out the above line of code and uncomment the line below\n",
    "    #figure.show(renderer=\"colab\")"
   ]
  },
  {
   "cell_type": "code",
   "execution_count": 10,
   "id": "6a805605",
   "metadata": {},
   "outputs": [
    {
     "data": {
      "application/vnd.jupyter.widget-view+json": {
       "model_id": "6a242d697a474b69afbb94d26816526a",
       "version_major": 2,
       "version_minor": 0
      },
      "text/plain": [
       "interactive(children=(Dropdown(description='x', options=('Depth', 'GR', 'Log_ILD', 'DT', 'RHOB', 'NPHI', 'PHI'…"
      ]
     },
     "metadata": {},
     "output_type": "display_data"
    }
   ],
   "source": [
    "@interact_manual\n",
    "def scatter_plot(x=list(df.select_dtypes('number').columns), \n",
    "                 y=list(df.select_dtypes('number').columns)[1:],\n",
    "                 theme=list(cf.themes.THEMES.keys()), \n",
    "                 colorscale=list(cf.colors._scales_names.keys())):\n",
    "    \n",
    "    if x == y:\n",
    "        print(f\"Please select seperate variables for X and Y\")\n",
    "    else:\n",
    "        df.iplot(kind='scatter', x=x, y=y, mode='markers', \n",
    "                 xTitle=x.title(), yTitle=y.title(), \n",
    "                 text='Depth',\n",
    "                 title=f'{y.title()} vs {x.title()}',\n",
    "                theme=theme, colorscale=colorscale)\n",
    "        ## if you are using Google Colab, comment out the above line of code and uncomment the line below\n",
    "        #fig = px.scatter(df, x=x, y=y, title=f'{y.title()} vs {x.title()}')\n",
    "        #fig.show(renderer=\"colab\")"
   ]
  },
  {
   "cell_type": "code",
   "execution_count": 11,
   "id": "e9ccce97",
   "metadata": {},
   "outputs": [],
   "source": [
    "from pore_pressure import eaton_method"
   ]
  },
  {
   "cell_type": "code",
   "execution_count": 12,
   "id": "f19c1675",
   "metadata": {},
   "outputs": [],
   "source": [
    "from class2 import vp_to_vs\n",
    "df['vs'] = vp_to_vs(df, 'velocity')"
   ]
  },
  {
   "cell_type": "code",
   "execution_count": 13,
   "id": "add3bd37",
   "metadata": {},
   "outputs": [],
   "source": [
    "df['Pore_pressure'] = eaton_method(df['velocity'], df['vs'], df['PHI'])"
   ]
  },
  {
   "cell_type": "code",
   "execution_count": 15,
   "id": "d364404a",
   "metadata": {},
   "outputs": [
    {
     "name": "stdout",
     "output_type": "stream",
     "text": [
      "Depth               0.757869\n",
      "GR                  0.265630\n",
      "Log_ILD            -0.057573\n",
      "DT                 -0.955729\n",
      "RHOB                0.638151\n",
      "NPHI               -0.473344\n",
      "PHI                -0.668967\n",
      "PERM               -0.044290\n",
      "velocity            0.960424\n",
      "GRI                 0.265632\n",
      "vshale              0.309332\n",
      "PHIeff             -0.724500\n",
      "formation_factor    0.020371\n",
      "swirr               0.088293\n",
      "permeability       -0.740918\n",
      "Facies_code         0.006585\n",
      "vs                  0.960424\n",
      "Pore_pressure       1.000000\n",
      "dtype: float64\n"
     ]
    },
    {
     "data": {
      "text/plain": [
       "<AxesSubplot:>"
      ]
     },
     "execution_count": 15,
     "metadata": {},
     "output_type": "execute_result"
    },
    {
     "data": {
      "text/plain": [
       "Text(0.5, 0, 'Features')"
      ]
     },
     "execution_count": 15,
     "metadata": {},
     "output_type": "execute_result"
    },
    {
     "data": {
      "text/plain": [
       "Text(0, 0.5, 'Correlation with target')"
      ]
     },
     "execution_count": 15,
     "metadata": {},
     "output_type": "execute_result"
    },
    {
     "data": {
      "text/plain": [
       "Text(0.5, 1.0, 'Correlation between features and target variable')"
      ]
     },
     "execution_count": 15,
     "metadata": {},
     "output_type": "execute_result"
    },
    {
     "data": {
      "image/png": "[encoded data removed]",
      "text/plain": [
       "<Figure size 640x480 with 1 Axes>"
      ]
     },
     "metadata": {},
     "output_type": "display_data"
    }
   ],
   "source": [
    "# Calculate the correlation coefficients between features and the target variable\n",
    "import matplotlib.pyplot as plt\n",
    "corr_with_target = df.corrwith(df['Pore_pressure'])\n",
    "\n",
    "# Display the correlation coefficients\n",
    "print(corr_with_target)\n",
    "\n",
    "corr_with_target.plot(kind='bar')\n",
    "\n",
    "# Add axis labels and a title\n",
    "plt.xlabel('Features')\n",
    "plt.ylabel('Correlation with target')\n",
    "plt.title('Correlation between features and target variable')\n",
    "plt.show()"
   ]
  },
  {
   "cell_type": "code",
   "execution_count": 44,
   "id": "87e90a6b",
   "metadata": {},
   "outputs": [],
   "source": [
    "from sklearn.model_selection import train_test_split, GridSearchCV\n",
    "from sklearn.metrics import mean_squared_error\n",
    "from sklearn.ensemble import RandomForestRegressor, GradientBoostingRegressor\n",
    "from sklearn.svm import SVR\n",
    "from sklearn.tree import DecisionTreeRegressor\n",
    "from sklearn.neural_network import MLPRegressor\n",
    "from sklearn.pipeline import Pipeline\n",
    "from sklearn.pipeline import make_pipeline\n",
    "from sklearn.preprocessing import StandardScaler\n",
    "import joblib"
   ]
  },
  {
   "cell_type": "code",
   "execution_count": 45,
   "id": "2154f3e9",
   "metadata": {},
   "outputs": [],
   "source": [
    "# Define input features and target variable\n",
    "X = df[['Log_ILD', 'RHOB', 'GR', 'Facies_code', 'Depth', 'vs', 'PHI']]\n",
    "y = df['Pore_pressure']"
   ]
  },
  {
   "cell_type": "code",
   "execution_count": 46,
   "id": "0908a24c",
   "metadata": {},
   "outputs": [],
   "source": [
    "# Split data into training and testing sets\n",
    "X_train, X_test, y_train, y_test = train_test_split(X, y, test_size=0.2)\n",
    "\n",
    "# Define dictionary of models and their hyperparameters\n",
    "models = {\n",
    "    'svm': {\n",
    "        'model': make_pipeline(StandardScaler(), SVR()),\n",
    "        'params': {\n",
    "            'svr__kernel': ['linear', 'rbf', 'poly'],\n",
    "            'svr__C': [0.1, 1, 10],\n",
    "            'svr__gamma': ['scale', 'auto']\n",
    "        }\n",
    "    },\n",
    "    'random_forest': {\n",
    "        'model': RandomForestRegressor(),\n",
    "        'params': {\n",
    "            'n_estimators': [50, 100, 150],\n",
    "            'max_depth': [10, 20, 30]\n",
    "        }\n",
    "    },\n",
    "    'decision_tree': {\n",
    "        'model': DecisionTreeRegressor(),\n",
    "        'params': {\n",
    "            'max_depth': [5, 10, 15],\n",
    "            'min_samples_split': [2, 5, 10]\n",
    "        }\n",
    "    },\n",
    "    'neural_network': {\n",
    "        'model': MLPRegressor(),\n",
    "        'params': {\n",
    "            'hidden_layer_sizes': [(10,), (20,), (30,)],\n",
    "            'activation': ['relu', 'tanh', 'logistic']\n",
    "        }\n",
    "    },\n",
    "    'gradient_boosting': {\n",
    "        'model': GradientBoostingRegressor(),\n",
    "        'params': {\n",
    "            'learning_rate': [0.05, 0.1, 0.2],\n",
    "            'n_estimators': [50, 100, 150],\n",
    "            'max_depth': [3, 5, 7]\n",
    "        }\n",
    "    }\n",
    "}"
   ]
  },
  {
   "cell_type": "code",
   "execution_count": 51,
   "id": "bb45ca65",
   "metadata": {},
   "outputs": [
    {
     "data": {
      "text/plain": [
       "GridSearchCV(cv=5,\n",
       "             estimator=Pipeline(steps=[('standardscaler', StandardScaler()),\n",
       "                                       ('svr', SVR())]),\n",
       "             n_jobs=-1,\n",
       "             param_grid={'svr__C': [0.1, 1, 10],\n",
       "                         'svr__gamma': ['scale', 'auto'],\n",
       "                         'svr__kernel': ['linear', 'rbf', 'poly']})"
      ]
     },
     "execution_count": 51,
     "metadata": {},
     "output_type": "execute_result"
    },
    {
     "data": {
      "text/plain": [
       "['models/svm_best_model_pp.pkl']"
      ]
     },
     "execution_count": 51,
     "metadata": {},
     "output_type": "execute_result"
    },
    {
     "data": {
      "text/plain": [
       "GridSearchCV(cv=5, estimator=RandomForestRegressor(), n_jobs=-1,\n",
       "             param_grid={'max_depth': [10, 20, 30],\n",
       "                         'n_estimators': [50, 100, 150]})"
      ]
     },
     "execution_count": 51,
     "metadata": {},
     "output_type": "execute_result"
    },
    {
     "data": {
      "text/plain": [
       "['models/random_forest_best_model_pp.pkl']"
      ]
     },
     "execution_count": 51,
     "metadata": {},
     "output_type": "execute_result"
    },
    {
     "data": {
      "text/plain": [
       "GridSearchCV(cv=5, estimator=DecisionTreeRegressor(), n_jobs=-1,\n",
       "             param_grid={'max_depth': [5, 10, 15],\n",
       "                         'min_samples_split': [2, 5, 10]})"
      ]
     },
     "execution_count": 51,
     "metadata": {},
     "output_type": "execute_result"
    },
    {
     "data": {
      "text/plain": [
       "['models/decision_tree_best_model_pp.pkl']"
      ]
     },
     "execution_count": 51,
     "metadata": {},
     "output_type": "execute_result"
    },
    {
     "name": "stderr",
     "output_type": "stream",
     "text": [
      "C:\\ProgramData\\Anaconda3\\lib\\site-packages\\sklearn\\neural_network\\_multilayer_perceptron.py:692: ConvergenceWarning:\n",
      "\n",
      "Stochastic Optimizer: Maximum iterations (200) reached and the optimization hasn't converged yet.\n",
      "\n"
     ]
    },
    {
     "data": {
      "text/plain": [
       "GridSearchCV(cv=5, estimator=MLPRegressor(), n_jobs=-1,\n",
       "             param_grid={'activation': ['relu', 'tanh', 'logistic'],\n",
       "                         'hidden_layer_sizes': [(10,), (20,), (30,)]})"
      ]
     },
     "execution_count": 51,
     "metadata": {},
     "output_type": "execute_result"
    },
    {
     "data": {
      "text/plain": [
       "['models/neural_network_best_model_pp.pkl']"
      ]
     },
     "execution_count": 51,
     "metadata": {},
     "output_type": "execute_result"
    },
    {
     "data": {
      "text/plain": [
       "GridSearchCV(cv=5, estimator=GradientBoostingRegressor(), n_jobs=-1,\n",
       "             param_grid={'learning_rate': [0.05, 0.1, 0.2],\n",
       "                         'max_depth': [3, 5, 7],\n",
       "                         'n_estimators': [50, 100, 150]})"
      ]
     },
     "execution_count": 51,
     "metadata": {},
     "output_type": "execute_result"
    },
    {
     "data": {
      "text/plain": [
       "['models/gradient_boosting_best_model_pp.pkl']"
      ]
     },
     "execution_count": 51,
     "metadata": {},
     "output_type": "execute_result"
    }
   ],
   "source": [
    "scores = []\n",
    "# Loop over each model and perform grid search with cross-validation to find best hyperparameters \n",
    "## scoring='neg_mean_squared_error'\n",
    "for model_name, model in models.items():\n",
    "    clf = GridSearchCV(model['model'], model['params'], cv=5, n_jobs=-1, return_train_score=False)\n",
    "    clf.fit(X_train, y_train)\n",
    "    best_params = clf.best_params_\n",
    "    \n",
    "    # Evaluate best model on test set\n",
    "    y_pred = clf.predict(X_test)\n",
    "    mse = mean_squared_error(y_test, y_pred)\n",
    "    rmse = np.sqrt(mse)\n",
    "    r2 = clf.score(X_test, y_test)\n",
    "    scores.append({\n",
    "        'model': model_name,\n",
    "        'best_score': clf.best_score_,\n",
    "        'best_params': best_params,\n",
    "        'RMSE': rmse,\n",
    "        'R-squared': r2\n",
    "    })\n",
    "    # Save the best model for each method\n",
    "    joblib.dump(clf.best_estimator_, f\"models/{model_name}_best_model_pp.pkl\")"
   ]
  },
  {
   "cell_type": "code",
   "execution_count": 53,
   "id": "9f0b9e53",
   "metadata": {},
   "outputs": [
    {
     "data": {
      "text/html": [
       "<div>\n",
       "<style scoped>\n",
       "    .dataframe tbody tr th:only-of-type {\n",
       "        vertical-align: middle;\n",
       "    }\n",
       "\n",
       "    .dataframe tbody tr th {\n",
       "        vertical-align: top;\n",
       "    }\n",
       "\n",
       "    .dataframe thead th {\n",
       "        text-align: right;\n",
       "    }\n",
       "</style>\n",
       "<table border=\"1\" class=\"dataframe\">\n",
       "  <thead>\n",
       "    <tr style=\"text-align: right;\">\n",
       "      <th></th>\n",
       "      <th>model</th>\n",
       "      <th>best_params</th>\n",
       "      <th>best_score</th>\n",
       "      <th>RMSE</th>\n",
       "      <th>R-squared</th>\n",
       "    </tr>\n",
       "  </thead>\n",
       "  <tbody>\n",
       "    <tr>\n",
       "      <th>0</th>\n",
       "      <td>svm</td>\n",
       "      <td>{'svr__C': 10, 'svr__gamma': 'scale', 'svr__ke...</td>\n",
       "      <td>0.423286</td>\n",
       "      <td>375672.506942</td>\n",
       "      <td>0.504918</td>\n",
       "    </tr>\n",
       "    <tr>\n",
       "      <th>1</th>\n",
       "      <td>random_forest</td>\n",
       "      <td>{'max_depth': 30, 'n_estimators': 150}</td>\n",
       "      <td>0.998659</td>\n",
       "      <td>15175.882696</td>\n",
       "      <td>0.999192</td>\n",
       "    </tr>\n",
       "    <tr>\n",
       "      <th>2</th>\n",
       "      <td>decision_tree</td>\n",
       "      <td>{'max_depth': 15, 'min_samples_split': 5}</td>\n",
       "      <td>0.996824</td>\n",
       "      <td>22144.384502</td>\n",
       "      <td>0.998280</td>\n",
       "    </tr>\n",
       "    <tr>\n",
       "      <th>3</th>\n",
       "      <td>neural_network</td>\n",
       "      <td>{'activation': 'relu', 'hidden_layer_sizes': (...</td>\n",
       "      <td>0.840123</td>\n",
       "      <td>208367.970033</td>\n",
       "      <td>0.847693</td>\n",
       "    </tr>\n",
       "    <tr>\n",
       "      <th>4</th>\n",
       "      <td>gradient_boosting</td>\n",
       "      <td>{'learning_rate': 0.1, 'max_depth': 5, 'n_esti...</td>\n",
       "      <td>0.999087</td>\n",
       "      <td>15103.999692</td>\n",
       "      <td>0.999200</td>\n",
       "    </tr>\n",
       "  </tbody>\n",
       "</table>\n",
       "</div>"
      ],
      "text/plain": [
       "               model                                        best_params  \\\n",
       "0                svm  {'svr__C': 10, 'svr__gamma': 'scale', 'svr__ke...   \n",
       "1      random_forest             {'max_depth': 30, 'n_estimators': 150}   \n",
       "2      decision_tree          {'max_depth': 15, 'min_samples_split': 5}   \n",
       "3     neural_network  {'activation': 'relu', 'hidden_layer_sizes': (...   \n",
       "4  gradient_boosting  {'learning_rate': 0.1, 'max_depth': 5, 'n_esti...   \n",
       "\n",
       "   best_score           RMSE  R-squared  \n",
       "0    0.423286  375672.506942   0.504918  \n",
       "1    0.998659   15175.882696   0.999192  \n",
       "2    0.996824   22144.384502   0.998280  \n",
       "3    0.840123  208367.970033   0.847693  \n",
       "4    0.999087   15103.999692   0.999200  "
      ]
     },
     "execution_count": 53,
     "metadata": {},
     "output_type": "execute_result"
    }
   ],
   "source": [
    "best_model_df = pd.DataFrame(scores, columns=['model', 'best_params', 'best_score', 'RMSE', 'R-squared'])\n",
    "best_model_df"
   ]
  },
  {
   "cell_type": "code",
   "execution_count": 54,
   "id": "f8f7eaf8",
   "metadata": {},
   "outputs": [],
   "source": [
    "best_model_df.to_csv('data/best_model_pp.csv', index=False)"
   ]
  },
  {
   "cell_type": "code",
   "execution_count": 55,
   "id": "65fd613e",
   "metadata": {},
   "outputs": [],
   "source": [
    "# Load the models from the model folder\n",
    "model_rf = joblib.load('models/random_forest_best_model_pp.pkl')\n",
    "model_dt = joblib.load('models/decision_tree_best_model_pp.pkl')\n",
    "model_gb = joblib.load('models/gradient_boosting_best_model_pp.pkl')\n",
    "model_nn = joblib.load('models/neural_network_best_model_pp.pkl')"
   ]
  },
  {
   "cell_type": "code",
   "execution_count": 56,
   "id": "b240fcd4",
   "metadata": {},
   "outputs": [
    {
     "data": {
      "text/html": [
       "<div>\n",
       "<style scoped>\n",
       "    .dataframe tbody tr th:only-of-type {\n",
       "        vertical-align: middle;\n",
       "    }\n",
       "\n",
       "    .dataframe tbody tr th {\n",
       "        vertical-align: top;\n",
       "    }\n",
       "\n",
       "    .dataframe thead th {\n",
       "        text-align: right;\n",
       "    }\n",
       "</style>\n",
       "<table border=\"1\" class=\"dataframe\">\n",
       "  <thead>\n",
       "    <tr style=\"text-align: right;\">\n",
       "      <th></th>\n",
       "      <th>Depth</th>\n",
       "      <th>Log_ILD</th>\n",
       "      <th>NPHI</th>\n",
       "      <th>RHOB</th>\n",
       "      <th>vshale</th>\n",
       "      <th>Facies</th>\n",
       "      <th>velocity</th>\n",
       "      <th>Actual pore pressure</th>\n",
       "      <th>rf_pore pressure</th>\n",
       "      <th>dt_pore pressure</th>\n",
       "      <th>gb_pore pressure</th>\n",
       "      <th>nn_pore pressure</th>\n",
       "    </tr>\n",
       "  </thead>\n",
       "  <tbody>\n",
       "    <tr>\n",
       "      <th>973</th>\n",
       "      <td>8172.0</td>\n",
       "      <td>0.9282</td>\n",
       "      <td>0.2299</td>\n",
       "      <td>2.2552</td>\n",
       "      <td>102.5593</td>\n",
       "      <td>2</td>\n",
       "      <td>5211.8153</td>\n",
       "      <td>3.674948e+06</td>\n",
       "      <td>3.677256e+06</td>\n",
       "      <td>3.672735e+06</td>\n",
       "      <td>3.678472e+06</td>\n",
       "      <td>3.882558e+06</td>\n",
       "    </tr>\n",
       "    <tr>\n",
       "      <th>4851</th>\n",
       "      <td>10132.0</td>\n",
       "      <td>1.0926</td>\n",
       "      <td>0.1748</td>\n",
       "      <td>2.3378</td>\n",
       "      <td>103.3956</td>\n",
       "      <td>2</td>\n",
       "      <td>6194.3450</td>\n",
       "      <td>4.565100e+06</td>\n",
       "      <td>4.563088e+06</td>\n",
       "      <td>4.564944e+06</td>\n",
       "      <td>4.568714e+06</td>\n",
       "      <td>4.688572e+06</td>\n",
       "    </tr>\n",
       "    <tr>\n",
       "      <th>5286</th>\n",
       "      <td>10349.5</td>\n",
       "      <td>0.8233</td>\n",
       "      <td>0.1595</td>\n",
       "      <td>2.3607</td>\n",
       "      <td>109.3129</td>\n",
       "      <td>2</td>\n",
       "      <td>5987.9039</td>\n",
       "      <td>4.464277e+06</td>\n",
       "      <td>4.464754e+06</td>\n",
       "      <td>4.464090e+06</td>\n",
       "      <td>4.464955e+06</td>\n",
       "      <td>4.636203e+06</td>\n",
       "    </tr>\n",
       "    <tr>\n",
       "      <th>5228</th>\n",
       "      <td>10320.5</td>\n",
       "      <td>0.8070</td>\n",
       "      <td>0.1515</td>\n",
       "      <td>2.3727</td>\n",
       "      <td>117.8880</td>\n",
       "      <td>2</td>\n",
       "      <td>6016.4298</td>\n",
       "      <td>4.512229e+06</td>\n",
       "      <td>4.513132e+06</td>\n",
       "      <td>4.552514e+06</td>\n",
       "      <td>4.521465e+06</td>\n",
       "      <td>4.645185e+06</td>\n",
       "    </tr>\n",
       "    <tr>\n",
       "      <th>5834</th>\n",
       "      <td>10623.5</td>\n",
       "      <td>1.2484</td>\n",
       "      <td>0.1267</td>\n",
       "      <td>2.4100</td>\n",
       "      <td>119.9572</td>\n",
       "      <td>2</td>\n",
       "      <td>6631.5549</td>\n",
       "      <td>5.063434e+06</td>\n",
       "      <td>5.063906e+06</td>\n",
       "      <td>5.062338e+06</td>\n",
       "      <td>5.069838e+06</td>\n",
       "      <td>4.979762e+06</td>\n",
       "    </tr>\n",
       "  </tbody>\n",
       "</table>\n",
       "</div>"
      ],
      "text/plain": [
       "        Depth  Log_ILD    NPHI    RHOB    vshale  Facies   velocity  \\\n",
       "973    8172.0   0.9282  0.2299  2.2552  102.5593       2  5211.8153   \n",
       "4851  10132.0   1.0926  0.1748  2.3378  103.3956       2  6194.3450   \n",
       "5286  10349.5   0.8233  0.1595  2.3607  109.3129       2  5987.9039   \n",
       "5228  10320.5   0.8070  0.1515  2.3727  117.8880       2  6016.4298   \n",
       "5834  10623.5   1.2484  0.1267  2.4100  119.9572       2  6631.5549   \n",
       "\n",
       "      Actual pore pressure  rf_pore pressure  dt_pore pressure  \\\n",
       "973           3.674948e+06      3.677256e+06      3.672735e+06   \n",
       "4851          4.565100e+06      4.563088e+06      4.564944e+06   \n",
       "5286          4.464277e+06      4.464754e+06      4.464090e+06   \n",
       "5228          4.512229e+06      4.513132e+06      4.552514e+06   \n",
       "5834          5.063434e+06      5.063906e+06      5.062338e+06   \n",
       "\n",
       "      gb_pore pressure  nn_pore pressure  \n",
       "973       3.678472e+06      3.882558e+06  \n",
       "4851      4.568714e+06      4.688572e+06  \n",
       "5286      4.464955e+06      4.636203e+06  \n",
       "5228      4.521465e+06      4.645185e+06  \n",
       "5834      5.069838e+06      4.979762e+06  "
      ]
     },
     "execution_count": 56,
     "metadata": {},
     "output_type": "execute_result"
    }
   ],
   "source": [
    "# Predict y values for x_test\n",
    "y_pred_rf = model_rf.predict(X_test)\n",
    "y_pred_dt = model_dt.predict(X_test)\n",
    "y_pred_gb = model_gb.predict(X_test)\n",
    "y_pred_nn = model_nn.predict(X_test)\n",
    "\n",
    "X_test_df = pd.DataFrame(X_test, columns=['Log_ILD', 'RHOB', 'GR', 'Facies_code', 'Depth', 'vs', 'PHI'])\n",
    "\n",
    "# Create a dataframe with x_test, y_test, and y_predict\n",
    "results_df = pd.DataFrame({'Depth': X_test_df['Depth'],\n",
    "                           'Log_ILD': X_test_df['Log_ILD'],\n",
    "                           'NPHI': X_test_df['PHI'],\n",
    "                           'RHOB': X_test_df['RHOB'],\n",
    "                           'vshale': X_test_df['GR'],\n",
    "                           'Facies': X_test_df['Facies_code'],\n",
    "                           'velocity': X_test_df['vs'],\n",
    "                           'Actual pore pressure': y_test,\n",
    "                           'rf_pore pressure': y_pred_rf,\n",
    "                           'dt_pore pressure': y_pred_dt,\n",
    "                           'gb_pore pressure': y_pred_gb,\n",
    "                           'nn_pore pressure': y_pred_nn\n",
    "                          })\n",
    "\n",
    "# Print the dataframe\n",
    "results_df.to_csv('results_test_pp.csv', index=False)\n",
    "results_df.head()"
   ]
  },
  {
   "cell_type": "code",
   "execution_count": 58,
   "id": "8de23e4e",
   "metadata": {},
   "outputs": [
    {
     "data": {
      "text/html": [
       "<div>\n",
       "<style scoped>\n",
       "    .dataframe tbody tr th:only-of-type {\n",
       "        vertical-align: middle;\n",
       "    }\n",
       "\n",
       "    .dataframe tbody tr th {\n",
       "        vertical-align: top;\n",
       "    }\n",
       "\n",
       "    .dataframe thead th {\n",
       "        text-align: right;\n",
       "    }\n",
       "</style>\n",
       "<table border=\"1\" class=\"dataframe\">\n",
       "  <thead>\n",
       "    <tr style=\"text-align: right;\">\n",
       "      <th></th>\n",
       "      <th>Depth</th>\n",
       "      <th>Log_ILD</th>\n",
       "      <th>NPHI</th>\n",
       "      <th>RHOB</th>\n",
       "      <th>vshale</th>\n",
       "      <th>Facies</th>\n",
       "      <th>velocity</th>\n",
       "      <th>Actual Permeability</th>\n",
       "      <th>rf_Permeability</th>\n",
       "      <th>dt_Permeability</th>\n",
       "      <th>gb_Permeability</th>\n",
       "      <th>nn_pore pressure</th>\n",
       "    </tr>\n",
       "  </thead>\n",
       "  <tbody>\n",
       "    <tr>\n",
       "      <th>5203</th>\n",
       "      <td>10308.0</td>\n",
       "      <td>0.8714</td>\n",
       "      <td>0.1640</td>\n",
       "      <td>2.3540</td>\n",
       "      <td>117.4186</td>\n",
       "      <td>2</td>\n",
       "      <td>6102.9770</td>\n",
       "      <td>4.534760e+06</td>\n",
       "      <td>4.533346e+06</td>\n",
       "      <td>4.532629e+06</td>\n",
       "      <td>4.529490e+06</td>\n",
       "      <td>4.681970e+06</td>\n",
       "    </tr>\n",
       "    <tr>\n",
       "      <th>6108</th>\n",
       "      <td>10764.0</td>\n",
       "      <td>1.3611</td>\n",
       "      <td>0.1247</td>\n",
       "      <td>2.4130</td>\n",
       "      <td>107.9883</td>\n",
       "      <td>2</td>\n",
       "      <td>6762.4434</td>\n",
       "      <td>5.170676e+06</td>\n",
       "      <td>5.170506e+06</td>\n",
       "      <td>5.170580e+06</td>\n",
       "      <td>5.168760e+06</td>\n",
       "      <td>5.062915e+06</td>\n",
       "    </tr>\n",
       "    <tr>\n",
       "      <th>6650</th>\n",
       "      <td>11035.0</td>\n",
       "      <td>0.9329</td>\n",
       "      <td>0.1207</td>\n",
       "      <td>2.4189</td>\n",
       "      <td>123.6542</td>\n",
       "      <td>2</td>\n",
       "      <td>6397.1996</td>\n",
       "      <td>4.905188e+06</td>\n",
       "      <td>4.903596e+06</td>\n",
       "      <td>4.903929e+06</td>\n",
       "      <td>4.898745e+06</td>\n",
       "      <td>4.950147e+06</td>\n",
       "    </tr>\n",
       "    <tr>\n",
       "      <th>1500</th>\n",
       "      <td>8445.5</td>\n",
       "      <td>1.5825</td>\n",
       "      <td>0.0379</td>\n",
       "      <td>2.2160</td>\n",
       "      <td>60.4310</td>\n",
       "      <td>0</td>\n",
       "      <td>6070.8420</td>\n",
       "      <td>4.915813e+06</td>\n",
       "      <td>4.915641e+06</td>\n",
       "      <td>4.915713e+06</td>\n",
       "      <td>4.914518e+06</td>\n",
       "      <td>4.314421e+06</td>\n",
       "    </tr>\n",
       "    <tr>\n",
       "      <th>1578</th>\n",
       "      <td>8487.5</td>\n",
       "      <td>1.4668</td>\n",
       "      <td>0.2075</td>\n",
       "      <td>2.2888</td>\n",
       "      <td>91.5867</td>\n",
       "      <td>2</td>\n",
       "      <td>6000.6431</td>\n",
       "      <td>4.310038e+06</td>\n",
       "      <td>4.313504e+06</td>\n",
       "      <td>4.310038e+06</td>\n",
       "      <td>4.287719e+06</td>\n",
       "      <td>4.295889e+06</td>\n",
       "    </tr>\n",
       "  </tbody>\n",
       "</table>\n",
       "</div>"
      ],
      "text/plain": [
       "        Depth  Log_ILD    NPHI    RHOB    vshale  Facies   velocity  \\\n",
       "5203  10308.0   0.8714  0.1640  2.3540  117.4186       2  6102.9770   \n",
       "6108  10764.0   1.3611  0.1247  2.4130  107.9883       2  6762.4434   \n",
       "6650  11035.0   0.9329  0.1207  2.4189  123.6542       2  6397.1996   \n",
       "1500   8445.5   1.5825  0.0379  2.2160   60.4310       0  6070.8420   \n",
       "1578   8487.5   1.4668  0.2075  2.2888   91.5867       2  6000.6431   \n",
       "\n",
       "      Actual Permeability  rf_Permeability  dt_Permeability  gb_Permeability  \\\n",
       "5203         4.534760e+06     4.533346e+06     4.532629e+06     4.529490e+06   \n",
       "6108         5.170676e+06     5.170506e+06     5.170580e+06     5.168760e+06   \n",
       "6650         4.905188e+06     4.903596e+06     4.903929e+06     4.898745e+06   \n",
       "1500         4.915813e+06     4.915641e+06     4.915713e+06     4.914518e+06   \n",
       "1578         4.310038e+06     4.313504e+06     4.310038e+06     4.287719e+06   \n",
       "\n",
       "      nn_pore pressure  \n",
       "5203      4.681970e+06  \n",
       "6108      5.062915e+06  \n",
       "6650      4.950147e+06  \n",
       "1500      4.314421e+06  \n",
       "1578      4.295889e+06  "
      ]
     },
     "execution_count": 58,
     "metadata": {},
     "output_type": "execute_result"
    }
   ],
   "source": [
    "# Predict y values for x_train\n",
    "y_pred_rf_train = model_rf.predict(X_train)\n",
    "y_pred_dt_train = model_dt.predict(X_train)\n",
    "y_pred_gb_train = model_gb.predict(X_train)\n",
    "y_pred_nn_train = model_nn.predict(X_train)\n",
    "\n",
    "X_train_df = pd.DataFrame(X_train, columns=['Log_ILD', 'RHOB', 'GR', 'Facies_code', 'Depth', 'vs', 'PHI'])\n",
    "\n",
    "# Create a dataframe with x_test, y_test, and y_predict\n",
    "train_df = pd.DataFrame({'Depth': X_train_df['Depth'],\n",
    "                           'Log_ILD': X_train_df['Log_ILD'],\n",
    "                           'NPHI': X_train_df['PHI'],\n",
    "                           'RHOB': X_train_df['RHOB'],\n",
    "                           'vshale': X_train_df['GR'],\n",
    "                           'Facies': X_train_df['Facies_code'],\n",
    "                           'velocity': X_train_df['vs'],\n",
    "                           'Actual Permeability': y_train,\n",
    "                           'rf_Permeability': y_pred_rf_train,\n",
    "                           'dt_Permeability': y_pred_dt_train,\n",
    "                           'gb_Permeability': y_pred_gb_train,\n",
    "                           'nn_pore pressure': y_pred_nn_train\n",
    "                        })\n",
    "\n",
    "# Print the dataframe\n",
    "train_df.to_csv('results_pp.csv', index=False)\n",
    "train_df.head()"
   ]
  },
  {
   "cell_type": "code",
   "execution_count": null,
   "id": "a076618f",
   "metadata": {},
   "outputs": [],
   "source": []
  }
 ],
 "metadata": {
  "kernelspec": {
   "display_name": "Python 3 (ipykernel)",
   "language": "python",
   "name": "python3"
  },
  "language_info": {
   "codemirror_mode": {
    "name": "ipython",
    "version": 3
   },
   "file_extension": ".py",
   "mimetype": "text/x-python",
   "name": "python",
   "nbconvert_exporter": "python",
   "pygments_lexer": "ipython3",
   "version": "3.9.13"
  }
 },
 "nbformat": 4,
 "nbformat_minor": 5
}
