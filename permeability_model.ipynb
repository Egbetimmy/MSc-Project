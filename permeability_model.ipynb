{
 "cells": [
  {
   "cell_type": "code",
   "execution_count": 1,
   "id": "81af6440",
   "metadata": {},
   "outputs": [
    {
     "name": "stderr",
     "output_type": "stream",
     "text": [
      "Enabling notebook extension jupyter-js-widgets/extension...\n",
      "      - Validating: ok\n"
     ]
    }
   ],
   "source": [
    "!jupyter nbextension enable --py widgetsnbextension"
   ]
  },
  {
   "cell_type": "code",
   "execution_count": 2,
   "id": "f60d4ff6",
   "metadata": {},
   "outputs": [
    {
     "data": {
      "text/html": [
       "        <script type=\"text/javascript\">\n",
       "        window.PlotlyConfig = {MathJaxConfig: 'local'};\n",
       "        if (window.MathJax && window.MathJax.Hub && window.MathJax.Hub.Config) {window.MathJax.Hub.Config({SVG: {font: \"STIX-Web\"}});}\n",
       "        if (typeof require !== 'undefined') {\n",
       "        require.undef(\"plotly\");\n",
       "        requirejs.config({\n",
       "            paths: {\n",
       "                'plotly': ['https://cdn.plot.ly/plotly-2.12.1.min']\n",
       "            }\n",
       "        });\n",
       "        require(['plotly'], function(Plotly) {\n",
       "            window._Plotly = Plotly;\n",
       "        });\n",
       "        }\n",
       "        </script>\n",
       "        "
      ]
     },
     "metadata": {},
     "output_type": "display_data"
    },
    {
     "name": "stderr",
     "output_type": "stream",
     "text": [
      "PROJ: proj_create_from_database: SQLite error on SELECT name, type, coordinate_system_auth_name, coordinate_system_code, datum_auth_name, datum_code, area_of_use_auth_name, area_of_use_code, text_definition, deprecated FROM geodetic_crs WHERE auth_name = ? AND code = ?: no such column: area_of_use_auth_name\n"
     ]
    },
    {
     "data": {
      "text/html": [
       "        <script type=\"text/javascript\">\n",
       "        window.PlotlyConfig = {MathJaxConfig: 'local'};\n",
       "        if (window.MathJax && window.MathJax.Hub && window.MathJax.Hub.Config) {window.MathJax.Hub.Config({SVG: {font: \"STIX-Web\"}});}\n",
       "        if (typeof require !== 'undefined') {\n",
       "        require.undef(\"plotly\");\n",
       "        requirejs.config({\n",
       "            paths: {\n",
       "                'plotly': ['https://cdn.plot.ly/plotly-2.12.1.min']\n",
       "            }\n",
       "        });\n",
       "        require(['plotly'], function(Plotly) {\n",
       "            window._Plotly = Plotly;\n",
       "        });\n",
       "        }\n",
       "        </script>\n",
       "        "
      ]
     },
     "metadata": {},
     "output_type": "display_data"
    }
   ],
   "source": [
    "import numpy as np\n",
    "import pandas as pd\n",
    "import scipy\n",
    "\n",
    "# Instansiate the Plotly charting library.\n",
    "import chart_studio.plotly as py\n",
    "import plotly.graph_objs as go\n",
    "import plotly.express as px\n",
    "# We use plotly.offline as this allows us to create interactive \n",
    "# visualisations without the use of an internet connection, \n",
    "# making our notebook more distributable to others. \n",
    "from plotly.offline import iplot, init_notebook_mode\n",
    "init_notebook_mode(connected=True)\n",
    "\n",
    "# The Cufflinks library allows us to directly bind \n",
    "# Pandas dataframes to Plotly charts. \n",
    "import cufflinks as cf\n",
    "# Once again we use the Cufflinks library in offline mode. \n",
    "cf.go_offline(connected=True)\n",
    "cf.set_config_file(colorscale='plotly', world_readable=True)\n",
    "\n",
    "# Extra options. We use these to make our interactive \n",
    "# visualisations more aesthetically appealing. \n",
    "from IPython.core.display import HTML\n",
    "pd.options.display.max_rows = 30\n",
    "pd.options.display.max_columns = 25\n",
    "\n",
    "# Show all code cells outputs\n",
    "from IPython.core.interactiveshell import InteractiveShell\n",
    "InteractiveShell.ast_node_interactivity = 'all'\n",
    "\n",
    "from ipywidgets import interact, interact_manual, widgets"
   ]
  },
  {
   "cell_type": "code",
   "execution_count": 3,
   "id": "9ab2424e",
   "metadata": {},
   "outputs": [],
   "source": [
    "df = pd.read_csv('data/freeman_well_4_eng.csv')"
   ]
  },
  {
   "cell_type": "code",
   "execution_count": 4,
   "id": "14bc1e7e",
   "metadata": {},
   "outputs": [
    {
     "data": {
      "text/html": [
       "<div>\n",
       "<style scoped>\n",
       "    .dataframe tbody tr th:only-of-type {\n",
       "        vertical-align: middle;\n",
       "    }\n",
       "\n",
       "    .dataframe tbody tr th {\n",
       "        vertical-align: top;\n",
       "    }\n",
       "\n",
       "    .dataframe thead th {\n",
       "        text-align: right;\n",
       "    }\n",
       "</style>\n",
       "<table border=\"1\" class=\"dataframe\">\n",
       "  <thead>\n",
       "    <tr style=\"text-align: right;\">\n",
       "      <th></th>\n",
       "      <th>Depth</th>\n",
       "      <th>GR</th>\n",
       "      <th>Log_ILD</th>\n",
       "      <th>DT</th>\n",
       "      <th>RHOB</th>\n",
       "      <th>NPHI</th>\n",
       "      <th>PHI</th>\n",
       "      <th>PERM</th>\n",
       "      <th>velocity</th>\n",
       "      <th>GRI</th>\n",
       "      <th>vshale</th>\n",
       "      <th>PHIeff</th>\n",
       "      <th>formation_factor</th>\n",
       "      <th>swirr</th>\n",
       "      <th>permeability</th>\n",
       "      <th>Facies_code</th>\n",
       "    </tr>\n",
       "  </thead>\n",
       "  <tbody>\n",
       "    <tr>\n",
       "      <th>0</th>\n",
       "      <td>7682.5</td>\n",
       "      <td>39.0321</td>\n",
       "      <td>0.9332</td>\n",
       "      <td>137.507</td>\n",
       "      <td>2.2382</td>\n",
       "      <td>0.5983</td>\n",
       "      <td>0.0188</td>\n",
       "      <td>0.002024</td>\n",
       "      <td>7272.357044</td>\n",
       "      <td>0.0</td>\n",
       "      <td>0.0</td>\n",
       "      <td>0.0188</td>\n",
       "      <td>3183.84791</td>\n",
       "      <td>1.261715</td>\n",
       "      <td>314.443398</td>\n",
       "      <td>0</td>\n",
       "    </tr>\n",
       "    <tr>\n",
       "      <th>1</th>\n",
       "      <td>7683.0</td>\n",
       "      <td>39.0321</td>\n",
       "      <td>0.9332</td>\n",
       "      <td>137.507</td>\n",
       "      <td>2.2382</td>\n",
       "      <td>0.5983</td>\n",
       "      <td>0.0188</td>\n",
       "      <td>0.002024</td>\n",
       "      <td>7272.357044</td>\n",
       "      <td>0.0</td>\n",
       "      <td>0.0</td>\n",
       "      <td>0.0188</td>\n",
       "      <td>3183.84791</td>\n",
       "      <td>1.261715</td>\n",
       "      <td>314.443398</td>\n",
       "      <td>0</td>\n",
       "    </tr>\n",
       "    <tr>\n",
       "      <th>2</th>\n",
       "      <td>7683.5</td>\n",
       "      <td>39.0321</td>\n",
       "      <td>0.9332</td>\n",
       "      <td>137.507</td>\n",
       "      <td>2.2382</td>\n",
       "      <td>0.5983</td>\n",
       "      <td>0.0188</td>\n",
       "      <td>0.002024</td>\n",
       "      <td>7272.357044</td>\n",
       "      <td>0.0</td>\n",
       "      <td>0.0</td>\n",
       "      <td>0.0188</td>\n",
       "      <td>3183.84791</td>\n",
       "      <td>1.261715</td>\n",
       "      <td>314.443398</td>\n",
       "      <td>0</td>\n",
       "    </tr>\n",
       "    <tr>\n",
       "      <th>3</th>\n",
       "      <td>7684.0</td>\n",
       "      <td>39.0321</td>\n",
       "      <td>0.9332</td>\n",
       "      <td>137.507</td>\n",
       "      <td>2.2382</td>\n",
       "      <td>0.5983</td>\n",
       "      <td>0.0188</td>\n",
       "      <td>0.002024</td>\n",
       "      <td>7272.357044</td>\n",
       "      <td>0.0</td>\n",
       "      <td>0.0</td>\n",
       "      <td>0.0188</td>\n",
       "      <td>3183.84791</td>\n",
       "      <td>1.261715</td>\n",
       "      <td>314.443398</td>\n",
       "      <td>0</td>\n",
       "    </tr>\n",
       "    <tr>\n",
       "      <th>4</th>\n",
       "      <td>7684.5</td>\n",
       "      <td>39.0321</td>\n",
       "      <td>0.9332</td>\n",
       "      <td>137.507</td>\n",
       "      <td>2.2382</td>\n",
       "      <td>0.5983</td>\n",
       "      <td>0.0188</td>\n",
       "      <td>0.002024</td>\n",
       "      <td>7272.357044</td>\n",
       "      <td>0.0</td>\n",
       "      <td>0.0</td>\n",
       "      <td>0.0188</td>\n",
       "      <td>3183.84791</td>\n",
       "      <td>1.261715</td>\n",
       "      <td>314.443398</td>\n",
       "      <td>0</td>\n",
       "    </tr>\n",
       "  </tbody>\n",
       "</table>\n",
       "</div>"
      ],
      "text/plain": [
       "    Depth       GR  Log_ILD       DT    RHOB    NPHI     PHI      PERM  \\\n",
       "0  7682.5  39.0321   0.9332  137.507  2.2382  0.5983  0.0188  0.002024   \n",
       "1  7683.0  39.0321   0.9332  137.507  2.2382  0.5983  0.0188  0.002024   \n",
       "2  7683.5  39.0321   0.9332  137.507  2.2382  0.5983  0.0188  0.002024   \n",
       "3  7684.0  39.0321   0.9332  137.507  2.2382  0.5983  0.0188  0.002024   \n",
       "4  7684.5  39.0321   0.9332  137.507  2.2382  0.5983  0.0188  0.002024   \n",
       "\n",
       "      velocity  GRI  vshale  PHIeff  formation_factor     swirr  permeability  \\\n",
       "0  7272.357044  0.0     0.0  0.0188        3183.84791  1.261715    314.443398   \n",
       "1  7272.357044  0.0     0.0  0.0188        3183.84791  1.261715    314.443398   \n",
       "2  7272.357044  0.0     0.0  0.0188        3183.84791  1.261715    314.443398   \n",
       "3  7272.357044  0.0     0.0  0.0188        3183.84791  1.261715    314.443398   \n",
       "4  7272.357044  0.0     0.0  0.0188        3183.84791  1.261715    314.443398   \n",
       "\n",
       "   Facies_code  \n",
       "0            0  \n",
       "1            0  \n",
       "2            0  \n",
       "3            0  \n",
       "4            0  "
      ]
     },
     "execution_count": 4,
     "metadata": {},
     "output_type": "execute_result"
    }
   ],
   "source": [
    "df.head()"
   ]
  },
  {
   "cell_type": "code",
   "execution_count": 5,
   "id": "0aff7478",
   "metadata": {},
   "outputs": [
    {
     "data": {
      "text/html": [
       "<div>\n",
       "<style scoped>\n",
       "    .dataframe tbody tr th:only-of-type {\n",
       "        vertical-align: middle;\n",
       "    }\n",
       "\n",
       "    .dataframe tbody tr th {\n",
       "        vertical-align: top;\n",
       "    }\n",
       "\n",
       "    .dataframe thead th {\n",
       "        text-align: right;\n",
       "    }\n",
       "</style>\n",
       "<table border=\"1\" class=\"dataframe\">\n",
       "  <thead>\n",
       "    <tr style=\"text-align: right;\">\n",
       "      <th></th>\n",
       "      <th>Depth</th>\n",
       "      <th>GR</th>\n",
       "      <th>Log_ILD</th>\n",
       "      <th>DT</th>\n",
       "      <th>RHOB</th>\n",
       "      <th>NPHI</th>\n",
       "      <th>PHI</th>\n",
       "      <th>PERM</th>\n",
       "      <th>velocity</th>\n",
       "      <th>GRI</th>\n",
       "      <th>vshale</th>\n",
       "      <th>PHIeff</th>\n",
       "      <th>formation_factor</th>\n",
       "      <th>swirr</th>\n",
       "      <th>permeability</th>\n",
       "      <th>Facies_code</th>\n",
       "    </tr>\n",
       "  </thead>\n",
       "  <tbody>\n",
       "    <tr>\n",
       "      <th>count</th>\n",
       "      <td>7265.000000</td>\n",
       "      <td>7265.000000</td>\n",
       "      <td>7265.000000</td>\n",
       "      <td>7265.000000</td>\n",
       "      <td>7265.000000</td>\n",
       "      <td>7265.000000</td>\n",
       "      <td>7265.000000</td>\n",
       "      <td>7.265000e+03</td>\n",
       "      <td>7265.000000</td>\n",
       "      <td>7265.000000</td>\n",
       "      <td>7265.000000</td>\n",
       "      <td>7265.000000</td>\n",
       "      <td>7265.000000</td>\n",
       "      <td>7265.000000</td>\n",
       "      <td>7265.000000</td>\n",
       "      <td>7265.000000</td>\n",
       "    </tr>\n",
       "    <tr>\n",
       "      <th>mean</th>\n",
       "      <td>9517.223331</td>\n",
       "      <td>108.293192</td>\n",
       "      <td>16.686765</td>\n",
       "      <td>117.874985</td>\n",
       "      <td>2.330328</td>\n",
       "      <td>0.423403</td>\n",
       "      <td>0.162792</td>\n",
       "      <td>1.977483e+02</td>\n",
       "      <td>8564.862129</td>\n",
       "      <td>0.562718</td>\n",
       "      <td>0.302175</td>\n",
       "      <td>0.122300</td>\n",
       "      <td>229.662175</td>\n",
       "      <td>0.175266</td>\n",
       "      <td>1083.666108</td>\n",
       "      <td>1.825877</td>\n",
       "    </tr>\n",
       "    <tr>\n",
       "      <th>std</th>\n",
       "      <td>1056.782447</td>\n",
       "      <td>22.199250</td>\n",
       "      <td>167.285802</td>\n",
       "      <td>11.622890</td>\n",
       "      <td>0.081174</td>\n",
       "      <td>0.065546</td>\n",
       "      <td>0.052950</td>\n",
       "      <td>1.311868e+04</td>\n",
       "      <td>828.281152</td>\n",
       "      <td>0.180360</td>\n",
       "      <td>0.159239</td>\n",
       "      <td>0.058002</td>\n",
       "      <td>4060.743664</td>\n",
       "      <td>0.290042</td>\n",
       "      <td>454.296977</td>\n",
       "      <td>0.556887</td>\n",
       "    </tr>\n",
       "    <tr>\n",
       "      <th>min</th>\n",
       "      <td>7682.500000</td>\n",
       "      <td>37.810800</td>\n",
       "      <td>0.081200</td>\n",
       "      <td>84.811200</td>\n",
       "      <td>1.863100</td>\n",
       "      <td>0.099500</td>\n",
       "      <td>0.002300</td>\n",
       "      <td>9.469370e-04</td>\n",
       "      <td>6307.620110</td>\n",
       "      <td>-0.009900</td>\n",
       "      <td>-0.002081</td>\n",
       "      <td>-0.056698</td>\n",
       "      <td>3.356001</td>\n",
       "      <td>0.040963</td>\n",
       "      <td>304.480215</td>\n",
       "      <td>0.000000</td>\n",
       "    </tr>\n",
       "    <tr>\n",
       "      <th>25%</th>\n",
       "      <td>8609.500000</td>\n",
       "      <td>102.002300</td>\n",
       "      <td>0.877700</td>\n",
       "      <td>108.411500</td>\n",
       "      <td>2.282900</td>\n",
       "      <td>0.385200</td>\n",
       "      <td>0.134300</td>\n",
       "      <td>4.130884e-01</td>\n",
       "      <td>7813.610998</td>\n",
       "      <td>0.511600</td>\n",
       "      <td>0.225251</td>\n",
       "      <td>0.082704</td>\n",
       "      <td>19.967648</td>\n",
       "      <td>0.099919</td>\n",
       "      <td>784.459545</td>\n",
       "      <td>2.000000</td>\n",
       "    </tr>\n",
       "    <tr>\n",
       "      <th>50%</th>\n",
       "      <td>9517.500000</td>\n",
       "      <td>112.544400</td>\n",
       "      <td>1.025200</td>\n",
       "      <td>114.953800</td>\n",
       "      <td>2.347500</td>\n",
       "      <td>0.422300</td>\n",
       "      <td>0.157500</td>\n",
       "      <td>1.202248e+00</td>\n",
       "      <td>8699.146962</td>\n",
       "      <td>0.597300</td>\n",
       "      <td>0.301023</td>\n",
       "      <td>0.113300</td>\n",
       "      <td>32.979076</td>\n",
       "      <td>0.128412</td>\n",
       "      <td>964.244350</td>\n",
       "      <td>2.000000</td>\n",
       "    </tr>\n",
       "    <tr>\n",
       "      <th>75%</th>\n",
       "      <td>10430.500000</td>\n",
       "      <td>120.183500</td>\n",
       "      <td>1.362400</td>\n",
       "      <td>127.981800</td>\n",
       "      <td>2.391600</td>\n",
       "      <td>0.461700</td>\n",
       "      <td>0.198900</td>\n",
       "      <td>8.089225e+00</td>\n",
       "      <td>9224.113678</td>\n",
       "      <td>0.659300</td>\n",
       "      <td>0.367208</td>\n",
       "      <td>0.167521</td>\n",
       "      <td>46.454551</td>\n",
       "      <td>0.152405</td>\n",
       "      <td>1356.066594</td>\n",
       "      <td>2.000000</td>\n",
       "    </tr>\n",
       "    <tr>\n",
       "      <th>max</th>\n",
       "      <td>11357.000000</td>\n",
       "      <td>178.320800</td>\n",
       "      <td>1950.000000</td>\n",
       "      <td>158.538400</td>\n",
       "      <td>2.564600</td>\n",
       "      <td>0.656900</td>\n",
       "      <td>0.455900</td>\n",
       "      <td>1.115233e+06</td>\n",
       "      <td>11790.895542</td>\n",
       "      <td>1.131700</td>\n",
       "      <td>1.429091</td>\n",
       "      <td>0.439745</td>\n",
       "      <td>291525.696795</td>\n",
       "      <td>12.073229</td>\n",
       "      <td>5824.492160</td>\n",
       "      <td>2.000000</td>\n",
       "    </tr>\n",
       "  </tbody>\n",
       "</table>\n",
       "</div>"
      ],
      "text/plain": [
       "              Depth           GR      Log_ILD           DT         RHOB  \\\n",
       "count   7265.000000  7265.000000  7265.000000  7265.000000  7265.000000   \n",
       "mean    9517.223331   108.293192    16.686765   117.874985     2.330328   \n",
       "std     1056.782447    22.199250   167.285802    11.622890     0.081174   \n",
       "min     7682.500000    37.810800     0.081200    84.811200     1.863100   \n",
       "25%     8609.500000   102.002300     0.877700   108.411500     2.282900   \n",
       "50%     9517.500000   112.544400     1.025200   114.953800     2.347500   \n",
       "75%    10430.500000   120.183500     1.362400   127.981800     2.391600   \n",
       "max    11357.000000   178.320800  1950.000000   158.538400     2.564600   \n",
       "\n",
       "              NPHI          PHI          PERM      velocity          GRI  \\\n",
       "count  7265.000000  7265.000000  7.265000e+03   7265.000000  7265.000000   \n",
       "mean      0.423403     0.162792  1.977483e+02   8564.862129     0.562718   \n",
       "std       0.065546     0.052950  1.311868e+04    828.281152     0.180360   \n",
       "min       0.099500     0.002300  9.469370e-04   6307.620110    -0.009900   \n",
       "25%       0.385200     0.134300  4.130884e-01   7813.610998     0.511600   \n",
       "50%       0.422300     0.157500  1.202248e+00   8699.146962     0.597300   \n",
       "75%       0.461700     0.198900  8.089225e+00   9224.113678     0.659300   \n",
       "max       0.656900     0.455900  1.115233e+06  11790.895542     1.131700   \n",
       "\n",
       "            vshale       PHIeff  formation_factor        swirr  permeability  \\\n",
       "count  7265.000000  7265.000000       7265.000000  7265.000000   7265.000000   \n",
       "mean      0.302175     0.122300        229.662175     0.175266   1083.666108   \n",
       "std       0.159239     0.058002       4060.743664     0.290042    454.296977   \n",
       "min      -0.002081    -0.056698          3.356001     0.040963    304.480215   \n",
       "25%       0.225251     0.082704         19.967648     0.099919    784.459545   \n",
       "50%       0.301023     0.113300         32.979076     0.128412    964.244350   \n",
       "75%       0.367208     0.167521         46.454551     0.152405   1356.066594   \n",
       "max       1.429091     0.439745     291525.696795    12.073229   5824.492160   \n",
       "\n",
       "       Facies_code  \n",
       "count  7265.000000  \n",
       "mean      1.825877  \n",
       "std       0.556887  \n",
       "min       0.000000  \n",
       "25%       2.000000  \n",
       "50%       2.000000  \n",
       "75%       2.000000  \n",
       "max       2.000000  "
      ]
     },
     "execution_count": 5,
     "metadata": {},
     "output_type": "execute_result"
    }
   ],
   "source": [
    "df.describe()"
   ]
  },
  {
   "cell_type": "code",
   "execution_count": 6,
   "id": "921d5aaf",
   "metadata": {},
   "outputs": [],
   "source": [
    "from sklearn import preprocessing\n",
    "from sklearn import utils\n",
    "lab_enc = preprocessing.LabelEncoder()"
   ]
  },
  {
   "cell_type": "code",
   "execution_count": 7,
   "id": "9e864633",
   "metadata": {},
   "outputs": [
    {
     "data": {
      "text/plain": [
       "7265"
      ]
     },
     "execution_count": 7,
     "metadata": {},
     "output_type": "execute_result"
    }
   ],
   "source": [
    "df['Facies_code'].count()"
   ]
  },
  {
   "cell_type": "code",
   "execution_count": 8,
   "id": "abd0f480",
   "metadata": {},
   "outputs": [],
   "source": [
    "df['Facies']= lab_enc.fit_transform(df['Facies_code'])"
   ]
  },
  {
   "cell_type": "code",
   "execution_count": 9,
   "id": "e02b5b5d",
   "metadata": {},
   "outputs": [
    {
     "data": {
      "text/plain": [
       "array([0, 1, 2], dtype=int64)"
      ]
     },
     "execution_count": 9,
     "metadata": {},
     "output_type": "execute_result"
    }
   ],
   "source": [
    "df['Facies'].unique()"
   ]
  },
  {
   "cell_type": "code",
   "execution_count": 10,
   "id": "9586ac73",
   "metadata": {},
   "outputs": [
    {
     "data": {
      "application/vnd.jupyter.widget-view+json": {
       "model_id": "cd051a51175e41d689b40c7e142bf64d",
       "version_major": 2,
       "version_minor": 0
      },
      "text/plain": [
       "interactive(children=(Dropdown(description='column1', options=('Depth', 'GR', 'Log_ILD', 'DT', 'RHOB', 'NPHI',…"
      ]
     },
     "metadata": {},
     "output_type": "display_data"
    }
   ],
   "source": [
    "@interact\n",
    "def correlations(column1=list(df.select_dtypes('number').columns), \n",
    "                 column2=list(df.select_dtypes('number').columns)):\n",
    "    print(f\"Correlation: {df[column1].corr(df[column2])}\")"
   ]
  },
  {
   "cell_type": "code",
   "execution_count": 11,
   "id": "fe13456e",
   "metadata": {},
   "outputs": [
    {
     "data": {
      "application/vnd.jupyter.widget-view+json": {
       "model_id": "b88110206cef4302b3dc65eeb74ae0bc",
       "version_major": 2,
       "version_minor": 0
      },
      "text/plain": [
       "interactive(children=(Dropdown(description='x', options=('Depth', 'GR', 'Log_ILD', 'DT', 'RHOB', 'NPHI', 'PHI'…"
      ]
     },
     "metadata": {},
     "output_type": "display_data"
    }
   ],
   "source": [
    "@interact\n",
    "def scatter_plot(x=list(df.select_dtypes('number').columns), \n",
    "                 y=list(df.select_dtypes('number').columns)[1:]):\n",
    "    if x == y:\n",
    "        print(f\"Please select seperate variables for X and Y\")\n",
    "    else:\n",
    "        df.iplot(kind='scatter', x=x, y=y, mode='markers', \n",
    "                 xTitle=x.title(), yTitle=y.title(), title=f'{y.title()} vs {x.title()}')\n",
    "        ## if you are using Google Colab, comment out the above line of code and uncomment the lines below\n",
    "        #fig = px.scatter(df, x=x, y=y, title=f'{y.title()} vs {x.title()}')\n",
    "        #fig.show(renderer=\"colab\")"
   ]
  },
  {
   "cell_type": "code",
   "execution_count": 12,
   "id": "23ded5be",
   "metadata": {},
   "outputs": [
    {
     "data": {
      "application/vnd.jupyter.widget-view+json": {
       "model_id": "370aadd495784caa986d906acadd7a26",
       "version_major": 2,
       "version_minor": 0
      },
      "text/plain": [
       "interactive(children=(Dropdown(description='colorscale', options=('Greys', 'YlGnBu', 'Greens', 'YlOrRd', 'Blue…"
      ]
     },
     "metadata": {},
     "output_type": "display_data"
    }
   ],
   "source": [
    "cscales = ['Greys', 'YlGnBu', 'Greens', 'YlOrRd', 'Bluered', 'RdBu',\n",
    "            'Reds', 'Blues', 'Picnic', 'Rainbow', 'Portland', 'Jet',\n",
    "            'Hot', 'Blackbody', 'Earth', 'Electric', 'Viridis', 'Cividis']\n",
    "\n",
    "# We use the Figure Factory module of Plotly, which\n",
    "# defines many unique and powerful plots to be used\n",
    "# in Python. \n",
    "# For more info, see: https://plot.ly/python/figure-factory-subplots/\n",
    "import plotly.figure_factory as ff\n",
    "\n",
    "corrs = df.corr()\n",
    "\n",
    "@interact\n",
    "def plot_corrs(colorscale=cscales):\n",
    "    figure = ff.create_annotated_heatmap(z = corrs.round(2).values, \n",
    "                                     x =list(corrs.columns), \n",
    "                                     y=list(corrs.index), \n",
    "                                     colorscale=colorscale,\n",
    "                                     annotation_text=corrs.round(2).values)\n",
    "    iplot(figure)\n",
    "    ## if you are using Google Colab, comment out the above line of code and uncomment the line below\n",
    "    #figure.show(renderer=\"colab\")"
   ]
  },
  {
   "cell_type": "code",
   "execution_count": 13,
   "id": "4b230e04",
   "metadata": {},
   "outputs": [
    {
     "data": {
      "application/vnd.jupyter.widget-view+json": {
       "model_id": "1d26604de5fd437a909f3e00960cb91f",
       "version_major": 2,
       "version_minor": 0
      },
      "text/plain": [
       "interactive(children=(Dropdown(description='x', options=('Depth', 'GR', 'Log_ILD', 'DT', 'RHOB', 'NPHI', 'PHI'…"
      ]
     },
     "metadata": {},
     "output_type": "display_data"
    }
   ],
   "source": [
    "@interact_manual\n",
    "def scatter_plot(x=list(df.select_dtypes('number').columns), \n",
    "                 y=list(df.select_dtypes('number').columns)[1:],\n",
    "                 theme=list(cf.themes.THEMES.keys()), \n",
    "                 colorscale=list(cf.colors._scales_names.keys())):\n",
    "    \n",
    "    if x == y:\n",
    "        print(f\"Please select seperate variables for X and Y\")\n",
    "    else:\n",
    "        df.iplot(kind='scatter', x=x, y=y, mode='markers', \n",
    "                 xTitle=x.title(), yTitle=y.title(), \n",
    "                 text='Depth',\n",
    "                 title=f'{y.title()} vs {x.title()}',\n",
    "                theme=theme, colorscale=colorscale)\n",
    "        ## if you are using Google Colab, comment out the above line of code and uncomment the line below\n",
    "        #fig = px.scatter(df, x=x, y=y, title=f'{y.title()} vs {x.title()}')\n",
    "        #fig.show(renderer=\"colab\")"
   ]
  },
  {
   "cell_type": "code",
   "execution_count": 14,
   "id": "4f10a796",
   "metadata": {},
   "outputs": [
    {
     "name": "stdout",
     "output_type": "stream",
     "text": [
      "Index(['Depth', 'GR', 'Log_ILD', 'DT', 'RHOB', 'NPHI', 'PHI', 'PERM',\n",
      "       'velocity', 'GRI', 'vshale', 'PHIeff', 'formation_factor', 'swirr',\n",
      "       'permeability', 'Facies_code', 'Facies'],\n",
      "      dtype='object')\n"
     ]
    }
   ],
   "source": [
    "print(df.columns)"
   ]
  },
  {
   "cell_type": "code",
   "execution_count": 15,
   "id": "4b546321",
   "metadata": {
    "scrolled": false
   },
   "outputs": [],
   "source": [
    "# Define input features and target variable\n",
    "X = df[['Depth', 'Log_ILD', 'NPHI','RHOB', 'vshale', 'PHIeff', 'swirr', 'Facies_code']]\n",
    "y = df['PERM']"
   ]
  },
  {
   "cell_type": "code",
   "execution_count": 16,
   "id": "aa373ec5",
   "metadata": {},
   "outputs": [],
   "source": [
    "from sklearn.feature_selection import SelectKBest, f_regression\n",
    "\n",
    "# Select top 5 features based on F-value scores\n",
    "selector = SelectKBest(f_regression, k=5)\n",
    "X_new = selector.fit_transform(X, y)\n",
    "\n",
    "# Get the indices of the selected features\n",
    "selected_features = X.columns[selector.get_support(indices=True)].tolist()\n"
   ]
  },
  {
   "cell_type": "code",
   "execution_count": 17,
   "id": "fa42b31b",
   "metadata": {},
   "outputs": [
    {
     "data": {
      "text/plain": [
       "['Depth', 'NPHI', 'RHOB', 'vshale', 'PHIeff']"
      ]
     },
     "execution_count": 17,
     "metadata": {},
     "output_type": "execute_result"
    }
   ],
   "source": [
    "selected_features"
   ]
  },
  {
   "cell_type": "code",
   "execution_count": 18,
   "id": "6f7be9ef",
   "metadata": {},
   "outputs": [],
   "source": [
    "from sklearn.model_selection import train_test_split, GridSearchCV\n",
    "from sklearn.metrics import mean_squared_error\n",
    "from sklearn.ensemble import RandomForestRegressor, GradientBoostingRegressor\n",
    "from sklearn.svm import SVR\n",
    "from sklearn.tree import DecisionTreeRegressor\n",
    "from sklearn.neural_network import MLPRegressor\n",
    "from sklearn.pipeline import Pipeline\n",
    "from sklearn.pipeline import make_pipeline\n",
    "from sklearn.preprocessing import StandardScaler\n",
    "import joblib"
   ]
  },
  {
   "cell_type": "code",
   "execution_count": 19,
   "id": "b7cbf0cc",
   "metadata": {},
   "outputs": [],
   "source": [
    "# Split data into training and testing sets\n",
    "X_train, X_test, y_train, y_test = train_test_split(X, y, test_size=0.2)\n",
    "\n",
    "# Define dictionary of models and their hyperparameters\n",
    "models = {\n",
    "    'svm': {\n",
    "        'model': make_pipeline(StandardScaler(), SVR()),\n",
    "        'params': {\n",
    "            'svr__kernel': ['linear', 'rbf', 'poly'],\n",
    "            'svr__C': [0.1, 1, 10],\n",
    "            'svr__gamma': ['scale', 'auto']\n",
    "        }\n",
    "    },\n",
    "    'random_forest': {\n",
    "        'model': RandomForestRegressor(),\n",
    "        'params': {\n",
    "            'n_estimators': [50, 100, 150],\n",
    "            'max_depth': [10, 20, 30]\n",
    "        }\n",
    "    },\n",
    "    'decision_tree': {\n",
    "        'model': DecisionTreeRegressor(),\n",
    "        'params': {\n",
    "            'max_depth': [5, 10, 15],\n",
    "            'min_samples_split': [2, 5, 10]\n",
    "        }\n",
    "    },\n",
    "    'neural_network': {\n",
    "        'model': MLPRegressor(),\n",
    "        'params': {\n",
    "            'hidden_layer_sizes': [(10,), (20,), (30,)],\n",
    "            'activation': ['relu', 'tanh', 'logistic']\n",
    "        }\n",
    "    },\n",
    "    'gradient_boosting': {\n",
    "        'model': GradientBoostingRegressor(),\n",
    "        'params': {\n",
    "            'learning_rate': [0.05, 0.1, 0.2],\n",
    "            'n_estimators': [50, 100, 150],\n",
    "            'max_depth': [3, 5, 7]\n",
    "        }\n",
    "    }\n",
    "}"
   ]
  },
  {
   "cell_type": "code",
   "execution_count": 26,
   "id": "c56a8f48",
   "metadata": {
    "scrolled": false
   },
   "outputs": [
    {
     "data": {
      "text/plain": [
       "GridSearchCV(cv=5,\n",
       "             estimator=Pipeline(steps=[('standardscaler', StandardScaler()),\n",
       "                                       ('svr', SVR())]),\n",
       "             n_jobs=-1,\n",
       "             param_grid={'svr__C': [0.1, 1, 10],\n",
       "                         'svr__gamma': ['scale', 'auto'],\n",
       "                         'svr__kernel': ['linear', 'rbf', 'poly']})"
      ]
     },
     "execution_count": 26,
     "metadata": {},
     "output_type": "execute_result"
    },
    {
     "data": {
      "text/plain": [
       "['models/svm_best_model.pkl']"
      ]
     },
     "execution_count": 26,
     "metadata": {},
     "output_type": "execute_result"
    },
    {
     "data": {
      "text/plain": [
       "GridSearchCV(cv=5, estimator=RandomForestRegressor(), n_jobs=-1,\n",
       "             param_grid={'max_depth': [10, 20, 30],\n",
       "                         'n_estimators': [50, 100, 150]})"
      ]
     },
     "execution_count": 26,
     "metadata": {},
     "output_type": "execute_result"
    },
    {
     "data": {
      "text/plain": [
       "['models/random_forest_best_model.pkl']"
      ]
     },
     "execution_count": 26,
     "metadata": {},
     "output_type": "execute_result"
    },
    {
     "data": {
      "text/plain": [
       "GridSearchCV(cv=5, estimator=DecisionTreeRegressor(), n_jobs=-1,\n",
       "             param_grid={'max_depth': [5, 10, 15],\n",
       "                         'min_samples_split': [2, 5, 10]})"
      ]
     },
     "execution_count": 26,
     "metadata": {},
     "output_type": "execute_result"
    },
    {
     "data": {
      "text/plain": [
       "['models/decision_tree_best_model.pkl']"
      ]
     },
     "execution_count": 26,
     "metadata": {},
     "output_type": "execute_result"
    },
    {
     "name": "stderr",
     "output_type": "stream",
     "text": [
      "C:\\ProgramData\\Anaconda3\\lib\\site-packages\\sklearn\\neural_network\\_multilayer_perceptron.py:692: ConvergenceWarning:\n",
      "\n",
      "Stochastic Optimizer: Maximum iterations (200) reached and the optimization hasn't converged yet.\n",
      "\n"
     ]
    },
    {
     "data": {
      "text/plain": [
       "GridSearchCV(cv=5, estimator=MLPRegressor(), n_jobs=-1,\n",
       "             param_grid={'activation': ['relu', 'tanh', 'logistic'],\n",
       "                         'hidden_layer_sizes': [(10,), (20,), (30,)]})"
      ]
     },
     "execution_count": 26,
     "metadata": {},
     "output_type": "execute_result"
    },
    {
     "data": {
      "text/plain": [
       "['models/neural_network_best_model.pkl']"
      ]
     },
     "execution_count": 26,
     "metadata": {},
     "output_type": "execute_result"
    },
    {
     "data": {
      "text/plain": [
       "GridSearchCV(cv=5, estimator=GradientBoostingRegressor(), n_jobs=-1,\n",
       "             param_grid={'learning_rate': [0.05, 0.1, 0.2],\n",
       "                         'max_depth': [3, 5, 7],\n",
       "                         'n_estimators': [50, 100, 150]})"
      ]
     },
     "execution_count": 26,
     "metadata": {},
     "output_type": "execute_result"
    },
    {
     "data": {
      "text/plain": [
       "['models/gradient_boosting_best_model.pkl']"
      ]
     },
     "execution_count": 26,
     "metadata": {},
     "output_type": "execute_result"
    }
   ],
   "source": [
    "scores = []\n",
    "# Loop over each model and perform grid search with cross-validation to find best hyperparameters \n",
    "## scoring='neg_mean_squared_error'\n",
    "for model_name, model in models.items():\n",
    "    clf = GridSearchCV(model['model'], model['params'], cv=5, n_jobs=-1, return_train_score=False)\n",
    "    clf.fit(X_train, y_train)\n",
    "    best_params = clf.best_params_\n",
    "    \n",
    "    # Evaluate best model on test set\n",
    "    y_pred = clf.predict(X_test)\n",
    "    mse = mean_squared_error(y_test, y_pred)\n",
    "    rmse = np.sqrt(mse)\n",
    "    r2 = clf.score(X_test, y_test)\n",
    "    scores.append({\n",
    "        'model': model_name,\n",
    "        'best_score': clf.best_score_,\n",
    "        'best_params': best_params,\n",
    "        'RMSE': rmse,\n",
    "        'R-squared': r2\n",
    "    })\n",
    "    # Save the best model for each method\n",
    "    joblib.dump(clf.best_estimator_, f\"models/{model_name}_best_model.pkl\")"
   ]
  },
  {
   "cell_type": "code",
   "execution_count": 27,
   "id": "4ae87c13",
   "metadata": {},
   "outputs": [
    {
     "data": {
      "text/html": [
       "<div>\n",
       "<style scoped>\n",
       "    .dataframe tbody tr th:only-of-type {\n",
       "        vertical-align: middle;\n",
       "    }\n",
       "\n",
       "    .dataframe tbody tr th {\n",
       "        vertical-align: top;\n",
       "    }\n",
       "\n",
       "    .dataframe thead th {\n",
       "        text-align: right;\n",
       "    }\n",
       "</style>\n",
       "<table border=\"1\" class=\"dataframe\">\n",
       "  <thead>\n",
       "    <tr style=\"text-align: right;\">\n",
       "      <th></th>\n",
       "      <th>model</th>\n",
       "      <th>best_params</th>\n",
       "      <th>best_score</th>\n",
       "      <th>RMSE</th>\n",
       "      <th>R-squared</th>\n",
       "    </tr>\n",
       "  </thead>\n",
       "  <tbody>\n",
       "    <tr>\n",
       "      <th>0</th>\n",
       "      <td>svm</td>\n",
       "      <td>{'svr__C': 10, 'svr__gamma': 'scale', 'svr__ke...</td>\n",
       "      <td>0.188195</td>\n",
       "      <td>1378.703371</td>\n",
       "      <td>0.087950</td>\n",
       "    </tr>\n",
       "    <tr>\n",
       "      <th>1</th>\n",
       "      <td>random_forest</td>\n",
       "      <td>{'max_depth': 30, 'n_estimators': 100}</td>\n",
       "      <td>0.563106</td>\n",
       "      <td>534.512641</td>\n",
       "      <td>0.862914</td>\n",
       "    </tr>\n",
       "    <tr>\n",
       "      <th>2</th>\n",
       "      <td>decision_tree</td>\n",
       "      <td>{'max_depth': 15, 'min_samples_split': 2}</td>\n",
       "      <td>-0.032909</td>\n",
       "      <td>281.252598</td>\n",
       "      <td>0.962045</td>\n",
       "    </tr>\n",
       "    <tr>\n",
       "      <th>3</th>\n",
       "      <td>neural_network</td>\n",
       "      <td>{'activation': 'logistic', 'hidden_layer_sizes...</td>\n",
       "      <td>-0.001008</td>\n",
       "      <td>1445.385085</td>\n",
       "      <td>-0.002407</td>\n",
       "    </tr>\n",
       "    <tr>\n",
       "      <th>4</th>\n",
       "      <td>gradient_boosting</td>\n",
       "      <td>{'learning_rate': 0.05, 'max_depth': 5, 'n_est...</td>\n",
       "      <td>0.089325</td>\n",
       "      <td>138.912746</td>\n",
       "      <td>0.990741</td>\n",
       "    </tr>\n",
       "  </tbody>\n",
       "</table>\n",
       "</div>"
      ],
      "text/plain": [
       "               model                                        best_params  \\\n",
       "0                svm  {'svr__C': 10, 'svr__gamma': 'scale', 'svr__ke...   \n",
       "1      random_forest             {'max_depth': 30, 'n_estimators': 100}   \n",
       "2      decision_tree          {'max_depth': 15, 'min_samples_split': 2}   \n",
       "3     neural_network  {'activation': 'logistic', 'hidden_layer_sizes...   \n",
       "4  gradient_boosting  {'learning_rate': 0.05, 'max_depth': 5, 'n_est...   \n",
       "\n",
       "   best_score         RMSE  R-squared  \n",
       "0    0.188195  1378.703371   0.087950  \n",
       "1    0.563106   534.512641   0.862914  \n",
       "2   -0.032909   281.252598   0.962045  \n",
       "3   -0.001008  1445.385085  -0.002407  \n",
       "4    0.089325   138.912746   0.990741  "
      ]
     },
     "execution_count": 27,
     "metadata": {},
     "output_type": "execute_result"
    }
   ],
   "source": [
    "best_model_df = pd.DataFrame(scores, columns=['model', 'best_params', 'best_score', 'RMSE', 'R-squared'])\n",
    "best_model_df"
   ]
  },
  {
   "cell_type": "code",
   "execution_count": 22,
   "id": "7970c95c",
   "metadata": {},
   "outputs": [],
   "source": [
    "best_model_df.to_csv('data/best_model.csv', index=False)"
   ]
  },
  {
   "cell_type": "code",
   "execution_count": 23,
   "id": "9d90f252",
   "metadata": {},
   "outputs": [],
   "source": [
    "# Load the models from the model folder\n",
    "model_rf = joblib.load('models/random_forest_best_model.pkl')\n",
    "model_dt = joblib.load('models/decision_tree_best_model.pkl')\n",
    "model_gb = joblib.load('models/gradient_boosting_best_model.pkl')"
   ]
  },
  {
   "cell_type": "code",
   "execution_count": 24,
   "id": "20bccd21",
   "metadata": {},
   "outputs": [
    {
     "data": {
      "text/html": [
       "<div>\n",
       "<style scoped>\n",
       "    .dataframe tbody tr th:only-of-type {\n",
       "        vertical-align: middle;\n",
       "    }\n",
       "\n",
       "    .dataframe tbody tr th {\n",
       "        vertical-align: top;\n",
       "    }\n",
       "\n",
       "    .dataframe thead th {\n",
       "        text-align: right;\n",
       "    }\n",
       "</style>\n",
       "<table border=\"1\" class=\"dataframe\">\n",
       "  <thead>\n",
       "    <tr style=\"text-align: right;\">\n",
       "      <th></th>\n",
       "      <th>Depth</th>\n",
       "      <th>Log_ILD</th>\n",
       "      <th>NPHI</th>\n",
       "      <th>RHOB</th>\n",
       "      <th>vshale</th>\n",
       "      <th>effective porosity</th>\n",
       "      <th>Actual Permeability</th>\n",
       "      <th>rf_Permeability</th>\n",
       "      <th>dt_Permeability</th>\n",
       "      <th>gb_Permeability</th>\n",
       "    </tr>\n",
       "  </thead>\n",
       "  <tbody>\n",
       "    <tr>\n",
       "      <th>2409</th>\n",
       "      <td>8906.0</td>\n",
       "      <td>1.0031</td>\n",
       "      <td>0.4709</td>\n",
       "      <td>2.3044</td>\n",
       "      <td>0.233258</td>\n",
       "      <td>0.165843</td>\n",
       "      <td>7.445788</td>\n",
       "      <td>7.447907</td>\n",
       "      <td>7.411649</td>\n",
       "      <td>21.937983</td>\n",
       "    </tr>\n",
       "    <tr>\n",
       "      <th>1527</th>\n",
       "      <td>8459.0</td>\n",
       "      <td>1.6309</td>\n",
       "      <td>0.3997</td>\n",
       "      <td>2.2197</td>\n",
       "      <td>0.049473</td>\n",
       "      <td>0.028071</td>\n",
       "      <td>0.004210</td>\n",
       "      <td>0.004203</td>\n",
       "      <td>0.004046</td>\n",
       "      <td>20.850506</td>\n",
       "    </tr>\n",
       "    <tr>\n",
       "      <th>2449</th>\n",
       "      <td>8926.0</td>\n",
       "      <td>0.8599</td>\n",
       "      <td>0.4899</td>\n",
       "      <td>2.2818</td>\n",
       "      <td>0.216676</td>\n",
       "      <td>0.183065</td>\n",
       "      <td>14.855220</td>\n",
       "      <td>14.853868</td>\n",
       "      <td>14.880930</td>\n",
       "      <td>27.620798</td>\n",
       "    </tr>\n",
       "    <tr>\n",
       "      <th>2165</th>\n",
       "      <td>8784.0</td>\n",
       "      <td>0.8036</td>\n",
       "      <td>0.4969</td>\n",
       "      <td>2.3010</td>\n",
       "      <td>0.169623</td>\n",
       "      <td>0.176571</td>\n",
       "      <td>8.239599</td>\n",
       "      <td>8.242665</td>\n",
       "      <td>8.201822</td>\n",
       "      <td>21.937983</td>\n",
       "    </tr>\n",
       "    <tr>\n",
       "      <th>4489</th>\n",
       "      <td>9951.0</td>\n",
       "      <td>1.2376</td>\n",
       "      <td>0.3728</td>\n",
       "      <td>2.3516</td>\n",
       "      <td>0.298080</td>\n",
       "      <td>0.125657</td>\n",
       "      <td>1.745730</td>\n",
       "      <td>1.747996</td>\n",
       "      <td>1.754777</td>\n",
       "      <td>20.850506</td>\n",
       "    </tr>\n",
       "  </tbody>\n",
       "</table>\n",
       "</div>"
      ],
      "text/plain": [
       "       Depth  Log_ILD    NPHI    RHOB    vshale  effective porosity  \\\n",
       "2409  8906.0   1.0031  0.4709  2.3044  0.233258            0.165843   \n",
       "1527  8459.0   1.6309  0.3997  2.2197  0.049473            0.028071   \n",
       "2449  8926.0   0.8599  0.4899  2.2818  0.216676            0.183065   \n",
       "2165  8784.0   0.8036  0.4969  2.3010  0.169623            0.176571   \n",
       "4489  9951.0   1.2376  0.3728  2.3516  0.298080            0.125657   \n",
       "\n",
       "      Actual Permeability  rf_Permeability  dt_Permeability  gb_Permeability  \n",
       "2409             7.445788         7.447907         7.411649        21.937983  \n",
       "1527             0.004210         0.004203         0.004046        20.850506  \n",
       "2449            14.855220        14.853868        14.880930        27.620798  \n",
       "2165             8.239599         8.242665         8.201822        21.937983  \n",
       "4489             1.745730         1.747996         1.754777        20.850506  "
      ]
     },
     "execution_count": 24,
     "metadata": {},
     "output_type": "execute_result"
    }
   ],
   "source": [
    "# Predict y values for x_test\n",
    "y_pred_rf = model_rf.predict(X_test)\n",
    "y_pred_dt = model_dt.predict(X_test)\n",
    "y_pred_gb = model_gb.predict(X_test)\n",
    "\n",
    "X_test_df = pd.DataFrame(X_test, columns=['Depth', 'Log_ILD', 'NPHI', 'RHOB', 'vshale', 'PHIeff'])\n",
    "\n",
    "# Create a dataframe with x_test, y_test, and y_predict\n",
    "results_df = pd.DataFrame({'Depth': X_test_df['Depth'],\n",
    "                           'Log_ILD': X_test_df['Log_ILD'],\n",
    "                           'NPHI': X_test_df['NPHI'],\n",
    "                           'RHOB': X_test_df['RHOB'],\n",
    "                           'vshale': X_test_df['vshale'],\n",
    "                           'effective porosity': X_test_df['PHIeff'],\n",
    "                           'Actual Permeability': y_test,\n",
    "                           'rf_Permeability': y_pred_rf,\n",
    "                           'dt_Permeability': y_pred_dt,\n",
    "                           'gb_Permeability': y_pred_gb})\n",
    "\n",
    "# Print the dataframe\n",
    "results_df.to_csv('results_test.csv', index=False)\n",
    "results_df.head()"
   ]
  },
  {
   "cell_type": "code",
   "execution_count": 25,
   "id": "49fbc541",
   "metadata": {},
   "outputs": [
    {
     "data": {
      "text/html": [
       "<div>\n",
       "<style scoped>\n",
       "    .dataframe tbody tr th:only-of-type {\n",
       "        vertical-align: middle;\n",
       "    }\n",
       "\n",
       "    .dataframe tbody tr th {\n",
       "        vertical-align: top;\n",
       "    }\n",
       "\n",
       "    .dataframe thead th {\n",
       "        text-align: right;\n",
       "    }\n",
       "</style>\n",
       "<table border=\"1\" class=\"dataframe\">\n",
       "  <thead>\n",
       "    <tr style=\"text-align: right;\">\n",
       "      <th></th>\n",
       "      <th>Depth</th>\n",
       "      <th>Log_ILD</th>\n",
       "      <th>NPHI</th>\n",
       "      <th>RHOB</th>\n",
       "      <th>vshale</th>\n",
       "      <th>effective porosity</th>\n",
       "      <th>Actual Permeability</th>\n",
       "      <th>rf_Permeability</th>\n",
       "      <th>dt_Permeability</th>\n",
       "      <th>gb_Permeability</th>\n",
       "    </tr>\n",
       "  </thead>\n",
       "  <tbody>\n",
       "    <tr>\n",
       "      <th>1228</th>\n",
       "      <td>8299.5</td>\n",
       "      <td>1.0979</td>\n",
       "      <td>0.4337</td>\n",
       "      <td>2.2898</td>\n",
       "      <td>0.222966</td>\n",
       "      <td>0.176923</td>\n",
       "      <td>11.638319</td>\n",
       "      <td>11.641552</td>\n",
       "      <td>11.620496</td>\n",
       "      <td>24.901543</td>\n",
       "    </tr>\n",
       "    <tr>\n",
       "      <th>4201</th>\n",
       "      <td>9807.0</td>\n",
       "      <td>1.2692</td>\n",
       "      <td>0.3767</td>\n",
       "      <td>2.3899</td>\n",
       "      <td>0.352893</td>\n",
       "      <td>0.092812</td>\n",
       "      <td>0.539549</td>\n",
       "      <td>0.539599</td>\n",
       "      <td>0.543715</td>\n",
       "      <td>20.850506</td>\n",
       "    </tr>\n",
       "    <tr>\n",
       "      <th>3467</th>\n",
       "      <td>9435.0</td>\n",
       "      <td>1.3255</td>\n",
       "      <td>0.4162</td>\n",
       "      <td>2.3931</td>\n",
       "      <td>0.334083</td>\n",
       "      <td>0.093133</td>\n",
       "      <td>0.487568</td>\n",
       "      <td>0.487568</td>\n",
       "      <td>0.470697</td>\n",
       "      <td>20.850506</td>\n",
       "    </tr>\n",
       "    <tr>\n",
       "      <th>777</th>\n",
       "      <td>8074.0</td>\n",
       "      <td>0.8070</td>\n",
       "      <td>0.4365</td>\n",
       "      <td>2.2370</td>\n",
       "      <td>0.225963</td>\n",
       "      <td>0.211721</td>\n",
       "      <td>58.859435</td>\n",
       "      <td>59.127397</td>\n",
       "      <td>58.859435</td>\n",
       "      <td>63.831696</td>\n",
       "    </tr>\n",
       "    <tr>\n",
       "      <th>1531</th>\n",
       "      <td>8461.0</td>\n",
       "      <td>1.6513</td>\n",
       "      <td>0.4660</td>\n",
       "      <td>2.2203</td>\n",
       "      <td>0.042784</td>\n",
       "      <td>0.028467</td>\n",
       "      <td>0.004114</td>\n",
       "      <td>0.004130</td>\n",
       "      <td>0.004046</td>\n",
       "      <td>20.850506</td>\n",
       "    </tr>\n",
       "  </tbody>\n",
       "</table>\n",
       "</div>"
      ],
      "text/plain": [
       "       Depth  Log_ILD    NPHI    RHOB    vshale  effective porosity  \\\n",
       "1228  8299.5   1.0979  0.4337  2.2898  0.222966            0.176923   \n",
       "4201  9807.0   1.2692  0.3767  2.3899  0.352893            0.092812   \n",
       "3467  9435.0   1.3255  0.4162  2.3931  0.334083            0.093133   \n",
       "777   8074.0   0.8070  0.4365  2.2370  0.225963            0.211721   \n",
       "1531  8461.0   1.6513  0.4660  2.2203  0.042784            0.028467   \n",
       "\n",
       "      Actual Permeability  rf_Permeability  dt_Permeability  gb_Permeability  \n",
       "1228            11.638319        11.641552        11.620496        24.901543  \n",
       "4201             0.539549         0.539599         0.543715        20.850506  \n",
       "3467             0.487568         0.487568         0.470697        20.850506  \n",
       "777             58.859435        59.127397        58.859435        63.831696  \n",
       "1531             0.004114         0.004130         0.004046        20.850506  "
      ]
     },
     "execution_count": 25,
     "metadata": {},
     "output_type": "execute_result"
    }
   ],
   "source": [
    "# Predict y values for x_train\n",
    "y_pred_rf_train = model_rf.predict(X_train)\n",
    "y_pred_dt_train = model_dt.predict(X_train)\n",
    "y_pred_gb_train = model_gb.predict(X_train)\n",
    "\n",
    "X_train_df = pd.DataFrame(X_train, columns=['Depth', 'Log_ILD', 'NPHI', 'RHOB', 'vshale', 'PHIeff'])\n",
    "\n",
    "# Create a dataframe with x_test, y_test, and y_predict\n",
    "train_df = pd.DataFrame({'Depth': X_train_df['Depth'],\n",
    "                           'Log_ILD': X_train_df['Log_ILD'],\n",
    "                           'NPHI': X_train_df['NPHI'],\n",
    "                           'RHOB': X_train_df['RHOB'],\n",
    "                           'vshale': X_train_df['vshale'],\n",
    "                           'effective porosity': X_train_df['PHIeff'],\n",
    "                           'Actual Permeability': y_train,\n",
    "                           'rf_Permeability': y_pred_rf_train,\n",
    "                           'dt_Permeability': y_pred_dt_train,\n",
    "                           'gb_Permeability': y_pred_gb_train})\n",
    "\n",
    "# Print the dataframe\n",
    "train_df.to_csv('results.csv', index=False)\n",
    "train_df.head()"
   ]
  },
  {
   "cell_type": "code",
   "execution_count": null,
   "id": "352ec17f",
   "metadata": {},
   "outputs": [],
   "source": []
  }
 ],
 "metadata": {
  "kernelspec": {
   "display_name": "Python 3 (ipykernel)",
   "language": "python",
   "name": "python3"
  },
  "language_info": {
   "codemirror_mode": {
    "name": "ipython",
    "version": 3
   },
   "file_extension": ".py",
   "mimetype": "text/x-python",
   "name": "python",
   "nbconvert_exporter": "python",
   "pygments_lexer": "ipython3",
   "version": "3.9.13"
  }
 },
 "nbformat": 4,
 "nbformat_minor": 5
}
