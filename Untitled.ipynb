{
 "cells": [
  {
   "cell_type": "code",
   "execution_count": 9,
   "id": "940b1055",
   "metadata": {},
   "outputs": [],
   "source": [
    "import pickle\n",
    "import pandas as pd\n",
    "import matplotlib.pyplot as plt\n",
    "from class2 import facies_classification, Petrophysics, rename_columns, rearrange_columns"
   ]
  },
  {
   "cell_type": "code",
   "execution_count": 6,
   "id": "5cb5df85",
   "metadata": {},
   "outputs": [],
   "source": [
    "with open('model_pickle', 'rb') as file:\n",
    "    mp = pickle.load(file)"
   ]
  },
  {
   "cell_type": "code",
   "execution_count": 7,
   "id": "dcfb28b9",
   "metadata": {},
   "outputs": [
    {
     "data": {
      "text/html": [
       "<div>\n",
       "<style scoped>\n",
       "    .dataframe tbody tr th:only-of-type {\n",
       "        vertical-align: middle;\n",
       "    }\n",
       "\n",
       "    .dataframe tbody tr th {\n",
       "        vertical-align: top;\n",
       "    }\n",
       "\n",
       "    .dataframe thead th {\n",
       "        text-align: right;\n",
       "    }\n",
       "</style>\n",
       "<table border=\"1\" class=\"dataframe\">\n",
       "  <thead>\n",
       "    <tr style=\"text-align: right;\">\n",
       "      <th></th>\n",
       "      <th>DEPT</th>\n",
       "      <th>DEN</th>\n",
       "      <th>DT</th>\n",
       "      <th>GR</th>\n",
       "      <th>NEUT</th>\n",
       "      <th>RES_DEP</th>\n",
       "      <th>PHI</th>\n",
       "      <th>PERM</th>\n",
       "    </tr>\n",
       "  </thead>\n",
       "  <tbody>\n",
       "    <tr>\n",
       "      <th>0</th>\n",
       "      <td>3712.5</td>\n",
       "      <td>NaN</td>\n",
       "      <td>NaN</td>\n",
       "      <td>85.5533</td>\n",
       "      <td>NaN</td>\n",
       "      <td>NaN</td>\n",
       "      <td>NaN</td>\n",
       "      <td>NaN</td>\n",
       "    </tr>\n",
       "    <tr>\n",
       "      <th>1</th>\n",
       "      <td>3713.0</td>\n",
       "      <td>NaN</td>\n",
       "      <td>NaN</td>\n",
       "      <td>87.7167</td>\n",
       "      <td>NaN</td>\n",
       "      <td>NaN</td>\n",
       "      <td>NaN</td>\n",
       "      <td>NaN</td>\n",
       "    </tr>\n",
       "    <tr>\n",
       "      <th>2</th>\n",
       "      <td>3713.5</td>\n",
       "      <td>NaN</td>\n",
       "      <td>NaN</td>\n",
       "      <td>89.3406</td>\n",
       "      <td>NaN</td>\n",
       "      <td>NaN</td>\n",
       "      <td>NaN</td>\n",
       "      <td>NaN</td>\n",
       "    </tr>\n",
       "    <tr>\n",
       "      <th>3</th>\n",
       "      <td>3714.0</td>\n",
       "      <td>NaN</td>\n",
       "      <td>NaN</td>\n",
       "      <td>90.4250</td>\n",
       "      <td>NaN</td>\n",
       "      <td>1.2900</td>\n",
       "      <td>NaN</td>\n",
       "      <td>NaN</td>\n",
       "    </tr>\n",
       "    <tr>\n",
       "      <th>4</th>\n",
       "      <td>3714.5</td>\n",
       "      <td>NaN</td>\n",
       "      <td>NaN</td>\n",
       "      <td>90.6067</td>\n",
       "      <td>NaN</td>\n",
       "      <td>1.3233</td>\n",
       "      <td>NaN</td>\n",
       "      <td>NaN</td>\n",
       "    </tr>\n",
       "  </tbody>\n",
       "</table>\n",
       "</div>"
      ],
      "text/plain": [
       "     DEPT  DEN  DT       GR  NEUT  RES_DEP  PHI  PERM\n",
       "0  3712.5  NaN NaN  85.5533   NaN      NaN  NaN   NaN\n",
       "1  3713.0  NaN NaN  87.7167   NaN      NaN  NaN   NaN\n",
       "2  3713.5  NaN NaN  89.3406   NaN      NaN  NaN   NaN\n",
       "3  3714.0  NaN NaN  90.4250   NaN   1.2900  NaN   NaN\n",
       "4  3714.5  NaN NaN  90.6067   NaN   1.3233  NaN   NaN"
      ]
     },
     "execution_count": 7,
     "metadata": {},
     "output_type": "execute_result"
    }
   ],
   "source": [
    "well = pd.read_csv('data/freeman_well_1_perm.csv')\n",
    "well.head()"
   ]
  },
  {
   "cell_type": "code",
   "execution_count": 10,
   "id": "4a6e4a53",
   "metadata": {},
   "outputs": [],
   "source": [
    "old_names = ['DEPT', 'DEN', 'NEUT', 'RES_DEP']#list(well.columns)\n",
    "new_names = ['Depth', 'RHOB', 'NPHI', 'Log_ILD']\n",
    "df = rename_columns(well, old_names, new_names)"
   ]
  },
  {
   "cell_type": "code",
   "execution_count": 11,
   "id": "62d17859",
   "metadata": {},
   "outputs": [],
   "source": [
    "order = ['Depth', 'GR', 'Log_ILD', 'DT', 'RHOB', 'NPHI', 'PHI', 'PERM']\n",
    "data = rearrange_columns(df, order)"
   ]
  },
  {
   "cell_type": "code",
   "execution_count": 12,
   "id": "89d3a8f3",
   "metadata": {},
   "outputs": [],
   "source": [
    "data['Facies'] = facies_classification(data['GR'])"
   ]
  },
  {
   "cell_type": "code",
   "execution_count": 13,
   "id": "5b90b1ab",
   "metadata": {},
   "outputs": [
    {
     "data": {
      "text/html": [
       "<div>\n",
       "<style scoped>\n",
       "    .dataframe tbody tr th:only-of-type {\n",
       "        vertical-align: middle;\n",
       "    }\n",
       "\n",
       "    .dataframe tbody tr th {\n",
       "        vertical-align: top;\n",
       "    }\n",
       "\n",
       "    .dataframe thead th {\n",
       "        text-align: right;\n",
       "    }\n",
       "</style>\n",
       "<table border=\"1\" class=\"dataframe\">\n",
       "  <thead>\n",
       "    <tr style=\"text-align: right;\">\n",
       "      <th></th>\n",
       "      <th>Depth</th>\n",
       "      <th>GR</th>\n",
       "      <th>Log_ILD</th>\n",
       "      <th>DT</th>\n",
       "      <th>RHOB</th>\n",
       "      <th>NPHI</th>\n",
       "      <th>PHI</th>\n",
       "      <th>PERM</th>\n",
       "      <th>Facies</th>\n",
       "    </tr>\n",
       "  </thead>\n",
       "  <tbody>\n",
       "    <tr>\n",
       "      <th>0</th>\n",
       "      <td>3712.5</td>\n",
       "      <td>85.5533</td>\n",
       "      <td>NaN</td>\n",
       "      <td>NaN</td>\n",
       "      <td>NaN</td>\n",
       "      <td>NaN</td>\n",
       "      <td>NaN</td>\n",
       "      <td>NaN</td>\n",
       "      <td>3</td>\n",
       "    </tr>\n",
       "    <tr>\n",
       "      <th>1</th>\n",
       "      <td>3713.0</td>\n",
       "      <td>87.7167</td>\n",
       "      <td>NaN</td>\n",
       "      <td>NaN</td>\n",
       "      <td>NaN</td>\n",
       "      <td>NaN</td>\n",
       "      <td>NaN</td>\n",
       "      <td>NaN</td>\n",
       "      <td>3</td>\n",
       "    </tr>\n",
       "    <tr>\n",
       "      <th>2</th>\n",
       "      <td>3713.5</td>\n",
       "      <td>89.3406</td>\n",
       "      <td>NaN</td>\n",
       "      <td>NaN</td>\n",
       "      <td>NaN</td>\n",
       "      <td>NaN</td>\n",
       "      <td>NaN</td>\n",
       "      <td>NaN</td>\n",
       "      <td>3</td>\n",
       "    </tr>\n",
       "    <tr>\n",
       "      <th>3</th>\n",
       "      <td>3714.0</td>\n",
       "      <td>90.4250</td>\n",
       "      <td>1.2900</td>\n",
       "      <td>NaN</td>\n",
       "      <td>NaN</td>\n",
       "      <td>NaN</td>\n",
       "      <td>NaN</td>\n",
       "      <td>NaN</td>\n",
       "      <td>3</td>\n",
       "    </tr>\n",
       "    <tr>\n",
       "      <th>4</th>\n",
       "      <td>3714.5</td>\n",
       "      <td>90.6067</td>\n",
       "      <td>1.3233</td>\n",
       "      <td>NaN</td>\n",
       "      <td>NaN</td>\n",
       "      <td>NaN</td>\n",
       "      <td>NaN</td>\n",
       "      <td>NaN</td>\n",
       "      <td>3</td>\n",
       "    </tr>\n",
       "  </tbody>\n",
       "</table>\n",
       "</div>"
      ],
      "text/plain": [
       "    Depth       GR  Log_ILD  DT  RHOB  NPHI  PHI  PERM  Facies\n",
       "0  3712.5  85.5533      NaN NaN   NaN   NaN  NaN   NaN       3\n",
       "1  3713.0  87.7167      NaN NaN   NaN   NaN  NaN   NaN       3\n",
       "2  3713.5  89.3406      NaN NaN   NaN   NaN  NaN   NaN       3\n",
       "3  3714.0  90.4250   1.2900 NaN   NaN   NaN  NaN   NaN       3\n",
       "4  3714.5  90.6067   1.3233 NaN   NaN   NaN  NaN   NaN       3"
      ]
     },
     "execution_count": 13,
     "metadata": {},
     "output_type": "execute_result"
    }
   ],
   "source": [
    "data.head()"
   ]
  },
  {
   "cell_type": "code",
   "execution_count": 14,
   "id": "de6467be",
   "metadata": {},
   "outputs": [],
   "source": [
    "test = Petrophysics(data)\n",
    "x = test.slowness_to_velocity(2)"
   ]
  },
  {
   "cell_type": "code",
   "execution_count": 15,
   "id": "0ec4e607",
   "metadata": {},
   "outputs": [
    {
     "data": {
      "text/html": [
       "<div>\n",
       "<style scoped>\n",
       "    .dataframe tbody tr th:only-of-type {\n",
       "        vertical-align: middle;\n",
       "    }\n",
       "\n",
       "    .dataframe tbody tr th {\n",
       "        vertical-align: top;\n",
       "    }\n",
       "\n",
       "    .dataframe thead th {\n",
       "        text-align: right;\n",
       "    }\n",
       "</style>\n",
       "<table border=\"1\" class=\"dataframe\">\n",
       "  <thead>\n",
       "    <tr style=\"text-align: right;\">\n",
       "      <th></th>\n",
       "      <th>Depth</th>\n",
       "      <th>GR</th>\n",
       "      <th>Log_ILD</th>\n",
       "      <th>DT</th>\n",
       "      <th>RHOB</th>\n",
       "      <th>NPHI</th>\n",
       "      <th>PHI</th>\n",
       "      <th>PERM</th>\n",
       "      <th>Facies</th>\n",
       "      <th>velocity</th>\n",
       "    </tr>\n",
       "  </thead>\n",
       "  <tbody>\n",
       "    <tr>\n",
       "      <th>0</th>\n",
       "      <td>3712.5</td>\n",
       "      <td>85.5533</td>\n",
       "      <td>NaN</td>\n",
       "      <td>NaN</td>\n",
       "      <td>NaN</td>\n",
       "      <td>NaN</td>\n",
       "      <td>NaN</td>\n",
       "      <td>NaN</td>\n",
       "      <td>3</td>\n",
       "      <td>NaN</td>\n",
       "    </tr>\n",
       "    <tr>\n",
       "      <th>1</th>\n",
       "      <td>3713.0</td>\n",
       "      <td>87.7167</td>\n",
       "      <td>NaN</td>\n",
       "      <td>NaN</td>\n",
       "      <td>NaN</td>\n",
       "      <td>NaN</td>\n",
       "      <td>NaN</td>\n",
       "      <td>NaN</td>\n",
       "      <td>3</td>\n",
       "      <td>NaN</td>\n",
       "    </tr>\n",
       "    <tr>\n",
       "      <th>2</th>\n",
       "      <td>3713.5</td>\n",
       "      <td>89.3406</td>\n",
       "      <td>NaN</td>\n",
       "      <td>NaN</td>\n",
       "      <td>NaN</td>\n",
       "      <td>NaN</td>\n",
       "      <td>NaN</td>\n",
       "      <td>NaN</td>\n",
       "      <td>3</td>\n",
       "      <td>NaN</td>\n",
       "    </tr>\n",
       "    <tr>\n",
       "      <th>3</th>\n",
       "      <td>3714.0</td>\n",
       "      <td>90.4250</td>\n",
       "      <td>1.2900</td>\n",
       "      <td>NaN</td>\n",
       "      <td>NaN</td>\n",
       "      <td>NaN</td>\n",
       "      <td>NaN</td>\n",
       "      <td>NaN</td>\n",
       "      <td>3</td>\n",
       "      <td>775193.798450</td>\n",
       "    </tr>\n",
       "    <tr>\n",
       "      <th>4</th>\n",
       "      <td>3714.5</td>\n",
       "      <td>90.6067</td>\n",
       "      <td>1.3233</td>\n",
       "      <td>NaN</td>\n",
       "      <td>NaN</td>\n",
       "      <td>NaN</td>\n",
       "      <td>NaN</td>\n",
       "      <td>NaN</td>\n",
       "      <td>3</td>\n",
       "      <td>755686.541223</td>\n",
       "    </tr>\n",
       "  </tbody>\n",
       "</table>\n",
       "</div>"
      ],
      "text/plain": [
       "    Depth       GR  Log_ILD  DT  RHOB  NPHI  PHI  PERM  Facies       velocity\n",
       "0  3712.5  85.5533      NaN NaN   NaN   NaN  NaN   NaN       3            NaN\n",
       "1  3713.0  87.7167      NaN NaN   NaN   NaN  NaN   NaN       3            NaN\n",
       "2  3713.5  89.3406      NaN NaN   NaN   NaN  NaN   NaN       3            NaN\n",
       "3  3714.0  90.4250   1.2900 NaN   NaN   NaN  NaN   NaN       3  775193.798450\n",
       "4  3714.5  90.6067   1.3233 NaN   NaN   NaN  NaN   NaN       3  755686.541223"
      ]
     },
     "execution_count": 15,
     "metadata": {},
     "output_type": "execute_result"
    }
   ],
   "source": [
    "data.head()"
   ]
  },
  {
   "cell_type": "code",
   "execution_count": 17,
   "id": "3edae5f2",
   "metadata": {},
   "outputs": [
    {
     "data": {
      "text/plain": [
       "Depth          0\n",
       "GR             0\n",
       "Log_ILD      218\n",
       "DT          3386\n",
       "RHOB        3375\n",
       "NPHI        3480\n",
       "PHI         3375\n",
       "PERM        3375\n",
       "Facies         0\n",
       "velocity     218\n",
       "dtype: int64"
      ]
     },
     "execution_count": 17,
     "metadata": {},
     "output_type": "execute_result"
    }
   ],
   "source": [
    "data.isnull().sum()"
   ]
  },
  {
   "cell_type": "code",
   "execution_count": 18,
   "id": "9aa1214f",
   "metadata": {},
   "outputs": [
    {
     "data": {
      "text/plain": [
       "Depth       0\n",
       "GR          0\n",
       "Log_ILD     0\n",
       "DT          0\n",
       "RHOB        0\n",
       "NPHI        0\n",
       "PHI         0\n",
       "PERM        0\n",
       "Facies      0\n",
       "velocity    0\n",
       "dtype: int64"
      ]
     },
     "execution_count": 18,
     "metadata": {},
     "output_type": "execute_result"
    }
   ],
   "source": [
    "df = data.dropna()\n",
    "df.isnull().sum()"
   ]
  },
  {
   "cell_type": "code",
   "execution_count": 19,
   "id": "095943b2",
   "metadata": {},
   "outputs": [],
   "source": [
    "X_test = df[['Log_ILD', 'RHOB', 'velocity', 'GR', 'Facies', 'Depth']]\n",
    "y_test = df['PERM']"
   ]
  },
  {
   "cell_type": "code",
   "execution_count": 21,
   "id": "ab07b44c",
   "metadata": {},
   "outputs": [],
   "source": [
    "y_pred = mp.predict(X_test)"
   ]
  },
  {
   "cell_type": "code",
   "execution_count": 22,
   "id": "602b743d",
   "metadata": {},
   "outputs": [],
   "source": [
    "from sklearn.metrics import mean_absolute_error, mean_squared_error, r2_score\n",
    "\n",
    "mae = mean_absolute_error(y_test, y_pred)\n",
    "mse = mean_squared_error(y_test, y_pred)\n",
    "r2 = r2_score(y_test, y_pred)"
   ]
  },
  {
   "cell_type": "code",
   "execution_count": 23,
   "id": "0a9ab72f",
   "metadata": {},
   "outputs": [
    {
     "data": {
      "text/plain": [
       "164383.16916501458"
      ]
     },
     "execution_count": 23,
     "metadata": {},
     "output_type": "execute_result"
    }
   ],
   "source": [
    "mae"
   ]
  },
  {
   "cell_type": "code",
   "execution_count": 24,
   "id": "6c62356a",
   "metadata": {},
   "outputs": [
    {
     "data": {
      "text/plain": [
       "1178340278453.2576"
      ]
     },
     "execution_count": 24,
     "metadata": {},
     "output_type": "execute_result"
    }
   ],
   "source": [
    "mse"
   ]
  },
  {
   "cell_type": "code",
   "execution_count": 25,
   "id": "24b541e0",
   "metadata": {},
   "outputs": [
    {
     "data": {
      "text/plain": [
       "-636938.776319658"
      ]
     },
     "execution_count": 25,
     "metadata": {},
     "output_type": "execute_result"
    }
   ],
   "source": [
    "r2"
   ]
  },
  {
   "cell_type": "code",
   "execution_count": null,
   "id": "22d37cea",
   "metadata": {},
   "outputs": [],
   "source": []
  }
 ],
 "metadata": {
  "kernelspec": {
   "display_name": "Python 3 (ipykernel)",
   "language": "python",
   "name": "python3"
  },
  "language_info": {
   "codemirror_mode": {
    "name": "ipython",
    "version": 3
   },
   "file_extension": ".py",
   "mimetype": "text/x-python",
   "name": "python",
   "nbconvert_exporter": "python",
   "pygments_lexer": "ipython3",
   "version": "3.9.13"
  }
 },
 "nbformat": 4,
 "nbformat_minor": 5
}
