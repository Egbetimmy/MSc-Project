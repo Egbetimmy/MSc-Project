{
 "cells": [
  {
   "cell_type": "code",
   "execution_count": null,
   "id": "1e1b77f8",
   "metadata": {},
   "outputs": [],
   "source": [
    "def bulk_volume(x,y):\n",
    "    return x*y\n",
    "def net_volume(x,y):\n",
    "    return x*y\n",
    "def pore_volume(x,y):\n",
    "    return x*y\n",
    "def hydrocarbon_pore_volume(x,y):\n",
    "    return x*y\n",
    "\n",
    "n = 0\n",
    "k = []\n",
    "a = []\n",
    "b = []\n",
    "c = []\n",
    "d = []\n",
    "w = int(input(\"enter the number of well: \"))\n",
    "area = float(input(\"enter the area: \"))\n",
    "formation_value_factor = float(input(\"enter formation value factor: \"))\n",
    "while n != w:\n",
    "    n = n + 1\n",
    "    resevoir_thickness = float(input(\"please enter reservoir thickness: \"))\n",
    "    porosity = float(input(\"enter porosity: \"))\n",
    "    ntg = float(input(\"enter net to gross: \"))\n",
    "    hydrocarbon_saturation = float(input(\"enter hydrocarbon saturation: \"))\n",
    "    e = bulk_volume(resevoir_thickness,area)\n",
    "    a.append(e)\n",
    "    f = net_volume(e,ntg)\n",
    "    b.append(f)\n",
    "    g = pore_volume(f,porosity)\n",
    "    c.append(g)\n",
    "    h = hydrocarbon_pore_volume(g,hydrocarbon_saturation)\n",
    "    d.append(h)\n",
    "    per_well = resevoir_thickness * porosity * ntg * hydrocarbon_saturation \n",
    "    k.append(per_well)\n",
    "    \n",
    "wells = sum(k)\n",
    "hciip = (area * 7758 * wells) / formation_value_factor\n",
    "print(\"Bulk volumes are\",a,\"respectively\" )\n",
    "print(\"Net volumes are\",b,\"respectively\" )\n",
    "print(\"Pore volumes are\",c,\"respectively\" )\n",
    "print(\"Hydrocarbon pore volumes are\",d,\"respectively\" )\n",
    "print(\"the volume of hydrocarbon initially in place: \", hciip)\n"
   ]
  }
 ],
 "metadata": {
  "kernelspec": {
   "display_name": "Python 3 (ipykernel)",
   "language": "python",
   "name": "python3"
  },
  "language_info": {
   "codemirror_mode": {
    "name": "ipython",
    "version": 3
   },
   "file_extension": ".py",
   "mimetype": "text/x-python",
   "name": "python",
   "nbconvert_exporter": "python",
   "pygments_lexer": "ipython3",
   "version": "3.9.13"
  }
 },
 "nbformat": 4,
 "nbformat_minor": 5
}
