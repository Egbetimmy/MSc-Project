{
 "cells": [
  {
   "cell_type": "code",
   "execution_count": 1,
   "id": "2e843acd",
   "metadata": {},
   "outputs": [],
   "source": [
    "import numpy as np\n",
    "from pore_pressure import eaton_method, Bowers_method, Matthews_Kelly_method"
   ]
  },
  {
   "cell_type": "code",
   "execution_count": 2,
   "id": "fb977855",
   "metadata": {},
   "outputs": [],
   "source": [
    "# Define well log values\n",
    "Vp = np.array([2000, 4000, 5000, 6000])  # compressional wave velocity, m/s\n",
    "Vs = np.array([1000, 2000, 2500, 3000])  # shear wave velocity, m/s\n",
    "rho = np.array([2200, 2400, 2500, 2600])  # density, kg/m^3\n",
    "phi = np.array([0.2, 0.15, 0.1, 0.05])  # porosity"
   ]
  },
  {
   "cell_type": "code",
   "execution_count": 3,
   "id": "cb20d7c0",
   "metadata": {},
   "outputs": [
    {
     "data": {
      "text/plain": [
       "array([ 21902.25      ,  38937.33333333,  87609.        , 350436.        ])"
      ]
     },
     "execution_count": 3,
     "metadata": {},
     "output_type": "execute_result"
    }
   ],
   "source": [
    "x = Bowers_method(Vp, Vs, rho, phi)\n",
    "x"
   ]
  },
  {
   "cell_type": "code",
   "execution_count": 4,
   "id": "c8e49375",
   "metadata": {},
   "outputs": [
    {
     "data": {
      "text/plain": [
       "array([ 5886000., 13734000., 22072500., 31392000.])"
      ]
     },
     "execution_count": 4,
     "metadata": {},
     "output_type": "execute_result"
    }
   ],
   "source": [
    "y = Matthews_Kelly_method(rho)\n",
    "y"
   ]
  },
  {
   "cell_type": "code",
   "execution_count": 5,
   "id": "f1aa3409",
   "metadata": {},
   "outputs": [
    {
     "data": {
      "text/plain": [
       "array([ 888888.88888889, 1837837.83783784, 2368421.05263158,\n",
       "       2923076.92307692])"
      ]
     },
     "execution_count": 5,
     "metadata": {},
     "output_type": "execute_result"
    }
   ],
   "source": [
    "z = eaton_method(Vp, Vs, rho, phi)\n",
    "z"
   ]
  },
  {
   "cell_type": "code",
   "execution_count": null,
   "id": "7d0747b0",
   "metadata": {},
   "outputs": [],
   "source": [
    "import pandas as pd\n",
    "import numpy as np\n",
    "from sklearn.model_selection import train_test_split\n",
    "from sklearn.ensemble import RandomForestRegressor\n",
    "\n",
    "# Load well log data\n",
    "df = pd.read_csv('well_logs.csv')\n",
    "\n",
    "# Define input features and target variable\n",
    "X = df[['resistivity', 'density', 'sonic_velocity', 'gamma_ray', 'lithology', 'facies', 'depth']]\n",
    "y = df['pore_pressure']\n",
    "\n",
    "# Split data into training and testing sets\n",
    "X_train, X_test, y_train, y_test = train_test_split(X, y, test_size=0.2, random_state=42)\n",
    "\n",
    "# Train a random forest regressor model\n",
    "rf = RandomForestRegressor(n_estimators=100, max_depth=10, random_state=42)\n",
    "rf.fit(X_train, y_train)\n",
    "\n",
    "# Make predictions on test data\n",
    "y_pred = rf.predict(X_test)\n",
    "\n",
    "# Calculate model performance metrics\n",
    "mae = np.mean(abs(y_test - y_pred))\n",
    "mse = np.mean((y_test - y_pred) ** 2)\n",
    "rmse = np.sqrt(mse)\n",
    "r2 = rf.score(X_test, y_test)\n",
    "\n",
    "# Make a prediction for new well log data\n",
    "new_data = pd.DataFrame({'resistivity': [2.5], 'density': [2.3], 'sonic_velocity': [3.5], 'gamma_ray': [40], 'lithology': ['sandstone'], 'facies': ['shale'], 'depth': [2000]})\n",
    "new_pp = rf.predict(new_data)\n",
    "\n",
    "print(new_pp)"
   ]
  }
 ],
 "metadata": {
  "kernelspec": {
   "display_name": "Python 3 (ipykernel)",
   "language": "python",
   "name": "python3"
  },
  "language_info": {
   "codemirror_mode": {
    "name": "ipython",
    "version": 3
   },
   "file_extension": ".py",
   "mimetype": "text/x-python",
   "name": "python",
   "nbconvert_exporter": "python",
   "pygments_lexer": "ipython3",
   "version": "3.9.13"
  }
 },
 "nbformat": 4,
 "nbformat_minor": 5
}
